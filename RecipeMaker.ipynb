{
  "cells": [
    {
      "cell_type": "markdown",
      "metadata": {
        "id": "view-in-github",
        "colab_type": "text"
      },
      "source": [
        "<a href=\"https://colab.research.google.com/github/redlani/RecipeGenerator/blob/main/RecipeMaker.ipynb\" target=\"_parent\"><img src=\"https://colab.research.google.com/assets/colab-badge.svg\" alt=\"Open In Colab\"/></a>"
      ]
    },
    {
      "cell_type": "markdown",
      "source": [
        "# Introduction\n",
        "This notebook was created following the tutorial outlined for [Recipe Generation using RNN](https://towardsdatascience.com/generating-cooking-recipes-using-tensorflow-and-lstm-recurrent-neural-network-a7bf242acad3)"
      ],
      "metadata": {
        "id": "Jd_0oC2ro7FK"
      }
    },
    {
      "cell_type": "markdown",
      "metadata": {
        "id": "OoSA5NtdoXsF"
      },
      "source": [
        "# Import Dependencies\n"
      ]
    },
    {
      "cell_type": "code",
      "execution_count": 1,
      "metadata": {
        "id": "SmrR5fLHoavZ"
      },
      "outputs": [],
      "source": [
        "# dependencies\n",
        "import tensorflow as tf\n",
        "import matplotlib.pyplot as plt\n",
        "import numpy as np\n",
        "import pandas as pd\n",
        "import platform\n",
        "import time\n",
        "import pathlib\n",
        "import os\n",
        "import json\n",
        "import zipfile\n",
        "import nltk\n",
        "\n",
        "from google.colab import files\n"
      ]
    },
    {
      "cell_type": "markdown",
      "metadata": {
        "id": "uIVWuodsoffS"
      },
      "source": [
        "# Download Data\n",
        "Also available here:\n",
        "https://eightportions.com/datasets/Recipes/"
      ]
    },
    {
      "cell_type": "code",
      "execution_count": 2,
      "metadata": {
        "id": "xUC_6HD-_bwm"
      },
      "outputs": [],
      "source": [
        "# download data straight from kaggle (setting up here for phase two to incorporate new dataset)\n",
        "# !pip install -q kaggle\n",
        "\n",
        "# choose the kaggle.json (from account-generated API token)\n",
        "# files.upload()"
      ]
    },
    {
      "cell_type": "code",
      "execution_count": 3,
      "metadata": {
        "id": "QSXkNomm_vUj"
      },
      "outputs": [],
      "source": [
        "# make directory and copy over kaggle.json\n",
        "# !mkdir ~/.kaggle\n",
        "# !cp kaggle.json ~/.kaggle/\n",
        "\n",
        "# change permissions\n",
        "# !chmod 600 ~/.kaggle/kaggle.json"
      ]
    },
    {
      "cell_type": "code",
      "execution_count": 4,
      "metadata": {
        "colab": {
          "base_uri": "https://localhost:8080/"
        },
        "id": "yqE32W1_ZiQM",
        "outputId": "cb7d553a-e64b-41c7-9cdb-8f29039ea111"
      },
      "outputs": [
        {
          "output_type": "stream",
          "name": "stdout",
          "text": [
            "Archive:  /content/recipes_raw.zip\n",
            "  inflating: recipes_raw_nosource_ar.json  \n",
            "  inflating: recipes_raw_nosource_epi.json  \n",
            "  inflating: recipes_raw_nosource_fn.json  \n",
            "  inflating: LICENSE                 \n"
          ]
        }
      ],
      "source": [
        "# no dataloader available - upload to google colab manually (no need to run this cell again)\n",
        "!unzip /content/recipes_raw.zip"
      ]
    },
    {
      "cell_type": "code",
      "execution_count": 5,
      "metadata": {
        "colab": {
          "base_uri": "https://localhost:8080/"
        },
        "id": "SiX0H5aoi39I",
        "outputId": "32192b0c-b69c-4017-a6e4-22429ad6206f"
      },
      "outputs": [
        {
          "output_type": "stream",
          "name": "stdout",
          "text": [
            "total 251976\n",
            "drwxr-xr-x 1 root root     4096 Apr  2 19:12 .\n",
            "drwxr-xr-x 1 root root     4096 Apr  2 18:54 ..\n",
            "drwxr-xr-x 4 root root     4096 Mar 30 13:52 .config\n",
            "-rw-rw-r-- 1 root root    20437 Feb 12  2018 LICENSE\n",
            "-rw-rw-r-- 1 root root 49784325 Mar 23  2018 recipes_raw_nosource_ar.json\n",
            "-rw-rw-r-- 1 root root 61133971 Mar 23  2018 recipes_raw_nosource_epi.json\n",
            "-rw-rw-r-- 1 root root 93702755 Mar 23  2018 recipes_raw_nosource_fn.json\n",
            "-rw-r--r-- 1 root root 53355492 Apr  2 19:12 recipes_raw.zip\n",
            "drwxr-xr-x 1 root root     4096 Mar 30 13:53 sample_data\n"
          ]
        }
      ],
      "source": [
        "# check to see the loaded file sets\n",
        "!ls -la /content"
      ]
    },
    {
      "cell_type": "code",
      "execution_count": 6,
      "metadata": {
        "id": "b4F5So5ijBj8"
      },
      "outputs": [],
      "source": [
        "def load_dataset(silent=False):\n",
        "    cache_dir= '/content'\n",
        "    dataset_file_names = [\n",
        "        'recipes_raw_nosource_ar.json',\n",
        "        'recipes_raw_nosource_epi.json',\n",
        "        'recipes_raw_nosource_fn.json',\n",
        "    ]\n",
        "    \n",
        "    dataset = []\n",
        "\n",
        "    for dataset_file_name in dataset_file_names:\n",
        "        dataset_file_path = f'{cache_dir}/{dataset_file_name}'\n",
        "\n",
        "        with open(dataset_file_path) as dataset_file:\n",
        "            json_data_dict = json.load(dataset_file)\n",
        "            json_data_list = list(json_data_dict.values())\n",
        "            dict_keys = [key for key in json_data_list[0]]\n",
        "            dict_keys.sort()\n",
        "            dataset += json_data_list\n",
        "\n",
        "            if silent == False:\n",
        "                print(dataset_file_path)\n",
        "                print('===========================================')\n",
        "                print('Number of examples: ', len(json_data_list), '\\n')\n",
        "                print('Example object keys:\\n', dict_keys, '\\n')\n",
        "                print('Example object:\\n', json_data_list[0], '\\n')\n",
        "                print('Required keys:\\n')\n",
        "                print('  title: ', json_data_list[0]['title'], '\\n')\n",
        "                print('  ingredients: ', json_data_list[0]['ingredients'], '\\n')\n",
        "                print('  instructions: ', json_data_list[0]['instructions'])\n",
        "                print('\\n\\n')\n",
        "\n",
        "    return dataset  "
      ]
    },
    {
      "cell_type": "code",
      "execution_count": 7,
      "metadata": {
        "colab": {
          "base_uri": "https://localhost:8080/"
        },
        "id": "w_CtfcvZjWa2",
        "outputId": "d7c36377-671e-41e4-fde0-f023c9384b93"
      },
      "outputs": [
        {
          "output_type": "stream",
          "name": "stdout",
          "text": [
            "/content/recipes_raw_nosource_ar.json\n",
            "===========================================\n",
            "Number of examples:  39802 \n",
            "\n",
            "Example object keys:\n",
            " ['ingredients', 'instructions', 'picture_link', 'title'] \n",
            "\n",
            "Example object:\n",
            " {'title': 'Slow Cooker Chicken and Dumplings', 'ingredients': ['4 skinless, boneless chicken breast halves ADVERTISEMENT', '2 tablespoons butter ADVERTISEMENT', '2 (10.75 ounce) cans condensed cream of chicken soup ADVERTISEMENT', '1 onion, finely diced ADVERTISEMENT', '2 (10 ounce) packages refrigerated biscuit dough, torn into pieces ADVERTISEMENT', 'ADVERTISEMENT'], 'instructions': 'Place the chicken, butter, soup, and onion in a slow cooker, and fill with enough water to cover.\\nCover, and cook for 5 to 6 hours on High. About 30 minutes before serving, place the torn biscuit dough in the slow cooker. Cook until the dough is no longer raw in the center.\\n', 'picture_link': '55lznCYBbs2mT8BTx6BTkLhynGHzM.S'} \n",
            "\n",
            "Required keys:\n",
            "\n",
            "  title:  Slow Cooker Chicken and Dumplings \n",
            "\n",
            "  ingredients:  ['4 skinless, boneless chicken breast halves ADVERTISEMENT', '2 tablespoons butter ADVERTISEMENT', '2 (10.75 ounce) cans condensed cream of chicken soup ADVERTISEMENT', '1 onion, finely diced ADVERTISEMENT', '2 (10 ounce) packages refrigerated biscuit dough, torn into pieces ADVERTISEMENT', 'ADVERTISEMENT'] \n",
            "\n",
            "  instructions:  Place the chicken, butter, soup, and onion in a slow cooker, and fill with enough water to cover.\n",
            "Cover, and cook for 5 to 6 hours on High. About 30 minutes before serving, place the torn biscuit dough in the slow cooker. Cook until the dough is no longer raw in the center.\n",
            "\n",
            "\n",
            "\n",
            "\n",
            "/content/recipes_raw_nosource_epi.json\n",
            "===========================================\n",
            "Number of examples:  25323 \n",
            "\n",
            "Example object keys:\n",
            " ['ingredients', 'instructions', 'picture_link', 'title'] \n",
            "\n",
            "Example object:\n",
            " {'ingredients': ['12 egg whites', '12 egg yolks', '1 1/2 cups sugar', '3/4 cup rye whiskey', '12 egg whites', '3/4 cup brandy', '1/2 cup rum', '1 to 2 cups heavy cream, lightly whipped', 'Garnish: ground nutmeg'], 'picture_link': None, 'instructions': 'Beat the egg whites until stiff, gradually adding in 3/4 cup sugar. Set aside. Beat the egg yolks until they are thick and pale and add the other 3/4 cup sugar and stir in rye whiskey. Blend well. Fold the egg white mixture into the yolk mixture and add the brandy and the rum. Beat the mixture well. To serve, fold the lightly whipped heavy cream into the eggnog. (If a thinner mixture is desired, add the heavy cream unwhipped.) Sprinkle the top of the eggnog with the nutmeg to taste.\\nBeat the egg whites until stiff, gradually adding in 3/4 cup sugar. Set aside. Beat the egg yolks until they are thick and pale and add the other 3/4 cup sugar and stir in rye whiskey. Blend well. Fold the egg white mixture into the yolk mixture and add the brandy and the rum. Beat the mixture well. To serve, fold the lightly whipped heavy cream into the eggnog. (If a thinner mixture is desired, add the heavy cream unwhipped.) Sprinkle the top of the eggnog with the nutmeg to taste.', 'title': 'Christmas Eggnog '} \n",
            "\n",
            "Required keys:\n",
            "\n",
            "  title:  Christmas Eggnog  \n",
            "\n",
            "  ingredients:  ['12 egg whites', '12 egg yolks', '1 1/2 cups sugar', '3/4 cup rye whiskey', '12 egg whites', '3/4 cup brandy', '1/2 cup rum', '1 to 2 cups heavy cream, lightly whipped', 'Garnish: ground nutmeg'] \n",
            "\n",
            "  instructions:  Beat the egg whites until stiff, gradually adding in 3/4 cup sugar. Set aside. Beat the egg yolks until they are thick and pale and add the other 3/4 cup sugar and stir in rye whiskey. Blend well. Fold the egg white mixture into the yolk mixture and add the brandy and the rum. Beat the mixture well. To serve, fold the lightly whipped heavy cream into the eggnog. (If a thinner mixture is desired, add the heavy cream unwhipped.) Sprinkle the top of the eggnog with the nutmeg to taste.\n",
            "Beat the egg whites until stiff, gradually adding in 3/4 cup sugar. Set aside. Beat the egg yolks until they are thick and pale and add the other 3/4 cup sugar and stir in rye whiskey. Blend well. Fold the egg white mixture into the yolk mixture and add the brandy and the rum. Beat the mixture well. To serve, fold the lightly whipped heavy cream into the eggnog. (If a thinner mixture is desired, add the heavy cream unwhipped.) Sprinkle the top of the eggnog with the nutmeg to taste.\n",
            "\n",
            "\n",
            "\n",
            "/content/recipes_raw_nosource_fn.json\n",
            "===========================================\n",
            "Number of examples:  60039 \n",
            "\n",
            "Example object keys:\n",
            " ['ingredients', 'instructions', 'picture_link', 'title'] \n",
            "\n",
            "Example object:\n",
            " {'instructions': 'Toss ingredients lightly and spoon into a buttered baking dish. Top with additional crushed cracker crumbs, and brush with melted butter. Bake in a preheated at 350 degrees oven for 25 to 30 minutes or until delicately browned.', 'ingredients': ['1/2 cup celery, finely chopped', '1 small green pepper finely chopped', '1/2 cup finely sliced green onions', '1/4 cup chopped parsley', '1 pound crabmeat', '1 1/4 cups coarsely crushed cracker crumbs', '1/2 teaspoon salt', '3/4 teaspoons dry mustard', 'Dash hot sauce', '1/4 cup heavy cream', '1/2 cup melted butter'], 'title': \"Grammie Hamblet's Deviled Crab\", 'picture_link': None} \n",
            "\n",
            "Required keys:\n",
            "\n",
            "  title:  Grammie Hamblet's Deviled Crab \n",
            "\n",
            "  ingredients:  ['1/2 cup celery, finely chopped', '1 small green pepper finely chopped', '1/2 cup finely sliced green onions', '1/4 cup chopped parsley', '1 pound crabmeat', '1 1/4 cups coarsely crushed cracker crumbs', '1/2 teaspoon salt', '3/4 teaspoons dry mustard', 'Dash hot sauce', '1/4 cup heavy cream', '1/2 cup melted butter'] \n",
            "\n",
            "  instructions:  Toss ingredients lightly and spoon into a buttered baking dish. Top with additional crushed cracker crumbs, and brush with melted butter. Bake in a preheated at 350 degrees oven for 25 to 30 minutes or until delicately browned.\n",
            "\n",
            "\n",
            "\n",
            "Total number of raw examples:  125164\n"
          ]
        }
      ],
      "source": [
        "# load and preview\n",
        "dataset_raw = load_dataset()\n",
        "print('Total number of raw examples: ', len(dataset_raw))"
      ]
    },
    {
      "cell_type": "markdown",
      "metadata": {
        "id": "Bucptukk86fD"
      },
      "source": [
        "\n",
        "# Pre-Process the Dataset"
      ]
    },
    {
      "cell_type": "code",
      "execution_count": 8,
      "metadata": {
        "id": "HYrlmUWSommf"
      },
      "outputs": [],
      "source": [
        "# filter out recipes which don't have either title or ingredients or instructions.\n",
        "def recipe_validate_required_fields(recipe):\n",
        "    required_keys = ['title', 'ingredients', 'instructions']\n",
        "    \n",
        "    if not recipe:\n",
        "        return False\n",
        "    \n",
        "    for required_key in required_keys:\n",
        "        if not recipe[required_key]:\n",
        "            return False\n",
        "        \n",
        "        if type(recipe[required_key]) == list and len(recipe[required_key]) == 0:\n",
        "            return False\n",
        "    \n",
        "    return True"
      ]
    },
    {
      "cell_type": "code",
      "execution_count": 9,
      "metadata": {
        "colab": {
          "base_uri": "https://localhost:8080/"
        },
        "id": "z-5pXsy8UFAs",
        "outputId": "b23ae9b1-848b-4dad-a274-d819e5dd6967"
      },
      "outputs": [
        {
          "output_type": "stream",
          "name": "stdout",
          "text": [
            "Dataset size BEFORE validation 125164\n",
            "Dataset size AFTER validation 122938\n",
            "Number of invalide recipes 2226\n"
          ]
        }
      ],
      "source": [
        "# compare before/after pre-processing\n",
        "dataset_validated = [recipe for recipe in dataset_raw if recipe_validate_required_fields(recipe)]\n",
        "\n",
        "print('Dataset size BEFORE validation', len(dataset_raw))\n",
        "print('Dataset size AFTER validation', len(dataset_validated))\n",
        "print('Number of invalide recipes', len(dataset_raw) - len(dataset_validated))"
      ]
    },
    {
      "cell_type": "markdown",
      "metadata": {
        "id": "eRXrLHUrUNSv"
      },
      "source": [
        "## Converting recipe objects into string"
      ]
    },
    {
      "cell_type": "code",
      "execution_count": 10,
      "metadata": {
        "id": "38DXelWH889W"
      },
      "outputs": [],
      "source": [
        "STOP_WORD_TITLE = '📗 '\n",
        "STOP_WORD_INGREDIENTS = '\\n🥕\\n\\n'\n",
        "STOP_WORD_INSTRUCTIONS = '\\n📝\\n\\n'"
      ]
    },
    {
      "cell_type": "code",
      "execution_count": 11,
      "metadata": {
        "id": "E5nHFJeS9LO-"
      },
      "outputs": [],
      "source": [
        "# converts recipe object to string (sequence of characters) for later usage in RNN input.\n",
        "def recipe_to_string(recipe):\n",
        "    # This string is presented as a part of recipes so we need to clean it up.\n",
        "    noize_string = 'ADVERTISEMENT'\n",
        "    \n",
        "    title = recipe['title']\n",
        "    ingredients = recipe['ingredients']\n",
        "    instructions = recipe['instructions'].split('\\n')\n",
        "    \n",
        "    ingredients_string = ''\n",
        "    for ingredient in ingredients:\n",
        "        ingredient = ingredient.replace(noize_string, '')\n",
        "        if ingredient:\n",
        "            ingredients_string += f'• {ingredient}\\n'\n",
        "    \n",
        "    instructions_string = ''\n",
        "    for instruction in instructions:\n",
        "        instruction = instruction.replace(noize_string, '')\n",
        "        if instruction:\n",
        "            instructions_string += f'▪︎ {instruction}\\n'\n",
        "    \n",
        "    return f'{STOP_WORD_TITLE}{title}\\n{STOP_WORD_INGREDIENTS}{ingredients_string}{STOP_WORD_INSTRUCTIONS}{instructions_string}'"
      ]
    },
    {
      "cell_type": "code",
      "execution_count": 12,
      "metadata": {
        "colab": {
          "base_uri": "https://localhost:8080/"
        },
        "id": "z1oLRR57UVdW",
        "outputId": "b6fb9ef3-6ace-4a17-e641-71eb360e21c7"
      },
      "outputs": [
        {
          "output_type": "stream",
          "name": "stdout",
          "text": [
            "Stringified dataset size:  122938\n"
          ]
        }
      ],
      "source": [
        "dataset_stringified = [recipe_to_string(recipe) for recipe in dataset_validated]\n",
        "\n",
        "print('Stringified dataset size: ', len(dataset_stringified))"
      ]
    },
    {
      "cell_type": "code",
      "execution_count": 13,
      "metadata": {
        "colab": {
          "base_uri": "https://localhost:8080/"
        },
        "id": "ZQsDpUadUjTn",
        "outputId": "e9e6d8f3-43c6-4e2b-b982-d91d6e289450"
      },
      "outputs": [
        {
          "output_type": "stream",
          "name": "stdout",
          "text": [
            "Recipe #1\n",
            "---------\n",
            "📗 Slow Cooker Chicken and Dumplings\n",
            "\n",
            "🥕\n",
            "\n",
            "• 4 skinless, boneless chicken breast halves \n",
            "• 2 tablespoons butter \n",
            "• 2 (10.75 ounce) cans condensed cream of chicken soup \n",
            "• 1 onion, finely diced \n",
            "• 2 (10 ounce) packages refrigerated biscuit dough, torn into pieces \n",
            "\n",
            "📝\n",
            "\n",
            "▪︎ Place the chicken, butter, soup, and onion in a slow cooker, and fill with enough water to cover.\n",
            "▪︎ Cover, and cook for 5 to 6 hours on High. About 30 minutes before serving, place the torn biscuit dough in the slow cooker. Cook until the dough is no longer raw in the center.\n",
            "\n",
            "\n",
            "\n",
            "Recipe #2\n",
            "---------\n",
            "📗 Awesome Slow Cooker Pot Roast\n",
            "\n",
            "🥕\n",
            "\n",
            "• 2 (10.75 ounce) cans condensed cream of mushroom soup \n",
            "• 1 (1 ounce) package dry onion soup mix \n",
            "• 1 1/4 cups water \n",
            "• 5 1/2 pounds pot roast \n",
            "\n",
            "📝\n",
            "\n",
            "▪︎ In a slow cooker, mix cream of mushroom soup, dry onion soup mix and water. Place pot roast in slow cooker and coat with soup mixture.\n",
            "▪︎ Cook on High setting for 3 to 4 hours, or on Low setting for 8 to 9 hours.\n",
            "\n",
            "\n",
            "\n",
            "Recipe #3\n",
            "---------\n",
            "📗 Brown Sugar Meatloaf\n",
            "\n",
            "🥕\n",
            "\n",
            "• 1/2 cup packed brown sugar \n",
            "• 1/2 cup ketchup \n",
            "• 1 1/2 pounds lean ground beef \n",
            "• 3/4 cup milk \n",
            "• 2 eggs \n",
            "• 1 1/2 teaspoons salt \n",
            "• 1/4 teaspoon ground black pepper \n",
            "• 1 small onion, chopped \n",
            "• 1/4 teaspoon ground ginger \n",
            "• 3/4 cup finely crushed saltine cracker crumbs \n",
            "\n",
            "📝\n",
            "\n",
            "▪︎ Preheat oven to 350 degrees F (175 degrees C). Lightly grease a 5x9 inch loaf pan.\n",
            "▪︎ Press the brown sugar in the bottom of the prepared loaf pan and spread the ketchup over the sugar.\n",
            "▪︎ In a mixing bowl, mix thoroughly all remaining ingredients and shape into a loaf. Place on top of the ketchup.\n",
            "▪︎ Bake in preheated oven for 1 hour or until juices are clear.\n",
            "\n",
            "\n",
            "\n",
            "Recipe #4\n",
            "---------\n",
            "📗 Best Chocolate Chip Cookies\n",
            "\n",
            "🥕\n",
            "\n",
            "• 1 cup butter, softened \n",
            "• 1 cup white sugar \n",
            "• 1 cup packed brown sugar \n",
            "• 2 eggs \n",
            "• 2 teaspoons vanilla extract \n",
            "• 3 cups all-purpose flour \n",
            "• 1 teaspoon baking soda \n",
            "• 2 teaspoons hot water \n",
            "• 1/2 teaspoon salt \n",
            "• 2 cups semisweet chocolate chips \n",
            "• 1 cup chopped walnuts \n",
            "\n",
            "📝\n",
            "\n",
            "▪︎ Preheat oven to 350 degrees F (175 degrees C).\n",
            "▪︎ Cream together the butter, white sugar, and brown sugar until smooth. Beat in the eggs one at a time, then stir in the vanilla. Dissolve baking soda in hot water. Add to batter along with salt. Stir in flour, chocolate chips, and nuts. Drop by large spoonfuls onto ungreased pans.\n",
            "▪︎ Bake for about 10 minutes in the preheated oven, or until edges are nicely browned.\n",
            "\n",
            "\n",
            "\n",
            "Recipe #5\n",
            "---------\n",
            "📗 Homemade Mac and Cheese Casserole\n",
            "\n",
            "🥕\n",
            "\n",
            "• 8 ounces whole wheat rotini pasta \n",
            "• 3 cups fresh broccoli florets \n",
            "• 1 medium onion, chopped \n",
            "• 3 cloves garlic, minced \n",
            "• 4 tablespoons butter, divided \n",
            "• 2 tablespoons all-purpose flour \n",
            "• 1/4 teaspoon salt \n",
            "• 1/8 teaspoon ground black pepper \n",
            "• 2 1/2 cups milk \n",
            "• 8 ounces Cheddar cheese, shredded \n",
            "• 4 ounces reduced-fat cream cheese, cubed and softened \n",
            "• 1/2 cup fine dry Italian-seasoned bread crumbs \n",
            "• Reynolds Wrap® Non Stick Aluminum Foil \n",
            "\n",
            "📝\n",
            "\n",
            "▪︎ Preheat oven to 350 degrees F. Line a 2-quart casserole dish with Reynolds Wrap(R) Pan Lining Paper, parchment side up. No need to grease dish.\n",
            "▪︎ Cook the pasta in a large saucepan according to the package directions, adding the broccoli for the last 3 minutes of cooking. Drain. Return to the saucepan and set aside.\n",
            "▪︎ Cook the onion and garlic in 2 tablespoons hot butter in a large skillet 5 to 7 minutes or until tender. Stir in flour, salt, and black pepper. Add the milk all at once. Cook and stir over medium heat until slightly thickened and bubbly. Add cheddar cheese and cream cheese, stirring until melted. Pour cheese sauce over the pasta and broccoli and stir until well combined.\n",
            "▪︎ Melt the remaining 2 tablespoons butter and mix with the bread crumbs in a small bowl. Transfer the pasta mixture to the prepared casserole dish. Top with the buttery bread crumbs.\n",
            "▪︎ Bake, uncovered, about 25 minutes or until bubbly and internal temperature is 165 degrees F. Let stand for 10 minutes before serving.\n",
            "\n",
            "\n",
            "\n",
            "Recipe #6\n",
            "---------\n",
            "📗 Banana Banana Bread\n",
            "\n",
            "🥕\n",
            "\n",
            "• 2 cups all-purpose flour \n",
            "• 1 teaspoon baking soda \n",
            "• 1/4 teaspoon salt \n",
            "• 1/2 cup butter \n",
            "• 3/4 cup brown sugar \n",
            "• 2 eggs, beaten \n",
            "• 2 1/3 cups mashed overripe bananas \n",
            "\n",
            "📝\n",
            "\n",
            "▪︎ Preheat oven to 350 degrees F (175 degrees C). Lightly grease a 9x5 inch loaf pan.\n",
            "▪︎ In a large bowl, combine flour, baking soda and salt. In a separate bowl, cream together butter and brown sugar. Stir in eggs and mashed bananas until well blended. Stir banana mixture into flour mixture; stir just to moisten. Pour batter into prepared loaf pan.\n",
            "▪︎ Bake in preheated oven for 60 to 65 minutes, until a toothpick inserted into center of the loaf comes out clean. Let bread cool in pan for 10 minutes, then turn out onto a wire rack.\n",
            "\n",
            "\n",
            "\n",
            "Recipe #7\n",
            "---------\n",
            "📗 Chef John's Fisherman's Pie\n",
            "\n",
            "🥕\n",
            "\n",
            "• For potato crust: \n",
            "• 3 russet potatoes, peeled and cut into chunks \n",
            "• 3 tablespoons butter \n",
            "• 1 pinch freshly grated nutmeg \n",
            "• salt and ground black pepper to taste \n",
            "• 1 pinch cayenne pepper, or to taste \n",
            "• 1/2 cup milk \n",
            "• For the spinach: \n",
            "• 2 teaspoons olive oil \n",
            "• 12 ounces baby spinach leaves \n",
            "• For the sauce: \n",
            "• 3 tablespoons butter \n",
            "• 3 tablespoons all-purpose flour \n",
            "• 2 cloves garlic, minced \n",
            "• 2 cups cold milk, divided \n",
            "• 2 teaspoons lemon zest \n",
            "• For the rest: \n",
            "• 1 tablespoon butter \n",
            "• salt and ground black pepper to taste \n",
            "• 1 pinch cayenne pepper, or to taste \n",
            "• 2 pounds boneless cod fillets \n",
            "• 1/2 lemon, juiced \n",
            "• 1 tablespoon chopped fresh chives for garnish \n",
            "\n",
            "📝\n",
            "\n",
            "▪︎ Bring a large saucepan of salted water and to a boil; add russet potatoes to boiling water and cook until very tender, about 20 minutes. Drain well. Mash in 3 tablespoons butter until thoroughly combined. Season with nutmeg, salt, black pepper, and cayenne pepper to taste. Mash 1/2 cup milk into potato mixture until smooth.\n",
            "▪︎ Drizzle olive oil in a large Dutch oven over medium-high heat, add spinach, and season with a big pinch of salt. Cook, stirring occasionally, until spinach has wilted, about 1 minute. Transfer to a bowl lined with paper towels to wick away excess moisture.\n",
            "▪︎ Heat 3 tablespoons butter and flour in a saucepan over medium heat; whisk mixture to a smooth paste. Cook, stirring constantly, until mixture has a nutty smell and is slightly browned, about 2 minutes. Add chopped garlic; whisk until fragrant, 10 to 20 seconds.\n",
            "▪︎ Whisk 1 cup cold milk into flour mixture; cook until thickened. Whisk in remaining 1 cup milk and lemon zest. Bring white sauce to a gentle simmer, whisking constantly; season with salt. Turn heat to very low and keep sauce warm.\n",
            "▪︎ Preheat oven to 375 degrees F (190 degrees C). Grease an 8x12-inch casserole dish with 1 tablespoon butter.\n",
            "▪︎ Season buttered pan with salt, black pepper, and cayenne pepper. Lay boneless cod fillets into the pan in a single layer. Season tops of fillets with more salt, black pepper, and cayenne pepper. Spread spinach evenly over fish and drizzle with lemon juice. Spoon white sauce over spinach; give casserole dish several taps and shakes to eliminate bubbles.\n",
            "▪︎ Drop mashed potatoes by heaping spoonfuls over the casserole and spread smoothly to cover. Place dish onto a rimmed baking sheet to catch spills.\n",
            "▪︎ Bake in the preheated oven until bubbling, about 40 minutes. Turn on oven's broiler and broil until potato crust has a golden brown top, about 2 minutes. Fish should flake easily. Let stand 10 minutes before serving. Garnish with a sprinkle of chives.\n",
            "\n",
            "\n",
            "\n",
            "Recipe #8\n",
            "---------\n",
            "📗 Mom's Zucchini Bread\n",
            "\n",
            "🥕\n",
            "\n",
            "• 3 cups all-purpose flour \n",
            "• 1 teaspoon salt \n",
            "• 1 teaspoon baking soda \n",
            "• 1 teaspoon baking powder \n",
            "• 1 tablespoon ground cinnamon \n",
            "• 3 eggs \n",
            "• 1 cup vegetable oil \n",
            "• 2 1/4 cups white sugar \n",
            "• 3 teaspoons vanilla extract \n",
            "• 2 cups grated zucchini \n",
            "• 1 cup chopped walnuts \n",
            "\n",
            "📝\n",
            "\n",
            "▪︎ Grease and flour two 8 x 4 inch pans. Preheat oven to 325 degrees F (165 degrees C).\n",
            "▪︎ Sift flour, salt, baking powder, soda, and cinnamon together in a bowl.\n",
            "▪︎ Beat eggs, oil, vanilla, and sugar together in a large bowl. Add sifted ingredients to the creamed mixture, and beat well. Stir in zucchini and nuts until well combined. Pour batter into prepared pans.\n",
            "▪︎ Bake for 40 to 60 minutes, or until tester inserted in the center comes out clean. Cool in pan on rack for 20 minutes. Remove bread from pan, and completely cool.\n",
            "\n",
            "\n",
            "\n",
            "Recipe #9\n",
            "---------\n",
            "📗 The Best Rolled Sugar Cookies\n",
            "\n",
            "🥕\n",
            "\n",
            "• 1 1/2 cups butter, softened \n",
            "• 2 cups white sugar \n",
            "• 4 eggs \n",
            "• 1 teaspoon vanilla extract \n",
            "• 5 cups all-purpose flour \n",
            "• 2 teaspoons baking powder \n",
            "• 1 teaspoon salt \n",
            "\n",
            "📝\n",
            "\n",
            "▪︎ In a large bowl, cream together butter and sugar until smooth. Beat in eggs and vanilla. Stir in the flour, baking powder, and salt. Cover, and chill dough for at least one hour (or overnight).\n",
            "▪︎ Preheat oven to 400 degrees F (200 degrees C). Roll out dough on floured surface 1/4 to 1/2 inch thick. Cut into shapes with any cookie cutter. Place cookies 1 inch apart on ungreased cookie sheets.\n",
            "▪︎ Bake 6 to 8 minutes in preheated oven. Cool completely.\n",
            "\n",
            "\n",
            "\n",
            "Recipe #10\n",
            "---------\n",
            "📗 Singapore Chili Crabs\n",
            "\n",
            "🥕\n",
            "\n",
            "• Sauce: \n",
            "• 1/2 cup ketchup \n",
            "• 1/2 cup chicken broth \n",
            "• 1 large egg \n",
            "• 2 tablespoons soy sauce \n",
            "• 2 tablespoons chile-garlic sauce (such as sambal oelek) \n",
            "• 1 tablespoon oyster sauce \n",
            "• 1 tablespoon tamarind paste \n",
            "• 2 teaspoons fish sauce \n",
            "• 2 teaspoons palm sugar \n",
            "• 1/4 cup minced shallot \n",
            "• 6 cloves garlic, minced \n",
            "• 2 tablespoons vegetable oil, or more as needed \n",
            "• 2 tablespoons minced fresh ginger root \n",
            "• 1 tablespoon minced serrano pepper \n",
            "• 2 cooked Dungeness crabs, cleaned and cracked \n",
            "• 2 tablespoons chopped fresh cilantro \n",
            "• 2 tablespoons sliced green onion (green part only) \n",
            "\n",
            "📝\n",
            "\n",
            "▪︎ Whisk ketchup, chicken broth, egg, soy sauce, chile-garlic sauce, oyster sauce, tamarind paste, fish sauce, and palm sugar together in a bowl.\n",
            "▪︎ Stir shallots, garlic, oil, ginger, and serrano pepper together in a pot over medium-high heat. Saute until sizzling, about 2 minutes. Add crab to pot, cover the pot with a lid, and shake until crab is completely coated in shallot mixture. Remove lid and cook and stir until heated through, about 3 minutes.\n",
            "▪︎ Pour ketchup mixture into pot, reduce heat to medium, and cook and stir until sauce thickens and crab is hot about 5 minutes. Remove from heat; stir in cilantro and green onions.\n",
            "\n",
            "\n",
            "\n"
          ]
        }
      ],
      "source": [
        "for recipe_index, recipe_string in enumerate(dataset_stringified[:10]):\n",
        "    print('Recipe #{}\\n---------'.format(recipe_index + 1))\n",
        "    print(recipe_string)\n",
        "    print('\\n')"
      ]
    },
    {
      "cell_type": "code",
      "execution_count": 14,
      "metadata": {
        "colab": {
          "base_uri": "https://localhost:8080/"
        },
        "id": "WGM4qHO3Upck",
        "outputId": "959cf8f2-bcbc-493e-8144-05cd8424db32"
      },
      "outputs": [
        {
          "output_type": "stream",
          "name": "stdout",
          "text": [
            "📗 Herbed Bean Ragoût \n",
            "\n",
            "🥕\n",
            "\n",
            "• 6 ounces haricots verts (French thin green beans), trimmed and halved crosswise\n",
            "• 1 (1-pound) bag frozen edamame (soybeans in the pod) or 1 1/4 cups frozen shelled edamame, not thawed\n",
            "• 2/3 cup finely chopped onion\n",
            "• 2 garlic cloves, minced\n",
            "• 1 Turkish bay leaf or 1/2 California bay leaf\n",
            "• 2 (3-inch) fresh rosemary sprigs\n",
            "• 1/2 teaspoon salt\n",
            "• 1/4 teaspoon black pepper\n",
            "• 1 tablespoon olive oil\n",
            "• 1 medium carrot, cut into 1/8-inch dice\n",
            "• 1 medium celery rib, cut into 1/8-inch dice\n",
            "• 1 (15- to 16-ounces) can small white beans, rinsed and drained\n",
            "• 1 1/2 cups chicken stock or low-sodium broth\n",
            "• 2 tablespoons unsalted butter\n",
            "• 2 tablespoons finely chopped fresh flat-leaf parsley\n",
            "• 1 tablespoon finely chopped fresh chervil (optional)\n",
            "• Garnish: fresh chervil sprigs\n",
            "\n",
            "📝\n",
            "\n",
            "▪︎ Cook haricots verts in a large pot of boiling salted water until just tender, 3 to 4 minutes. Transfer with a slotted spoon to a bowl of ice and cold water, then drain. Add edamame to boiling water and cook 4 minutes. Drain in a colander, then rinse under cold water. If using edamame in pods, shell them and discard pods. Cook onion, garlic, bay leaf, rosemary, salt, and pepper in oil in a 2- to 4-quart heavy saucepan over moderately low heat, stirring, until softened, about 3 minutes. Add carrot and celery and cook, stirring, until softened, about 3 minutes. Add white beans and stock and simmer, covered, stirring occasionally, 10 minutes. Add haricots verts and edamame and simmer, uncovered, until heated through, 2 to 3 minutes. Add butter, parsley, and chervil (if using) and stir gently until butter is melted. Discard bay leaf and rosemary sprigs.\n",
            "▪︎ Cook haricots verts in a large pot of boiling salted water until just tender, 3 to 4 minutes. Transfer with a slotted spoon to a bowl of ice and cold water, then drain.\n",
            "▪︎ Add edamame to boiling water and cook 4 minutes. Drain in a colander, then rinse under cold water. If using edamame in pods, shell them and discard pods.\n",
            "▪︎ Cook onion, garlic, bay leaf, rosemary, salt, and pepper in oil in a 2- to 4-quart heavy saucepan over moderately low heat, stirring, until softened, about 3 minutes. Add carrot and celery and cook, stirring, until softened, about 3 minutes.\n",
            "▪︎ Add white beans and stock and simmer, covered, stirring occasionally, 10 minutes. Add haricots verts and edamame and simmer, uncovered, until heated through, 2 to 3 minutes. Add butter, parsley, and chervil (if using) and stir gently until butter is melted. Discard bay leaf and rosemary sprigs.\n",
            "\n"
          ]
        }
      ],
      "source": [
        "print(dataset_stringified[50000])"
      ]
    },
    {
      "cell_type": "markdown",
      "metadata": {
        "id": "xBYgyhLKUrzy"
      },
      "source": [
        "## Filter out large recipes\n",
        "We need a hard-coded sequence length limit before feeding recipe sequences into RNN"
      ]
    },
    {
      "cell_type": "code",
      "execution_count": 15,
      "metadata": {
        "id": "sYoHzK90Ut1T"
      },
      "outputs": [],
      "source": [
        "recipes_lengths = []\n",
        "for recipe_text in dataset_stringified:\n",
        "    recipes_lengths.append(len(recipe_text))"
      ]
    },
    {
      "cell_type": "code",
      "execution_count": 16,
      "metadata": {
        "colab": {
          "base_uri": "https://localhost:8080/",
          "height": 430
        },
        "id": "inKtWmSVUzh6",
        "outputId": "25358616-c054-40e0-feae-b2bc19aabd45"
      },
      "outputs": [
        {
          "output_type": "display_data",
          "data": {
            "text/plain": [
              "<Figure size 640x480 with 1 Axes>"
            ],
            "image/png": "[encoded data removed]"
          },
          "metadata": {}
        }
      ],
      "source": [
        "plt.hist(recipes_lengths, bins=50)\n",
        "plt.show()"
      ]
    },
    {
      "cell_type": "code",
      "execution_count": 17,
      "metadata": {
        "colab": {
          "base_uri": "https://localhost:8080/",
          "height": 434
        },
        "id": "UxXHcdOwU9NM",
        "outputId": "cdd8c803-73c3-410f-93fe-f2f6dc53d376"
      },
      "outputs": [
        {
          "output_type": "display_data",
          "data": {
            "text/plain": [
              "<Figure size 640x480 with 1 Axes>"
            ],
            "image/png": "[encoded data removed]"
          },
          "metadata": {}
        }
      ],
      "source": [
        "plt.hist(recipes_lengths, range=(0, 8000), bins=50)\n",
        "plt.show()"
      ]
    },
    {
      "cell_type": "code",
      "execution_count": 18,
      "metadata": {
        "id": "NLI35GJ2U-dq"
      },
      "outputs": [],
      "source": [
        "# looks like a limit of 2000 characters for the recipes will cover 80+% cases.\n",
        "# try to train RNN with this maximum recipe length limit.\n",
        "MAX_RECIPE_LENGTH = 2000"
      ]
    },
    {
      "cell_type": "code",
      "execution_count": 19,
      "metadata": {
        "id": "uh10VCNZVEhf"
      },
      "outputs": [],
      "source": [
        "def filter_recipes_by_length(recipe_test):\n",
        "    return len(recipe_test) <= MAX_RECIPE_LENGTH "
      ]
    },
    {
      "cell_type": "code",
      "execution_count": 20,
      "metadata": {
        "colab": {
          "base_uri": "https://localhost:8080/"
        },
        "id": "6oU0394CVHLa",
        "outputId": "645b86a8-88b1-496d-ac1a-90e0ec2fe0c5"
      },
      "outputs": [
        {
          "output_type": "stream",
          "name": "stdout",
          "text": [
            "Dataset size BEFORE filtering:  122938\n",
            "Dataset size AFTER filtering:  100212\n",
            "Number of etiminated recipes:  22726\n"
          ]
        }
      ],
      "source": [
        "# compare before/after filtering\n",
        "dataset_filtered = [recipe_text for recipe_text in dataset_stringified if filter_recipes_by_length(recipe_text)]\n",
        "\n",
        "print('Dataset size BEFORE filtering: ', len(dataset_stringified))\n",
        "print('Dataset size AFTER filtering: ', len(dataset_filtered))\n",
        "print('Number of etiminated recipes: ', len(dataset_stringified) - len(dataset_filtered))"
      ]
    },
    {
      "cell_type": "markdown",
      "metadata": {
        "id": "obaigVI1VQCy"
      },
      "source": [
        "## Summarizing Dataset Parameters"
      ]
    },
    {
      "cell_type": "code",
      "execution_count": 21,
      "metadata": {
        "colab": {
          "base_uri": "https://localhost:8080/"
        },
        "id": "XvSGIlX7VN9z",
        "outputId": "cc90e0a9-571a-4272-b203-82555979678c"
      },
      "outputs": [
        {
          "output_type": "stream",
          "name": "stdout",
          "text": [
            "MAX_RECIPE_LENGTH:  2000\n",
            "TOTAL_RECIPES_NUM:  100212\n"
          ]
        }
      ],
      "source": [
        "TOTAL_RECIPES_NUM = len(dataset_filtered)\n",
        "\n",
        "print('MAX_RECIPE_LENGTH: ', MAX_RECIPE_LENGTH)\n",
        "print('TOTAL_RECIPES_NUM: ', TOTAL_RECIPES_NUM)"
      ]
    },
    {
      "cell_type": "markdown",
      "metadata": {
        "id": "HkGa0ca5VV_D"
      },
      "source": [
        "# Create Vocab"
      ]
    },
    {
      "cell_type": "code",
      "execution_count": 22,
      "metadata": {
        "id": "F702e-1-VXXn"
      },
      "outputs": [],
      "source": [
        "# indicator of the end of the recipe.\n",
        "STOP_SIGN = '␣'"
      ]
    },
    {
      "cell_type": "code",
      "execution_count": 23,
      "metadata": {
        "id": "brgRlCeIVc46"
      },
      "outputs": [],
      "source": [
        "tokenizer = tf.keras.preprocessing.text.Tokenizer(\n",
        "    char_level=True,\n",
        "    filters='',\n",
        "    lower=False,\n",
        "    split=''\n",
        ")"
      ]
    },
    {
      "cell_type": "code",
      "execution_count": 24,
      "metadata": {
        "id": "xs1orD8bVevq"
      },
      "outputs": [],
      "source": [
        "# stop word is not a part of recipes, but tokenizer must know about it as well.\n",
        "tokenizer.fit_on_texts([STOP_SIGN])"
      ]
    },
    {
      "cell_type": "code",
      "execution_count": 25,
      "metadata": {
        "id": "NGbwGLFNV2uz"
      },
      "outputs": [],
      "source": [
        "tokenizer.fit_on_texts(dataset_filtered)"
      ]
    },
    {
      "cell_type": "code",
      "execution_count": 26,
      "metadata": {
        "colab": {
          "base_uri": "https://localhost:8080/"
        },
        "id": "zHwKKlCFVkvr",
        "outputId": "24de2de5-c623-41cc-c947-a17f9a1dafee"
      },
      "outputs": [
        {
          "output_type": "execute_result",
          "data": {
            "text/plain": [
              "{'num_words': None,\n",
              " 'filters': '',\n",
              " 'lower': False,\n",
              " 'split': '',\n",
              " 'char_level': True,\n",
              " 'oov_token': None,\n",
              " 'document_count': 100213,\n",
              " 'word_counts': '{\"\\\\u2423\": 1, \"\\\\ud83d\\\\udcd7\": 100212, \" \": 17527888, \"S\": 270259, \"l\": 3815150, \"o\": 5987496, \"w\": 964459, \"C\": 222831, \"k\": 890982, \"e\": 9296022, \"r\": 4760887, \"h\": 2922100, \"i\": 4911812, \"c\": 2883507, \"n\": 5304396, \"a\": 6067157, \"d\": 3099679, \"D\": 63999, \"u\": 2717050, \"m\": 1794411, \"p\": 2679164, \"g\": 1698670, \"s\": 4704222, \"\\\\n\": 1955281, \"\\\\ud83e\\\\udd55\": 100212, \"\\\\u2022\": 922813, \"4\": 232607, \",\": 1130487, \"b\": 1394803, \"t\": 5997722, \"v\": 746785, \"2\": 493933, \"(\": 144985, \"1\": 853931, \"0\": 145119, \".\": 1052548, \"7\": 31098, \"5\": 154071, \")\": 144977, \"f\": 1042981, \"y\": 666553, \"\\\\ud83d\\\\udcdd\": 100212, \"\\\\u25aa\": 331058, \"\\\\ufe0e\": 331058, \"P\": 200597, \"6\": 51398, \"H\": 43936, \"A\": 134274, \"3\": 213519, \"R\": 101253, \"x\": 201286, \"/\": 345257, \"I\": 81591, \"L\": 46138, \"8\": 55352, \"9\": 17697, \"B\": 123813, \"M\": 78684, \"F\": 104359, \"j\": 110008, \"-\": 219160, \"W\": 61616, \"\\\\u00ae\": 10159, \"N\": 12808, \"q\": 69654, \"T\": 101371, \";\": 72045, \"\\'\": 26831, \"Z\": 2428, \"z\": 115883, \"G\": 52043, \":\": 31318, \"E\": 18582, \"K\": 18421, \"X\": 385, \"\\\\\"\": 6445, \"O\": 28971, \"Y\": 6064, \"\\\\u2122\": 538, \"Q\": 3904, \"J\": 10269, \"!\": 3014, \"U\": 14132, \"V\": 12172, \"&\": 1039, \"+\": 87, \"=\": 113, \"%\": 993, \"*\": 3243, \"\\\\u00a9\": 99, \"[\": 30, \"]\": 31, \"\\\\u00e9\": 6727, \"<\": 76, \">\": 86, \"\\\\u00bd\": 166, \"#\": 168, \"\\\\u00f1\": 891, \"?\": 327, \"\\\\u2019\": 111, \"\\\\u00b0\": 6808, \"\\\\u201d\": 6, \"$\": 84, \"@\": 5, \"{\": 8, \"}\": 9, \"\\\\u2013\": 1228, \"\\\\u0096\": 7, \"\\\\u00e0\": 26, \"\\\\u00e2\": 106, \"\\\\u00e8\": 846, \"\\\\u00e1\": 74, \"\\\\u2014\": 215, \"\\\\u2044\": 16, \"\\\\u00ee\": 415, \"\\\\u00e7\": 171, \"_\": 26, \"\\\\u00fa\": 48, \"\\\\u00ef\": 43, \"\\\\u201a\": 20, \"\\\\u00fb\": 36, \"\\\\u00f3\": 74, \"\\\\u00ed\": 130, \"\\\\u25ca\": 4, \"\\\\u00f9\": 12, \"\\\\u00d7\": 6, \"\\\\u00ec\": 8, \"\\\\u00fc\": 29, \"\\\\u2031\": 4, \"\\\\u00ba\": 19, \"\\\\u201c\": 4, \"\\\\u00ad\": 25, \"\\\\u00ea\": 27, \"\\\\u00f6\": 9, \"\\\\u0301\": 11, \"\\\\u00f4\": 8, \"\\\\u00c1\": 2, \"\\\\u00be\": 23, \"\\\\u00bc\": 95, \"\\\\u00eb\": 2, \"\\\\u0097\": 2, \"\\\\u215b\": 3, \"\\\\u2027\": 4, \"\\\\u00e4\": 15, \"\\\\u001a\": 2, \"\\\\u00f8\": 2, \"\\\\ufffd\": 20, \"\\\\u02da\": 6, \"\\\\u00bf\": 264, \"\\\\u2153\": 2, \"|\": 2, \"\\\\u00e5\": 3, \"\\\\u00a4\": 1, \"\\\\u201f\": 1, \"\\\\u00a7\": 5, \"\\\\ufb02\": 3, \"\\\\u00a0\": 1, \"\\\\u01b0\": 2, \"\\\\u01a1\": 1, \"\\\\u0103\": 1, \"\\\\u0300\": 1, \"\\\\u00bb\": 6, \"`\": 3, \"\\\\u0092\": 2, \"\\\\u215e\": 1, \"\\\\u202d\": 4, \"\\\\u00b4\": 2, \"\\\\u2012\": 2, \"\\\\u00c9\": 40, \"\\\\u00da\": 14, \"\\\\u20ac\": 1, \"\\\\\\\\\": 5, \"~\": 1, \"\\\\u0095\": 1, \"\\\\u00c2\": 2}',\n",
              " 'word_docs': '{\"\\\\u2423\": 1, \" \": 100212, \"c\": 100190, \"\\\\ud83d\\\\udcdd\": 100212, \"d\": 100194, \"P\": 79364, \"C\": 83328, \"7\": 24377, \"\\\\ufe0e\": 100212, \"k\": 97316, \"m\": 99988, \"g\": 99975, \"4\": 82453, \"0\": 61954, \"6\": 35206, \"H\": 31908, \"D\": 40870, \",\": 98524, \"1\": 99320, \"n\": 100198, \"o\": 100205, \"u\": 100161, \"f\": 98331, \"2\": 96743, \"\\\\ud83e\\\\udd55\": 100212, \"b\": 99702, \"i\": 100207, \"(\": 67627, \"\\\\n\": 100212, \".\": 100163, \"r\": 100207, \"\\\\u25aa\": 100212, \"y\": 96387, \"S\": 89250, \"h\": 100161, \"l\": 100206, \"\\\\u2022\": 100212, \"\\\\ud83d\\\\udcd7\": 100212, \"s\": 100204, \"w\": 99227, \"a\": 100205, \"e\": 100212, \"t\": 100202, \"v\": 97848, \"A\": 60900, \"3\": 79135, \"p\": 100046, \")\": 67614, \"5\": 65486, \"I\": 46675, \"/\": 89051, \"8\": 37000, \"9\": 14114, \"R\": 54040, \"x\": 72133, \"L\": 32101, \"B\": 64278, \"F\": 57940, \"j\": 47438, \"M\": 48332, \"-\": 74711, \"N\": 9981, \"T\": 53758, \"W\": 38981, \"\\\\u00ae\": 5819, \"q\": 36538, \";\": 33863, \"\\'\": 18120, \"G\": 35355, \"z\": 42430, \"Z\": 2184, \":\": 18214, \"E\": 12161, \"K\": 14834, \"X\": 321, \"\\\\\"\": 2617, \"O\": 20103, \"Y\": 5148, \"\\\\u2122\": 448, \"Q\": 3142, \"J\": 8225, \"!\": 2428, \"U\": 10621, \"V\": 9710, \"&\": 749, \"+\": 32, \"=\": 48, \"%\": 717, \"*\": 1780, \"\\\\u00a9\": 91, \"[\": 25, \"]\": 26, \"\\\\u00e9\": 2462, \"<\": 27, \">\": 33, \"\\\\u00bd\": 81, \"#\": 139, \"\\\\u00f1\": 423, \"?\": 207, \"\\\\u2019\": 64, \"\\\\u00b0\": 3062, \"\\\\u201d\": 3, \"$\": 49, \"@\": 4, \"{\": 7, \"}\": 8, \"\\\\u2013\": 491, \"\\\\u0096\": 7, \"\\\\u00e0\": 22, \"\\\\u00e2\": 45, \"\\\\u00e8\": 335, \"\\\\u00e1\": 38, \"\\\\u2014\": 95, \"\\\\u2044\": 9, \"\\\\u00ee\": 122, \"\\\\u00e7\": 120, \"_\": 8, \"\\\\u00fa\": 25, \"\\\\u00ef\": 24, \"\\\\u201a\": 10, \"\\\\u00fb\": 29, \"\\\\u00f3\": 40, \"\\\\u00ed\": 52, \"\\\\u25ca\": 2, \"\\\\u00f9\": 6, \"\\\\u00d7\": 4, \"\\\\u00ec\": 4, \"\\\\u00fc\": 19, \"\\\\u2031\": 2, \"\\\\u00ba\": 9, \"\\\\u201c\": 2, \"\\\\u00ad\": 11, \"\\\\u00ea\": 4, \"\\\\u00f6\": 4, \"\\\\u0301\": 6, \"\\\\u00f4\": 5, \"\\\\u00c1\": 2, \"\\\\u00bc\": 55, \"\\\\u00be\": 18, \"\\\\u00eb\": 2, \"\\\\u0097\": 1, \"\\\\u215b\": 2, \"\\\\u2027\": 3, \"\\\\u00e4\": 8, \"\\\\u001a\": 1, \"\\\\u00f8\": 1, \"\\\\ufffd\": 4, \"\\\\u02da\": 3, \"\\\\u00bf\": 191, \"\\\\u2153\": 1, \"|\": 2, \"\\\\u00e5\": 1, \"\\\\u00a4\": 1, \"\\\\u00a7\": 3, \"\\\\u201f\": 1, \"\\\\ufb02\": 1, \"\\\\u00a0\": 1, \"\\\\u0300\": 1, \"\\\\u01a1\": 1, \"\\\\u0103\": 1, \"\\\\u01b0\": 1, \"\\\\u00bb\": 2, \"`\": 3, \"\\\\u0092\": 2, \"\\\\u215e\": 1, \"\\\\u202d\": 1, \"\\\\u00b4\": 1, \"\\\\u2012\": 1, \"\\\\u00c9\": 15, \"\\\\u00da\": 5, \"\\\\u20ac\": 1, \"\\\\\\\\\": 5, \"~\": 1, \"\\\\u0095\": 1, \"\\\\u00c2\": 1}',\n",
              " 'index_docs': '{\"1\": 100212, \"165\": 1, \"13\": 100190, \"53\": 100212, \"11\": 100194, \"39\": 79364, \"35\": 83328, \"66\": 24377, \"32\": 100212, \"25\": 97316, \"17\": 99988, \"18\": 99975, \"34\": 82453, \"41\": 61954, \"62\": 35206, \"64\": 31908, \"58\": 40870, \"20\": 98524, \"26\": 99320, \"6\": 100198, \"5\": 100205, \"14\": 100161, \"22\": 98331, \"29\": 96743, \"52\": 100212, \"19\": 99702, \"7\": 100207, \"42\": 67627, \"16\": 100212, \"21\": 100163, \"8\": 100207, \"31\": 100212, \"28\": 96387, \"33\": 89250, \"12\": 100161, \"10\": 100206, \"24\": 100212, \"51\": 100212, \"9\": 100204, \"23\": 99227, \"3\": 100205, \"2\": 100212, \"4\": 100202, \"27\": 97848, \"44\": 60900, \"37\": 79135, \"15\": 100046, \"43\": 67614, \"40\": 65486, \"54\": 46675, \"30\": 89051, \"60\": 37000, \"71\": 14114, \"50\": 54040, \"38\": 72133, \"63\": 32101, \"45\": 64278, \"48\": 57940, \"47\": 47438, \"55\": 48332, \"36\": 74711, \"73\": 9981, \"49\": 53758, \"59\": 38981, \"76\": 5819, \"57\": 36538, \"56\": 33863, \"68\": 18120, \"61\": 35355, \"46\": 42430, \"84\": 2184, \"65\": 18214, \"69\": 12161, \"70\": 14834, \"92\": 321, \"79\": 2617, \"67\": 20103, \"80\": 5148, \"90\": 448, \"81\": 3142, \"75\": 8225, \"83\": 2428, \"72\": 10621, \"74\": 9710, \"86\": 749, \"105\": 32, \"100\": 48, \"87\": 717, \"82\": 1780, \"103\": 91, \"116\": 25, \"115\": 26, \"78\": 2462, \"108\": 27, \"106\": 33, \"98\": 81, \"97\": 139, \"88\": 423, \"93\": 207, \"101\": 64, \"77\": 3062, \"137\": 3, \"107\": 49, \"141\": 4, \"133\": 7, \"131\": 8, \"85\": 491, \"136\": 7, \"119\": 22, \"102\": 45, \"89\": 335, \"109\": 38, \"95\": 95, \"126\": 9, \"91\": 122, \"96\": 120, \"120\": 8, \"111\": 25, \"112\": 24, \"123\": 10, \"114\": 29, \"110\": 40, \"99\": 52, \"144\": 2, \"129\": 6, \"138\": 4, \"134\": 4, \"117\": 19, \"145\": 2, \"125\": 9, \"146\": 2, \"121\": 11, \"118\": 4, \"132\": 4, \"130\": 6, \"135\": 5, \"153\": 2, \"104\": 55, \"122\": 18, \"154\": 2, \"155\": 1, \"149\": 2, \"147\": 3, \"127\": 8, \"156\": 1, \"157\": 1, \"124\": 4, \"139\": 3, \"94\": 191, \"158\": 1, \"159\": 2, \"150\": 1, \"166\": 1, \"142\": 3, \"167\": 1, \"151\": 1, \"168\": 1, \"171\": 1, \"169\": 1, \"170\": 1, \"160\": 1, \"140\": 2, \"152\": 3, \"161\": 2, \"172\": 1, \"148\": 1, \"162\": 1, \"163\": 1, \"113\": 15, \"128\": 5, \"173\": 1, \"143\": 5, \"174\": 1, \"175\": 1, \"164\": 1}',\n",
              " 'index_word': '{\"1\": \" \", \"2\": \"e\", \"3\": \"a\", \"4\": \"t\", \"5\": \"o\", \"6\": \"n\", \"7\": \"i\", \"8\": \"r\", \"9\": \"s\", \"10\": \"l\", \"11\": \"d\", \"12\": \"h\", \"13\": \"c\", \"14\": \"u\", \"15\": \"p\", \"16\": \"\\\\n\", \"17\": \"m\", \"18\": \"g\", \"19\": \"b\", \"20\": \",\", \"21\": \".\", \"22\": \"f\", \"23\": \"w\", \"24\": \"\\\\u2022\", \"25\": \"k\", \"26\": \"1\", \"27\": \"v\", \"28\": \"y\", \"29\": \"2\", \"30\": \"/\", \"31\": \"\\\\u25aa\", \"32\": \"\\\\ufe0e\", \"33\": \"S\", \"34\": \"4\", \"35\": \"C\", \"36\": \"-\", \"37\": \"3\", \"38\": \"x\", \"39\": \"P\", \"40\": \"5\", \"41\": \"0\", \"42\": \"(\", \"43\": \")\", \"44\": \"A\", \"45\": \"B\", \"46\": \"z\", \"47\": \"j\", \"48\": \"F\", \"49\": \"T\", \"50\": \"R\", \"51\": \"\\\\ud83d\\\\udcd7\", \"52\": \"\\\\ud83e\\\\udd55\", \"53\": \"\\\\ud83d\\\\udcdd\", \"54\": \"I\", \"55\": \"M\", \"56\": \";\", \"57\": \"q\", \"58\": \"D\", \"59\": \"W\", \"60\": \"8\", \"61\": \"G\", \"62\": \"6\", \"63\": \"L\", \"64\": \"H\", \"65\": \":\", \"66\": \"7\", \"67\": \"O\", \"68\": \"\\'\", \"69\": \"E\", \"70\": \"K\", \"71\": \"9\", \"72\": \"U\", \"73\": \"N\", \"74\": \"V\", \"75\": \"J\", \"76\": \"\\\\u00ae\", \"77\": \"\\\\u00b0\", \"78\": \"\\\\u00e9\", \"79\": \"\\\\\"\", \"80\": \"Y\", \"81\": \"Q\", \"82\": \"*\", \"83\": \"!\", \"84\": \"Z\", \"85\": \"\\\\u2013\", \"86\": \"&\", \"87\": \"%\", \"88\": \"\\\\u00f1\", \"89\": \"\\\\u00e8\", \"90\": \"\\\\u2122\", \"91\": \"\\\\u00ee\", \"92\": \"X\", \"93\": \"?\", \"94\": \"\\\\u00bf\", \"95\": \"\\\\u2014\", \"96\": \"\\\\u00e7\", \"97\": \"#\", \"98\": \"\\\\u00bd\", \"99\": \"\\\\u00ed\", \"100\": \"=\", \"101\": \"\\\\u2019\", \"102\": \"\\\\u00e2\", \"103\": \"\\\\u00a9\", \"104\": \"\\\\u00bc\", \"105\": \"+\", \"106\": \">\", \"107\": \"$\", \"108\": \"<\", \"109\": \"\\\\u00e1\", \"110\": \"\\\\u00f3\", \"111\": \"\\\\u00fa\", \"112\": \"\\\\u00ef\", \"113\": \"\\\\u00c9\", \"114\": \"\\\\u00fb\", \"115\": \"]\", \"116\": \"[\", \"117\": \"\\\\u00fc\", \"118\": \"\\\\u00ea\", \"119\": \"\\\\u00e0\", \"120\": \"_\", \"121\": \"\\\\u00ad\", \"122\": \"\\\\u00be\", \"123\": \"\\\\u201a\", \"124\": \"\\\\ufffd\", \"125\": \"\\\\u00ba\", \"126\": \"\\\\u2044\", \"127\": \"\\\\u00e4\", \"128\": \"\\\\u00da\", \"129\": \"\\\\u00f9\", \"130\": \"\\\\u0301\", \"131\": \"}\", \"132\": \"\\\\u00f6\", \"133\": \"{\", \"134\": \"\\\\u00ec\", \"135\": \"\\\\u00f4\", \"136\": \"\\\\u0096\", \"137\": \"\\\\u201d\", \"138\": \"\\\\u00d7\", \"139\": \"\\\\u02da\", \"140\": \"\\\\u00bb\", \"141\": \"@\", \"142\": \"\\\\u00a7\", \"143\": \"\\\\\\\\\", \"144\": \"\\\\u25ca\", \"145\": \"\\\\u2031\", \"146\": \"\\\\u201c\", \"147\": \"\\\\u2027\", \"148\": \"\\\\u202d\", \"149\": \"\\\\u215b\", \"150\": \"\\\\u00e5\", \"151\": \"\\\\ufb02\", \"152\": \"`\", \"153\": \"\\\\u00c1\", \"154\": \"\\\\u00eb\", \"155\": \"\\\\u0097\", \"156\": \"\\\\u001a\", \"157\": \"\\\\u00f8\", \"158\": \"\\\\u2153\", \"159\": \"|\", \"160\": \"\\\\u01b0\", \"161\": \"\\\\u0092\", \"162\": \"\\\\u00b4\", \"163\": \"\\\\u2012\", \"164\": \"\\\\u00c2\", \"165\": \"\\\\u2423\", \"166\": \"\\\\u00a4\", \"167\": \"\\\\u201f\", \"168\": \"\\\\u00a0\", \"169\": \"\\\\u01a1\", \"170\": \"\\\\u0103\", \"171\": \"\\\\u0300\", \"172\": \"\\\\u215e\", \"173\": \"\\\\u20ac\", \"174\": \"~\", \"175\": \"\\\\u0095\"}',\n",
              " 'word_index': '{\" \": 1, \"e\": 2, \"a\": 3, \"t\": 4, \"o\": 5, \"n\": 6, \"i\": 7, \"r\": 8, \"s\": 9, \"l\": 10, \"d\": 11, \"h\": 12, \"c\": 13, \"u\": 14, \"p\": 15, \"\\\\n\": 16, \"m\": 17, \"g\": 18, \"b\": 19, \",\": 20, \".\": 21, \"f\": 22, \"w\": 23, \"\\\\u2022\": 24, \"k\": 25, \"1\": 26, \"v\": 27, \"y\": 28, \"2\": 29, \"/\": 30, \"\\\\u25aa\": 31, \"\\\\ufe0e\": 32, \"S\": 33, \"4\": 34, \"C\": 35, \"-\": 36, \"3\": 37, \"x\": 38, \"P\": 39, \"5\": 40, \"0\": 41, \"(\": 42, \")\": 43, \"A\": 44, \"B\": 45, \"z\": 46, \"j\": 47, \"F\": 48, \"T\": 49, \"R\": 50, \"\\\\ud83d\\\\udcd7\": 51, \"\\\\ud83e\\\\udd55\": 52, \"\\\\ud83d\\\\udcdd\": 53, \"I\": 54, \"M\": 55, \";\": 56, \"q\": 57, \"D\": 58, \"W\": 59, \"8\": 60, \"G\": 61, \"6\": 62, \"L\": 63, \"H\": 64, \":\": 65, \"7\": 66, \"O\": 67, \"\\'\": 68, \"E\": 69, \"K\": 70, \"9\": 71, \"U\": 72, \"N\": 73, \"V\": 74, \"J\": 75, \"\\\\u00ae\": 76, \"\\\\u00b0\": 77, \"\\\\u00e9\": 78, \"\\\\\"\": 79, \"Y\": 80, \"Q\": 81, \"*\": 82, \"!\": 83, \"Z\": 84, \"\\\\u2013\": 85, \"&\": 86, \"%\": 87, \"\\\\u00f1\": 88, \"\\\\u00e8\": 89, \"\\\\u2122\": 90, \"\\\\u00ee\": 91, \"X\": 92, \"?\": 93, \"\\\\u00bf\": 94, \"\\\\u2014\": 95, \"\\\\u00e7\": 96, \"#\": 97, \"\\\\u00bd\": 98, \"\\\\u00ed\": 99, \"=\": 100, \"\\\\u2019\": 101, \"\\\\u00e2\": 102, \"\\\\u00a9\": 103, \"\\\\u00bc\": 104, \"+\": 105, \">\": 106, \"$\": 107, \"<\": 108, \"\\\\u00e1\": 109, \"\\\\u00f3\": 110, \"\\\\u00fa\": 111, \"\\\\u00ef\": 112, \"\\\\u00c9\": 113, \"\\\\u00fb\": 114, \"]\": 115, \"[\": 116, \"\\\\u00fc\": 117, \"\\\\u00ea\": 118, \"\\\\u00e0\": 119, \"_\": 120, \"\\\\u00ad\": 121, \"\\\\u00be\": 122, \"\\\\u201a\": 123, \"\\\\ufffd\": 124, \"\\\\u00ba\": 125, \"\\\\u2044\": 126, \"\\\\u00e4\": 127, \"\\\\u00da\": 128, \"\\\\u00f9\": 129, \"\\\\u0301\": 130, \"}\": 131, \"\\\\u00f6\": 132, \"{\": 133, \"\\\\u00ec\": 134, \"\\\\u00f4\": 135, \"\\\\u0096\": 136, \"\\\\u201d\": 137, \"\\\\u00d7\": 138, \"\\\\u02da\": 139, \"\\\\u00bb\": 140, \"@\": 141, \"\\\\u00a7\": 142, \"\\\\\\\\\": 143, \"\\\\u25ca\": 144, \"\\\\u2031\": 145, \"\\\\u201c\": 146, \"\\\\u2027\": 147, \"\\\\u202d\": 148, \"\\\\u215b\": 149, \"\\\\u00e5\": 150, \"\\\\ufb02\": 151, \"`\": 152, \"\\\\u00c1\": 153, \"\\\\u00eb\": 154, \"\\\\u0097\": 155, \"\\\\u001a\": 156, \"\\\\u00f8\": 157, \"\\\\u2153\": 158, \"|\": 159, \"\\\\u01b0\": 160, \"\\\\u0092\": 161, \"\\\\u00b4\": 162, \"\\\\u2012\": 163, \"\\\\u00c2\": 164, \"\\\\u2423\": 165, \"\\\\u00a4\": 166, \"\\\\u201f\": 167, \"\\\\u00a0\": 168, \"\\\\u01a1\": 169, \"\\\\u0103\": 170, \"\\\\u0300\": 171, \"\\\\u215e\": 172, \"\\\\u20ac\": 173, \"~\": 174, \"\\\\u0095\": 175}'}"
            ]
          },
          "metadata": {},
          "execution_count": 26
        }
      ],
      "source": [
        "tokenizer.get_config()"
      ]
    },
    {
      "cell_type": "code",
      "execution_count": 27,
      "metadata": {
        "colab": {
          "base_uri": "https://localhost:8080/"
        },
        "id": "QhgY9wH5VmWa",
        "outputId": "6572a6cc-d8a2-4e87-c230-faa154206d71"
      },
      "outputs": [
        {
          "output_type": "stream",
          "name": "stdout",
          "text": [
            "VOCABULARY_SIZE:  176\n"
          ]
        }
      ],
      "source": [
        "# adding +1 to take into account a special unassigned 0 index.\n",
        "# @see: https://www.tensorflow.org/api_docs/python/tf/keras/preprocessing/text/Tokenizer\n",
        "VOCABULARY_SIZE = len(tokenizer.word_counts) + 1\n",
        "\n",
        "print('VOCABULARY_SIZE: ', VOCABULARY_SIZE)"
      ]
    },
    {
      "cell_type": "code",
      "execution_count": 28,
      "metadata": {
        "colab": {
          "base_uri": "https://localhost:8080/"
        },
        "id": "gSIG_d2fVqEj",
        "outputId": "e541c851-5e1a-4bdd-eec6-9d99cd5a5948"
      },
      "outputs": [
        {
          "output_type": "stream",
          "name": "stdout",
          "text": [
            "o\n",
            ",\n"
          ]
        }
      ],
      "source": [
        "print(tokenizer.index_word[5])\n",
        "print(tokenizer.index_word[20])"
      ]
    },
    {
      "cell_type": "code",
      "execution_count": 29,
      "metadata": {
        "colab": {
          "base_uri": "https://localhost:8080/"
        },
        "id": "G9j3FL5MV8Ca",
        "outputId": "7c95411e-b3b8-477a-c4d1-3a7339fc72d0"
      },
      "outputs": [
        {
          "output_type": "execute_result",
          "data": {
            "text/plain": [
              "8"
            ]
          },
          "metadata": {},
          "execution_count": 29
        }
      ],
      "source": [
        "tokenizer.word_index['r']"
      ]
    },
    {
      "cell_type": "code",
      "execution_count": 30,
      "metadata": {
        "colab": {
          "base_uri": "https://localhost:8080/"
        },
        "id": "eyilKZWVV987",
        "outputId": "8553d129-1788-45a3-b251-4d330cad9654"
      },
      "outputs": [
        {
          "output_type": "execute_result",
          "data": {
            "text/plain": [
              "[[51, 1, 28, 2, 9]]"
            ]
          },
          "metadata": {},
          "execution_count": 30
        }
      ],
      "source": [
        "# test proper conversion from text to indices.\n",
        "# this is needed for debugging a demo app.\n",
        "tokenizer.texts_to_sequences(['📗 yes'])"
      ]
    },
    {
      "cell_type": "markdown",
      "metadata": {
        "id": "fFLWrxiNWC5P"
      },
      "source": [
        "## Vectorize Recipe Texts"
      ]
    },
    {
      "cell_type": "code",
      "execution_count": 31,
      "metadata": {
        "id": "urYE81dZWGMp"
      },
      "outputs": [],
      "source": [
        "def recipe_sequence_to_string(recipe_sequence):\n",
        "    recipe_stringified = tokenizer.sequences_to_texts([recipe_sequence])[0]\n",
        "    recipe_stringified = recipe_stringified.replace('   ', '_').replace(' ', '').replace('_', ' ')\n",
        "    print(recipe_stringified)"
      ]
    },
    {
      "cell_type": "code",
      "execution_count": 32,
      "metadata": {
        "id": "UKaCrC0wWI0L"
      },
      "outputs": [],
      "source": [
        "dataset_vectorized = tokenizer.texts_to_sequences(dataset_filtered)"
      ]
    },
    {
      "cell_type": "code",
      "execution_count": 33,
      "metadata": {
        "colab": {
          "base_uri": "https://localhost:8080/"
        },
        "id": "VHIprKmLWKOW",
        "outputId": "d9a9f1cd-440e-486b-c186-3e5dd65360ec"
      },
      "outputs": [
        {
          "output_type": "stream",
          "name": "stdout",
          "text": [
            "Vectorized dataset size 100212\n"
          ]
        }
      ],
      "source": [
        "print('Vectorized dataset size', len(dataset_vectorized))"
      ]
    },
    {
      "cell_type": "code",
      "execution_count": 34,
      "metadata": {
        "colab": {
          "base_uri": "https://localhost:8080/"
        },
        "id": "dCMPmAsKWLrE",
        "outputId": "5a240649-2af3-4c4a-dfbf-24575170aedc"
      },
      "outputs": [
        {
          "output_type": "stream",
          "name": "stdout",
          "text": [
            "[51, 1, 33, 10, 5, 23, 1, 35, 5, 5] ...\n"
          ]
        }
      ],
      "source": [
        "print(dataset_vectorized[0][:10], '...')"
      ]
    },
    {
      "cell_type": "code",
      "execution_count": 35,
      "metadata": {
        "colab": {
          "base_uri": "https://localhost:8080/"
        },
        "id": "yBUnNENVWN0W",
        "outputId": "512a1125-ba53-4264-d3a7-52f26225d2cc"
      },
      "outputs": [
        {
          "output_type": "stream",
          "name": "stdout",
          "text": [
            "max_index_example:  [51, 1, 97, 26, 1, 39, 2, 3, 1, 33, 3, 10, 3, 11, 1, 55, 5, 9, 4, 1, 50, 2, 57, 14, 2, 9, 4, 2, 11, 83, 16, 16, 52, 16, 16, 24, 1, 29, 1, 42, 26, 62, 1, 5, 14, 6, 13, 2, 43, 1, 15, 3, 13, 25, 3, 18, 2, 9, 1, 22, 8, 5, 46, 2, 6, 1, 15, 2, 4, 7, 4, 2, 1, 15, 2, 3, 9, 1, 16, 24, 1, 62, 1, 5, 14, 6, 13, 2, 9, 1, 9, 17, 5, 25, 2, 36, 22, 10, 3, 27, 5, 8, 2, 11, 1, 3, 10, 17, 5, 6, 11, 9, 20, 1, 22, 7, 6, 2, 10, 28, 1, 13, 12, 5, 15, 15, 2, 11, 1, 16, 24, 1, 26, 1, 5, 6, 7, 5, 6, 20, 1, 22, 7, 6, 2, 10, 28, 1, 13, 12, 5, 15, 15, 2, 11, 1, 16, 24, 1, 26, 1, 13, 14, 15, 1, 17, 3, 28, 5, 6, 6, 3, 7, 9, 2, 20, 1, 5, 8, 1, 17, 5, 8, 2, 1, 4, 5, 1, 4, 3, 9, 4, 2, 1, 16, 24, 1, 18, 8, 5, 14, 6, 11, 1, 19, 10, 3, 13, 25, 1, 15, 2, 15, 15, 2, 8, 1, 4, 5, 1, 4, 3, 9, 4, 2, 1, 16, 16, 53, 16, 16, 31, 32, 1, 39, 10, 3, 13, 2, 1, 22, 8, 5, 46, 2, 6, 1, 15, 2, 3, 9, 1, 7, 6, 1, 3, 1, 13, 5, 10, 3, 6, 11, 2, 8, 56, 1, 8, 7, 6, 9, 2, 1, 14, 6, 11, 2, 8, 1, 13, 5, 10, 11, 1, 23, 3, 4, 2, 8, 1, 14, 6, 4, 7, 10, 1, 4, 12, 3, 23, 2, 11, 21, 1, 58, 8, 3, 7, 6, 1, 3, 6, 11, 1, 4, 8, 3, 6, 9, 22, 2, 8, 1, 4, 5, 1, 3, 1, 10, 3, 8, 18, 2, 1, 19, 5, 23, 10, 21, 1, 44, 11, 11, 1, 3, 10, 17, 5, 6, 11, 9, 1, 3, 6, 11, 1, 5, 6, 7, 5, 6, 9, 56, 1, 17, 7, 38, 1, 23, 2, 10, 10, 21, 1, 48, 5, 10, 11, 1, 17, 3, 28, 5, 6, 6, 3, 7, 9, 2, 1, 3, 6, 11, 1, 19, 10, 3, 13, 25, 1, 15, 2, 15, 15, 2, 8, 1, 7, 6, 4, 5, 1, 15, 2, 3, 1, 17, 7, 38, 4, 14, 8, 2, 1, 14, 6, 4, 7, 10, 1, 2, 27, 2, 6, 10, 28, 1, 13, 5, 3, 4, 2, 11, 21, 1, 35, 5, 27, 2, 8, 1, 3, 6, 11, 1, 8, 2, 22, 8, 7, 18, 2, 8, 3, 4, 2, 1, 14, 6, 4, 7, 10, 1, 9, 2, 8, 27, 7, 6, 18, 21, 16]\n"
          ]
        },
        {
          "output_type": "stream",
          "name": "stderr",
          "text": [
            "/usr/local/lib/python3.9/dist-packages/numpy/core/fromnumeric.py:86: VisibleDeprecationWarning: Creating an ndarray from ragged nested sequences (which is a list-or-tuple of lists-or-tuples-or ndarrays with different lengths or shapes) is deprecated. If you meant to do this, you must specify 'dtype=object' when creating the ndarray.\n",
            "  return ufunc.reduce(obj, axis, dtype, out, **passkwargs)\n"
          ]
        }
      ],
      "source": [
        "max_index_example = np.max(dataset_vectorized)\n",
        "\n",
        "print('max_index_example: ', max_index_example)"
      ]
    },
    {
      "cell_type": "code",
      "execution_count": 36,
      "metadata": {
        "colab": {
          "base_uri": "https://localhost:8080/"
        },
        "id": "W5kOq-wMWO8a",
        "outputId": "69887660-94a4-415d-c950-9c022b68fdb4"
      },
      "outputs": [
        {
          "output_type": "stream",
          "name": "stdout",
          "text": [
            "📗 Slow Cooker Chicken and Dumplings\n",
            "\n",
            "🥕\n",
            "\n",
            "• 4 skinless, boneless chicken breast halves \n",
            "• 2 tablespoons butter \n",
            "• 2 (10.75 ounce) cans condensed cream of chicken soup \n",
            "• 1 onion, finely diced \n",
            "• 2 (10 ounce) packages refrigerated biscuit dough, torn into pieces \n",
            "\n",
            "📝\n",
            "\n",
            "▪︎ Place the chicken, butter, soup, and onion in a slow cooker, and fill with enough water to cover.\n",
            "▪︎ Cover, and cook for 5 to 6 hours on High. About 30 minutes before serving, place the torn biscuit dough in the slow cooker. Cook until the dough is no longer raw in the center.\n",
            "\n"
          ]
        }
      ],
      "source": [
        "recipe_sequence_to_string(dataset_vectorized[0])"
      ]
    },
    {
      "cell_type": "markdown",
      "metadata": {
        "id": "LbejYDksWSUP"
      },
      "source": [
        "### Add padding to sequences\n",
        "Keep all recipes the same length for training"
      ]
    },
    {
      "cell_type": "code",
      "execution_count": 37,
      "metadata": {
        "colab": {
          "base_uri": "https://localhost:8080/"
        },
        "id": "9R9FD-MRWRHl",
        "outputId": "81300609-c018-4523-dfeb-c3cbff51551d"
      },
      "outputs": [
        {
          "output_type": "stream",
          "name": "stdout",
          "text": [
            "Recipe #1 length: 546\n",
            "Recipe #2 length: 401\n",
            "Recipe #3 length: 671\n",
            "Recipe #4 length: 736\n",
            "Recipe #5 length: 1518\n",
            "Recipe #6 length: 740\n",
            "Recipe #7 length: 839\n",
            "Recipe #8 length: 667\n",
            "Recipe #9 length: 1264\n",
            "Recipe #10 length: 854\n"
          ]
        }
      ],
      "source": [
        "for recipe_index, recipe in enumerate(dataset_vectorized[:10]):\n",
        "    print('Recipe #{} length: {}'.format(recipe_index + 1, len(recipe)))"
      ]
    },
    {
      "cell_type": "code",
      "execution_count": 38,
      "metadata": {
        "id": "KuCsL-1OWXSx"
      },
      "outputs": [],
      "source": [
        "dataset_vectorized_padded_without_stops = tf.keras.preprocessing.sequence.pad_sequences(\n",
        "    dataset_vectorized,\n",
        "    padding='post',\n",
        "    truncating='post',\n",
        "    # We use -1 here and +1 in the next step to make sure that all recipes will have at least 1 stops\n",
        "    # sign at the end, since each sequence will be shifted and truncated afterwards (to generate X and Y sequences).\n",
        "    maxlen=MAX_RECIPE_LENGTH-1,\n",
        "    value=tokenizer.texts_to_sequences([STOP_SIGN])[0]\n",
        ")"
      ]
    },
    {
      "cell_type": "code",
      "execution_count": 39,
      "metadata": {
        "id": "JnkROTvyWjZY"
      },
      "outputs": [],
      "source": [
        "dataset_vectorized_padded = tf.keras.preprocessing.sequence.pad_sequences(\n",
        "    dataset_vectorized_padded_without_stops,\n",
        "    padding='post',\n",
        "    truncating='post',\n",
        "    maxlen=MAX_RECIPE_LENGTH+1,\n",
        "    value=tokenizer.texts_to_sequences([STOP_SIGN])[0]\n",
        ")"
      ]
    },
    {
      "cell_type": "code",
      "execution_count": 40,
      "metadata": {
        "colab": {
          "base_uri": "https://localhost:8080/"
        },
        "id": "SaW0vWSyWlOL",
        "outputId": "4634fee1-8967-4329-8919-dcc85b0fb832"
      },
      "outputs": [
        {
          "output_type": "stream",
          "name": "stdout",
          "text": [
            "Recipe #0 length: 2001\n",
            "Recipe #1 length: 2001\n",
            "Recipe #2 length: 2001\n",
            "Recipe #3 length: 2001\n",
            "Recipe #4 length: 2001\n",
            "Recipe #5 length: 2001\n",
            "Recipe #6 length: 2001\n",
            "Recipe #7 length: 2001\n",
            "Recipe #8 length: 2001\n",
            "Recipe #9 length: 2001\n"
          ]
        }
      ],
      "source": [
        "for recipe_index, recipe in enumerate(dataset_vectorized_padded[:10]):\n",
        "    print('Recipe #{} length: {}'.format(recipe_index, len(recipe)))"
      ]
    },
    {
      "cell_type": "code",
      "execution_count": 41,
      "metadata": {
        "colab": {
          "base_uri": "https://localhost:8080/"
        },
        "id": "tBBaR___YzkA",
        "outputId": "48f58158-05f3-46c5-8cc6-4b528e1a7303"
      },
      "outputs": [
        {
          "output_type": "stream",
          "name": "stdout",
          "text": [
            "📗 Slow Cooker Chicken and Dumplings\n",
            "\n",
            "🥕\n",
            "\n",
            "• 4 skinless, boneless chicken breast halves \n",
            "• 2 tablespoons butter \n",
            "• 2 (10.75 ounce) cans condensed cream of chicken soup \n",
            "• 1 onion, finely diced \n",
            "• 2 (10 ounce) packages refrigerated biscuit dough, torn into pieces \n",
            "\n",
            "📝\n",
            "\n",
            "▪︎ Place the chicken, butter, soup, and onion in a slow cooker, and fill with enough water to cover.\n",
            "▪︎ Cover, and cook for 5 to 6 hours on High. About 30 minutes before serving, place the torn biscuit dough in the slow cooker. Cook until the dough is no longer raw in the center.\n",
            "␣␣␣␣␣␣␣␣␣␣␣␣␣␣␣␣␣␣␣␣␣␣␣␣␣␣␣␣␣␣␣␣␣␣␣␣␣␣␣␣␣␣␣␣␣␣␣␣␣␣␣␣␣␣␣␣␣␣␣␣␣␣␣␣␣␣␣␣␣␣␣␣␣␣␣␣␣␣␣␣␣␣␣␣␣␣␣␣␣␣␣␣␣␣␣␣␣␣␣␣␣␣␣␣␣␣␣␣␣␣␣␣␣␣␣␣␣␣␣␣␣␣␣␣␣␣␣␣␣␣␣␣␣␣␣␣␣␣␣␣␣␣␣␣␣␣␣␣␣␣␣␣␣␣␣␣␣␣␣␣␣␣␣␣␣␣␣␣␣␣␣␣␣␣␣␣␣␣␣␣␣␣␣␣␣␣␣␣␣␣␣␣␣␣␣␣␣␣␣␣␣␣␣␣␣␣␣␣␣␣␣␣␣␣␣␣␣␣␣␣␣␣␣␣␣␣␣␣␣␣␣␣␣␣␣␣␣␣␣␣␣␣␣␣␣␣␣␣␣␣␣␣␣␣␣␣␣␣␣␣␣␣␣␣␣␣␣␣␣␣␣␣␣␣␣␣␣␣␣␣␣␣␣␣␣␣␣␣␣␣␣␣␣␣␣␣␣␣␣␣␣␣␣␣␣␣␣␣␣␣␣␣␣␣␣␣␣␣␣␣␣␣␣␣␣␣␣␣␣␣␣␣␣␣␣␣␣␣␣␣␣␣␣␣␣␣␣␣␣␣␣␣␣␣␣␣␣␣␣␣␣␣␣␣␣␣␣␣␣␣␣␣␣␣␣␣␣␣␣␣␣␣␣␣␣␣␣␣␣␣␣␣␣␣␣␣␣␣␣␣␣␣␣␣␣␣␣␣␣␣␣␣␣␣␣␣␣␣␣␣␣␣␣␣␣␣␣␣␣␣␣␣␣␣␣␣␣␣␣␣␣␣␣␣␣␣␣␣␣␣␣␣␣␣␣␣␣␣␣␣␣␣␣␣␣␣␣␣␣␣␣␣␣␣␣␣␣␣␣␣␣␣␣␣␣␣␣␣␣␣␣␣␣␣␣␣␣␣␣␣␣␣␣␣␣␣␣␣␣␣␣␣␣␣␣␣␣␣␣␣␣␣␣␣␣␣␣␣␣␣␣␣␣␣␣␣␣␣␣␣␣␣␣␣␣␣␣␣␣␣␣␣␣␣␣␣␣␣␣␣␣␣␣␣␣␣␣␣␣␣␣␣␣␣␣␣␣␣␣␣␣␣␣␣␣␣␣␣␣␣␣␣␣␣␣␣␣␣␣␣␣␣␣␣␣␣␣␣␣␣␣␣␣␣␣␣␣␣␣␣␣␣␣␣␣␣␣␣␣␣␣␣␣␣␣␣␣␣␣␣␣␣␣␣␣␣␣␣␣␣␣␣␣␣␣␣␣␣␣␣␣␣␣␣␣␣␣␣␣␣␣␣␣␣␣␣␣␣␣␣␣␣␣␣␣␣␣␣␣␣␣␣␣␣␣␣␣␣␣␣␣␣␣␣␣␣␣␣␣␣␣␣␣␣␣␣␣␣␣␣␣␣␣␣␣␣␣␣␣␣␣␣␣␣␣␣␣␣␣␣␣␣␣␣␣␣␣␣␣␣␣␣␣␣␣␣␣␣␣␣␣␣␣␣␣␣␣␣␣␣␣␣␣␣␣␣␣␣␣␣␣␣␣␣␣␣␣␣␣␣␣␣␣␣␣␣␣␣␣␣␣␣␣␣␣␣␣␣␣␣␣␣␣␣␣␣␣␣␣␣␣␣␣␣␣␣␣␣␣␣␣␣␣␣␣␣␣␣␣␣␣␣␣␣␣␣␣␣␣␣␣␣␣␣␣␣␣␣␣␣␣␣␣␣␣␣␣␣␣␣␣␣␣␣␣␣␣␣␣␣␣␣␣␣␣␣␣␣␣␣␣␣␣␣␣␣␣␣␣␣␣␣␣␣␣␣␣␣␣␣␣␣␣␣␣␣␣␣␣␣␣␣␣␣␣␣␣␣␣␣␣␣␣␣␣␣␣␣␣␣␣␣␣␣␣␣␣␣␣␣␣␣␣␣␣␣␣␣␣␣␣␣␣␣␣␣␣␣␣␣␣␣␣␣␣␣␣␣␣␣␣␣␣␣␣␣␣␣␣␣␣␣␣␣␣␣␣␣␣␣␣␣␣␣␣␣␣␣␣␣␣␣␣␣␣␣␣␣␣␣␣␣␣␣␣␣␣␣␣␣␣␣␣␣␣␣␣␣␣␣␣␣␣␣␣␣␣␣␣␣␣␣␣␣␣␣␣␣␣␣␣␣␣␣␣␣␣␣␣␣␣␣␣␣␣␣␣␣␣␣␣␣␣␣␣␣␣␣␣␣␣␣␣␣␣␣␣␣␣␣␣␣␣␣␣␣␣␣␣␣␣␣␣␣␣␣␣␣␣␣␣␣␣␣␣␣␣␣␣␣␣␣␣␣␣␣␣␣␣␣␣␣␣␣␣␣␣␣␣␣␣␣␣␣␣␣␣␣␣␣␣␣␣␣␣␣␣␣␣␣␣␣␣␣␣␣␣␣␣␣␣␣␣␣␣␣␣␣␣␣␣␣␣␣␣␣␣␣␣␣␣␣␣␣␣␣␣␣␣␣␣␣␣␣␣␣␣␣␣␣␣␣␣␣␣␣␣␣␣␣␣␣␣␣␣␣␣␣␣␣␣␣␣␣␣␣␣␣␣␣␣␣␣␣␣␣␣␣␣␣␣␣␣␣␣␣␣␣␣␣␣␣␣␣␣␣␣␣␣␣␣␣␣␣␣␣␣␣␣␣␣␣␣␣␣␣␣␣␣␣␣␣␣␣␣␣␣␣␣␣␣␣␣␣␣␣␣␣␣␣␣␣␣␣␣␣␣␣␣␣␣␣␣␣␣␣␣␣␣␣␣␣␣␣␣␣␣␣␣␣␣␣␣␣␣␣␣␣␣␣␣␣␣␣␣␣␣␣␣␣␣␣␣␣␣␣␣␣␣␣␣␣␣␣␣␣␣␣␣␣␣␣␣␣␣␣␣␣␣␣␣␣␣␣␣␣␣␣␣␣␣␣␣␣␣␣␣␣␣␣␣␣␣␣␣␣␣␣␣␣␣␣␣␣␣␣␣␣␣␣␣␣␣␣␣␣␣␣␣␣␣␣␣␣␣\n"
          ]
        }
      ],
      "source": [
        "recipe_sequence_to_string(dataset_vectorized_padded[0])"
      ]
    },
    {
      "cell_type": "code",
      "execution_count": 42,
      "metadata": {
        "colab": {
          "base_uri": "https://localhost:8080/"
        },
        "id": "tVs7-1F_Y4iP",
        "outputId": "0449fcf3-820b-49fa-fa17-798a301d5c61"
      },
      "outputs": [
        {
          "output_type": "stream",
          "name": "stdout",
          "text": [
            "max_index_example:  175\n"
          ]
        }
      ],
      "source": [
        "max_index_example = np.max(dataset_vectorized_padded)\n",
        "\n",
        "print('max_index_example: ', max_index_example)"
      ]
    },
    {
      "cell_type": "markdown",
      "metadata": {
        "id": "B_PXSogAY6aR"
      },
      "source": [
        "# Create TensorFlow Dataset"
      ]
    },
    {
      "cell_type": "code",
      "execution_count": 43,
      "metadata": {
        "colab": {
          "base_uri": "https://localhost:8080/"
        },
        "id": "sr6Jri-5Y8IC",
        "outputId": "1c95fbfb-0d62-4f3e-9258-f68656b16335"
      },
      "outputs": [
        {
          "output_type": "stream",
          "name": "stdout",
          "text": [
            "<_TensorSliceDataset element_spec=TensorSpec(shape=(2001,), dtype=tf.int32, name=None)>\n"
          ]
        }
      ],
      "source": [
        "dataset = tf.data.Dataset.from_tensor_slices(dataset_vectorized_padded)\n",
        "\n",
        "print(dataset)"
      ]
    },
    {
      "cell_type": "code",
      "execution_count": 44,
      "metadata": {
        "colab": {
          "base_uri": "https://localhost:8080/"
        },
        "id": "JwxXLGpMY-c3",
        "outputId": "1adceb4f-e8b9-45a4-9ff7-a5dd8b23764d"
      },
      "outputs": [
        {
          "output_type": "stream",
          "name": "stdout",
          "text": [
            "Raw recipe:\n",
            " [ 51   1  33 ... 165 165 165] \n",
            "\n",
            "\n",
            "\n",
            "Stringified recipe:\n",
            "\n",
            "📗 Slow Cooker Chicken and Dumplings\n",
            "\n",
            "🥕\n",
            "\n",
            "• 4 skinless, boneless chicken breast halves \n",
            "• 2 tablespoons butter \n",
            "• 2 (10.75 ounce) cans condensed cream of chicken soup \n",
            "• 1 onion, finely diced \n",
            "• 2 (10 ounce) packages refrigerated biscuit dough, torn into pieces \n",
            "\n",
            "📝\n",
            "\n",
            "▪︎ Place the chicken, butter, soup, and onion in a slow cooker, and fill with enough water to cover.\n",
            "▪︎ Cover, and cook for 5 to 6 hours on High. About 30 minutes before serving, place the torn biscuit dough in the slow cooker. Cook until the dough is no longer raw in the center.\n",
            "␣␣␣␣␣␣␣␣␣␣␣␣␣␣␣␣␣␣␣␣␣␣␣␣␣␣␣␣␣␣␣␣␣␣␣␣␣␣␣␣␣␣␣␣␣␣␣␣␣␣␣␣␣␣␣␣␣␣␣␣␣␣␣␣␣␣␣␣␣␣␣␣␣␣␣␣␣␣␣␣␣␣␣␣␣␣␣␣␣␣␣␣␣␣␣␣␣␣␣␣␣␣␣␣␣␣␣␣␣␣␣␣␣␣␣␣␣␣␣␣␣␣␣␣␣␣␣␣␣␣␣␣␣␣␣␣␣␣␣␣␣␣␣␣␣␣␣␣␣␣␣␣␣␣␣␣␣␣␣␣␣␣␣␣␣␣␣␣␣␣␣␣␣␣␣␣␣␣␣␣␣␣␣␣␣␣␣␣␣␣␣␣␣␣␣␣␣␣␣␣␣␣␣␣␣␣␣␣␣␣␣␣␣␣␣␣␣␣␣␣␣␣␣␣␣␣␣␣␣␣␣␣␣␣␣␣␣␣␣␣␣␣␣␣␣␣␣␣␣␣␣␣␣␣␣␣␣␣␣␣␣␣␣␣␣␣␣␣␣␣␣␣␣␣␣␣␣␣␣␣␣␣␣␣␣␣␣␣␣␣␣␣␣␣␣␣␣␣␣␣␣␣␣␣␣␣␣␣␣␣␣␣␣␣␣␣␣␣␣␣␣␣␣␣␣␣␣␣␣␣␣␣␣␣␣␣␣␣␣␣␣␣␣␣␣␣␣␣␣␣␣␣␣␣␣␣␣␣␣␣␣␣␣␣␣␣␣␣␣␣␣␣␣␣␣␣␣␣␣␣␣␣␣␣␣␣␣␣␣␣␣␣␣␣␣␣␣␣␣␣␣␣␣␣␣␣␣␣␣␣␣␣␣␣␣␣␣␣␣␣␣␣␣␣␣␣␣␣␣␣␣␣␣␣␣␣␣␣␣␣␣␣␣␣␣␣␣␣␣␣␣␣␣␣␣␣␣␣␣␣␣␣␣␣␣␣␣␣␣␣␣␣␣␣␣␣␣␣␣␣␣␣␣␣␣␣␣␣␣␣␣␣␣␣␣␣␣␣␣␣␣␣␣␣␣␣␣␣␣␣␣␣␣␣␣␣␣␣␣␣␣␣␣␣␣␣␣␣␣␣␣␣␣␣␣␣␣␣␣␣␣␣␣␣␣␣␣␣␣␣␣␣␣␣␣␣␣␣␣␣␣␣␣␣␣␣␣␣␣␣␣␣␣␣␣␣␣␣␣␣␣␣␣␣␣␣␣␣␣␣␣␣␣␣␣␣␣␣␣␣␣␣␣␣␣␣␣␣␣␣␣␣␣␣␣␣␣␣␣␣␣␣␣␣␣␣␣␣␣␣␣␣␣␣␣␣␣␣␣␣␣␣␣␣␣␣␣␣␣␣␣␣␣␣␣␣␣␣␣␣␣␣␣␣␣␣␣␣␣␣␣␣␣␣␣␣␣␣␣␣␣␣␣␣␣␣␣␣␣␣␣␣␣␣␣␣␣␣␣␣␣␣␣␣␣␣␣␣␣␣␣␣␣␣␣␣␣␣␣␣␣␣␣␣␣␣␣␣␣␣␣␣␣␣␣␣␣␣␣␣␣␣␣␣␣␣␣␣␣␣␣␣␣␣␣␣␣␣␣␣␣␣␣␣␣␣␣␣␣␣␣␣␣␣␣␣␣␣␣␣␣␣␣␣␣␣␣␣␣␣␣␣␣␣␣␣␣␣␣␣␣␣␣␣␣␣␣␣␣␣␣␣␣␣␣␣␣␣␣␣␣␣␣␣␣␣␣␣␣␣␣␣␣␣␣␣␣␣␣␣␣␣␣␣␣␣␣␣␣␣␣␣␣␣␣␣␣␣␣␣␣␣␣␣␣␣␣␣␣␣␣␣␣␣␣␣␣␣␣␣␣␣␣␣␣␣␣␣␣␣␣␣␣␣␣␣␣␣␣␣␣␣␣␣␣␣␣␣␣␣␣␣␣␣␣␣␣␣␣␣␣␣␣␣␣␣␣␣␣␣␣␣␣␣␣␣␣␣␣␣␣␣␣␣␣␣␣␣␣␣␣␣␣␣␣␣␣␣␣␣␣␣␣␣␣␣␣␣␣␣␣␣␣␣␣␣␣␣␣␣␣␣␣␣␣␣␣␣␣␣␣␣␣␣␣␣␣␣␣␣␣␣␣␣␣␣␣␣␣␣␣␣␣␣␣␣␣␣␣␣␣␣␣␣␣␣␣␣␣␣␣␣␣␣␣␣␣␣␣␣␣␣␣␣␣␣␣␣␣␣␣␣␣␣␣␣␣␣␣␣␣␣␣␣␣␣␣␣␣␣␣␣␣␣␣␣␣␣␣␣␣␣␣␣␣␣␣␣␣␣␣␣␣␣␣␣␣␣␣␣␣␣␣␣␣␣␣␣␣␣␣␣␣␣␣␣␣␣␣␣␣␣␣␣␣␣␣␣␣␣␣␣␣␣␣␣␣␣␣␣␣␣␣␣␣␣␣␣␣␣␣␣␣␣␣␣␣␣␣␣␣␣␣␣␣␣␣␣␣␣␣␣␣␣␣␣␣␣␣␣␣␣␣␣␣␣␣␣␣␣␣␣␣␣␣␣␣␣␣␣␣␣␣␣␣␣␣␣␣␣␣␣␣␣␣␣␣␣␣␣␣␣␣␣␣␣␣␣␣␣␣␣␣␣␣␣␣␣␣␣␣␣␣␣␣␣␣␣␣␣␣␣␣␣␣␣␣␣␣␣␣␣␣␣␣␣␣␣␣␣␣␣␣␣␣␣␣␣␣␣␣␣␣␣␣␣␣␣␣␣␣␣␣␣␣␣␣␣␣␣␣␣␣␣␣␣␣␣␣␣␣␣␣␣␣␣␣␣␣␣␣␣␣␣␣␣␣␣␣␣␣␣␣␣␣␣␣␣␣␣␣␣␣␣␣␣␣␣␣␣␣␣␣␣␣␣␣␣␣␣␣␣␣␣␣␣␣␣␣␣␣␣␣␣␣␣␣␣␣␣␣␣␣␣␣␣␣␣␣␣␣␣␣␣␣␣␣␣␣␣␣␣␣␣␣␣␣␣␣␣␣␣␣␣␣␣␣␣␣␣␣␣␣␣␣␣␣␣␣␣␣␣␣␣␣␣␣␣␣␣␣␣␣␣␣␣␣␣␣␣␣␣␣␣␣\n"
          ]
        }
      ],
      "source": [
        "for recipe in dataset.take(1):\n",
        "    print('Raw recipe:\\n', recipe.numpy(), '\\n\\n\\n')\n",
        "    print('Stringified recipe:\\n')\n",
        "    recipe_sequence_to_string(recipe.numpy())"
      ]
    },
    {
      "cell_type": "markdown",
      "metadata": {
        "id": "oN8WWAY1ZAMu"
      },
      "source": [
        "## Split on `input` and `target`"
      ]
    },
    {
      "cell_type": "code",
      "execution_count": 45,
      "metadata": {
        "id": "WufFyAkDZIIi"
      },
      "outputs": [],
      "source": [
        "def split_input_target(recipe):\n",
        "    input_text = recipe[:-1]\n",
        "    target_text = recipe[1:]\n",
        "    \n",
        "    return input_text, target_text"
      ]
    },
    {
      "cell_type": "code",
      "execution_count": 46,
      "metadata": {
        "colab": {
          "base_uri": "https://localhost:8080/"
        },
        "id": "d3Te_C_yZKSk",
        "outputId": "20895ae0-8d32-4c18-af0a-ff901fd8a1a4"
      },
      "outputs": [
        {
          "output_type": "stream",
          "name": "stdout",
          "text": [
            "<_MapDataset element_spec=(TensorSpec(shape=(2000,), dtype=tf.int32, name=None), TensorSpec(shape=(2000,), dtype=tf.int32, name=None))>\n"
          ]
        }
      ],
      "source": [
        "dataset_targeted = dataset.map(split_input_target)\n",
        "\n",
        "print(dataset_targeted)"
      ]
    },
    {
      "cell_type": "code",
      "execution_count": 47,
      "metadata": {
        "colab": {
          "base_uri": "https://localhost:8080/"
        },
        "id": "5xiB0PEAZLxp",
        "outputId": "666659fb-3117-4f95-846d-f814ab061640"
      },
      "outputs": [
        {
          "output_type": "stream",
          "name": "stdout",
          "text": [
            "Input sequence size: 2000\n",
            "Target sequence size: 2000\n",
            "\n",
            "Input:   '📗   S l o w   C o o k e r   C h i c k e n   a n d   D u m p l i n g s \\n \\n 🥕 \\n \\n •   4   s k i n l e'\n",
            "Target:  '  S l o w   C o o k e r   C h i c k e n   a n d   D u m p l i n g s \\n \\n 🥕 \\n \\n •   4   s k i n l e s'\n"
          ]
        }
      ],
      "source": [
        "for input_example, target_example in dataset_targeted.take(1):\n",
        "    print('Input sequence size:', repr(len(input_example.numpy())))\n",
        "    print('Target sequence size:', repr(len(target_example.numpy())))\n",
        "    print()\n",
        "    \n",
        "    input_stringified = tokenizer.sequences_to_texts([input_example.numpy()[:50]])[0]\n",
        "    target_stringified = tokenizer.sequences_to_texts([target_example.numpy()[:50]])[0]\n",
        "    \n",
        "    print('Input:  ', repr(''.join(input_stringified)))\n",
        "    print('Target: ', repr(''.join(target_stringified)))"
      ]
    },
    {
      "cell_type": "code",
      "execution_count": 48,
      "metadata": {
        "colab": {
          "base_uri": "https://localhost:8080/"
        },
        "id": "f23J08Q4ZNQb",
        "outputId": "276d0a4b-1a1a-4a13-9746-5d400c961922"
      },
      "outputs": [
        {
          "output_type": "stream",
          "name": "stdout",
          "text": [
            "Step  1\n",
            "  input: 51 ('📗')\n",
            "  expected output: 1 (' ')\n",
            "Step  2\n",
            "  input: 1 (' ')\n",
            "  expected output: 33 ('S')\n",
            "Step  3\n",
            "  input: 33 ('S')\n",
            "  expected output: 10 ('l')\n",
            "Step  4\n",
            "  input: 10 ('l')\n",
            "  expected output: 5 ('o')\n",
            "Step  5\n",
            "  input: 5 ('o')\n",
            "  expected output: 23 ('w')\n",
            "Step  6\n",
            "  input: 23 ('w')\n",
            "  expected output: 1 (' ')\n",
            "Step  7\n",
            "  input: 1 (' ')\n",
            "  expected output: 35 ('C')\n",
            "Step  8\n",
            "  input: 35 ('C')\n",
            "  expected output: 5 ('o')\n",
            "Step  9\n",
            "  input: 5 ('o')\n",
            "  expected output: 5 ('o')\n",
            "Step 10\n",
            "  input: 5 ('o')\n",
            "  expected output: 25 ('k')\n"
          ]
        }
      ],
      "source": [
        "for i, (input_idx, target_idx) in enumerate(zip(input_example[:10], target_example[:10])):\n",
        "    print('Step {:2d}'.format(i + 1))\n",
        "    print('  input: {} ({:s})'.format(input_idx, repr(tokenizer.sequences_to_texts([[input_idx.numpy()]])[0])))\n",
        "    print('  expected output: {} ({:s})'.format(target_idx, repr(tokenizer.sequences_to_texts([[target_idx.numpy()]])[0])))"
      ]
    },
    {
      "cell_type": "code",
      "execution_count": 49,
      "metadata": {
        "colab": {
          "base_uri": "https://localhost:8080/"
        },
        "id": "i5tjIMnWZR6H",
        "outputId": "d32115c2-cbbc-43bc-bf34-5689167f9a9b"
      },
      "outputs": [
        {
          "output_type": "stream",
          "name": "stdout",
          "text": [
            "<_MapDataset element_spec=(TensorSpec(shape=(2000,), dtype=tf.int32, name=None), TensorSpec(shape=(2000,), dtype=tf.int32, name=None))>\n"
          ]
        }
      ],
      "source": [
        "print(dataset_targeted)"
      ]
    },
    {
      "cell_type": "code",
      "execution_count": 50,
      "metadata": {
        "colab": {
          "base_uri": "https://localhost:8080/"
        },
        "id": "_DMA4E9UZTaL",
        "outputId": "ce85c4d6-083f-424d-a878-e9321433c235"
      },
      "outputs": [
        {
          "output_type": "stream",
          "name": "stdout",
          "text": [
            "TOTAL_RECIPES_NUM:  100212\n",
            "MAX_RECIPE_LENGTH:  2000\n",
            "VOCABULARY_SIZE:  176\n"
          ]
        }
      ],
      "source": [
        "print('TOTAL_RECIPES_NUM: ', TOTAL_RECIPES_NUM)\n",
        "print('MAX_RECIPE_LENGTH: ', MAX_RECIPE_LENGTH)\n",
        "print('VOCABULARY_SIZE: ', VOCABULARY_SIZE)"
      ]
    },
    {
      "cell_type": "code",
      "execution_count": 51,
      "metadata": {
        "id": "oDvjZ2UtZUpJ"
      },
      "outputs": [],
      "source": [
        "# Batch size.\n",
        "BATCH_SIZE = 64\n",
        "\n",
        "# Buffer size to shuffle the dataset (TF data is designed to work\n",
        "# with possibly infinite sequences, so it doesn't attempt to shuffle\n",
        "# the entire sequence in memory. Instead, it maintains a buffer in\n",
        "# which it shuffles elements).\n",
        "SHUFFLE_BUFFER_SIZE = 1000"
      ]
    },
    {
      "cell_type": "code",
      "execution_count": 52,
      "metadata": {
        "id": "z_0KsxspZZDz"
      },
      "outputs": [],
      "source": [
        "dataset_train = dataset_targeted \\\n",
        "  .shuffle(SHUFFLE_BUFFER_SIZE) \\\n",
        "  .batch(BATCH_SIZE, drop_remainder=True) \\\n",
        "  .repeat()"
      ]
    },
    {
      "cell_type": "code",
      "execution_count": 53,
      "metadata": {
        "colab": {
          "base_uri": "https://localhost:8080/"
        },
        "id": "QcVk1gE4Zbfk",
        "outputId": "ad41883b-0462-4e7f-e387-0c1eb17ebe8b"
      },
      "outputs": [
        {
          "output_type": "stream",
          "name": "stdout",
          "text": [
            "1st batch: input_text: tf.Tensor(\n",
            "[[ 51   1  45 ... 165 165 165]\n",
            " [ 51   1  33 ... 165 165 165]\n",
            " [ 51   1  35 ... 165 165 165]\n",
            " ...\n",
            " [ 51   1  39 ... 165 165 165]\n",
            " [ 51   1  67 ... 165 165 165]\n",
            " [ 51   1  74 ... 165 165 165]], shape=(64, 2000), dtype=int32)\n",
            "\n",
            "1st batch: target_text: tf.Tensor(\n",
            "[[  1  45   3 ... 165 165 165]\n",
            " [  1  33  10 ... 165 165 165]\n",
            " [  1  35   7 ... 165 165 165]\n",
            " ...\n",
            " [  1  39   2 ... 165 165 165]\n",
            " [  1  67   3 ... 165 165 165]\n",
            " [  1  74   2 ... 165 165 165]], shape=(64, 2000), dtype=int32)\n"
          ]
        }
      ],
      "source": [
        "for input_text, target_text in dataset_train.take(1):\n",
        "    print('1st batch: input_text:', input_text)\n",
        "    print()\n",
        "    print('1st batch: target_text:', target_text)"
      ]
    },
    {
      "cell_type": "markdown",
      "metadata": {
        "id": "XBKEb8zYZc3j"
      },
      "source": [
        "# Build the Model"
      ]
    },
    {
      "cell_type": "code",
      "execution_count": 54,
      "metadata": {
        "colab": {
          "base_uri": "https://localhost:8080/"
        },
        "id": "hotOOopQZePa",
        "outputId": "811d912a-d1b9-498b-ef49-89f2647e4717"
      },
      "outputs": [
        {
          "output_type": "stream",
          "name": "stdout",
          "text": [
            "1/1 [==============================] - 0s 158ms/step\n",
            "tmp_input_array shape: (2, 8)\n",
            "tmp_input_array:\n",
            "[[9 3 7 4 0 6 0 6]\n",
            " [6 2 3 3 8 5 0 1]]\n",
            "\n",
            "tmp_output_array shape: (2, 8, 5)\n",
            "tmp_output_array:\n",
            "[[[ 0.04487786  0.00123985  0.01268131 -0.00512098  0.04871929]\n",
            "  [-0.00348756  0.00267069 -0.03571771 -0.02002213  0.01242647]\n",
            "  [-0.02812235  0.03606902 -0.03137628  0.02037949 -0.04724274]\n",
            "  [ 0.03063748 -0.01063158  0.01102097 -0.00337982 -0.03655183]\n",
            "  [ 0.03604147  0.02596675 -0.0214378   0.04927463 -0.0082485 ]\n",
            "  [ 0.03390102 -0.02025641 -0.03691541 -0.01311608 -0.00611541]\n",
            "  [ 0.03604147  0.02596675 -0.0214378   0.04927463 -0.0082485 ]\n",
            "  [ 0.03390102 -0.02025641 -0.03691541 -0.01311608 -0.00611541]]\n",
            "\n",
            " [[ 0.03390102 -0.02025641 -0.03691541 -0.01311608 -0.00611541]\n",
            "  [ 0.04699678  0.00085398  0.01878282  0.02273661 -0.04695289]\n",
            "  [-0.00348756  0.00267069 -0.03571771 -0.02002213  0.01242647]\n",
            "  [-0.00348756  0.00267069 -0.03571771 -0.02002213  0.01242647]\n",
            "  [ 0.03361643 -0.04459639 -0.00276121  0.01105531  0.01381824]\n",
            "  [-0.02458364  0.03590412 -0.02721491 -0.02847051  0.00808803]\n",
            "  [ 0.03604147  0.02596675 -0.0214378   0.04927463 -0.0082485 ]\n",
            "  [ 0.01652005  0.02343639 -0.03563645 -0.02327886  0.03543583]]]\n"
          ]
        }
      ],
      "source": [
        "# Let's do a quick detour and see how Embeding layer works.\n",
        "# It takes several char indices sequences (batch) as an input.\n",
        "# It encodes every character of every sequence to a vector of tmp_embeding_size length.\n",
        "tmp_vocab_size = 10\n",
        "tmp_embeding_size = 5\n",
        "tmp_input_length = 8\n",
        "tmp_batch_size = 2\n",
        "\n",
        "tmp_model = tf.keras.models.Sequential()\n",
        "tmp_model.add(tf.keras.layers.Embedding(\n",
        "  input_dim=tmp_vocab_size,\n",
        "  output_dim=tmp_embeding_size,\n",
        "  input_length=tmp_input_length\n",
        "))\n",
        "# The model will take as input an integer matrix of size (batch, input_length).\n",
        "# The largest integer (i.e. word index) in the input should be no larger than 9 (tmp_vocab_size).\n",
        "# Now model.output_shape == (None, 10, 64), where None is the batch dimension.\n",
        "tmp_input_array = np.random.randint(\n",
        "  low=0,\n",
        "  high=tmp_vocab_size,\n",
        "  size=(tmp_batch_size, tmp_input_length)\n",
        ")\n",
        "tmp_model.compile('rmsprop', 'mse')\n",
        "tmp_output_array = tmp_model.predict(tmp_input_array)\n",
        "\n",
        "print('tmp_input_array shape:', tmp_input_array.shape)\n",
        "print('tmp_input_array:')\n",
        "print(tmp_input_array)\n",
        "print()\n",
        "print('tmp_output_array shape:', tmp_output_array.shape)\n",
        "print('tmp_output_array:')\n",
        "print(tmp_output_array)"
      ]
    },
    {
      "cell_type": "code",
      "execution_count": 55,
      "metadata": {
        "id": "iHKXHg7-Zi6z"
      },
      "outputs": [],
      "source": [
        "# Length of the vocabulary in chars.\n",
        "vocab_size = VOCABULARY_SIZE\n",
        "\n",
        "# The embedding dimension.\n",
        "embedding_dim = 256\n",
        "\n",
        "# Number of RNN units.\n",
        "rnn_units = 1024"
      ]
    },
    {
      "cell_type": "code",
      "execution_count": 56,
      "metadata": {
        "id": "FFGnTUA7ZkOc"
      },
      "outputs": [],
      "source": [
        "def build_model_1(vocab_size, embedding_dim, rnn_units, batch_size):\n",
        "    model = tf.keras.models.Sequential()\n",
        "\n",
        "    model.add(tf.keras.layers.Embedding(\n",
        "        input_dim=vocab_size,\n",
        "        output_dim=embedding_dim,\n",
        "        batch_input_shape=[batch_size, None]\n",
        "    ))\n",
        "\n",
        "    model.add(tf.keras.layers.LSTM(\n",
        "        units=rnn_units,\n",
        "        return_sequences=True,\n",
        "        stateful=True,\n",
        "        recurrent_initializer=tf.keras.initializers.GlorotNormal()\n",
        "    ))\n",
        "\n",
        "    model.add(tf.keras.layers.Dense(vocab_size))\n",
        "    \n",
        "    return model"
      ]
    },
    {
      "cell_type": "code",
      "execution_count": 57,
      "metadata": {
        "colab": {
          "base_uri": "https://localhost:8080/"
        },
        "id": "ysRkozTAZlSy",
        "outputId": "406c70a8-df88-4a1a-b23b-658deaa5ef8d"
      },
      "outputs": [
        {
          "output_type": "stream",
          "name": "stdout",
          "text": [
            "Model: \"sequential_1\"\n",
            "_________________________________________________________________\n",
            " Layer (type)                Output Shape              Param #   \n",
            "=================================================================\n",
            " embedding_1 (Embedding)     (64, None, 256)           45056     \n",
            "                                                                 \n",
            " lstm (LSTM)                 (64, None, 1024)          5246976   \n",
            "                                                                 \n",
            " dense (Dense)               (64, None, 176)           180400    \n",
            "                                                                 \n",
            "=================================================================\n",
            "Total params: 5,472,432\n",
            "Trainable params: 5,472,432\n",
            "Non-trainable params: 0\n",
            "_________________________________________________________________\n"
          ]
        }
      ],
      "source": [
        "model_1 = build_model_1(vocab_size, embedding_dim, rnn_units, BATCH_SIZE)\n",
        "\n",
        "model_1.summary()"
      ]
    },
    {
      "cell_type": "code",
      "execution_count": 58,
      "metadata": {
        "colab": {
          "base_uri": "https://localhost:8080/",
          "height": 422
        },
        "id": "U1fCF8eiZmpE",
        "outputId": "698fbba2-f5b9-45a1-985c-b0b0da1183a5"
      },
      "outputs": [
        {
          "output_type": "execute_result",
          "data": {
            "image/png": "[encoded data removed]",
            "text/plain": [
              "<IPython.core.display.Image object>"
            ]
          },
          "metadata": {},
          "execution_count": 58
        }
      ],
      "source": [
        "tf.keras.utils.plot_model(\n",
        "    model_1,\n",
        "    show_shapes=True,\n",
        "    show_layer_names=True,\n",
        "    to_file='model_1.png'\n",
        ")"
      ]
    },
    {
      "cell_type": "markdown",
      "metadata": {
        "id": "QoTB7bsXZoRd"
      },
      "source": [
        "## Try the Model"
      ]
    },
    {
      "cell_type": "code",
      "execution_count": 59,
      "metadata": {
        "colab": {
          "base_uri": "https://localhost:8080/"
        },
        "id": "lV0L8ngeZpQK",
        "outputId": "9b5ec06a-549d-4ba8-d90c-cd9b59690685"
      },
      "outputs": [
        {
          "output_type": "stream",
          "name": "stdout",
          "text": [
            "(64, 2000, 176) # (batch_size, sequence_length, vocab_size)\n"
          ]
        }
      ],
      "source": [
        "for input_example_batch, target_example_batch in dataset_train.take(1):\n",
        "    example_batch_predictions = model_1(input_example_batch)\n",
        "    print(example_batch_predictions.shape, \"# (batch_size, sequence_length, vocab_size)\")"
      ]
    },
    {
      "cell_type": "code",
      "execution_count": 60,
      "metadata": {
        "colab": {
          "base_uri": "https://localhost:8080/"
        },
        "id": "oAJN7DNwZqrr",
        "outputId": "5c994ff4-ca72-4281-ebf4-fe11e09bc6e5"
      },
      "outputs": [
        {
          "output_type": "stream",
          "name": "stdout",
          "text": [
            "Prediction for the 1st letter of the batch 1st sequense:\n",
            "tf.Tensor(\n",
            "[ 3.2104010e-04  3.5056884e-03 -1.3794304e-03 -1.0984964e-03\n",
            " -1.0502193e-04 -2.9308840e-03 -4.9289213e-03 -1.6577144e-03\n",
            " -2.2637779e-03 -1.4711168e-04  7.3253945e-04  1.3634830e-03\n",
            "  1.0036462e-03 -1.4177319e-03 -2.3816554e-03 -9.9385297e-04\n",
            " -4.6829437e-03  2.1253675e-03 -3.0895372e-04  1.3116430e-03\n",
            " -6.4220297e-04 -7.8138401e-04  2.6985942e-03 -2.5266097e-03\n",
            "  3.5415529e-03 -2.4841276e-03  6.0993289e-03  4.9472344e-03\n",
            " -7.8416389e-04 -5.4844203e-03  3.3394871e-03 -4.1132905e-03\n",
            " -2.7888338e-04 -1.6165335e-03  1.4050760e-03  1.4127346e-03\n",
            " -2.9583086e-04  6.6030105e-03  6.9856487e-04 -2.6722155e-03\n",
            "  7.4324533e-03  1.0499005e-03  3.5901943e-03 -1.5732170e-03\n",
            "  3.2399790e-04  1.9924340e-03  3.7239159e-03  4.2053033e-03\n",
            " -2.8125526e-04 -4.4603655e-03  2.2724897e-03 -1.0287744e-03\n",
            " -2.7750852e-03 -3.2677231e-03  1.0075794e-03  1.6151811e-03\n",
            " -5.3812894e-03  2.4919289e-03  8.0349157e-03  3.1851133e-04\n",
            "  4.9736798e-03 -5.2229278e-03  1.0969458e-03  1.4544633e-03\n",
            " -2.3810484e-03 -6.7224288e-03  1.1205644e-03  3.5645542e-04\n",
            "  5.4133213e-03 -1.3260657e-03  8.4379764e-04  2.6249239e-04\n",
            "  7.9257169e-04  1.8774847e-03  1.1986600e-03 -1.4635641e-03\n",
            " -3.2049709e-04  2.9338556e-03 -5.6497962e-04 -8.6271501e-04\n",
            " -6.9666221e-03  4.2595160e-03  1.7724469e-03  7.9056411e-04\n",
            " -1.7240453e-03  4.0889904e-03 -1.3110845e-03 -2.2969502e-03\n",
            " -2.6210926e-03  3.6065507e-04 -1.9794262e-03 -7.4289046e-04\n",
            " -2.5065369e-03 -3.3826589e-05 -3.6897415e-03 -3.6149083e-03\n",
            " -9.7639579e-04  7.9116281e-03  6.4344467e-03  6.2918599e-04\n",
            " -2.4406412e-03 -8.0852173e-03 -3.0169843e-04 -6.3344068e-03\n",
            " -2.8719362e-03 -6.7893206e-04  2.2799549e-04  4.0300372e-03\n",
            " -3.6600239e-03  7.6123764e-04  2.4182917e-04 -4.9743224e-03\n",
            "  5.7424307e-03 -4.4936570e-03 -8.4069237e-04 -1.3890433e-03\n",
            " -2.1513558e-03 -1.9099606e-03 -1.6673949e-03 -1.2763275e-03\n",
            " -2.7529283e-03  2.6795507e-04 -1.6860873e-03 -7.9636968e-04\n",
            " -2.9730550e-03 -3.6747221e-04  1.2287587e-02 -4.7240630e-04\n",
            " -2.3567402e-03 -4.3687127e-03  1.2814834e-03 -2.8513296e-04\n",
            "  5.5229396e-04  1.0507141e-03 -3.0664753e-03 -2.2370885e-03\n",
            " -1.5165140e-03 -4.5645293e-03  1.5582062e-03  6.2121055e-03\n",
            " -4.8940268e-04 -6.9139777e-03 -3.2982987e-04 -3.3931967e-03\n",
            "  2.6803575e-03  2.7642148e-03 -3.3244602e-03  9.6257199e-03\n",
            "  3.1418242e-03 -7.3017675e-04  2.5900940e-03  1.1236900e-03\n",
            "  2.4645901e-03  2.4936635e-03  2.5980510e-03  1.5585105e-03\n",
            " -3.2033131e-03 -2.7465015e-03 -2.9379793e-04 -1.0243412e-03\n",
            "  4.4528577e-03 -9.1712445e-04  2.9719237e-03 -2.2967490e-03\n",
            " -2.5924441e-04  5.1012629e-04  2.2497869e-03  4.6409732e-03\n",
            " -5.9136297e-03 -1.9001231e-03 -7.8689615e-04 -3.9618965e-03\n",
            "  5.0094287e-04  3.0264335e-03  1.8543258e-03 -2.4866166e-03], shape=(176,), dtype=float32)\n"
          ]
        }
      ],
      "source": [
        "print('Prediction for the 1st letter of the batch 1st sequense:')\n",
        "print(example_batch_predictions[0, 0])"
      ]
    },
    {
      "cell_type": "code",
      "execution_count": 61,
      "metadata": {
        "colab": {
          "base_uri": "https://localhost:8080/"
        },
        "id": "CGHWarI5ZsSs",
        "outputId": "003c6c8c-174b-4cf7-83ff-2cf560000532"
      },
      "outputs": [
        {
          "output_type": "stream",
          "name": "stdout",
          "text": [
            "tf.Tensor([[2 1 0 1 2]], shape=(1, 5), dtype=int64)\n"
          ]
        }
      ],
      "source": [
        "# Quick overview of how tf.random.categorical() works.\n",
        "\n",
        "# logits is 2-D Tensor with shape [batch_size, num_classes].\n",
        "# Each slice [i, :] represents the unnormalized log-probabilities for all classes.\n",
        "# In the example below we say that the probability for class \"0\" is low but the\n",
        "# probability for class \"2\" is much higher.\n",
        "tmp_logits = [\n",
        "  [-0.95, 0, 0.95],\n",
        "];\n",
        "\n",
        "# Let's generate 5 samples. Each sample is a class index. Class probabilities \n",
        "# are being taken into account (we expect to see more samples of class \"2\").\n",
        "tmp_samples = tf.random.categorical(\n",
        "    logits=tmp_logits,\n",
        "    num_samples=5\n",
        ")\n",
        "\n",
        "print(tmp_samples)"
      ]
    },
    {
      "cell_type": "code",
      "execution_count": 62,
      "metadata": {
        "colab": {
          "base_uri": "https://localhost:8080/"
        },
        "id": "YCZEYtFqZtpP",
        "outputId": "1530262e-f029-4e0c-dcc1-d0020b17aa74"
      },
      "outputs": [
        {
          "output_type": "execute_result",
          "data": {
            "text/plain": [
              "TensorShape([2000, 1])"
            ]
          },
          "metadata": {},
          "execution_count": 62
        }
      ],
      "source": [
        "sampled_indices = tf.random.categorical(\n",
        "    logits=example_batch_predictions[0],\n",
        "    num_samples=1\n",
        ")\n",
        "\n",
        "sampled_indices.shape"
      ]
    },
    {
      "cell_type": "code",
      "execution_count": 63,
      "metadata": {
        "colab": {
          "base_uri": "https://localhost:8080/"
        },
        "id": "-DINu29DZu15",
        "outputId": "1d132ba2-6f88-4059-e2b0-14130b300222"
      },
      "outputs": [
        {
          "output_type": "execute_result",
          "data": {
            "text/plain": [
              "(2000,)"
            ]
          },
          "metadata": {},
          "execution_count": 63
        }
      ],
      "source": [
        "sampled_indices = tf.squeeze(\n",
        "    input=sampled_indices,\n",
        "    axis=-1\n",
        ").numpy()\n",
        "\n",
        "sampled_indices.shape"
      ]
    },
    {
      "cell_type": "code",
      "execution_count": 64,
      "metadata": {
        "colab": {
          "base_uri": "https://localhost:8080/"
        },
        "id": "xGm6WeGMZwXj",
        "outputId": "f6a40e0e-7f73-4a64-d149-d9971ad9b257"
      },
      "outputs": [
        {
          "output_type": "execute_result",
          "data": {
            "text/plain": [
              "array([ 62, 129, 174, 101, 119, 123,  93,  87, 164,  78,  34, 104,  20,\n",
              "        48, 171, 135, 126, 139,  96, 149,  98,   1,  85,  61,  31, 130,\n",
              "        86, 100, 173, 118, 149, 154,   4, 110, 115, 133, 131, 119, 151,\n",
              "        38,  36, 114,  96,  39,  87, 104,  43,  46, 101,  69,  68, 175,\n",
              "        46, 139, 109,  74,  68, 175, 152,  85,  91, 111, 173,  57, 153,\n",
              "       100,   4,  88,  30,  25, 170, 175, 138,  94, 159, 114,  42,  89,\n",
              "       162, 128,  90, 120, 161,  15, 170,  75,  35,  96, 161,  41,  75,\n",
              "       137,  30,  57, 168,  17, 170,  54,  44, 118])"
            ]
          },
          "metadata": {},
          "execution_count": 64
        }
      ],
      "source": [
        "sampled_indices[:100]"
      ]
    },
    {
      "cell_type": "code",
      "execution_count": 65,
      "metadata": {
        "colab": {
          "base_uri": "https://localhost:8080/"
        },
        "id": "M8qbpSgUZxxt",
        "outputId": "7fcf34bd-eb03-4e00-83f1-c27cfdf3d8d2"
      },
      "outputs": [
        {
          "output_type": "stream",
          "name": "stdout",
          "text": [
            "Input:\n",
            " '📗   C h e w y   S u g a r   C o o k i e s \\n \\n 🥕 \\n \\n •   2   3 / 4   c u p s   a l l - p u r p o s e'\n",
            "\n",
            "Next char prediction:\n",
            " '6 ù ~ ’ à ‚ ? % Â é 4 ¼ , F ̀ ô ⁄ ˚ ç ⅛ ½   – G ▪ ́ & = € ê ⅛ ë t ó ] { } à ﬂ x - û ç P % ¼ ) z ’ E'\n"
          ]
        }
      ],
      "source": [
        "print('Input:\\n', repr(''.join(tokenizer.sequences_to_texts([input_example_batch[0].numpy()[:50]]))))\n",
        "print()\n",
        "print('Next char prediction:\\n', repr(''.join(tokenizer.sequences_to_texts([sampled_indices[:50]]))))"
      ]
    },
    {
      "cell_type": "markdown",
      "metadata": {
        "id": "e0SMhKeOZ0ef"
      },
      "source": [
        "## Try the Model with Variable Input"
      ]
    },
    {
      "cell_type": "code",
      "execution_count": 66,
      "metadata": {
        "colab": {
          "base_uri": "https://localhost:8080/"
        },
        "id": "Yj-OdfHTZ3-Z",
        "outputId": "9678a6bf-6a17-4884-e7c5-2e06a404d4ce"
      },
      "outputs": [
        {
          "output_type": "stream",
          "name": "stdout",
          "text": [
            "Prediction shape:  (64, 10, 176) # (batch_size, sequence_length, vocab_size)\n",
            "\n",
            "Custom length input: \n",
            "[[0. 0. 0. 0. 0. 0. 0. 0. 0. 0.]\n",
            " [0. 0. 0. 0. 0. 0. 0. 0. 0. 0.]\n",
            " [0. 0. 0. 0. 0. 0. 0. 0. 0. 0.]\n",
            " [0. 0. 0. 0. 0. 0. 0. 0. 0. 0.]\n",
            " [0. 0. 0. 0. 0. 0. 0. 0. 0. 0.]\n",
            " [0. 0. 0. 0. 0. 0. 0. 0. 0. 0.]\n",
            " [0. 0. 0. 0. 0. 0. 0. 0. 0. 0.]\n",
            " [0. 0. 0. 0. 0. 0. 0. 0. 0. 0.]\n",
            " [0. 0. 0. 0. 0. 0. 0. 0. 0. 0.]\n",
            " [0. 0. 0. 0. 0. 0. 0. 0. 0. 0.]\n",
            " [0. 0. 0. 0. 0. 0. 0. 0. 0. 0.]\n",
            " [0. 0. 0. 0. 0. 0. 0. 0. 0. 0.]\n",
            " [0. 0. 0. 0. 0. 0. 0. 0. 0. 0.]\n",
            " [0. 0. 0. 0. 0. 0. 0. 0. 0. 0.]\n",
            " [0. 0. 0. 0. 0. 0. 0. 0. 0. 0.]\n",
            " [0. 0. 0. 0. 0. 0. 0. 0. 0. 0.]\n",
            " [0. 0. 0. 0. 0. 0. 0. 0. 0. 0.]\n",
            " [0. 0. 0. 0. 0. 0. 0. 0. 0. 0.]\n",
            " [0. 0. 0. 0. 0. 0. 0. 0. 0. 0.]\n",
            " [0. 0. 0. 0. 0. 0. 0. 0. 0. 0.]\n",
            " [0. 0. 0. 0. 0. 0. 0. 0. 0. 0.]\n",
            " [0. 0. 0. 0. 0. 0. 0. 0. 0. 0.]\n",
            " [0. 0. 0. 0. 0. 0. 0. 0. 0. 0.]\n",
            " [0. 0. 0. 0. 0. 0. 0. 0. 0. 0.]\n",
            " [0. 0. 0. 0. 0. 0. 0. 0. 0. 0.]\n",
            " [0. 0. 0. 0. 0. 0. 0. 0. 0. 0.]\n",
            " [0. 0. 0. 0. 0. 0. 0. 0. 0. 0.]\n",
            " [0. 0. 0. 0. 0. 0. 0. 0. 0. 0.]\n",
            " [0. 0. 0. 0. 0. 0. 0. 0. 0. 0.]\n",
            " [0. 0. 0. 0. 0. 0. 0. 0. 0. 0.]\n",
            " [0. 0. 0. 0. 0. 0. 0. 0. 0. 0.]\n",
            " [0. 0. 0. 0. 0. 0. 0. 0. 0. 0.]\n",
            " [0. 0. 0. 0. 0. 0. 0. 0. 0. 0.]\n",
            " [0. 0. 0. 0. 0. 0. 0. 0. 0. 0.]\n",
            " [0. 0. 0. 0. 0. 0. 0. 0. 0. 0.]\n",
            " [0. 0. 0. 0. 0. 0. 0. 0. 0. 0.]\n",
            " [0. 0. 0. 0. 0. 0. 0. 0. 0. 0.]\n",
            " [0. 0. 0. 0. 0. 0. 0. 0. 0. 0.]\n",
            " [0. 0. 0. 0. 0. 0. 0. 0. 0. 0.]\n",
            " [0. 0. 0. 0. 0. 0. 0. 0. 0. 0.]\n",
            " [0. 0. 0. 0. 0. 0. 0. 0. 0. 0.]\n",
            " [0. 0. 0. 0. 0. 0. 0. 0. 0. 0.]\n",
            " [0. 0. 0. 0. 0. 0. 0. 0. 0. 0.]\n",
            " [0. 0. 0. 0. 0. 0. 0. 0. 0. 0.]\n",
            " [0. 0. 0. 0. 0. 0. 0. 0. 0. 0.]\n",
            " [0. 0. 0. 0. 0. 0. 0. 0. 0. 0.]\n",
            " [0. 0. 0. 0. 0. 0. 0. 0. 0. 0.]\n",
            " [0. 0. 0. 0. 0. 0. 0. 0. 0. 0.]\n",
            " [0. 0. 0. 0. 0. 0. 0. 0. 0. 0.]\n",
            " [0. 0. 0. 0. 0. 0. 0. 0. 0. 0.]\n",
            " [0. 0. 0. 0. 0. 0. 0. 0. 0. 0.]\n",
            " [0. 0. 0. 0. 0. 0. 0. 0. 0. 0.]\n",
            " [0. 0. 0. 0. 0. 0. 0. 0. 0. 0.]\n",
            " [0. 0. 0. 0. 0. 0. 0. 0. 0. 0.]\n",
            " [0. 0. 0. 0. 0. 0. 0. 0. 0. 0.]\n",
            " [0. 0. 0. 0. 0. 0. 0. 0. 0. 0.]\n",
            " [0. 0. 0. 0. 0. 0. 0. 0. 0. 0.]\n",
            " [0. 0. 0. 0. 0. 0. 0. 0. 0. 0.]\n",
            " [0. 0. 0. 0. 0. 0. 0. 0. 0. 0.]\n",
            " [0. 0. 0. 0. 0. 0. 0. 0. 0. 0.]\n",
            " [0. 0. 0. 0. 0. 0. 0. 0. 0. 0.]\n",
            " [0. 0. 0. 0. 0. 0. 0. 0. 0. 0.]\n",
            " [0. 0. 0. 0. 0. 0. 0. 0. 0. 0.]\n",
            " [0. 0. 0. 0. 0. 0. 0. 0. 0. 0.]]\n"
          ]
        }
      ],
      "source": [
        "for input_example_batch_custom, target_example_batch_custom in dataset_train.take(1):\n",
        "    random_input = np.zeros(shape=(BATCH_SIZE, 10))\n",
        "    example_batch_predictions_custom = model_1(random_input)\n",
        "    print('Prediction shape: ', example_batch_predictions_custom.shape, \"# (batch_size, sequence_length, vocab_size)\\n\")\n",
        "    print('Custom length input: ')\n",
        "    print(random_input)"
      ]
    },
    {
      "cell_type": "markdown",
      "metadata": {
        "id": "d9hZNEZ8aEKU"
      },
      "source": [
        "# Train the Model"
      ]
    },
    {
      "cell_type": "markdown",
      "metadata": {
        "id": "93md5fi3aHfL"
      },
      "source": [
        "Attach an optimizer and a loss function"
      ]
    },
    {
      "cell_type": "code",
      "execution_count": 67,
      "metadata": {
        "colab": {
          "base_uri": "https://localhost:8080/"
        },
        "id": "Mvh6yq9_aFdj",
        "outputId": "74fd1ea4-e71d-4497-b4b4-c7dafec6bd6f"
      },
      "outputs": [
        {
          "output_type": "stream",
          "name": "stdout",
          "text": [
            "Prediction shape:  (64, 10, 176) # (batch_size, sequence_length, vocab_size)\n",
            "\n",
            "Custom length input: \n",
            "[[0. 0. 0. 0. 0. 0. 0. 0. 0. 0.]\n",
            " [0. 0. 0. 0. 0. 0. 0. 0. 0. 0.]\n",
            " [0. 0. 0. 0. 0. 0. 0. 0. 0. 0.]\n",
            " [0. 0. 0. 0. 0. 0. 0. 0. 0. 0.]\n",
            " [0. 0. 0. 0. 0. 0. 0. 0. 0. 0.]\n",
            " [0. 0. 0. 0. 0. 0. 0. 0. 0. 0.]\n",
            " [0. 0. 0. 0. 0. 0. 0. 0. 0. 0.]\n",
            " [0. 0. 0. 0. 0. 0. 0. 0. 0. 0.]\n",
            " [0. 0. 0. 0. 0. 0. 0. 0. 0. 0.]\n",
            " [0. 0. 0. 0. 0. 0. 0. 0. 0. 0.]\n",
            " [0. 0. 0. 0. 0. 0. 0. 0. 0. 0.]\n",
            " [0. 0. 0. 0. 0. 0. 0. 0. 0. 0.]\n",
            " [0. 0. 0. 0. 0. 0. 0. 0. 0. 0.]\n",
            " [0. 0. 0. 0. 0. 0. 0. 0. 0. 0.]\n",
            " [0. 0. 0. 0. 0. 0. 0. 0. 0. 0.]\n",
            " [0. 0. 0. 0. 0. 0. 0. 0. 0. 0.]\n",
            " [0. 0. 0. 0. 0. 0. 0. 0. 0. 0.]\n",
            " [0. 0. 0. 0. 0. 0. 0. 0. 0. 0.]\n",
            " [0. 0. 0. 0. 0. 0. 0. 0. 0. 0.]\n",
            " [0. 0. 0. 0. 0. 0. 0. 0. 0. 0.]\n",
            " [0. 0. 0. 0. 0. 0. 0. 0. 0. 0.]\n",
            " [0. 0. 0. 0. 0. 0. 0. 0. 0. 0.]\n",
            " [0. 0. 0. 0. 0. 0. 0. 0. 0. 0.]\n",
            " [0. 0. 0. 0. 0. 0. 0. 0. 0. 0.]\n",
            " [0. 0. 0. 0. 0. 0. 0. 0. 0. 0.]\n",
            " [0. 0. 0. 0. 0. 0. 0. 0. 0. 0.]\n",
            " [0. 0. 0. 0. 0. 0. 0. 0. 0. 0.]\n",
            " [0. 0. 0. 0. 0. 0. 0. 0. 0. 0.]\n",
            " [0. 0. 0. 0. 0. 0. 0. 0. 0. 0.]\n",
            " [0. 0. 0. 0. 0. 0. 0. 0. 0. 0.]\n",
            " [0. 0. 0. 0. 0. 0. 0. 0. 0. 0.]\n",
            " [0. 0. 0. 0. 0. 0. 0. 0. 0. 0.]\n",
            " [0. 0. 0. 0. 0. 0. 0. 0. 0. 0.]\n",
            " [0. 0. 0. 0. 0. 0. 0. 0. 0. 0.]\n",
            " [0. 0. 0. 0. 0. 0. 0. 0. 0. 0.]\n",
            " [0. 0. 0. 0. 0. 0. 0. 0. 0. 0.]\n",
            " [0. 0. 0. 0. 0. 0. 0. 0. 0. 0.]\n",
            " [0. 0. 0. 0. 0. 0. 0. 0. 0. 0.]\n",
            " [0. 0. 0. 0. 0. 0. 0. 0. 0. 0.]\n",
            " [0. 0. 0. 0. 0. 0. 0. 0. 0. 0.]\n",
            " [0. 0. 0. 0. 0. 0. 0. 0. 0. 0.]\n",
            " [0. 0. 0. 0. 0. 0. 0. 0. 0. 0.]\n",
            " [0. 0. 0. 0. 0. 0. 0. 0. 0. 0.]\n",
            " [0. 0. 0. 0. 0. 0. 0. 0. 0. 0.]\n",
            " [0. 0. 0. 0. 0. 0. 0. 0. 0. 0.]\n",
            " [0. 0. 0. 0. 0. 0. 0. 0. 0. 0.]\n",
            " [0. 0. 0. 0. 0. 0. 0. 0. 0. 0.]\n",
            " [0. 0. 0. 0. 0. 0. 0. 0. 0. 0.]\n",
            " [0. 0. 0. 0. 0. 0. 0. 0. 0. 0.]\n",
            " [0. 0. 0. 0. 0. 0. 0. 0. 0. 0.]\n",
            " [0. 0. 0. 0. 0. 0. 0. 0. 0. 0.]\n",
            " [0. 0. 0. 0. 0. 0. 0. 0. 0. 0.]\n",
            " [0. 0. 0. 0. 0. 0. 0. 0. 0. 0.]\n",
            " [0. 0. 0. 0. 0. 0. 0. 0. 0. 0.]\n",
            " [0. 0. 0. 0. 0. 0. 0. 0. 0. 0.]\n",
            " [0. 0. 0. 0. 0. 0. 0. 0. 0. 0.]\n",
            " [0. 0. 0. 0. 0. 0. 0. 0. 0. 0.]\n",
            " [0. 0. 0. 0. 0. 0. 0. 0. 0. 0.]\n",
            " [0. 0. 0. 0. 0. 0. 0. 0. 0. 0.]\n",
            " [0. 0. 0. 0. 0. 0. 0. 0. 0. 0.]\n",
            " [0. 0. 0. 0. 0. 0. 0. 0. 0. 0.]\n",
            " [0. 0. 0. 0. 0. 0. 0. 0. 0. 0.]\n",
            " [0. 0. 0. 0. 0. 0. 0. 0. 0. 0.]\n",
            " [0. 0. 0. 0. 0. 0. 0. 0. 0. 0.]]\n"
          ]
        }
      ],
      "source": [
        "for input_example_batch_custom, target_example_batch_custom in dataset_train.take(1):\n",
        "    random_input = np.zeros(shape=(BATCH_SIZE, 10))\n",
        "    example_batch_predictions_custom = model_1(random_input)\n",
        "    print('Prediction shape: ', example_batch_predictions_custom.shape, \"# (batch_size, sequence_length, vocab_size)\\n\")\n",
        "    print('Custom length input: ')\n",
        "    print(random_input)"
      ]
    },
    {
      "cell_type": "code",
      "execution_count": 80,
      "metadata": {
        "colab": {
          "base_uri": "https://localhost:8080/"
        },
        "id": "c4Hy5aSkaX9n",
        "outputId": "56229a5d-e005-48a1-a8d7-cf2fd1e764d1"
      },
      "outputs": [
        {
          "output_type": "stream",
          "name": "stdout",
          "text": [
            "Prediction shape:  (64, 2000, 176)  # (batch_size, sequence_length, vocab_size)\n",
            "scalar_loss.shape:       (64, 2000)\n",
            "scalar_loss:       5.16454\n"
          ]
        }
      ],
      "source": [
        "# An objective function.\n",
        "# The function is any callable with the signature scalar_loss = fn(y_true, y_pred).\n",
        "def loss(labels, logits):\n",
        "    entropy = tf.keras.losses.sparse_categorical_crossentropy(\n",
        "      y_true=labels,\n",
        "      y_pred=logits,\n",
        "      from_logits=True\n",
        "    )\n",
        "    \n",
        "    return entropy\n",
        "\n",
        "example_batch_loss = loss(target_example_batch, example_batch_predictions)\n",
        "\n",
        "print(\"Prediction shape: \", example_batch_predictions.shape, \" # (batch_size, sequence_length, vocab_size)\")\n",
        "print(\"scalar_loss.shape:      \", example_batch_loss.shape)\n",
        "print(\"scalar_loss:      \", example_batch_loss.numpy().mean())"
      ]
    },
    {
      "cell_type": "code",
      "execution_count": 81,
      "metadata": {
        "id": "5ZLrS7qpaJgv"
      },
      "outputs": [],
      "source": [
        "adam_optimizer = tf.keras.optimizers.Adam(learning_rate=0.001)\n",
        "\n",
        "model_1.compile(\n",
        "    optimizer=adam_optimizer,\n",
        "    loss=loss,\n",
        "    metrics=['accuracy']\n",
        ")"
      ]
    },
    {
      "cell_type": "markdown",
      "metadata": {
        "id": "61gFGTzoaajd"
      },
      "source": [
        "## Configure Checkpoints"
      ]
    },
    {
      "cell_type": "code",
      "execution_count": 82,
      "metadata": {
        "id": "EiJ1_tHsac7M"
      },
      "outputs": [],
      "source": [
        "# Directory where the checkpoints will be saved.\n",
        "checkpoint_dir = 'tmp/checkpoints'\n",
        "os.makedirs(checkpoint_dir, exist_ok=True)"
      ]
    },
    {
      "cell_type": "code",
      "execution_count": 83,
      "metadata": {
        "id": "0ujqmMSZagQM"
      },
      "outputs": [],
      "source": [
        "def download_latest_checkpoint(zip_only=True):\n",
        "    latest_checkpoint_path = tf.train.latest_checkpoint(checkpoint_dir)\n",
        "    latest_checkpoint_name = os.path.split(latest_checkpoint_path)[-1]\n",
        "    latest_checkpoint_zip_name = latest_checkpoint_name + '.zip'\n",
        "    \n",
        "    print('latest_checkpoint_path: ', latest_checkpoint_path)\n",
        "    print('latest_checkpoint_name: ', latest_checkpoint_name)\n",
        "    print('---\\n')\n",
        "\n",
        "    print('Checkpoint files:')\n",
        "    with zipfile.ZipFile(latest_checkpoint_zip_name, mode='w') as zip_obj:\n",
        "        for folder_name, subfolders, filenames in os.walk(checkpoint_dir):\n",
        "            for filename in filenames:\n",
        "                if filename.startswith(latest_checkpoint_name):\n",
        "                        print('  - ' + filename)\n",
        "                        file_path = os.path.join(folder_name, filename)\n",
        "                        zip_obj.write(file_path, os.path.basename(file_path))\n",
        "    print('---\\n')\n",
        "    print('Zipped to: ', latest_checkpoint_zip_name)\n",
        "\n",
        "    if not zip_only:\n",
        "        files.download(latest_checkpoint_zip_name)"
      ]
    },
    {
      "cell_type": "code",
      "execution_count": 84,
      "metadata": {
        "id": "7dvE5mtOaiQT"
      },
      "outputs": [],
      "source": [
        "def model_weights_from_latest_checkpoint(model):\n",
        "    latest_checkpoint_path = tf.train.latest_checkpoint(checkpoint_dir)\n",
        "\n",
        "    if not latest_checkpoint_path:\n",
        "        print('Latest checkpoint was not found. Using model as is.')\n",
        "        return model\n",
        "\n",
        "    print('latest_checkpoint_path: ', latest_checkpoint_path)\n",
        "\n",
        "    model.load_weights(latest_checkpoint_path)\n",
        "\n",
        "    return model"
      ]
    },
    {
      "cell_type": "code",
      "execution_count": 85,
      "metadata": {
        "id": "y1aWiPRTajv8"
      },
      "outputs": [],
      "source": [
        "def initial_epoch_from_latest_checkpoint():\n",
        "    latest_checkpoint_path = tf.train.latest_checkpoint(checkpoint_dir)\n",
        "\n",
        "    if not latest_checkpoint_path:\n",
        "        print('Latest checkpoint was not found. Starting from epoch #0')\n",
        "        return 0\n",
        "\n",
        "    print('latest_checkpoint_path: ', latest_checkpoint_path)\n",
        "\n",
        "    latest_checkpoint_name = os.path.split(latest_checkpoint_path)[-1]\n",
        "    print('latest_checkpoint_name: ', latest_checkpoint_name)\n",
        "\n",
        "    latest_checkpoint_num = latest_checkpoint_name.split('_')[-1]\n",
        "    print('latest_checkpoint_num: ', latest_checkpoint_num)\n",
        "\n",
        "    return int(latest_checkpoint_num)"
      ]
    },
    {
      "cell_type": "code",
      "execution_count": 86,
      "metadata": {
        "id": "83vlwzngakys"
      },
      "outputs": [],
      "source": [
        "def unzip_checkpoint(checkpoint_zip_path):\n",
        "    if not os.path.exists(checkpoint_zip_path):\n",
        "        print('Cannot find a specified file')\n",
        "        return\n",
        "\n",
        "    os.makedirs(checkpoint_dir, exist_ok=True)\n",
        "    with zipfile.ZipFile(checkpoint_zip_path, 'r') as zip_obj:\n",
        "        zip_obj.extractall(checkpoint_dir)\n",
        "\n",
        "    %ls -la ./tmp/checkpoints"
      ]
    },
    {
      "cell_type": "markdown",
      "metadata": {
        "id": "66iPKIPIc8d5"
      },
      "source": [
        "## Configuring Callbacks"
      ]
    },
    {
      "cell_type": "code",
      "execution_count": 87,
      "metadata": {
        "id": "w2ofqFdOanpJ"
      },
      "outputs": [],
      "source": [
        "early_stopping_callback = tf.keras.callbacks.EarlyStopping(\n",
        "    patience=5,\n",
        "    monitor='loss',\n",
        "    restore_best_weights=True,\n",
        "    verbose=1\n",
        ")"
      ]
    },
    {
      "cell_type": "code",
      "execution_count": 88,
      "metadata": {
        "id": "JdVOQS4daqMM"
      },
      "outputs": [],
      "source": [
        "checkpoint_prefix = os.path.join(checkpoint_dir, 'ckpt_{epoch}')\n",
        "checkpoint_callback=tf.keras.callbacks.ModelCheckpoint(\n",
        "    filepath=checkpoint_prefix,\n",
        "    save_weights_only=True\n",
        ")"
      ]
    },
    {
      "cell_type": "markdown",
      "metadata": {
        "id": "Dm814JWZarki"
      },
      "source": [
        "# Run the Training"
      ]
    },
    {
      "cell_type": "code",
      "execution_count": 89,
      "metadata": {
        "colab": {
          "base_uri": "https://localhost:8080/"
        },
        "id": "jJCd8i1kasvK",
        "outputId": "bab15e4d-ad24-4823-b955-dac9e76c84a5"
      },
      "outputs": [
        {
          "output_type": "stream",
          "name": "stdout",
          "text": [
            "Latest checkpoint was not found. Starting from epoch #0\n",
            "\n",
            "\n",
            "INITIAL_EPOCH:    0\n",
            "EPOCHS_DELTA:     10\n",
            "EPOCHS:           10\n",
            "STEPS_PER_EPOCH:  1500\n"
          ]
        }
      ],
      "source": [
        "INITIAL_EPOCH  = initial_epoch_from_latest_checkpoint()\n",
        "EPOCHS_DELTA = 10\n",
        "EPOCHS = INITIAL_EPOCH + EPOCHS_DELTA\n",
        "STEPS_PER_EPOCH = 1500\n",
        "\n",
        "print('\\n')\n",
        "print('INITIAL_EPOCH:   ', INITIAL_EPOCH)\n",
        "print('EPOCHS_DELTA:    ', EPOCHS_DELTA)\n",
        "print('EPOCHS:          ', EPOCHS)\n",
        "print('STEPS_PER_EPOCH: ', STEPS_PER_EPOCH)"
      ]
    },
    {
      "cell_type": "code",
      "source": [
        "# only initialize once\n",
        "# history_1 = {}"
      ],
      "metadata": {
        "id": "Wle3zCY53XmH"
      },
      "execution_count": 90,
      "outputs": []
    },
    {
      "cell_type": "code",
      "execution_count": 91,
      "metadata": {
        "colab": {
          "base_uri": "https://localhost:8080/"
        },
        "id": "fZmqRd7lavMa",
        "outputId": "b92aa131-e136-4ecc-e00a-cf5de5afc3b5",
        "cellView": "code"
      },
      "outputs": [
        {
          "output_type": "stream",
          "name": "stdout",
          "text": [
            "Epoch 1/10\n",
            "1500/1500 [==============================] - 220s 145ms/step - loss: 0.4156 - accuracy: 0.8761\n",
            "Epoch 2/10\n",
            "1500/1500 [==============================] - 214s 143ms/step - loss: 0.3069 - accuracy: 0.9049\n",
            "Epoch 3/10\n",
            "1500/1500 [==============================] - 215s 143ms/step - loss: 0.2819 - accuracy: 0.9119\n",
            "Epoch 4/10\n",
            "1500/1500 [==============================] - 215s 143ms/step - loss: 0.2688 - accuracy: 0.9155\n",
            "Epoch 5/10\n",
            "1500/1500 [==============================] - 214s 143ms/step - loss: 0.2606 - accuracy: 0.9179\n",
            "Epoch 6/10\n",
            "1500/1500 [==============================] - 214s 143ms/step - loss: 0.2541 - accuracy: 0.9197\n",
            "Epoch 7/10\n",
            "1500/1500 [==============================] - 214s 143ms/step - loss: 0.2493 - accuracy: 0.9211\n",
            "Epoch 8/10\n",
            "1500/1500 [==============================] - 214s 143ms/step - loss: 0.2455 - accuracy: 0.9222\n",
            "Epoch 9/10\n",
            "1500/1500 [==============================] - 214s 143ms/step - loss: 0.2423 - accuracy: 0.9231\n",
            "Epoch 10/10\n",
            "1500/1500 [==============================] - 214s 143ms/step - loss: 0.2399 - accuracy: 0.9238\n",
            "latest_checkpoint_path:  tmp/checkpoints/ckpt_10\n",
            "latest_checkpoint_name:  ckpt_10\n",
            "---\n",
            "\n",
            "Checkpoint files:\n",
            "  - ckpt_10.index\n",
            "  - ckpt_10.data-00000-of-00001\n",
            "---\n",
            "\n",
            "Zipped to:  ckpt_10.zip\n"
          ]
        }
      ],
      "source": [
        "#@title Default title text\n",
        "history_1[INITIAL_EPOCH] = model_1.fit(\n",
        "    x=dataset_train,\n",
        "    epochs=EPOCHS,\n",
        "    steps_per_epoch=STEPS_PER_EPOCH,\n",
        "    initial_epoch=INITIAL_EPOCH,\n",
        "    callbacks=[\n",
        "        checkpoint_callback,\n",
        "        early_stopping_callback\n",
        "    ]\n",
        ")\n",
        "\n",
        "model_name = 'recipe_generation_rnn_raw_' + str(INITIAL_EPOCH) + '.h5'\n",
        "model_1.save(model_name, save_format='h5')\n",
        "\n",
        "download_latest_checkpoint(zip_only=True)"
      ]
    },
    {
      "cell_type": "code",
      "execution_count": 92,
      "metadata": {
        "id": "yZyIh_aMa0MF",
        "colab": {
          "base_uri": "https://localhost:8080/"
        },
        "outputId": "332d3c21-b358-4899-b6aa-61f59d4709af"
      },
      "outputs": [
        {
          "output_type": "stream",
          "name": "stdout",
          "text": [
            "{0: <keras.callbacks.History object at 0x7f1eca279e20>}\n"
          ]
        }
      ],
      "source": [
        "print(history_1)"
      ]
    },
    {
      "cell_type": "markdown",
      "metadata": {
        "id": "Gxc9qzK2a2VI"
      },
      "source": [
        "### Visualize the Training Process"
      ]
    },
    {
      "cell_type": "code",
      "execution_count": 93,
      "metadata": {
        "id": "QIrjwhSJa44r"
      },
      "outputs": [],
      "source": [
        "def render_training_history(training_history):\n",
        "    if 'history' in training_history:\n",
        "        loss = training_history.history['loss']\n",
        "    else:\n",
        "        loss = []\n",
        "        for initial_epoch in training_history:\n",
        "            loss += training_history[initial_epoch].history['loss']\n",
        "\n",
        "    plt.title('Loss')\n",
        "    plt.xlabel('Epoch')\n",
        "    plt.ylabel('Loss')\n",
        "    plt.plot(loss, label='Training set')\n",
        "    plt.legend()\n",
        "    plt.grid(linestyle='--', linewidth=1, alpha=0.5)\n",
        "    plt.show()"
      ]
    },
    {
      "cell_type": "code",
      "execution_count": 94,
      "metadata": {
        "id": "RRxxVojya6JZ",
        "colab": {
          "base_uri": "https://localhost:8080/",
          "height": 472
        },
        "outputId": "17f0b240-0813-4b38-8917-974ae5ff7256"
      },
      "outputs": [
        {
          "output_type": "display_data",
          "data": {
            "text/plain": [
              "<Figure size 640x480 with 1 Axes>"
            ],
            "image/png": "[encoded data removed]"
          },
          "metadata": {}
        }
      ],
      "source": [
        "render_training_history(history_1)"
      ]
    },
    {
      "cell_type": "markdown",
      "metadata": {
        "id": "zV0_RrMKa8XG"
      },
      "source": [
        "# Generate Text"
      ]
    },
    {
      "cell_type": "code",
      "execution_count": 95,
      "metadata": {
        "id": "bo2bvmr_a90r"
      },
      "outputs": [],
      "source": [
        "simplified_batch_size = 1\n",
        "\n",
        "model_1_simplified = build_model_1(vocab_size, embedding_dim, rnn_units, simplified_batch_size)\n",
        "\n",
        "model_1_simplified.load_weights(tf.train.latest_checkpoint(checkpoint_dir))\n",
        "\n",
        "model_1_simplified.build(tf.TensorShape([simplified_batch_size, None]))"
      ]
    },
    {
      "cell_type": "code",
      "execution_count": 96,
      "metadata": {
        "id": "4zmXg8UabHje",
        "colab": {
          "base_uri": "https://localhost:8080/"
        },
        "outputId": "3d7a35bb-d3c3-421e-c8e8-85c90c43a024"
      },
      "outputs": [
        {
          "output_type": "stream",
          "name": "stdout",
          "text": [
            "Model: \"sequential_2\"\n",
            "_________________________________________________________________\n",
            " Layer (type)                Output Shape              Param #   \n",
            "=================================================================\n",
            " embedding_2 (Embedding)     (1, None, 256)            45056     \n",
            "                                                                 \n",
            " lstm_1 (LSTM)               (1, None, 1024)           5246976   \n",
            "                                                                 \n",
            " dense_1 (Dense)             (1, None, 176)            180400    \n",
            "                                                                 \n",
            "=================================================================\n",
            "Total params: 5,472,432\n",
            "Trainable params: 5,472,432\n",
            "Non-trainable params: 0\n",
            "_________________________________________________________________\n"
          ]
        }
      ],
      "source": [
        "model_1_simplified.summary()"
      ]
    },
    {
      "cell_type": "code",
      "execution_count": 97,
      "metadata": {
        "id": "Tb0Wkr1NbI5N",
        "colab": {
          "base_uri": "https://localhost:8080/"
        },
        "outputId": "7ffd902a-43f1-45fb-abdb-0fa43d607946"
      },
      "outputs": [
        {
          "output_type": "execute_result",
          "data": {
            "text/plain": [
              "(1, None)"
            ]
          },
          "metadata": {},
          "execution_count": 97
        }
      ],
      "source": [
        "model_1_simplified.input_shape"
      ]
    },
    {
      "cell_type": "code",
      "execution_count": 98,
      "metadata": {
        "id": "yANLQEesbKxJ"
      },
      "outputs": [],
      "source": [
        "# num_generate\n",
        "# - number of characters to generate.\n",
        "#\n",
        "# temperature\n",
        "# - Low temperatures results in more predictable text.\n",
        "# - Higher temperatures results in more surprising text.\n",
        "# - Experiment to find the best setting.\n",
        "def generate_text(model, start_string, num_generate = 1000, temperature=1.0):\n",
        "    # Evaluation step (generating text using the learned model)\n",
        "    \n",
        "    padded_start_string = STOP_WORD_TITLE + start_string\n",
        "\n",
        "    # Converting our start string to numbers (vectorizing).\n",
        "    input_indices = np.array(tokenizer.texts_to_sequences([padded_start_string]))\n",
        "\n",
        "    # Empty string to store our results.\n",
        "    text_generated = []\n",
        "\n",
        "    # Here batch size == 1.\n",
        "    model.reset_states()\n",
        "    for char_index in range(num_generate):\n",
        "        predictions = model(input_indices)\n",
        "        # remove the batch dimension\n",
        "        predictions = tf.squeeze(predictions, 0)\n",
        "\n",
        "        # Using a categorical distribution to predict the character returned by the model.\n",
        "        predictions = predictions / temperature\n",
        "        predicted_id = tf.random.categorical(\n",
        "            predictions,\n",
        "            num_samples=1\n",
        "        )[-1,0].numpy()\n",
        "\n",
        "        # We pass the predicted character as the next input to the model\n",
        "        # along with the previous hidden state.\n",
        "        input_indices = tf.expand_dims([predicted_id], 0)\n",
        "        \n",
        "        next_character = tokenizer.sequences_to_texts(input_indices.numpy())[0]\n",
        "\n",
        "        text_generated.append(next_character)\n",
        "\n",
        "    return (padded_start_string + ''.join(text_generated))"
      ]
    },
    {
      "cell_type": "code",
      "execution_count": 99,
      "metadata": {
        "id": "adOumv3fbMrS"
      },
      "outputs": [],
      "source": [
        "def generate_combinations(model):\n",
        "    recipe_length = 1000\n",
        "    try_letters = ['', '\\n', 'A', 'B', 'C', 'O', 'L', 'Mushroom', 'Apple', 'Slow', 'Christmass', 'The', 'Banana', 'Homemade']\n",
        "    try_temperature = [1.0, 0.8, 0.4, 0.2]\n",
        "\n",
        "    for letter in try_letters:\n",
        "        for temperature in try_temperature:\n",
        "            generated_text = generate_text(\n",
        "                model,\n",
        "                start_string=letter,\n",
        "                num_generate = recipe_length,\n",
        "                temperature=temperature\n",
        "            )\n",
        "            print(f'Attempt: \"{letter}\" + {temperature}')\n",
        "            print('-----------------------------------')\n",
        "            print(generated_text)\n",
        "            print('\\n\\n')\n"
      ]
    },
    {
      "cell_type": "code",
      "execution_count": 100,
      "metadata": {
        "id": "aEXl5KEjbOJQ",
        "colab": {
          "base_uri": "https://localhost:8080/"
        },
        "outputId": "93f63945-8a15-4dc3-90c0-e6ca5d498a5b"
      },
      "outputs": [
        {
          "output_type": "stream",
          "name": "stdout",
          "text": [
            "Attempt: \"\" + 1.0\n",
            "-----------------------------------\n",
            "📗 DOD MEG (Pureh Crud, Sliced Baby Arugula, Coconut Liver, Pepper, Monterey Jack cheese, hazelnut and cheese in a large, mortar), close to elight coating the mixture and top with remaining half and half.\n",
            "▪︎ Bake pretzel for 2-3 minutes or until set. Serve immediately.\n",
            "␣␣␣␣␣␣␣␣␣␣␣␣␣␣␣␣␣␣␣␣␣␣␣␣␣␣␣␣␣␣␣␣␣␣␣␣␣␣␣␣␣␣␣␣␣␣␣␣␣␣␣␣␣␣␣␣␣␣␣␣␣␣␣␣␣␣␣␣␣␣␣␣␣␣␣␣␣␣␣␣␣␣␣␣␣␣␣␣␣␣␣␣␣␣␣␣␣␣␣␣␣␣␣␣␣␣␣␣␣␣␣␣␣␣␣␣␣␣␣␣␣␣␣␣␣␣␣␣␣␣␣␣␣␣␣␣␣␣␣␣␣␣␣␣␣␣␣␣␣␣␣␣␣␣␣␣␣␣␣␣␣␣␣␣␣␣␣␣␣␣␣␣␣␣␣␣␣␣␣␣␣␣␣␣␣␣␣␣␣␣␣␣␣␣␣␣␣␣␣␣␣␣␣␣␣␣␣␣␣␣␣␣␣␣␣␣␣␣␣␣␣␣␣␣␣␣␣␣␣␣␣␣␣␣␣␣␣␣␣␣␣␣␣␣␣␣␣␣␣␣␣␣␣␣␣␣␣␣␣␣␣␣␣␣␣␣␣␣␣␣␣␣␣␣␣␣␣␣␣␣␣␣␣␣␣␣␣␣␣␣␣␣␣␣␣␣␣␣␣␣␣␣␣␣␣␣␣␣␣␣␣␣␣␣␣␣␣␣␣␣␣␣␣␣␣␣␣␣␣␣␣␣␣␣␣␣␣␣␣␣␣␣␣␣␣␣␣␣␣␣␣␣␣␣␣␣␣␣␣␣␣␣␣␣␣␣␣␣␣␣␣␣␣␣␣␣␣␣␣␣␣␣␣␣␣␣␣␣␣␣␣␣␣␣␣␣␣␣␣␣␣␣␣␣␣␣␣␣␣␣␣␣␣␣␣␣␣␣␣␣␣␣␣␣␣␣␣␣␣␣␣␣␣␣␣␣␣␣␣␣␣␣␣␣␣␣␣␣␣␣␣␣␣␣␣␣␣␣␣␣␣␣␣␣␣␣␣␣␣␣␣␣␣␣␣␣␣␣␣␣␣␣␣␣␣␣␣␣␣␣␣␣␣␣␣␣␣␣␣␣␣␣␣␣␣␣␣␣␣␣␣␣␣␣␣␣␣␣␣␣␣␣␣␣␣␣␣␣␣␣␣␣␣␣␣␣␣␣␣␣␣␣␣␣␣␣␣␣␣␣␣␣␣␣␣␣␣␣␣␣␣␣␣␣␣␣␣␣␣␣␣␣␣␣␣␣␣␣␣␣␣␣␣␣␣␣␣␣␣␣␣␣␣␣␣␣␣␣␣␣␣␣␣␣␣␣␣␣␣␣␣␣␣␣␣␣␣␣␣␣␣␣␣␣␣␣␣␣␣␣␣␣␣␣␣␣␣␣␣␣␣␣␣␣␣␣␣␣␣␣␣␣␣␣␣␣␣␣␣␣␣␣␣␣␣␣␣␣␣␣␣␣␣␣␣␣␣␣␣␣␣␣␣␣␣␣␣␣␣␣␣␣␣␣␣␣␣␣␣␣␣␣␣␣␣␣␣␣␣␣␣␣␣␣␣␣␣␣␣␣␣␣␣␣␣␣␣␣␣␣␣␣␣\n",
            "\n",
            "\n",
            "\n",
            "Attempt: \"\" + 0.8\n",
            "-----------------------------------\n",
            "📗 Susuan panko breads along fruit\n",
            "\n",
            "📝\n",
            "\n",
            "▪︎ Season all of the apples and lemon wedges with salt and pepper. Saute the baked ball of garlic in butter over medium heat until crusty, 1 to 2 minutes. Remove from heat and season with salt and pepper.\n",
            "▪︎ Divide the macaroni with the bacon and chill the sauce and peel. Add the goat cheese and stir well.\n",
            "▪︎ Divide chili onto 4 plates. Cut into slices about 1 cup. Dip with tomatoes and garnish with remaining 1/2 cup cheese and divide among bowls.\n",
            "␣␣␣␣␣␣␣␣␣␣␣␣␣␣␣␣␣␣␣␣␣␣␣␣␣␣␣␣␣␣␣␣␣␣␣␣␣␣␣␣␣␣␣␣␣␣␣␣␣␣␣␣␣␣␣␣␣␣␣␣␣␣␣␣␣␣␣␣␣␣␣␣␣␣␣␣␣␣␣␣␣␣␣␣␣␣␣␣␣␣␣␣␣␣␣␣␣␣␣␣␣␣␣␣␣␣␣␣␣␣␣␣␣␣␣␣␣␣␣␣␣␣␣␣␣␣␣␣␣␣␣␣␣␣␣␣␣␣␣␣␣␣␣␣␣␣␣␣␣␣␣␣␣␣␣␣␣␣␣␣␣␣␣␣␣␣␣␣␣␣␣␣␣␣␣␣␣␣␣␣␣␣␣␣␣␣␣␣␣␣␣␣␣␣␣␣␣␣␣␣␣␣␣␣␣␣␣␣␣␣␣␣␣␣␣␣␣␣␣␣␣␣␣␣␣␣␣␣␣␣␣␣␣␣␣␣␣␣␣␣␣␣␣␣␣␣␣␣␣␣␣␣␣␣␣␣␣␣␣␣␣␣␣␣␣␣␣␣␣␣␣␣␣␣␣␣␣␣␣␣␣␣␣␣␣␣␣␣␣␣␣␣␣␣␣␣␣␣␣␣␣␣␣␣␣␣␣␣␣␣␣␣␣␣␣␣␣␣␣␣␣␣␣␣␣␣␣␣␣␣␣␣␣␣␣␣␣␣␣␣␣␣␣␣␣␣␣␣␣␣␣␣␣␣␣␣␣␣␣␣␣␣␣␣␣␣␣␣␣␣␣␣␣␣␣␣␣␣␣␣␣␣␣␣␣␣␣␣␣␣␣␣␣␣␣␣␣␣␣␣␣␣␣␣␣␣␣␣␣␣␣␣␣␣␣␣␣␣␣␣␣␣␣␣␣␣␣␣␣␣␣␣␣␣␣␣␣␣␣␣␣␣␣␣␣␣␣␣␣␣␣␣␣␣␣␣␣␣␣␣␣␣␣␣␣␣␣␣␣␣␣␣␣␣␣␣␣␣␣␣␣␣␣␣␣␣␣␣␣␣␣␣␣␣␣␣␣␣␣␣␣␣␣␣␣␣␣␣␣␣␣␣\n",
            "\n",
            "\n",
            "\n",
            "Attempt: \"\" + 0.4\n",
            "-----------------------------------\n",
            "📗 8®-N®9•&&&&$®␣©©®J▪©û©︎à▪$︎␣␣␣␣␣␣␣␣␣␣␣␣␣␣␣␣␣␣␣␣␣␣␣␣␣␣␣␣␣␣␣␣␣␣␣␣␣␣␣␣␣␣␣␣␣␣␣␣␣␣␣␣␣␣␣␣␣␣␣␣␣␣␣␣␣␣␣␣␣␣␣␣␣␣␣␣␣␣␣␣␣␣␣␣␣␣␣␣␣␣␣␣␣␣␣␣␣␣␣␣␣␣␣␣␣␣␣␣␣␣␣␣␣␣␣␣␣␣␣␣␣␣␣␣␣␣␣␣␣␣␣␣␣␣␣␣␣␣␣␣␣␣␣␣␣␣␣␣␣␣␣␣␣␣␣␣␣␣␣␣␣␣␣␣␣␣␣␣␣␣␣␣␣␣␣␣␣␣␣␣␣␣␣␣␣␣␣␣␣␣␣␣␣␣␣␣␣␣␣␣␣␣␣␣␣␣␣␣␣␣␣␣␣␣␣␣␣␣␣␣␣␣␣␣␣␣␣␣␣␣␣␣␣␣␣␣␣␣␣␣␣␣␣␣␣␣␣␣␣␣␣␣␣␣␣␣␣␣␣␣␣␣␣␣␣␣␣␣␣␣␣␣␣␣␣␣␣␣␣␣␣␣␣␣␣␣␣␣␣␣␣␣␣␣␣␣␣␣␣␣␣␣␣␣␣␣␣␣␣␣␣␣␣␣␣␣␣␣␣␣␣␣␣␣␣␣␣␣␣␣␣␣␣␣␣␣␣␣␣␣␣␣␣␣␣␣␣␣␣␣␣␣␣␣␣␣␣␣␣␣␣␣␣␣␣␣␣␣␣␣␣␣␣␣␣␣␣␣␣␣␣␣␣␣␣␣␣␣␣␣␣␣␣␣␣␣␣␣␣␣␣␣␣␣␣␣␣␣␣␣␣␣␣␣␣␣␣␣␣␣␣␣␣␣␣␣␣␣␣␣␣␣␣␣␣␣␣␣␣␣␣␣␣␣␣␣␣␣␣␣␣␣␣␣␣␣␣␣␣␣␣␣␣␣␣␣␣␣␣␣␣␣␣␣␣␣␣␣␣␣␣␣␣␣␣␣␣␣␣␣␣␣␣␣␣␣␣␣␣␣␣␣␣␣␣␣␣␣␣␣␣␣␣␣␣␣␣␣␣␣␣␣␣␣␣␣␣␣␣␣␣␣␣␣␣␣␣␣␣␣␣␣␣␣␣␣␣␣␣␣␣␣␣␣␣␣␣␣␣␣␣␣␣␣␣␣␣␣␣␣␣␣␣␣␣␣␣␣␣␣␣␣␣␣␣␣␣␣␣␣␣␣␣␣␣␣␣␣␣␣␣␣␣␣␣␣␣␣␣␣␣␣␣␣␣␣␣␣␣␣␣␣␣␣␣␣␣␣␣␣␣␣␣␣␣␣␣␣␣␣␣␣␣␣␣␣␣␣␣␣␣␣␣␣␣␣␣␣␣␣␣␣␣␣␣␣␣␣␣␣␣␣␣␣␣␣␣␣␣␣␣␣␣␣␣␣␣␣␣␣␣␣␣␣␣␣␣␣␣␣␣␣␣␣␣␣␣␣␣␣␣␣␣␣␣␣␣␣␣␣␣␣␣␣␣␣␣␣␣␣␣␣␣␣␣␣␣␣␣␣␣␣␣␣␣␣␣␣␣␣␣␣␣␣␣␣␣␣␣␣␣␣␣␣␣␣␣␣␣␣␣␣␣␣␣␣␣␣␣␣␣␣␣␣␣␣␣␣␣␣␣␣␣␣␣␣␣␣␣␣␣␣␣␣␣␣␣␣␣␣␣␣␣␣␣␣␣␣␣␣␣␣␣␣␣␣␣␣␣␣␣␣␣␣␣␣␣␣␣␣␣␣␣␣␣␣␣␣␣␣␣␣␣␣␣␣␣␣␣␣␣␣␣␣␣␣␣␣␣␣␣␣␣␣␣␣␣␣␣␣␣␣␣␣␣␣␣␣␣␣␣␣␣␣␣␣␣␣␣␣␣␣␣␣␣␣␣␣␣␣␣␣␣␣␣␣␣␣␣␣␣␣␣␣␣␣␣␣␣␣␣␣␣␣␣␣␣␣␣␣␣␣␣␣␣␣␣␣␣␣␣␣␣␣␣␣␣␣␣␣␣␣␣␣␣␣␣␣␣␣␣␣␣\n",
            "\n",
            "\n",
            "\n",
            "Attempt: \"\" + 0.2\n",
            "-----------------------------------\n",
            "📗 (233-989C)0&cb&-NE%\n",
            "␣␣␣␣␣␣␣␣␣␣␣␣␣␣␣␣␣␣␣␣␣␣␣␣␣␣␣␣␣␣␣␣␣␣␣␣␣␣␣␣␣␣␣␣␣␣␣␣␣␣␣␣␣␣␣␣␣␣␣␣␣␣␣␣␣␣␣␣␣␣␣␣␣␣␣␣␣␣␣␣␣␣␣␣␣␣␣␣␣␣␣␣␣␣␣␣␣␣␣␣␣␣␣␣␣␣␣␣␣␣␣␣␣␣␣␣␣␣␣␣␣␣␣␣␣␣␣␣␣␣␣␣␣␣␣␣␣␣␣␣␣␣␣␣␣␣␣␣␣␣␣␣␣␣␣␣␣␣␣␣␣␣␣␣␣␣␣␣␣␣␣␣␣␣␣␣␣␣␣␣␣␣␣␣␣␣␣␣␣␣␣␣␣␣␣␣␣␣␣␣␣␣␣␣␣␣␣␣␣␣␣␣␣␣␣␣␣␣␣␣␣␣␣␣␣␣␣␣␣␣␣␣␣␣␣␣␣␣␣␣␣␣␣␣␣␣␣␣␣␣␣␣␣␣␣␣␣␣␣␣␣␣␣␣␣␣␣␣␣␣␣␣␣␣␣␣␣␣␣␣␣␣␣␣␣␣␣␣␣␣␣␣␣␣␣␣␣␣␣␣␣␣␣␣␣␣␣␣␣␣␣␣␣␣␣␣␣␣␣␣␣␣␣␣␣␣␣␣␣␣␣␣␣␣␣␣␣␣␣␣␣␣␣␣␣␣␣␣␣␣␣␣␣␣␣␣␣␣␣␣␣␣␣␣␣␣␣␣␣␣␣␣␣␣␣␣␣␣␣␣␣␣␣␣␣␣␣␣␣␣␣␣␣␣␣␣␣␣␣␣␣␣␣␣␣␣␣␣␣␣␣␣␣␣␣␣␣␣␣␣␣␣␣␣␣␣␣␣␣␣␣␣␣␣␣␣␣␣␣␣␣␣␣␣␣␣␣␣␣␣␣␣␣␣␣␣␣␣␣␣␣␣␣␣␣␣␣␣␣␣␣␣␣␣␣␣␣␣␣␣␣␣␣␣␣␣␣␣␣␣␣␣␣␣␣␣␣␣␣␣␣␣␣␣␣␣␣␣␣␣␣␣␣␣␣␣␣␣␣␣␣␣␣␣␣␣␣␣␣␣␣␣␣␣␣␣␣␣␣␣␣␣␣␣␣␣␣␣␣␣␣␣␣␣␣␣␣␣␣␣␣␣␣␣␣␣␣␣␣␣␣␣␣␣␣␣␣␣␣␣␣␣␣␣␣␣␣␣␣␣␣␣␣␣␣␣␣␣␣␣␣␣␣␣␣␣␣␣␣␣␣␣␣␣␣␣␣␣␣␣␣␣␣␣␣␣␣␣␣␣␣␣␣␣␣␣␣␣␣␣␣␣␣␣␣␣␣␣␣␣␣␣␣␣␣␣␣␣␣␣␣␣␣␣␣␣␣␣␣␣␣␣␣␣␣␣␣␣␣␣␣␣␣␣␣␣␣␣␣␣␣␣␣␣␣␣␣␣␣␣␣␣␣␣␣␣␣␣␣␣␣␣␣␣␣␣␣␣␣␣␣␣␣␣␣␣␣␣␣␣␣␣␣␣␣␣␣␣␣␣␣␣␣␣␣␣␣␣␣␣␣␣␣␣␣␣␣␣␣␣␣␣␣␣␣␣␣␣␣␣␣␣␣␣␣␣␣␣␣␣␣␣␣␣␣␣␣␣␣␣␣␣␣␣␣␣␣␣␣␣␣␣␣␣␣␣␣␣␣␣␣␣␣␣␣␣␣␣␣␣␣␣␣␣␣␣␣␣␣␣␣␣␣␣␣␣␣␣␣␣␣␣␣␣␣␣␣␣␣␣␣␣␣␣␣␣␣␣␣␣␣␣␣␣␣␣␣␣␣␣␣␣␣␣␣␣␣␣␣␣␣␣␣␣␣␣␣␣␣␣␣␣␣␣␣␣␣␣␣␣␣␣␣␣␣␣␣␣␣␣␣␣␣␣␣␣␣␣␣␣␣␣␣␣␣␣␣␣␣␣␣␣␣␣␣␣␣␣␣␣␣␣␣␣␣␣␣␣␣␣␣␣␣␣␣␣␣␣␣␣␣␣␣␣␣␣␣␣␣␣␣␣␣␣␣␣␣␣␣␣\n",
            "\n",
            "\n",
            "\n",
            "Attempt: \"\n",
            "\" + 1.0\n",
            "-----------------------------------\n",
            "📗 \n",
            "• Flour, for coating pan\n",
            "• 1 egg yolk\n",
            "• 4 eggs\n",
            "• 2 cups all-purpose flour\n",
            "• 4 eggs, beer\n",
            "• 1 ounce cream cheese at room temperature\n",
            "\n",
            "📝\n",
            "\n",
            "▪︎ Preheat oven to 350 degrees.\n",
            "▪︎ Pour 1 1/2 cups warm water into the bottom of 13 x 9 x 2-inch pan. Drizzle sauce over pineapple, lower heat to make another 3 pancakes. Combine banana mix and the freshly ground nutmeg. Remove cheesecakes from pan and lay the tortillas putting in pan and place from one more bath on top. Place on greased baking sheet. Bake 15-15 min. or until golden and soupy. Remove from the oven and let sit for 10 minutes. Cut the noodles in half. Allow to cool 5 minutes.\n",
            "▪︎ Pickly pick into cheesecloth into each of 6 heavy baking dishes and drizzle with some of warm water or rum and return it to a buttered 9-by-13-inch baking dish. Pour remaining butter over it, add strawberries, frozen batter about 1 1/2 inches apart. Bake for 30 minutes for 3 to 4 months. Cool in oven of for 1 hour and a fine blender runsing to a spoon. Add back t\n",
            "\n",
            "\n",
            "\n",
            "Attempt: \"\n",
            "\" + 0.8\n",
            "-----------------------------------\n",
            "📗 \n",
            "• 32 1/2 cups cornmeal\n",
            "• 4 cups unbleached flour\n",
            "• Special equipment: 2 (10-ounce) packages of diced pies\n",
            "\n",
            "📝\n",
            "\n",
            "▪︎ Preheat the oven to 400 degrees F.\n",
            "▪︎ Unroll the pizza dough or freezer sheet and brush with the egg white. Sprinkle with sugar and cover. Bake for 30 minutes, or until golden brown.\n",
            "▪︎ While the eggs are still warm, while the fruit is at room temperature: Butter handle a drizzle salmon fillet. Whisk together the egg yolk, grated peeled cherry baguette with the lemon juice, pinch of salt and pepper.\n",
            "▪︎ Drop the dough ball into the pan and cook the beets until golden brown. Drain on paper towels and top with seasoned crackers.\n",
            "␣␣␣␣␣␣␣␣␣␣␣␣␣␣␣␣␣␣␣␣␣␣␣␣␣␣␣␣␣␣␣␣␣␣␣␣␣␣␣␣␣␣␣␣␣␣␣␣␣␣␣␣␣␣␣␣␣␣␣␣␣␣␣␣␣␣␣␣␣␣␣␣␣␣␣␣␣␣␣␣␣␣␣␣␣␣␣␣␣␣␣␣␣␣␣␣␣␣␣␣␣␣␣␣␣␣␣␣␣␣␣␣␣␣␣␣␣␣␣␣␣␣␣␣␣␣␣␣␣␣␣␣␣␣␣␣␣␣␣␣␣␣␣␣␣␣␣␣␣␣␣␣␣␣␣␣␣␣␣␣␣␣␣␣␣␣␣␣␣␣␣␣␣␣␣␣␣␣␣␣␣␣␣␣␣␣␣␣␣␣␣␣␣␣␣␣␣␣␣␣␣␣␣␣␣␣␣␣␣␣␣␣␣␣␣␣␣␣␣␣␣␣␣␣␣␣␣␣␣␣␣␣␣␣␣␣␣␣␣␣␣␣␣␣␣␣␣␣␣␣␣␣␣␣␣␣␣␣␣␣␣␣␣␣␣␣␣␣␣␣␣␣␣␣␣␣␣␣␣␣␣␣␣␣␣␣␣␣␣␣␣␣␣␣␣␣␣␣␣␣␣␣␣␣␣␣␣␣␣␣␣␣␣␣␣␣␣␣␣␣␣␣␣␣␣␣␣␣␣␣␣␣␣␣␣␣␣␣␣␣␣␣␣␣␣␣␣␣␣␣␣␣␣␣␣\n",
            "\n",
            "\n",
            "\n",
            "Attempt: \"\n",
            "\" + 0.4\n",
            "-----------------------------------\n",
            "📗 \n",
            "• 3 cups all-purpose flour, plus more for dusting\n",
            "• 1 tablespoon baking powder\n",
            "• 1 teaspoon baking soda\n",
            "• 1 teaspoon salt\n",
            "• 1 teaspoon ground cinnamon\n",
            "• 1 teaspoon ground allspice\n",
            "• 1 teaspoon ground cloves\n",
            "• 1 teaspoon ground allspice\n",
            "• 1 teaspoon ground nutmeg\n",
            "• 1 teaspoon ground ginger\n",
            "• 1 teaspoon ground nutmeg\n",
            "• 1 teaspoon ground ginger\n",
            "• 1/2 teaspoon ground nutmeg\n",
            "• 1 teaspoon ground allspice\n",
            "• 1/2 teaspoon ground nutmeg\n",
            "• 1 teaspoon ground cloves\n",
            "• 1/2 teaspoon ground nutmeg\n",
            "• 1 teaspoon ground cinnamon\n",
            "• 1/2 teaspoon ground nutmeg\n",
            "• 1/2 teaspoon ground ginger\n",
            "• 1/2 teaspoon ground nutmeg\n",
            "• 1 teaspoon ground nutmeg\n",
            "• 1/2 teaspoon ground cloves\n",
            "• 1/2 teaspoon ground ginger\n",
            "• 1/2 teaspoon ground ginger\n",
            "• 1/4 teaspoon ground allspice\n",
            "• 1/4 teaspoon ground allspice\n",
            "• 1/2 teaspoon ground nutmeg\n",
            "• 1/2 teaspoon salt\n",
            "• 1 cup sour cream\n",
            "• 2 tablespoons chopped fresh rosemary\n",
            "• 3 eggs\n",
            "• 1 1/2 cups packed light brown sugar\n",
            "• 1 cup sugar\n",
            "• 1 cup unsalted butter\n",
            "• 1/2 cup cocoa powder\n",
            "• 1 te\n",
            "\n",
            "\n",
            "\n",
            "Attempt: \"\n",
            "\" + 0.2\n",
            "-----------------------------------\n",
            "📗 \n",
            "• 1 1/2 cups all-purpose flour\n",
            "• 1/2 tsp. baking powder\n",
            "• 1/4 tsp. salt\n",
            "• 1/4 tsp. ground cloves\n",
            "• 1/4 tsp. salt\n",
            "• 1/2 cup sugar\n",
            "• 1 cup milk\n",
            "• 1 cup milk\n",
            "• 1 tsp. vanilla extract\n",
            "• 1 cup chopped walnuts\n",
            "• 1 cup cold water\n",
            "• 1 cup sugar\n",
            "• 1/2 cup butter\n",
            "• 1 cup chopped walnuts\n",
            "• 1 cup chopped walnuts\n",
            "\n",
            "📝\n",
            "\n",
            "▪︎ HEAT oven to 375 degrees F. Combine flour, baking powder and salt in medium bowl. Add butter and pulse until mixture resembles coarse meal. Add butter and pulse until mixture resembles coarse crumbs. Add eggs and mix until blended. Stir in flour mixture. Pour batter into prepared pan. Bake for 1 hour. Cool 10 minutes before removing to cool completely.\n",
            "▪︎ For the frosting: Preheat oven to 350 degrees F. Grease and flour 9 baking pan. Sprinkle cornmeal over bottom of prepared pan. Sprinkle with cinnamon. Bake for 15 minutes. Remove from oven. Set aside to cool.\n",
            "▪︎ For the crust: Preheat oven to 350 degrees F. Butter 13x9x2-inch glass baking dish. Place 1 tablespoon of the butter into\n",
            "\n",
            "\n",
            "\n",
            "Attempt: \"A\" + 1.0\n",
            "-----------------------------------\n",
            "📗 ASHROPS Garambrea (BraN)\n",
            "\n",
            "🥕\n",
            "\n",
            "• 1 cup rentical lavmine flour\n",
            "• 2 tablespoons sugar\n",
            "• 8 tablespoons flour\n",
            "• 4 tablespoons salt\n",
            "• 1 1/2 teaspoons dry mustard\n",
            "• 1 teaspoon ground cumin\n",
            "• 1 teaspoon salt\n",
            "• 1 teaspoon chili powder\n",
            "• 1/2 teaspoon cayenne\n",
            "• 1 teaspoon ground black pepper\n",
            "• 2 eggs, beaten\n",
            "• 1 cup all-purpose flour\n",
            "• 1 tablespoon salt, plus 1 teaspoon salt\n",
            "• Melted butter\n",
            "\n",
            "📝\n",
            "\n",
            "▪︎ Watch how to make this recipe.\n",
            "▪︎ Butter the bundt pan or line with 1 teaspoon of the water in it and tie it. Cover all with plastic wrap until you fry for 10 minutes.\n",
            "▪︎ In a large saucepan cook the flour, onion, half-and-half, salt and white pepper until it tastect dormen slightly and the apricots are wilton are melted. As much as pureed through a very soft peaks, add the last danch salt and allow the mixture to cook and then add in bourbon, garlic, Worcestershire sauce, salt, and garlic butter. Whisk inter a small amount of water if necessary. Add enough water to combine. Atcrmayed handle, which will b\n",
            "\n",
            "\n",
            "\n",
            "Attempt: \"A\" + 0.8\n",
            "-----------------------------------\n",
            "📗 ASCLEO Colby Jam\n",
            "\n",
            "🥕\n",
            "\n",
            "• 2 cups corn kernels, rinsed and drained\n",
            "• 1 large garlic clove, chopped\n",
            "• 1 tablespoon chopped fresh thyme\n",
            "• 1 teaspoon dried oregano\n",
            "• 1 teaspoon dried rosemary, crumbled\n",
            "• 1 teaspoon dried oregano\n",
            "• 3 small brioche or French baguettes\n",
            "• 1/4 cup dry sherry\n",
            "• 2 tablespoons flour\n",
            "• 2 teaspoons salt\n",
            "• 1/2 teaspoon freshly ground black pepper\n",
            "• 1/2 cup water\n",
            "\n",
            "📝\n",
            "\n",
            "▪︎ Put the stock, herbs, salt and pepper to a small bowl, and add the chopped romaine, extra-virgin olive oil, lemon juice, salt, and pepper. Put in the fried chiles and cover with a lid and cover with the remaining marinara. Check for salt and add the oil to taste. Pipe it out with a paring knife or a salad spinner. Process in a bowl of cold water until it reaches reached 140 degrees F on a candy thermometer. Don't worry if there are somewhromine within the blueberries in the butter.)\n",
            "▪︎ Serve on warmed plates with slices of coconut where in the center with a rose petals.\n",
            "␣␣␣␣␣␣␣␣␣␣␣␣␣␣␣␣␣␣␣␣␣␣␣␣␣␣␣␣␣␣␣␣␣␣␣␣\n",
            "\n",
            "\n",
            "\n",
            "Attempt: \"A\" + 0.4\n",
            "-----------------------------------\n",
            "📗 Auster Mexican Herb Cheese Stuffed Baked Beans\n",
            "\n",
            "🥕\n",
            "\n",
            "• 1 cup sour cream\n",
            "• 1/2 cup milk\n",
            "• 1 cup milk\n",
            "• 1/2 cup sour cream\n",
            "• 2 tablespoons minced fresh parsley\n",
            "• 1 teaspoon dried oregano\n",
            "• 1 teaspoon salt\n",
            "• 1/4 teaspoon ground black pepper\n",
            "• 1 1/2 cups shredded mozzarella\n",
            "• 1/2 cup chopped fresh cilantro\n",
            "\n",
            "📝\n",
            "\n",
            "▪︎ Watch how to make this recipe.\n",
            "▪︎ Preheat the oven to 350 degrees F.\n",
            "▪︎ Heat a large skillet over medium heat. Add the olive oil and the garlic and saute until the onions are browned and crisp, about 10 minutes. Add the garlic, chili powder, and cayenne and cook, stirring, for 3 minutes. Add the chicken stock, the mustard, and salt and pepper to taste. Cook for 10 minutes. Stir in the cheese and remove from the heat.\n",
            "▪︎ Spread the butter mixture on the patties and top with the remaining bread crumbs. Place the cheese on the baking sheet and cook until the cheese begins to brown, about 10 minutes.\n",
            "␣␣␣␣␣␣␣␣␣␣␣␣␣␣␣␣␣␣␣␣␣␣␣␣␣␣␣␣␣␣␣␣␣␣␣␣␣␣␣␣␣␣␣␣␣␣␣␣␣␣␣␣␣␣␣␣␣␣␣␣␣␣␣␣␣␣␣␣␣␣␣␣␣␣␣␣␣␣␣␣␣␣␣␣␣␣␣␣\n",
            "\n",
            "\n",
            "\n",
            "Attempt: \"A\" + 0.2\n",
            "-----------------------------------\n",
            "📗 Aushrian Salmon Cakes with Cheese Sauce\n",
            "\n",
            "🥕\n",
            "\n",
            "• 1 1/2 cups all-purpose flour\n",
            "• 1 tablespoon sugar\n",
            "• 1 tablespoon baking powder\n",
            "• 1 teaspoon baking soda\n",
            "• 1 teaspoon ground cinnamon\n",
            "• 1 teaspoon ground cinnamon\n",
            "• 1 teaspoon ground cinnamon\n",
            "• 1 teaspoon ground nutmeg\n",
            "• 1 teaspoon ground ginger\n",
            "• 1 teaspoon ground cloves\n",
            "• 1 teaspoon ground ginger\n",
            "• 1 teaspoon ground ginger\n",
            "• 1/2 teaspoon ground ginger\n",
            "• 1/2 teaspoon ground ginger\n",
            "• 1/2 teaspoon ground nutmeg\n",
            "• 1/4 teaspoon ground nutmeg\n",
            "• 1/4 teaspoon ground ginger\n",
            "• 1/4 teaspoon ground nutmeg\n",
            "• 1/2 teaspoon ground cloves\n",
            "• 1/2 teaspoon ground ginger\n",
            "• 1/2 teaspoon ground nutmeg\n",
            "• 1/2 teaspoon ground cloves\n",
            "• 1/2 teaspoon ground ginger\n",
            "• 1/2 teaspoon ground ginger\n",
            "• 1/4 teaspoon ground ginger\n",
            "• 1/2 teaspoon ground ginger\n",
            "• 1/2 teaspoon ground ginger\n",
            "• 1/2 teaspoon ground nutmeg\n",
            "• 1/2 teaspoon ground ginger\n",
            "• 1/4 teaspoon ground cloves\n",
            "• 1/4 teaspoon ground ginger\n",
            "• 1/4 teaspoon ground nutmeg\n",
            "• 1/2 teaspoon ground cinnamon\n",
            "• 1/2 teaspoon gro\n",
            "\n",
            "\n",
            "\n",
            "Attempt: \"B\" + 1.0\n",
            "-----------------------------------\n",
            "📗 B.'s A tea bag Crusted Pork Buns\n",
            "\n",
            "🥕\n",
            "\n",
            "• 2 hammer candy bars, broken into 4 pieces\n",
            "• 1/2 cup mayonnaise\n",
            "• 1/2 cup water\n",
            "• 1/2 cup balsamic vinegar\n",
            "• 5 pounds Longrad Style Tartar Sauce\n",
            "• 1/4 cup olive oil\n",
            "• 2 tablespoons butter or margarine\n",
            "• Splash water\n",
            "• 4 ounces Mojo Oregano or Romano\n",
            "• 4 ounces stewed-to-taco sea base\n",
            "• Canola oil or vegetable spray (discard flavor packet)\n",
            "\n",
            "📝\n",
            "\n",
            "▪︎ Mix together potatoes, chiles and hazelnuts. Toss all of the ingredients with peppers and season with salt and pepper.\n",
            "▪︎ Sprinkle dough with more cornmeal towa in a 2-quart shallow casserole.\n",
            "▪︎ Heat the liquid evenly on HIGH until golden and crisp. Remove and place on a plastic bag. In a small bowl, combine the remaining milk, yogurt, half of the vegetable and soy milk. Fold in Pecorino cheese, sour cream and any unopened apple slices. Pour mix into a large soup pot with enough wooden spoon to exter-the chips. Spoon and mash together the cornmeal. Season the cheese with garlic, rosemary and oats on your sc\n",
            "\n",
            "\n",
            "\n",
            "Attempt: \"B\" + 0.8\n",
            "-----------------------------------\n",
            "📗 B-O'NONE Again Cloves Pasta: Pepper Nestive Streestes\n",
            "\n",
            "🥕\n",
            "\n",
            "• 6 large baking potatoes, cubed\n",
            "• 1 (10-ounce) box frozen yellowfin tuna fillets\n",
            "• 1 tablespoon butter\n",
            "• 1 small green pepper, finely diced\n",
            "• Salt and pepper\n",
            "• 1 small onion, chopped\n",
            "• 1 pinch cayenne\n",
            "• 2 ounces ciable breadcrumbs\n",
            "• 2 cups chopped onions\n",
            "• 2 cloves crushed garlic\n",
            "• 1 (14.5-ounce) can diced tomatoes, drained\n",
            "• 1 cup cooked chicken or vegetable stock\n",
            "\n",
            "📝\n",
            "\n",
            "▪︎ Preheat oven to 400 degrees F.\n",
            "▪︎ Bring a large pot of water to a boil, add pasta and cook for 8 to 10 minutes or until al dente. While still return on medium heat and then add garlic and cook for 1 minute. Add garlic and cook over medium heat until fragrant. In a skillet, saute onions in butter until tender. Add mushrooms and cook until softened. Stir in broth, thyme and garlic. Bring chicken to the stovetop and pour mixture on top. Stir in chicken soup and turrin or leg at base. When the pot has simmering, drain off any excess fat. Stir in salad ingredients (\n",
            "\n",
            "\n",
            "\n",
            "Attempt: \"B\" + 0.4\n",
            "-----------------------------------\n",
            "📗 BAKORONEESE Shrimp Salad with Tomatoes and Cheese Sauce:\n",
            "\n",
            "📝\n",
            "\n",
            "▪︎ 1. Preheat oven to 400 degrees F.\n",
            "▪︎ Brush the butter on both sides of the bread with olive oil, salt and pepper. Place on a baking sheet and bake for 10 minutes. Remove from oven and let cool.\n",
            "▪︎ In a medium bowl, mix together the cheese and basil. Pour over the chicken and sprinkle with the macaroni and cheese. Sprinkle with parsley and serve.\n",
            "␣␣␣␣␣␣␣␣␣␣␣␣␣␣␣␣␣␣␣␣␣␣␣␣␣␣␣␣␣␣␣␣␣␣␣␣␣␣␣␣␣␣␣␣␣␣␣␣␣␣␣␣␣␣␣␣␣␣␣␣␣␣␣␣␣␣␣␣␣␣␣␣␣␣␣␣␣␣␣␣␣␣␣␣␣␣␣␣␣␣␣␣␣␣␣␣␣␣␣␣␣␣␣␣␣␣␣␣␣␣␣␣␣␣␣␣␣␣␣␣␣␣␣␣␣␣␣␣␣␣␣␣␣␣␣␣␣␣␣␣␣␣␣␣␣␣␣␣␣␣␣␣␣␣␣␣␣␣␣␣␣␣␣␣␣␣␣␣␣␣␣␣␣␣␣␣␣␣␣␣␣␣␣␣␣␣␣␣␣␣␣␣␣␣␣␣␣␣␣␣␣␣␣␣␣␣␣␣␣␣␣␣␣␣␣␣␣␣␣␣␣␣␣␣␣␣␣␣␣␣␣␣␣␣␣␣␣␣␣␣␣␣␣␣␣␣␣␣␣␣␣␣␣␣␣␣␣␣␣␣␣␣␣␣␣␣␣␣␣␣␣␣␣␣␣␣␣␣␣␣␣␣␣␣␣␣␣␣␣␣␣␣␣␣␣␣␣␣␣␣␣␣␣␣␣␣␣␣␣␣␣␣␣␣␣␣␣␣␣␣␣␣␣␣␣␣␣␣␣␣␣␣␣␣␣␣␣␣␣␣␣␣␣␣␣␣␣␣␣␣␣␣␣␣␣␣␣␣␣␣␣␣␣␣␣␣␣␣␣␣␣␣␣␣␣␣␣␣␣␣␣␣␣␣␣␣␣␣␣␣␣␣␣␣␣␣␣␣␣␣␣␣␣␣␣␣␣␣␣␣␣␣␣␣␣␣␣␣␣␣␣␣␣␣␣␣␣␣␣␣␣␣␣␣␣␣␣␣␣␣␣␣␣␣␣␣␣␣␣␣␣␣␣␣␣␣␣␣␣␣␣␣␣␣␣␣␣␣␣␣␣␣␣␣␣␣␣␣␣␣␣␣␣␣␣␣␣␣␣␣␣␣␣␣␣␣␣␣␣␣␣␣␣␣␣␣␣␣␣␣␣␣␣␣␣␣␣␣␣␣␣␣␣␣␣␣␣␣␣␣␣␣␣␣␣␣␣␣␣␣␣␣␣␣␣␣␣␣␣␣␣␣␣␣␣␣␣␣␣␣␣␣␣␣␣␣␣␣␣␣␣␣␣␣␣␣␣␣␣␣␣␣␣␣␣␣␣␣␣\n",
            "\n",
            "\n",
            "\n",
            "Attempt: \"B\" + 0.2\n",
            "-----------------------------------\n",
            "📗 BLNA Bartletta Roll-Ups\n",
            "\n",
            "🥕\n",
            "\n",
            "• 1 1/2 cups corn kernels\n",
            "• 1 cup sour cream\n",
            "• 1 cup shredded coconut\n",
            "• 1 cup shredded sharp Cheddar\n",
            "• 1 cup shredded sharp Cheddar\n",
            "• 1 cup shredded sharp Cheddar\n",
            "• 1 cup shredded sharp Cheddar\n",
            "• 1/2 cup grated Parmesan\n",
            "• 1 tablespoon chopped fresh parsley\n",
            "• 1 tablespoon chopped fresh parsley\n",
            "\n",
            "📝\n",
            "\n",
            "▪︎ Preheat the oven to 350 degrees F.\n",
            "▪︎ In a large bowl, mix together the mayonnaise, sour cream, mayonnaise, salt, pepper, and cayenne. Stir in the cheese and cheese. Spread the mixture on the prepared baking sheet. Bake until the cheese is melted and the cheese is melted, about 15 minutes. Serve warm.\n",
            "␣␣␣␣␣␣␣␣␣␣␣␣␣␣␣␣␣␣␣␣␣␣␣␣␣␣␣␣␣␣␣␣␣␣␣␣␣␣␣␣␣␣␣␣␣␣␣␣␣␣␣␣␣␣␣␣␣␣␣␣␣␣␣␣␣␣␣␣␣␣␣␣␣␣␣␣␣␣␣␣␣␣␣␣␣␣␣␣␣␣␣␣␣␣␣␣␣␣␣␣␣␣␣␣␣␣␣␣␣␣␣␣␣␣␣␣␣␣␣␣␣␣␣␣␣␣␣␣␣␣␣␣␣␣␣␣␣␣␣␣␣␣␣␣␣␣␣␣␣␣␣␣␣␣␣␣␣␣␣␣␣␣␣␣␣␣␣␣␣␣␣␣␣␣␣␣␣␣␣␣␣␣␣␣␣␣␣␣␣␣␣␣␣␣␣␣␣␣␣␣␣␣␣␣␣␣␣␣␣␣␣␣␣␣␣␣␣␣␣␣␣␣␣␣␣␣␣␣␣␣␣␣␣␣␣␣␣␣␣␣␣␣␣␣␣␣␣␣␣␣␣␣␣␣␣␣␣␣␣␣␣␣␣␣␣␣␣␣␣␣␣␣␣␣␣␣␣␣␣␣␣␣␣␣␣␣␣␣␣␣␣␣␣␣␣␣␣␣␣␣␣␣␣␣␣␣␣␣␣␣␣␣␣␣␣␣␣␣␣␣␣␣␣␣␣␣␣␣␣␣␣␣␣␣␣␣␣␣␣␣␣␣␣␣␣␣␣␣␣␣␣␣␣␣␣␣␣␣␣␣␣␣␣␣␣␣␣␣␣\n",
            "\n",
            "\n",
            "\n",
            "Attempt: \"C\" + 1.0\n",
            "-----------------------------------\n",
            "📗 COINO PRESED Vegetable Oil\n",
            "• 1 pound trickle, amaretto, diced\n",
            "• 1/2 tsp. of tarragon\n",
            "• Spicy Madeira\n",
            "• Mozzarella (feel pitcher)\n",
            "• Toppings of your pickles, for serving\n",
            "• Mirin, recipe follows\n",
            "• 1-1/2 Wild Honeydew Macaroni and Cheese\n",
            "• 5 oz. boneless, skinless chicken breast\n",
            "• 1 cup heavy cream\n",
            "• 1 cup Caesar dressing\n",
            "• 8 ounces sliced shiitake mushrooms\n",
            "• 1 small head green leaf lettuce\n",
            "• 16 ounces (about 1 cup) water\n",
            "• 1 teaspoon hot pepper sauce\n",
            "• 1/4 cup cream\n",
            "• 2 heads green cabbage, sliced into 1/4-inch thick slices\n",
            "• 1 green pepper, small diced\n",
            "• 1 medium head radicchio, diced\n",
            "• 1/2 bunch fresh roesery\n",
            "• 4 bacon slices,\n",
            "• 1 stick butter\n",
            "\n",
            "📝\n",
            "\n",
            "▪︎ Heat oil in large bowl. Add onions, bell pepper and celery. Reduce heat to low and add chicken chicken broth. Cover pot and cook until hash and lentils are soft, about 13 to 15 minutes.\n",
            "▪︎ Add mussels and turn heat to medium. Cook until carrots are tender but still pink in color. Turn off heat and let stand 5 minutes, then turn off heat. S\n",
            "\n",
            "\n",
            "\n",
            "Attempt: \"C\" + 0.8\n",
            "-----------------------------------\n",
            "📗 CUprrifi Rice Mix with Roasted Chiles and Herbs\n",
            "\n",
            "🥕\n",
            "\n",
            "• 1 cup milk\n",
            "• 1 cup water\n",
            "• 1 cup heavy cream\n",
            "• 1/2 cup chopped parsley\n",
            "• 2 tablespoons flour\n",
            "• Kosher salt and freshly ground black pepper\n",
            "\n",
            "📝\n",
            "\n",
            "▪︎ Watch how to make this recipe.\n",
            "▪︎ Preheat oven to 375 degrees F.\n",
            "▪︎ Sprinkle the potatoes with salt and pepper, to taste. Sprinkle them with yellow cornmeal, partially cover with plastic wrap, and seal the eggs slightly.\n",
            "▪︎ Add 1/4 cup water to a medium saucepan and heat oil over high heat. Add chicken stock, stirring to dissolve salt and salt. Add a twist filt, if necessary and simmer 1 1/2 hours. Slowly add the butter and cook, whisking constantly, about 4 minutes. Season with salt and pepper.\n",
            "▪︎ To assemble the sandwiches, split the top side of the pita half. Bake the other roll into a single layer, then flip over to cook and grill another 2 minutes. Slide the top over and cover with top half of the rolls. Serve immediately.\n",
            "␣␣␣␣␣␣␣␣␣␣␣␣␣␣␣␣␣␣␣␣␣␣␣␣␣␣␣␣␣␣␣␣␣␣␣␣␣␣␣␣␣␣␣␣␣␣␣␣␣␣␣␣␣␣␣␣␣␣␣␣␣␣␣\n",
            "\n",
            "\n",
            "\n",
            "Attempt: \"C\" + 0.4\n",
            "-----------------------------------\n",
            "📗 CARAAA LEETA PERPINE\n",
            "• Shredded Cheddar and Monterey Jack cheese, for serving\n",
            "\n",
            "📝\n",
            "\n",
            "▪︎ Preheat oven to 400 degrees F.\n",
            "▪︎ Cut the bread into 6 wedges and add them to the pan with the mayonnaise and the cheese. Bake for 30 minutes. Remove from the oven and let cool for a few minutes. Serve with a side of the green onions.\n",
            "␣␣␣␣␣␣␣␣␣␣␣␣␣␣␣␣␣␣␣␣␣␣␣␣␣␣␣␣␣␣␣␣␣␣␣␣␣␣␣␣␣␣␣␣␣␣␣␣␣␣␣␣␣␣␣␣␣␣␣␣␣␣␣␣␣␣␣␣␣␣␣␣␣␣␣␣␣␣␣␣␣␣␣␣␣␣␣␣␣␣␣␣␣␣␣␣␣␣␣␣␣␣␣␣␣␣␣␣␣␣␣␣␣␣␣␣␣␣␣␣␣␣␣␣␣␣␣␣␣␣␣␣␣␣␣␣␣␣␣␣␣␣␣␣␣␣␣␣␣␣␣␣␣␣␣␣␣␣␣␣␣␣␣␣␣␣␣␣␣␣␣␣␣␣␣␣␣␣␣␣␣␣␣␣␣␣␣␣␣␣␣␣␣␣␣␣␣␣␣␣␣␣␣␣␣␣␣␣␣␣␣␣␣␣␣␣␣␣␣␣␣␣␣␣␣␣␣␣␣␣␣␣␣␣␣␣␣␣␣␣␣␣␣␣␣␣␣␣␣␣␣␣␣␣␣␣␣␣␣␣␣␣␣␣␣␣␣␣␣␣␣␣␣␣␣␣␣␣␣␣␣␣␣␣␣␣␣␣␣␣␣␣␣␣␣␣␣␣␣␣␣␣␣␣␣␣␣␣␣␣␣␣␣␣␣␣␣␣␣␣␣␣␣␣␣␣␣␣␣␣␣␣␣␣␣␣␣␣␣␣␣␣␣␣␣␣␣␣␣␣␣␣␣␣␣␣␣␣␣␣␣␣␣␣␣␣␣␣␣␣␣␣␣␣␣␣␣␣␣␣␣␣␣␣␣␣␣␣␣␣␣␣␣␣␣␣␣␣␣␣␣␣␣␣␣␣␣␣␣␣␣␣␣␣␣␣␣␣␣␣␣␣␣␣␣␣␣␣␣␣␣␣␣␣␣␣␣␣␣␣␣␣␣␣␣␣␣␣␣␣␣␣␣␣␣␣␣␣␣␣␣␣␣␣␣␣␣␣␣␣␣␣␣␣␣␣␣␣␣␣␣␣␣␣␣␣␣␣␣␣␣␣␣␣␣␣␣␣␣␣␣␣␣␣␣␣␣␣␣␣␣␣␣␣␣␣␣␣␣␣␣␣␣␣␣␣␣␣␣␣␣␣␣␣␣␣␣␣␣␣␣␣␣␣␣␣␣␣␣␣␣␣␣␣␣␣␣␣␣␣␣␣␣␣␣␣␣␣␣␣␣␣␣␣␣␣␣␣␣␣␣␣␣␣␣␣␣␣␣␣␣␣␣␣␣␣␣␣␣␣␣␣␣␣␣␣␣␣␣␣␣␣␣␣␣␣␣␣␣␣␣␣␣␣␣␣␣␣␣␣␣␣␣␣␣␣␣␣␣␣␣␣␣␣␣␣␣␣␣␣␣␣␣␣␣␣␣␣␣␣␣␣␣␣␣␣␣␣␣␣␣␣␣␣␣␣␣␣␣␣␣\n",
            "\n",
            "\n",
            "\n",
            "Attempt: \"C\" + 0.2\n",
            "-----------------------------------\n",
            "📗 CHIRADELPHIA Cream Sauce with Cheese and Cheese Sauce: Sauce: 1 1/2 cups shredded Cheddar\n",
            "• 1/2 cup chopped fresh basil\n",
            "• 1/2 cup chopped fresh cilantro\n",
            "• 1/4 cup chopped fresh cilantro\n",
            "• 1/4 cup chopped fresh chives\n",
            "• 1 tablespoon chopped fresh cilantro\n",
            "• 1/2 teaspoon freshly grated lemon zest\n",
            "• 1 tablespoon chopped fresh chives\n",
            "• 1/4 cup chopped fresh cilantro\n",
            "• 1 tablespoon fresh lemon juice\n",
            "• 1 tablespoon fresh lemon juice\n",
            "• 1/4 cup chopped fresh cilantro\n",
            "\n",
            "📝\n",
            "\n",
            "▪︎ Preheat the oven to 350 degrees F.\n",
            "▪︎ Place the bread in a large roasting pan and place in the oven. Bake for 10 minutes. Remove from the oven and let cool.\n",
            "▪︎ In a large bowl, mix together the garlic, onions, cheese, basil, garlic, salt and pepper. Add the cheese and toss to coat. Spread the mixture on a baking sheet and bake for 10 minutes. Remove from the oven and let cool for about 10 minutes. Slice the pasta into 1/2-inch thick slices.\n",
            "▪︎ Spread the pasta salad on the plate. Spoon the salad mixture over the top and serv\n",
            "\n",
            "\n",
            "\n",
            "Attempt: \"O\" + 1.0\n",
            "-----------------------------------\n",
            "📗 ORmoOLGGGAL® RIch Fritz Regianon BBQ Salad Crisp\n",
            "\n",
            "🥕\n",
            "\n",
            "▪︎ Heat 2 tablespoons of butter in 10-inch skillet over medium-high heat. Cook fanafelli in skillet until brown, about 6 minutes. Remove lob to a dish in the sink.\n",
            "▪︎ Mix sour cream (anther the remaining flour in food processor) until slightly doubled in bubbly. Pat chops dry and spoon sauce into prepared dish. Check pickled chicken for easy before uncovered.\n",
            "▪︎ Close baking dish clean and work quickly.\n",
            "▪︎ REMOVED bread crumbs on plate, and sprinkle each with 2 tablespoons salmon roe, fat-side up. Repeat until firm, but not even into gratin. Cut cabbages in half lengthwise. Top each with a spoonful of parsnips or other edges.\n",
            "␣␣␣␣␣␣␣␣␣␣␣␣␣␣␣␣␣␣␣␣␣␣␣␣␣␣␣␣␣␣␣␣␣␣␣␣␣␣␣␣␣␣␣␣␣␣␣␣␣␣␣␣␣␣␣␣␣␣␣␣␣␣␣␣␣␣␣␣␣␣␣␣␣␣␣␣␣␣␣␣␣␣␣␣␣␣␣␣␣␣␣␣␣␣␣␣␣␣␣␣␣␣␣␣␣␣␣␣␣␣␣␣␣␣␣␣␣␣␣␣␣␣␣␣␣␣␣␣␣␣␣␣␣␣␣␣␣␣␣␣␣␣␣␣␣␣␣␣␣␣␣␣␣␣␣␣␣␣␣␣␣␣␣␣␣␣␣␣␣␣␣␣␣␣␣␣␣␣␣␣␣␣␣␣␣␣␣␣␣␣␣␣␣␣␣␣␣␣␣␣␣␣␣␣␣␣␣␣␣␣␣␣␣␣␣␣␣␣␣␣␣␣␣␣␣␣␣␣␣␣␣␣␣␣␣␣␣␣␣␣␣␣␣␣␣␣␣␣␣␣␣␣␣␣␣␣␣␣␣␣␣␣␣␣␣␣␣␣␣␣␣␣␣␣␣␣␣␣␣␣␣␣␣␣␣␣␣␣␣␣␣␣␣␣␣␣␣␣␣␣␣␣␣␣␣␣␣␣␣␣␣␣␣␣\n",
            "\n",
            "\n",
            "\n",
            "Attempt: \"O\" + 0.8\n",
            "-----------------------------------\n",
            "📗 ONAIDEDECHISH DAYO: Smoked Tyme Lasagna 1 Vegetarian Fish youchet Margarita.\n",
            "• Canola or apple cider\n",
            "• Splash stout\n",
            "\n",
            "📝\n",
            "\n",
            "▪︎ Put the mirin olives and the water into a small saucepan and heat to a boil. Remove from the heat and let cool.\n",
            "␣␣␣␣␣␣␣␣␣␣␣␣␣␣␣␣␣␣␣␣␣␣␣␣␣␣␣␣␣␣␣␣␣␣␣␣␣␣␣␣␣␣␣␣␣␣␣␣␣␣␣␣␣␣␣␣␣␣␣␣␣␣␣␣␣␣␣␣␣␣␣␣␣␣␣␣␣␣␣␣␣␣␣␣␣␣␣␣␣␣␣␣␣␣␣␣␣␣␣␣␣␣␣␣␣␣␣␣␣␣␣␣␣␣␣␣␣␣␣␣␣␣␣␣␣␣␣␣␣␣␣␣␣␣␣␣␣␣␣␣␣␣␣␣␣␣␣␣␣␣␣␣␣␣␣␣␣␣␣␣␣␣␣␣␣␣␣␣␣␣␣␣␣␣␣␣␣␣␣␣␣␣␣␣␣␣␣␣␣␣␣␣␣␣␣␣␣␣␣␣␣␣␣␣␣␣␣␣␣␣␣␣␣␣␣␣␣␣␣␣␣␣␣␣␣␣␣␣␣␣␣␣␣␣␣␣␣␣␣␣␣␣␣␣␣␣␣␣␣␣␣␣␣␣␣␣␣␣␣␣␣␣␣␣␣␣␣␣␣␣␣␣␣␣␣␣␣␣␣␣␣␣␣␣␣␣␣␣␣␣␣␣␣␣␣␣␣␣␣␣␣␣␣␣␣␣␣␣␣␣␣␣␣␣␣␣␣␣␣␣␣␣␣␣␣␣␣␣␣␣␣␣␣␣␣␣␣␣␣␣␣␣␣␣␣␣␣␣␣␣␣␣␣␣␣␣␣␣␣␣␣␣␣␣␣␣␣␣␣␣␣␣␣␣␣␣␣␣␣␣␣␣␣␣␣␣␣␣␣␣␣␣␣␣␣␣␣␣␣␣␣␣␣␣␣␣␣␣␣␣␣␣␣␣␣␣␣␣␣␣␣␣␣␣␣␣␣␣␣␣␣␣␣␣␣␣␣␣␣␣␣␣␣␣␣␣␣␣␣␣␣␣␣␣␣␣␣␣␣␣␣␣␣␣␣␣␣␣␣␣␣␣␣␣␣␣␣␣␣␣␣␣␣␣␣␣␣␣␣␣␣␣␣␣␣␣␣␣␣␣␣␣␣␣␣␣␣␣␣␣␣␣␣␣␣␣␣␣␣␣␣␣␣␣␣␣␣␣␣␣␣␣␣␣␣␣␣␣␣␣␣␣␣␣␣␣␣␣␣␣␣␣␣␣␣␣␣␣␣␣␣␣␣␣␣␣␣␣␣␣␣␣␣␣␣␣␣␣␣␣␣␣␣␣␣␣␣␣␣␣␣␣␣␣␣␣␣␣␣␣␣␣␣␣␣␣␣␣␣␣␣␣␣␣␣␣␣␣␣␣␣␣␣␣␣␣␣␣␣␣␣␣␣␣␣␣␣␣␣␣␣␣␣␣␣␣␣␣␣␣␣␣␣␣␣␣␣␣␣␣␣␣␣␣␣␣␣␣␣␣␣␣␣␣␣␣␣␣␣␣␣␣␣␣␣␣␣␣␣␣␣␣␣␣␣␣␣␣␣␣␣␣␣␣␣␣␣␣␣␣␣␣␣␣␣␣␣␣␣␣␣␣␣␣␣␣␣␣␣␣␣␣␣␣␣␣␣␣␣␣␣␣␣␣␣␣␣␣␣␣␣␣␣␣␣␣␣␣␣␣␣␣␣␣␣␣\n",
            "\n",
            "\n",
            "\n",
            "Attempt: \"O\" + 0.4\n",
            "-----------------------------------\n",
            "📗 ORdo's Potato Puree\n",
            "\n",
            "🥕\n",
            "\n",
            "• 1 pound ground pork\n",
            "• 2 cups chicken stock\n",
            "• 2 cups chicken stock\n",
            "• 1 cup whole milk\n",
            "• 1 teaspoon dried basil\n",
            "• 1 tablespoon freshly chopped cilantro\n",
            "• 1 cup half-and-half\n",
            "• 1 tablespoon chopped oregano\n",
            "• 1/2 teaspoon cayenne pepper\n",
            "• 2 tablespoons chopped fresh parsley\n",
            "• 1 cup chopped fresh cilantro\n",
            "• 1/2 cup grated Parmesan\n",
            "• 1 tablespoon chopped fresh thyme\n",
            "• 1 teaspoon ground cumin\n",
            "• 1 teaspoon ground coriander\n",
            "• 1 teaspoon ground nutmeg\n",
            "• 1 teaspoon ground black pepper\n",
            "• 1 teaspoon ground cinnamon\n",
            "• 1 teaspoon ground coriander\n",
            "• 1 teaspoon ground nutmeg\n",
            "• 1 teaspoon ground turmeric\n",
            "• 1 teaspoon ground cloves\n",
            "• 1 teaspoon ground black pepper\n",
            "• 1 teaspoon ground cinnamon\n",
            "• 1/2 teaspoon ground cinnamon\n",
            "• 1/2 teaspoon ground cinnamon\n",
            "• 1/2 teaspoon ground nutmeg\n",
            "• 1/4 teaspoon ground nutmeg\n",
            "• 1/2 teaspoon ground nutmeg\n",
            "• 1/4 teaspoon ground cloves\n",
            "• 1/2 teaspoon ground black pepper\n",
            "\n",
            "📝\n",
            "\n",
            "▪︎ Preheat oven to 350 degrees F.\n",
            "▪︎ In a large bowl, whisk together the fl\n",
            "\n",
            "\n",
            "\n",
            "Attempt: \"O\" + 0.2\n",
            "-----------------------------------\n",
            "📗 ORder Brownie Mix with Cheese Sauce\n",
            "\n",
            "🥕\n",
            "\n",
            "• 1 cup sour cream\n",
            "• 1 cup shredded sharp Cheddar\n",
            "• 1 cup shredded sharp Cheddar\n",
            "• 1 cup shredded cheddar cheese\n",
            "• 1 cup shredded sharp Cheddar\n",
            "• 1/2 cup grated Parmesan\n",
            "• 1 teaspoon salt\n",
            "• 1/2 teaspoon freshly ground black pepper\n",
            "• 1/2 cup shredded mozzarella\n",
            "• 1 cup grated Parmesan\n",
            "• 1/2 cup grated Parmesan\n",
            "• 1 cup shredded sharp Cheddar\n",
            "• 1/2 cup grated Parmesan\n",
            "\n",
            "📝\n",
            "\n",
            "▪︎ Preheat oven to 375 degrees F.\n",
            "▪︎ In a large bowl stir together the flour, salt and pepper. Add the eggs, milk, and salt and pepper to taste. Stir in the cheese and cheese. Stir in the cheese. Spread the mixture into a 9-inch pie pan. Bake for 30 minutes, or until golden brown. Cool and serve with chips.\n",
            "␣␣␣␣␣␣␣␣␣␣␣␣␣␣␣␣␣␣␣␣␣␣␣␣␣␣␣␣␣␣␣␣␣␣␣␣␣␣␣␣␣␣␣␣␣␣␣␣␣␣␣␣␣␣␣␣␣␣␣␣␣␣␣␣␣␣␣␣␣␣␣␣␣␣␣␣␣␣␣␣␣␣␣␣␣␣␣␣␣␣␣␣␣␣␣␣␣␣␣␣␣␣␣␣␣␣␣␣␣␣␣␣␣␣␣␣␣␣␣␣␣␣␣␣␣␣␣␣␣␣␣␣␣␣␣␣␣␣␣␣␣␣␣␣␣␣␣␣␣␣␣␣␣␣␣␣␣␣␣␣␣␣␣␣␣␣␣␣␣␣␣␣␣␣␣␣␣␣␣␣␣␣␣␣␣␣␣␣␣␣␣␣␣␣␣␣␣␣␣␣␣␣␣␣␣␣␣␣␣␣␣␣␣␣␣␣␣␣␣␣␣␣␣␣␣␣␣␣␣␣␣␣␣␣␣␣␣␣␣␣␣␣␣␣␣␣␣␣␣␣␣␣␣␣␣␣␣␣␣␣␣␣␣␣␣␣␣␣␣␣␣␣␣␣␣␣␣␣␣␣\n",
            "\n",
            "\n",
            "\n",
            "Attempt: \"L\" + 1.0\n",
            "-----------------------------------\n",
            "📗 L8®-T2495040®0•7&7&­␣🥕©#ù▪🥕︎▪🥕©¾🥕␣J🥕︎ü©J▪=©E+à🥕à▪$©$$©®␣␣␣␣␣␣␣␣␣␣␣␣␣␣␣␣␣␣␣␣␣␣␣␣␣␣␣␣␣␣␣␣␣␣␣␣␣␣␣␣␣␣␣␣␣␣␣␣␣␣␣␣␣␣␣␣␣␣␣␣␣␣␣␣␣␣␣␣␣␣␣␣␣␣␣␣␣␣␣␣␣␣␣␣␣␣␣␣␣␣␣␣␣␣␣␣␣␣␣␣␣␣␣␣␣␣␣␣␣␣␣␣␣␣␣␣␣␣␣␣␣␣␣␣␣␣␣␣␣␣␣␣␣␣␣␣␣␣␣␣␣␣␣␣␣␣␣␣␣␣␣␣␣␣␣␣␣␣␣␣␣␣␣␣␣␣␣␣␣␣␣␣␣␣␣␣␣␣␣␣␣␣␣␣␣␣␣␣␣␣␣␣␣␣␣␣␣␣␣␣␣␣␣␣␣␣␣␣␣␣␣␣␣␣␣␣␣␣␣␣␣␣␣␣␣␣␣␣␣␣␣␣␣␣␣␣␣␣␣␣␣␣␣␣␣␣␣␣␣␣␣␣␣␣␣␣␣␣␣␣␣␣␣␣␣␣␣␣␣␣␣␣␣␣␣␣␣␣␣␣␣␣␣␣␣␣␣␣␣␣␣␣␣␣␣␣␣␣␣␣␣␣␣␣␣␣␣␣␣␣␣␣␣␣␣␣␣␣␣␣␣␣␣␣␣␣␣␣␣␣␣␣␣␣␣␣␣␣␣␣␣␣␣␣␣␣␣␣␣␣␣␣␣␣␣␣␣␣␣␣␣␣␣␣␣␣␣␣␣␣␣␣␣␣␣␣␣␣␣␣␣␣␣␣␣␣␣␣␣␣␣␣␣␣␣␣␣␣␣␣␣␣␣␣␣␣␣␣␣␣␣␣␣␣␣␣␣␣␣␣␣␣␣␣␣␣␣␣␣␣␣␣␣␣␣␣␣␣␣␣␣␣␣␣␣␣␣␣␣␣␣␣␣␣␣␣␣␣␣␣␣␣␣␣␣␣␣␣␣␣␣␣␣␣␣␣␣␣␣␣␣␣␣␣␣␣␣␣␣␣␣␣␣␣␣␣␣␣␣␣␣␣␣␣␣␣␣␣␣␣␣␣␣␣␣␣␣␣␣␣␣␣␣␣␣␣␣␣␣␣␣␣␣␣␣␣␣␣␣␣␣␣␣␣␣␣␣␣␣␣␣␣␣␣␣␣␣␣␣␣␣␣␣␣␣␣␣␣␣␣␣␣␣␣␣␣␣␣␣␣␣␣␣␣␣␣␣␣␣␣␣␣␣␣␣␣␣␣␣␣␣␣␣␣␣␣␣␣␣␣␣␣␣␣␣␣␣␣␣␣␣␣␣␣␣␣␣␣␣␣␣␣␣␣␣␣␣␣␣␣␣␣␣␣␣␣␣␣␣␣␣␣␣␣␣␣␣␣␣␣␣␣␣␣␣␣␣␣␣␣␣␣␣␣␣␣␣␣␣␣␣␣␣␣␣␣␣␣␣␣␣␣␣␣␣␣␣␣␣␣␣␣␣␣␣␣␣␣␣␣␣␣␣␣␣␣␣␣␣␣␣␣␣␣␣␣␣␣␣␣␣␣␣␣␣␣␣␣␣␣␣␣␣␣␣␣␣␣␣␣␣␣␣␣␣␣␣␣␣␣␣␣␣␣␣␣␣␣␣␣␣␣␣␣␣␣␣␣␣␣␣␣␣␣␣␣␣␣␣␣␣␣␣␣␣␣␣␣␣␣␣␣␣␣␣␣␣␣␣␣␣␣␣␣␣␣␣␣␣␣␣␣␣␣␣␣␣␣␣␣␣␣␣␣␣␣␣␣␣␣␣␣␣␣␣␣␣␣␣␣␣␣␣␣␣␣␣␣␣␣␣␣␣␣␣␣␣␣␣␣␣␣␣␣␣␣␣␣␣␣␣␣␣␣␣␣␣␣␣␣␣␣␣␣␣␣␣␣␣␣␣␣␣␣␣␣␣␣␣␣␣␣␣␣␣␣␣␣␣␣␣␣␣␣␣␣␣␣␣␣␣␣␣␣␣␣␣␣␣␣␣␣␣␣␣␣\n",
            "\n",
            "\n",
            "\n",
            "Attempt: \"L\" + 0.8\n",
            "-----------------------------------\n",
            "📗 L®–U -D® WILS OG\n",
            "\n",
            "📝\n",
            "\n",
            "▪︎ Set oven racks in upper and lower thirds of oven.\n",
            "▪︎ Add 2 tablespoons water to a boil and cook until crisp tender. Add the salt and pepper and cook until heated through, about 1 minute. Add the jalapenos and continue cooking for another 30 seconds. Add the raisins and flavor and adjust the seasoning if necessary. Add the chicken, stir to mix, and simmer for 1 minute. Remove from heat and stir in the remaining 2 tablespoons butter and salt and pepper. Layer on plate and spoon the sausage over each. Serve with an equal amount of Mango Salsa.\n",
            "␣␣␣␣␣␣␣␣␣␣␣␣␣␣␣␣␣␣␣␣␣␣␣␣␣␣␣␣␣␣␣␣␣␣␣␣␣␣␣␣␣␣␣␣␣␣␣␣␣␣␣␣␣␣␣␣␣␣␣␣␣␣␣␣␣␣␣␣␣␣␣␣␣␣␣␣␣␣␣␣␣␣␣␣␣␣␣␣␣␣␣␣␣␣␣␣␣␣␣␣␣␣␣␣␣␣␣␣␣␣␣␣␣␣␣␣␣␣␣␣␣␣␣␣␣␣␣␣␣␣␣␣␣␣␣␣␣␣␣␣␣␣␣␣␣␣␣␣␣␣␣␣␣␣␣␣␣␣␣␣␣␣␣␣␣␣␣␣␣␣␣␣␣␣␣␣␣␣␣␣␣␣␣␣␣␣␣␣␣␣␣␣␣␣␣␣␣␣␣␣␣␣␣␣␣␣␣␣␣␣␣␣␣␣␣␣␣␣␣␣␣␣␣␣␣␣␣␣␣␣␣␣␣␣␣␣␣␣␣␣␣␣␣␣␣␣␣␣␣␣␣␣␣␣␣␣␣␣␣␣␣␣␣␣␣␣␣␣␣␣␣␣␣␣␣␣␣␣␣␣␣␣␣␣␣␣␣␣␣␣␣␣␣␣␣␣␣␣␣␣␣␣␣␣␣␣␣␣␣␣␣␣␣␣␣␣␣␣␣␣␣␣␣␣␣␣␣␣␣␣␣␣␣␣␣␣␣␣␣␣␣␣␣␣␣␣␣␣␣␣␣␣␣␣␣␣␣␣␣␣␣␣␣␣␣␣␣␣␣␣␣␣␣␣␣␣␣␣␣␣␣␣␣␣␣␣␣␣␣␣␣␣␣␣␣␣␣␣␣␣␣␣␣␣␣␣␣␣␣␣␣␣␣␣␣␣␣␣␣␣␣␣␣␣␣␣␣␣␣␣\n",
            "\n",
            "\n",
            "\n",
            "Attempt: \"L\" + 0.4\n",
            "-----------------------------------\n",
            "📗 LVSKEETA Pate\n",
            "\n",
            "🥕\n",
            "\n",
            "• 1 1/2 cups chopped onions\n",
            "• 1 cup chopped green bell pepper\n",
            "• 1 cup diced celery\n",
            "• 1 cup chopped fresh parsley\n",
            "• 1 cup chopped red onions\n",
            "• 1 cup diced carrot\n",
            "• 1/2 cup chopped onion\n",
            "• 1/2 cup diced celery\n",
            "• 1/2 cup chopped onion\n",
            "• 1/2 cup chopped green bell pepper\n",
            "• 1 cup chopped green onions\n",
            "• 1 cup chopped fresh spinach\n",
            "• 1 cup chicken broth\n",
            "• 1 cup shredded sharp Cheddar\n",
            "• 1/2 cup shredded part-skim mozzarella\n",
            "• 1 cup grated Parmesan\n",
            "\n",
            "📝\n",
            "\n",
            "▪︎ Heat the oil in a large saucepan over medium heat. Add the onion and cook until softened, about 5 minutes. Add the garlic and cook for 1 minute. Add the chicken stock, water, and salt and pepper and bring to a boil. Reduce the heat and simmer for 30 minutes.\n",
            "▪︎ Preheat the oven to 350 degrees F.\n",
            "▪︎ Pour the beaten egg into a bowl and stir in the cheese and the salt. Pour the egg mixture into the pan and stir to combine. Pour the sauce over the top of the bread. Bake for 30 minutes or until the cheese is melted and bubbly. Serv\n",
            "\n",
            "\n",
            "\n",
            "Attempt: \"L\" + 0.2\n",
            "-----------------------------------\n",
            "📗 LVIXChING PEET\n",
            "\n",
            "🥕\n",
            "\n",
            "• 1 cup sour cream\n",
            "• 1 cup heavy cream\n",
            "• 1 cup shredded sharp Cheddar\n",
            "• 1/2 cup chopped fresh cilantro\n",
            "• 1/2 cup chopped fresh cilantro\n",
            "• 1/2 cup chopped fresh cilantro\n",
            "• 1/2 cup chopped fresh cilantro\n",
            "• 1/2 cup chopped fresh cilantro\n",
            "• 1/2 cup chopped fresh cilantro\n",
            "• 1/2 cup chopped fresh cilantro\n",
            "• 1 cup chopped fresh cilantro\n",
            "• 1 cup shredded carrots\n",
            "• 1 cup chopped fresh cilantro\n",
            "• 1 cup chopped fresh cilantro\n",
            "• 1 cup shredded carrots\n",
            "• 1 cup chopped fresh cilantro\n",
            "• 1 cup chopped fresh cilantro\n",
            "• 1 cup sliced scallions\n",
            "• 1 cup shredded carrots\n",
            "• 1 cup chopped fresh cilantro\n",
            "• 1 cup chopped fresh cilantro\n",
            "• 1 cup sliced scallions\n",
            "• 1 cup fresh cilantro leaves\n",
            "• 1/2 cup fresh cilantro leaves\n",
            "• 1 tablespoon chopped fresh cilantro\n",
            "\n",
            "📝\n",
            "\n",
            "▪︎ Watch how to make this recipe.\n",
            "▪︎ Preheat the oven to 350 degrees F.\n",
            "▪︎ Put the corn on a baking sheet and bake for 10 minutes. Remove from the oven and let cool.\n",
            "▪︎ In a large bowl, combine the cornstarch and water. Set aside.\n",
            "▪︎ I\n",
            "\n",
            "\n",
            "\n",
            "Attempt: \"Mushroom\" + 1.0\n",
            "-----------------------------------\n",
            "📗 Mushroom Sausage and French Chorizo\n",
            "\n",
            "🥕\n",
            "\n",
            "• 4 pounds surrounded chiles, unpeeled and diced (16 ounces)\n",
            "• Salt and freshly ground black pepper\n",
            "• 3/4 teaspoon dried mustard powder\n",
            "• 1/2 cup vegetable broth\n",
            "• 1 package (about 18-ounce) package phy half-and-half\n",
            "• 6 ounces uncooked fat-free cracked iceberg at blue cheese wheat drippings, first (about 2 cups)\n",
            "\n",
            "📝\n",
            "\n",
            "▪︎ Melt the butter in a large heavy-bottomed pot over medium heat. Add the onion and carrot and cook, stirring, until the onions are golden brown, about 4 minutes. Add the curry powder, cooking for 2 minutes until slightly browned and the mixture is incorporated. Add the water and water until scrambled. Add the kale, spread evenly and bake at 350 degrees F for about 25 minutes.\n",
            "␣␣␣␣␣␣␣␣␣␣␣␣␣␣␣␣␣␣␣␣␣␣␣␣␣␣␣␣␣␣␣␣␣␣␣␣␣␣␣␣␣␣␣␣␣␣␣␣␣␣␣␣␣␣␣␣␣␣␣␣␣␣␣␣␣␣␣␣␣␣␣␣␣␣␣␣␣␣␣␣␣␣␣␣␣␣␣␣␣␣␣␣␣␣␣␣␣␣␣␣␣␣␣␣␣␣␣␣␣␣␣␣␣␣␣␣␣␣␣␣␣␣␣␣␣␣␣␣␣␣␣␣␣␣␣␣␣␣␣␣␣␣␣␣␣␣␣␣␣␣␣␣␣␣␣␣␣␣␣␣␣␣␣␣␣␣␣␣␣␣␣␣␣␣␣␣␣␣␣␣␣␣␣␣␣␣␣␣␣␣␣␣␣␣␣␣␣␣␣␣␣␣␣␣␣␣␣␣␣␣␣␣␣␣␣␣␣␣␣␣␣␣␣␣␣␣␣␣␣␣␣␣␣␣␣␣␣␣␣␣␣␣␣␣␣␣␣␣␣␣␣␣␣␣␣␣␣␣␣␣␣␣␣␣␣␣␣␣\n",
            "\n",
            "\n",
            "\n",
            "Attempt: \"Mushroom\" + 0.8\n",
            "-----------------------------------\n",
            "📗 Mushroom Shrimp\n",
            "\n",
            "🥕\n",
            "\n",
            "• 2 tablespoons butter\n",
            "• 2 pounds ground pork meat, drained\n",
            "• 1 cup red wine\n",
            "• 1/2 cup fresh chives, chopped\n",
            "• 1 3/4 cups chicken broth\n",
            "• 1 tablespoon chili powder\n",
            "• 1 tablespoon mustard seed\n",
            "• 1 tablespoon granulated garlic\n",
            "• 1 teaspoon ground black pepper\n",
            "• 1 teaspoon garlic powder\n",
            "• Pinch of freshly ground black pepper\n",
            "• 1 tablespoon chopped onion\n",
            "\n",
            "📝\n",
            "\n",
            "▪︎ In a large heavy skillet heat oil over moderate heat until hot but not smoking and brown slices of chicken on all sides. When melon batches are starting to set, remove and set aside. Remove peel and pat dry. Remove all stems and seeds. Cut tomatoes from yogurt into a plastic bag and add fat and sauteed 1/2 cup whole grain stores over and tie butter.\n",
            "▪︎ Put any pan concentrate into a saucepan over low heat, add cream and bring to a boil, stirring constantly, until the liquid is reduced by about half. Add cherry vinegar and simmer for about 20 minutes, until cooked through (no more being keep, transferring to a platter). T\n",
            "\n",
            "\n",
            "\n",
            "Attempt: \"Mushroom\" + 0.4\n",
            "-----------------------------------\n",
            "📗 Mushroom Egg Fries\n",
            "\n",
            "🥕\n",
            "\n",
            "• 2 cups canola oil\n",
            "• 1 cup milk\n",
            "• 1 cup sour cream\n",
            "• 1 cup chopped fresh parsley leaves\n",
            "• 1/4 cup sour cream\n",
            "• 1/2 cup sour cream\n",
            "• 1 tablespoon capers, drained and roughly chopped\n",
            "• 1 tablespoon chopped fresh parsley\n",
            "• 1 tablespoon chopped fresh rosemary\n",
            "• 1 tablespoon freshly chopped parsley leaves\n",
            "• 1 tablespoon chopped fresh thyme\n",
            "• 1 tablespoon chopped fresh thyme\n",
            "• 1 tablespoon chopped fresh parsley\n",
            "• 1 teaspoon freshly grated lemon zest\n",
            "• 1/2 teaspoon freshly ground black pepper\n",
            "\n",
            "📝\n",
            "\n",
            "▪︎ Preheat the oven to 350 degrees F.\n",
            "▪︎ In a large bowl, combine the chicken, salsa, salt, pepper and cornmeal. The mixture should be the consistency of a fat in the middle. Spread the corn mixture on the bottom of the pan. Sprinkle with the salt and black pepper and place in the oven. Bake for 20 minutes or until the crust is golden brown and the crust is golden. Serve immediately.\n",
            "␣␣␣␣␣␣␣␣␣␣␣␣␣␣␣␣␣␣␣␣␣␣␣␣␣␣␣␣␣␣␣␣␣␣␣␣␣␣␣␣␣␣␣␣␣␣␣␣␣␣␣␣␣␣␣␣␣␣␣␣␣␣␣␣␣␣␣␣␣␣␣␣␣␣␣␣␣␣␣␣␣␣␣␣␣␣␣␣␣␣␣␣␣␣␣␣␣␣␣␣␣␣\n",
            "\n",
            "\n",
            "\n",
            "Attempt: \"Mushroom\" + 0.2\n",
            "-----------------------------------\n",
            "📗 Mushroom Soup\n",
            "\n",
            "🥕\n",
            "\n",
            "• 1 pound ground beef\n",
            "• 1 pound ground pork\n",
            "• 1 teaspoon chili powder\n",
            "• 1 teaspoon ground cumin\n",
            "• 1 teaspoon ground cumin\n",
            "• 1 teaspoon ground cumin\n",
            "• 1 teaspoon ground cumin\n",
            "• 1 teaspoon ground cumin\n",
            "• 1 teaspoon ground cumin\n",
            "• 1 teaspoon ground cumin\n",
            "• 1 teaspoon ground cumin\n",
            "• 1/2 teaspoon ground cumin\n",
            "• 1/2 teaspoon ground cumin\n",
            "• 1/2 teaspoon ground cinnamon\n",
            "• 1/4 teaspoon ground cloves\n",
            "• 1/2 teaspoon ground cinnamon\n",
            "• 1/2 teaspoon ground cinnamon\n",
            "• 1/4 teaspoon ground cloves\n",
            "• 1/4 teaspoon ground cloves\n",
            "• 1/2 teaspoon ground cumin\n",
            "• 1/2 teaspoon ground cinnamon\n",
            "• 1/4 teaspoon ground cloves\n",
            "• 1/4 teaspoon ground cloves\n",
            "• 1/4 teaspoon ground cinnamon\n",
            "• 1 tablespoon fresh lemon juice\n",
            "• 1/2 cup chopped fresh cilantro\n",
            "• 1 cup chopped fresh cilantro\n",
            "• 1 cup chopped fresh cilantro\n",
            "• 1 cup chopped fresh cilantro\n",
            "• 1 cup shredded carrots\n",
            "• 1 cup chopped fresh cilantro\n",
            "• 1 cup chopped fresh cilantro\n",
            "• 1/2 cup chopped fresh cilantro\n",
            "• 1/4 cup chopped fresh cilantro\n",
            "• 1 tablespoon c\n",
            "\n",
            "\n",
            "\n",
            "Attempt: \"Apple\" + 1.0\n",
            "-----------------------------------\n",
            "📗 Apple and Chorizo Gras Startini di Sauce Pesto\n",
            "\n",
            "🥕\n",
            "\n",
            "• 3 1/2-pound package angel food pressed or homemade pye filling (cayenne pasta)\n",
            "• 1/2 Cup grated Parmesan cheese\n",
            "• 4 cloves garlic, smashed\n",
            "• 2 sprigs fresh thyme\n",
            "• 2 garlic cloves\n",
            "• 1 slice American teaward 1/4 lettuce\n",
            "\n",
            "📝\n",
            "\n",
            "▪︎ For the first for dip: Preheat oven to 350 degrees F. In a large nonreactive mixing bowl, combine the oil and 1/2 teaspoon each of salt and pepper.\n",
            "▪︎ Place the pork in a frying pan. Pour over the anchovies, basil, garlic, and salt and pepper. Mix well with fingers, around the mixture to coat well and put in the oven for about 10 minutes. Meanwhile, bring broth to a rolling boil; add the pasta and Anystuck beans, and then cook until they rise to the surface, 10 to 12 minutes. Mix well as directed.\n",
            "▪︎ Photograph by Antonis Achilleos\n",
            "␣␣␣␣␣␣␣␣␣␣␣␣␣␣␣␣␣␣␣␣␣␣␣␣␣␣␣␣␣␣␣␣␣␣␣␣␣␣␣␣␣␣␣␣␣␣␣␣␣␣␣␣␣␣␣␣␣␣␣␣␣␣␣␣␣␣␣␣␣␣␣␣␣␣␣␣␣␣␣␣␣␣␣␣␣␣␣␣␣␣␣␣␣␣␣␣␣␣␣␣␣␣␣␣␣␣␣␣␣␣␣␣␣␣␣␣␣␣␣␣␣␣␣␣␣␣␣␣␣␣␣␣␣␣␣␣␣␣␣␣␣␣␣␣␣␣␣␣␣␣␣␣␣␣␣␣␣␣␣␣␣␣␣␣␣␣␣␣␣␣␣␣␣␣␣␣␣␣␣␣␣␣␣␣␣␣␣␣\n",
            "\n",
            "\n",
            "\n",
            "Attempt: \"Apple\" + 0.8\n",
            "-----------------------------------\n",
            "📗 Apple Jerk Sauce\n",
            "\n",
            "🥕\n",
            "\n",
            "• 1 1/2 sticks butter\n",
            "• 3 cups milk\n",
            "• 2 cups shredded cooked turkey\n",
            "• 1 tablespoon salt\n",
            "• 2 teaspoons freshly ground black pepper\n",
            "• 1 pound ground beef, skin on\n",
            "• 1 pound baby spinach\n",
            "• 2 large russet baking potatoes, peeled and cut into 12 wedges\n",
            "• 1 1/4 cups chopped tomato\n",
            "• 1 cup light cream\n",
            "• 1 cup shredded Cheddar\n",
            "• 1/2 teaspoon chicken stock\n",
            "• 1/4 teaspoon cayenne pepper\n",
            "• 1/8 teaspoon salt\n",
            "• 12 ounces shredded cheddar, any flour\n",
            "• 1/3 cup panko (Japanese breadcrumbs)\n",
            "• 1/2 cup panko breadcrumbs\n",
            "• 2 tablespoons flour\n",
            "• Pepper\n",
            "\n",
            "📝\n",
            "\n",
            "▪︎ For the crepe: Preheat the oven to 400 degrees F. Put the macaroni on a baking sheet lined with half of the other one slice. Arrange the slices on the baking sheet and bake until baked and thermometer registers 120 degrees F, about 12 minutes.\n",
            "▪︎ Meanwhile, stir the corned beef and chorizo in a saucepan and place over medium-high heat. Cook according to the package directions and ladle into the pepper, then add the butter, the chives, \n",
            "\n",
            "\n",
            "\n",
            "Attempt: \"Apple\" + 0.4\n",
            "-----------------------------------\n",
            "📗 Applesau Pie\n",
            "\n",
            "🥕\n",
            "\n",
            "• 1 pound ground beef\n",
            "• 1 pound ground beef\n",
            "• 1 cup grated Parmesan\n",
            "• 1 tablespoon chopped fresh thyme\n",
            "• 1 tablespoon fresh rosemary, chopped\n",
            "• 1 cup grated Parmesan\n",
            "• 1 teaspoon dried oregano\n",
            "• 1 teaspoon dried thyme\n",
            "\n",
            "📝\n",
            "\n",
            "▪︎ Preheat oven to 375 degrees F.\n",
            "▪︎ Saute onions in butter until tender. Add chicken stock and simmer for 10 minutes. Add water and cook until meat is browned. Remove from heat and let cool.\n",
            "▪︎ In a saucepan over medium heat, add oil and saute the garlic and chiles until soft. Add the salt and pepper and cook for 1 minute. Add the chicken stock and bring to a boil. Reduce heat to low and simmer for 2 hours.\n",
            "▪︎ Serve with rice and a dipping sauce.\n",
            "␣␣␣␣␣␣␣␣␣␣␣␣␣␣␣␣␣␣␣␣␣␣␣␣␣␣␣␣␣␣␣␣␣␣␣␣␣␣␣␣␣␣␣␣␣␣␣␣␣␣␣␣␣␣␣␣␣␣␣␣␣␣␣␣␣␣␣␣␣␣␣␣␣␣␣␣␣␣␣␣␣␣␣␣␣␣␣␣␣␣␣␣␣␣␣␣␣␣␣␣␣␣␣␣␣␣␣␣␣␣␣␣␣␣␣␣␣␣␣␣␣␣␣␣␣␣␣␣␣␣␣␣␣␣␣␣␣␣␣␣␣␣␣␣␣␣␣␣␣␣␣␣␣␣␣␣␣␣␣␣␣␣␣␣␣␣␣␣␣␣␣␣␣␣␣␣␣␣␣␣␣␣␣␣␣␣␣␣␣␣␣␣␣␣␣␣␣␣␣␣␣␣␣␣␣␣␣␣␣␣␣␣␣␣␣␣␣␣␣␣␣␣␣␣␣␣␣␣␣␣␣␣␣␣␣␣␣␣␣␣␣␣␣␣␣␣␣␣␣␣␣␣␣␣␣␣␣␣␣␣␣␣␣␣␣␣␣␣␣␣␣␣␣␣␣␣␣␣␣␣␣␣␣␣␣␣␣␣␣␣␣␣␣␣␣␣␣␣␣␣␣␣␣␣␣␣␣␣␣␣␣␣␣␣\n",
            "\n",
            "\n",
            "\n",
            "Attempt: \"Apple\" + 0.2\n",
            "-----------------------------------\n",
            "📗 Applesaulos Frozen Salad\n",
            "\n",
            "🥕\n",
            "\n",
            "• 1 1/2 cups all-purpose flour\n",
            "• 1 tablespoon sugar\n",
            "• 1 tablespoon salt\n",
            "• 1 tablespoon chopped fresh thyme\n",
            "• 1 tablespoon chopped fresh thyme\n",
            "• 1 tablespoon chopped fresh rosemary\n",
            "• 1 tablespoon freshly chopped cilantro leaves\n",
            "• 1 tablespoon fresh lemon juice\n",
            "• 1 tablespoon chopped fresh thyme\n",
            "• 1 tablespoon chopped fresh thyme\n",
            "• 1 tablespoon fresh thyme leaves\n",
            "• 1 tablespoon fresh lemon juice\n",
            "• 1 tablespoon olive oil\n",
            "• 1 tablespoon chopped fresh thyme\n",
            "• 1 tablespoon chopped fresh thyme\n",
            "• 1 tablespoon chopped fresh thyme\n",
            "• 1 tablespoon fresh thyme leaves\n",
            "• 1 tablespoon chopped fresh rosemary\n",
            "• 1 tablespoon chopped fresh thyme\n",
            "• 1 tablespoon chopped fresh thyme\n",
            "• 1 tablespoon chopped fresh thyme\n",
            "• 1 tablespoon finely chopped fresh rosemary\n",
            "• 1 tablespoon chopped fresh rosemary\n",
            "• 1 tablespoon chopped fresh thyme\n",
            "• 1 tablespoon chopped fresh rosemary\n",
            "• 1 tablespoon fresh thyme leaves\n",
            "• 1 tablespoon chopped fresh thyme\n",
            "• 1 tablespoon chopped fresh rosemary\n",
            "• 1 table\n",
            "\n",
            "\n",
            "\n",
            "Attempt: \"Slow\" + 1.0\n",
            "-----------------------------------\n",
            "📗 Slow-Fire Flax mix Jerkys BBQ Shrimp and Noodle Pugella Pancakes: Second Rice Cassers\n",
            "\n",
            "🥕\n",
            "\n",
            "• 1 1/4 to 1 pound duck, pitted\n",
            "• Kosher salt and freshly ground black pepper\n",
            "• 14 ounces pullop, halved half-a pil, remaining parchment paper\n",
            "• 1 tablespoon unsalted butter, plus additional extra-virgin olive oil\n",
            "• Lemon wedges, optional\n",
            "\n",
            "📝\n",
            "\n",
            "▪︎ Top each spread slice with flesh, cut sides up, in a single layer and sprinkle lightly with 1/4 teaspoon salt. Sprinkle with sea salt and black pepper.\n",
            "▪︎ Heat a nonstick skillet over moderate heat until hot, then add plantains and cook, stirring occasionally, until crisp and evenly brown, about 10 minutes. Set aside.\n",
            "▪︎ Add the butter through a fine sieve into the pan to reach halfway using a rolling pin. Remove from heat and add 4 tablespoons butter, half the hot red pepper, yogurt, all but 2 tablespoons butter.\n",
            "▪︎ Pour the hot soup over the crepe in the pan. Cook, without stirring, 2 to 3 minutes more. Brush with egg. Add the remaining 1 Tbsp. of the basil.\n",
            "\n",
            "\n",
            "\n",
            "Attempt: \"Slow\" + 0.8\n",
            "-----------------------------------\n",
            "📗 Slower Dessert Potato Soup with Parmesan and Prosciutto Upside down macaroons\n",
            "\n",
            "🥕\n",
            "\n",
            "▪︎ Place cheese and bread crumbs in a shallow bowl. Heat dry in a deep-fat fryer to 375 degrees F.\n",
            "▪︎ Preheat oven to 400 degrees F.\n",
            "▪︎ Place 2 slices of bacon on a sheet pan. Place the patties on the foil. Fold the slices at a time and then fold in the slices of the cheese, then sprinkle with butter.\n",
            "▪︎ Place 1 slice of toast in the center of each. Roll up sides down and dip 1 end of crescent roll into the center of the crust of cheese. Dip soup bowl in food the rest and grill or preheat it for 3 minutes. Remove to a paper towel-lined baking sheet and serve.\n",
            "␣␣␣␣␣␣␣␣␣␣␣␣␣␣␣␣␣␣␣␣␣␣␣␣␣␣␣␣␣␣␣␣␣␣␣␣␣␣␣␣␣␣␣␣␣␣␣␣␣␣␣␣␣␣␣␣␣␣␣␣␣␣␣␣␣␣␣␣␣␣␣␣␣␣␣␣␣␣␣␣␣␣␣␣␣␣␣␣␣␣␣␣␣␣␣␣␣␣␣␣␣␣␣␣␣␣␣␣␣␣␣␣␣␣␣␣␣␣␣␣␣␣␣␣␣␣␣␣␣␣␣␣␣␣␣␣␣␣␣␣␣␣␣␣␣␣␣␣␣␣␣␣␣␣␣␣␣␣␣␣␣␣␣␣␣␣␣␣␣␣␣␣␣␣␣␣␣␣␣␣␣␣␣␣␣␣␣␣␣␣␣␣␣␣␣␣␣␣␣␣␣␣␣␣␣␣␣␣␣␣␣␣␣␣␣␣␣␣␣␣␣␣␣␣␣␣␣␣␣␣␣␣␣␣␣␣␣␣␣␣␣␣␣␣␣␣␣␣␣␣␣␣␣␣␣␣␣␣␣␣␣␣␣␣␣␣␣␣␣␣␣␣␣␣␣␣␣␣␣␣␣␣␣␣␣␣␣␣␣␣␣␣␣␣␣␣␣␣␣␣␣␣␣␣␣␣␣␣␣␣␣␣␣␣␣␣␣␣␣␣␣␣␣␣␣␣␣␣␣␣␣␣␣␣␣␣␣␣␣␣␣␣␣␣␣␣␣␣␣␣␣␣␣␣␣␣\n",
            "\n",
            "\n",
            "\n",
            "Attempt: \"Slow\" + 0.4\n",
            "-----------------------------------\n",
            "📗 Slow-Cooker Burgers with Chipotle Chile Sauce and Prosciutto\n",
            "\n",
            "🥕\n",
            "\n",
            "• 2 pounds red beets, peeled and cut into 1-inch pieces\n",
            "• 1 tablespoon olive oil\n",
            "• 1 tablespoon finely chopped fresh thyme leaves\n",
            "• 1 large shallot, minced\n",
            "• 1 teaspoon chopped fresh thyme\n",
            "• 1 teaspoon salt\n",
            "• 1/2 teaspoon freshly ground black pepper\n",
            "• 1/2 cup chopped fresh cilantro leaves\n",
            "• 1/4 cup fresh lemon juice\n",
            "• 1/4 cup chopped fresh cilantro leaves\n",
            "\n",
            "📝\n",
            "\n",
            "▪︎ Preheat the oven to 350 degrees F.\n",
            "▪︎ Sprinkle the chicken with salt and pepper. Heat a cast iron skillet over high heat until hot. Add the onions and cook until golden brown, about 5 minutes. Add the garlic, salt, and pepper and cook, stirring, until the onion is soft, about 1 minute. Transfer the chicken to a baking dish and set aside.\n",
            "▪︎ Place the steak in the pan and cook until crisp, about 5 minutes. Turn the steaks to the other side and cook until the chicken is cooked through, about 5 minutes per side. Transfer the tomatoes to a bowl and let cool slightly.\n",
            "▪︎ M\n",
            "\n",
            "\n",
            "\n",
            "Attempt: \"Slow\" + 0.2\n",
            "-----------------------------------\n",
            "📗 Slow-Cooker Rice Pasta\n",
            "\n",
            "🥕\n",
            "\n",
            "• 1 pound ground beef\n",
            "• 1 pound ground pork\n",
            "• 1 teaspoon ground cumin\n",
            "• 1 teaspoon ground cumin\n",
            "• 1 teaspoon ground cumin\n",
            "• 1 teaspoon ground cumin\n",
            "• 1 teaspoon ground cumin\n",
            "• 1 teaspoon ground cumin\n",
            "• 1 teaspoon ground cumin\n",
            "• 1 teaspoon ground cumin\n",
            "• 1 teaspoon ground cumin\n",
            "• 1 teaspoon ground cumin\n",
            "• 1 teaspoon ground cumin\n",
            "• 1/2 teaspoon ground cinnamon\n",
            "• 1/2 teaspoon ground cinnamon\n",
            "• 1/4 teaspoon ground cloves\n",
            "• 1/4 teaspoon ground cinnamon\n",
            "• 1/4 teaspoon ground cinnamon\n",
            "• 1/4 teaspoon ground cloves\n",
            "• 1/4 teaspoon ground cinnamon\n",
            "• 1/4 teaspoon ground cloves\n",
            "• 1/4 teaspoon ground cloves\n",
            "• 1/4 teaspoon ground black pepper\n",
            "• 1/4 cup chopped fresh cilantro\n",
            "• 1/4 cup fresh cilantro leaves, chopped\n",
            "• 1/2 cup chopped fresh cilantro\n",
            "• 1/4 cup chopped fresh cilantro\n",
            "• 1/2 cup chopped fresh cilantro\n",
            "• 1/4 cup chopped fresh cilantro\n",
            "\n",
            "📝\n",
            "\n",
            "▪︎ For the salad: Place the flour in a shallow dish. Dip the fish in the flour, then the egg whites and then the egg whites in a se\n",
            "\n",
            "\n",
            "\n",
            "Attempt: \"Christmass\" + 1.0\n",
            "-----------------------------------\n",
            "📗 Christmass Vegetarian Buns Fold\n",
            "• Cayenne powder\n",
            "• 1/2 cup dry white wine\n",
            "\n",
            "📝\n",
            "\n",
            "▪︎ Heat grill. Brush crusts with butter. Cut a slit in the thickest part of the side entirelition and to make a spoonful of your fish. Sprinkle 3 slices of bread with salt and sprinkle with salt and pepper, to taste. Sprinkle remaining ¼-garinated onions on top of the patties.\n",
            "▪︎ Sprinkle with cheddar and press the surface of the layers. Drizzle remaining 1/4 teaspoon salt with enough oil to flour on one of the steaks. Grill, covered, for 3 minutes. Garnish with cheeses.\n",
            "␣␣␣␣␣␣␣␣␣␣␣␣␣␣␣␣␣␣␣␣␣␣␣␣␣␣␣␣␣␣␣␣␣␣␣␣␣␣␣␣␣␣␣␣␣␣␣␣␣␣␣␣␣␣␣␣␣␣␣␣␣␣␣␣␣␣␣␣␣␣␣␣␣␣␣␣␣␣␣␣␣␣␣␣␣␣␣␣␣␣␣␣␣␣␣␣␣␣␣␣␣␣␣␣␣␣␣␣␣␣␣␣␣␣␣␣␣␣␣␣␣␣␣␣␣␣␣␣␣␣␣␣␣␣␣␣␣␣␣␣␣␣␣␣␣␣␣␣␣␣␣␣␣␣␣␣␣␣␣␣␣␣␣␣␣␣␣␣␣␣␣␣␣␣␣␣␣␣␣␣␣␣␣␣␣␣␣␣␣␣␣␣␣␣␣␣␣␣␣␣␣␣␣␣␣␣␣␣␣␣␣␣␣␣␣␣␣␣␣␣␣␣␣␣␣␣␣␣␣␣␣␣␣␣␣␣␣␣␣␣␣␣␣␣␣␣␣␣␣␣␣␣␣␣␣␣␣␣␣␣␣␣␣␣␣␣␣␣␣␣␣␣␣␣␣␣␣␣␣␣␣␣␣␣␣␣␣␣␣␣␣␣␣␣␣␣␣␣␣␣␣␣␣␣␣␣␣␣␣␣␣␣␣␣␣␣␣␣␣␣␣␣␣␣␣␣␣␣␣␣␣␣␣␣␣␣␣␣␣␣␣␣␣␣␣␣␣␣␣␣␣␣␣␣␣␣␣␣␣␣␣␣␣␣␣␣␣␣␣␣␣␣␣␣␣␣␣␣␣␣␣␣␣␣␣␣␣␣␣␣␣␣␣␣␣␣␣␣␣␣␣␣␣␣␣␣␣␣␣␣␣␣␣␣␣␣␣␣␣␣␣␣␣␣␣␣␣␣␣␣␣␣␣␣␣␣␣␣␣␣␣␣␣␣␣␣␣␣␣␣␣␣␣␣␣␣\n",
            "\n",
            "\n",
            "\n",
            "Attempt: \"Christmass\" + 0.8\n",
            "-----------------------------------\n",
            "📗 Christmass Vegetarian and Fresh Fruit Salad with Honey Mustard Sauce, recipe follows\n",
            "\n",
            "📝\n",
            "\n",
            "▪︎ Bring vinegar and water to a boil in a medium saucepan and simmer for 10 minutes.\n",
            "▪︎ Add corn kernels to steaming thoroughly. Stir in spinach. Taste to taste in a large pot of bacon grease. Discard any mussels that do not open. Remove the pan from the heat and add the tapenade. Serve with dippers: A PEEBEEDEL CARNSERNE:\n",
            "␣␣␣␣␣␣␣␣␣␣␣␣␣␣␣␣␣␣␣␣␣␣␣␣␣␣␣␣␣␣␣␣␣␣␣␣␣␣␣␣␣␣␣␣␣␣␣␣␣␣␣␣␣␣␣␣␣␣␣␣␣␣␣␣␣␣␣␣␣␣␣␣␣␣␣␣␣␣␣␣␣␣␣␣␣␣␣␣␣␣␣␣␣␣␣␣␣␣␣␣␣␣␣␣␣␣␣␣␣␣␣␣␣␣␣␣␣␣␣␣␣␣␣␣␣␣␣␣␣␣␣␣␣␣␣␣␣␣␣␣␣␣␣␣␣␣␣␣␣␣␣␣␣␣␣␣␣␣␣␣␣␣␣␣␣␣␣␣␣␣␣␣␣␣␣␣␣␣␣␣␣␣␣␣␣␣␣␣␣␣␣␣␣␣␣␣␣␣␣␣␣␣␣␣␣␣␣␣␣␣␣␣␣␣␣␣␣␣␣␣␣␣␣␣␣␣␣␣␣␣␣␣␣␣␣␣␣␣␣␣␣␣␣␣␣␣␣␣␣␣␣␣␣␣␣␣␣␣␣␣␣␣␣␣␣␣␣␣␣␣␣␣␣␣␣␣␣␣␣␣␣␣␣␣␣␣␣␣␣␣␣␣␣␣␣␣␣␣␣␣␣␣␣␣␣␣␣␣␣␣␣␣␣␣␣␣␣␣␣␣␣␣␣␣␣␣␣␣␣␣␣␣␣␣␣␣␣␣␣␣␣␣␣␣␣␣␣␣␣␣␣␣␣␣␣␣␣␣␣␣␣␣␣␣␣␣␣␣␣␣␣␣␣␣␣␣␣␣␣␣␣␣␣␣␣␣␣␣␣␣␣␣␣␣␣␣␣␣␣␣␣␣␣␣␣␣␣␣␣␣␣␣␣␣␣␣␣␣␣␣␣␣␣␣␣␣␣␣␣␣␣␣␣␣␣␣␣␣␣␣␣␣␣␣␣␣␣␣␣␣␣␣␣␣␣␣␣␣␣␣␣␣␣␣␣␣␣␣␣␣␣␣␣␣␣␣␣␣␣␣␣␣␣␣␣␣␣␣␣␣␣␣␣␣␣␣␣␣␣␣␣␣␣␣␣␣␣␣␣␣␣␣␣␣␣␣␣␣␣␣␣␣␣␣␣␣␣␣␣␣␣␣␣␣␣␣␣␣␣␣␣␣␣␣␣␣␣␣␣␣␣␣␣␣␣␣␣␣␣␣␣␣␣␣␣␣␣␣␣␣␣␣␣␣␣␣␣␣␣␣␣␣␣␣␣␣␣␣␣␣␣␣␣␣␣␣\n",
            "\n",
            "\n",
            "\n",
            "Attempt: \"Christmass\" + 0.4\n",
            "-----------------------------------\n",
            "📗 Christmass Veggie Fries\n",
            "\n",
            "🥕\n",
            "\n",
            "• 1 pound ground beef\n",
            "• 1 stick unsalted butter\n",
            "• 2 tablespoons butter\n",
            "• 1 tablespoon chopped fresh oregano\n",
            "• 1 tablespoon fresh thyme leaves\n",
            "• 1 teaspoon salt\n",
            "• 1 teaspoon freshly ground black pepper\n",
            "• 1/2 cup heavy cream\n",
            "• 1 cup grated Parmesan\n",
            "• 1/2 cup chopped fresh flat-leaf parsley\n",
            "• 1 cup shredded mozzarella\n",
            "• 1 cup fresh basil leaves, chopped\n",
            "\n",
            "📝\n",
            "\n",
            "▪︎ Preheat the oven to 400 degrees F.\n",
            "▪︎ In a large bowl, combine the chicken stock, buttermilk, eggs, cheese, salt and pepper and mix until combined. Form the mixture into 1-inch balls and arrange them on a baking sheet.\n",
            "▪︎ Bake for 10 to 12 minutes or until the cheese is melted. Serve warm or at room temperature.\n",
            "␣␣␣␣␣␣␣␣␣␣␣␣␣␣␣␣␣␣␣␣␣␣␣␣␣␣␣␣␣␣␣␣␣␣␣␣␣␣␣␣␣␣␣␣␣␣␣␣␣␣␣␣␣␣␣␣␣␣␣␣␣␣␣␣␣␣␣␣␣␣␣␣␣␣␣␣␣␣␣␣␣␣␣␣␣␣␣␣␣␣␣␣␣␣␣␣␣␣␣␣␣␣␣␣␣␣␣␣␣␣␣␣␣␣␣␣␣␣␣␣␣␣␣␣␣␣␣␣␣␣␣␣␣␣␣␣␣␣␣␣␣␣␣␣␣␣␣␣␣␣␣␣␣␣␣␣␣␣␣␣␣␣␣␣␣␣␣␣␣␣␣␣␣␣␣␣␣␣␣␣␣␣␣␣␣␣␣␣␣␣␣␣␣␣␣␣␣␣␣␣␣␣␣␣␣␣␣␣␣␣␣␣␣␣␣␣␣␣␣␣␣␣␣␣␣␣␣␣␣␣␣␣␣␣␣␣␣␣␣␣␣␣␣␣␣␣␣␣␣␣␣␣␣␣␣␣␣␣␣␣␣␣␣␣␣␣␣␣␣␣␣␣␣␣␣␣␣␣␣␣␣␣␣␣␣␣␣␣␣␣␣␣␣␣␣␣␣␣␣␣␣␣␣␣␣␣␣␣\n",
            "\n",
            "\n",
            "\n",
            "Attempt: \"Christmass\" + 0.2\n",
            "-----------------------------------\n",
            "📗 Christmass Vinaigrette and Spinach Salad with Spicy Sauce\n",
            "\n",
            "🥕\n",
            "\n",
            "• 1 cup sour cream\n",
            "• 1 cup sour cream\n",
            "• 1/2 cup sour cream\n",
            "• 1/2 cup chopped fresh cilantro\n",
            "• 1 cup chopped fresh cilantro\n",
            "• 1 cup shredded carrots\n",
            "• 1/2 cup chopped fresh cilantro\n",
            "• 1/2 cup chopped fresh cilantro\n",
            "• 1/4 cup fresh cilantro leaves, chopped\n",
            "• 1 cup shredded carrots\n",
            "• 1 cup chopped fresh cilantro\n",
            "• 1 cup fresh cilantro leaves\n",
            "• 1 cup chopped fresh cilantro\n",
            "• 1/2 cup chopped fresh cilantro\n",
            "• 1/4 cup fresh lime juice\n",
            "• 1/4 cup fresh lime juice\n",
            "• 1/2 cup fresh lime juice\n",
            "• 1/2 cup fresh lime juice\n",
            "• 1/4 cup fresh lime juice\n",
            "• 1/4 cup fresh lime juice\n",
            "• 1 tablespoon fresh lime juice\n",
            "• 1 tablespoon fresh lime juice\n",
            "• 1 tablespoon fresh lime juice\n",
            "• 1 tablespoon fresh lime juice\n",
            "• 1 tablespoon sugar\n",
            "• 1 tablespoon sugar\n",
            "• 1 tablespoon fresh lime juice\n",
            "• 1 tablespoon fresh lime juice\n",
            "• 1 tablespoon sugar\n",
            "• 1 tablespoon chopped fresh cilantro leaves\n",
            "\n",
            "📝\n",
            "\n",
            "▪︎ Preheat the grill to medium-high heat. Lightly oil the grill grates. Grill\n",
            "\n",
            "\n",
            "\n",
            "Attempt: \"The\" + 1.0\n",
            "-----------------------------------\n",
            "📗 Theis) Tea\n",
            "\n",
            "🥕\n",
            "\n",
            "• 2 cups buttermilk\n",
            "• 2 tablespoons tomato paste\n",
            "• 1/2 cup white wine\n",
            "• 3 tablespoons apple cider vinegar\n",
            "• 2 teaspoons whole cumin\n",
            "\n",
            "📝\n",
            "\n",
            "▪︎ Put oven rack in middle position after hot ready to use. Deer preparation:\n",
            "▪︎ Pour Sour Cream Juice: Add ginger, citrus, and white wine. Pour it over a heated plastic bag. Add salmon, cream, honey, preserved lemon and poridal of flour. Gently mix. Spoon mixture mixture onto match nuggets. Shake, add calamari, stir, and place around fennel and the capers. Add vegetables and your favorite meatballs. Use 2 spears food-chooking pretzel sticks or gas butter sits. Wrap the sliced cheese cubes over salmon, and pisco sauce. Season balsamich with salt and pepper.\n",
            "␣␣␣␣␣␣␣␣␣␣␣␣␣␣␣␣␣␣␣␣␣␣␣␣␣␣␣␣␣␣␣␣␣␣␣␣␣␣␣␣␣␣␣␣␣␣␣␣␣␣␣␣␣␣␣␣␣␣␣␣␣␣␣␣␣␣␣␣␣␣␣␣␣␣␣␣␣␣␣␣␣␣␣␣␣␣␣␣␣␣␣␣␣␣␣␣␣␣␣␣␣␣␣␣␣␣␣␣␣␣␣␣␣␣␣␣␣␣␣␣␣␣␣␣␣␣␣␣␣␣␣␣␣␣␣␣␣␣␣␣␣␣␣␣␣␣␣␣␣␣␣␣␣␣␣␣␣␣␣␣␣␣␣␣␣␣␣␣␣␣␣␣␣␣␣␣␣␣␣␣␣␣␣␣␣␣␣␣␣␣␣␣␣␣␣␣␣␣␣␣␣␣␣␣␣␣␣␣␣␣␣␣␣␣␣␣␣␣␣␣␣␣␣␣␣␣␣␣␣␣␣␣␣␣␣␣␣␣␣␣␣␣␣␣␣␣␣␣␣␣␣␣␣␣␣␣␣␣␣␣␣␣␣␣␣␣␣␣␣␣␣␣␣␣␣␣␣␣␣␣␣␣␣␣␣␣␣␣\n",
            "\n",
            "\n",
            "\n",
            "Attempt: \"The\" + 0.8\n",
            "-----------------------------------\n",
            "📗 The U-Tz Chilean BBQ Meatloaf!\n",
            "\n",
            "🥕\n",
            "\n",
            "• 1 3/4 cups uncooked basmati rice\n",
            "• 2 large eggs\n",
            "• 1 1/2 cups cooked turkey with bacon (arbouiled), such as Fajura (California a little if freshly ground)\n",
            "• 1/2 teaspoon garlic powder\n",
            "• 1/2 cup grated Parmesan\n",
            "• 4 ounces sun-dried tomatoes, finely chopped\n",
            "• 1 teaspoon chopped fresh thyme\n",
            "• 1 cup chopped green onions\n",
            "• 1 cup grated Parmesan\n",
            "\n",
            "📝\n",
            "\n",
            "▪︎ Watch how to make this recipe.\n",
            "▪︎ Preheat the oven to 350 degrees F.\n",
            "▪︎ Heat the oil in a large Dutch oven or heavy pot to 350 degrees F.\n",
            "▪︎ In a large pot over medium heat, add the olive oil, and add the steaks. Saute for 1 minute. Add the chicken stock and tomato paste. When the batter is bubbly and bubbling, add the milk and vegetable broth. Simmer for about 20 minutes, stirring occasionally. (If you with longer the inner grits are at once, flower the egg mixture back into the pan. Place the rice in batches and rubbing it back up.) Pour in the stock. Pull mixture through the frying mixer. Finish with the rem\n",
            "\n",
            "\n",
            "\n",
            "Attempt: \"The\" + 0.4\n",
            "-----------------------------------\n",
            "📗 The Urg (Barbada)\n",
            "\n",
            "🥕\n",
            "\n",
            "▪︎ Special equipment: a 4-ounce pattern or other small baking pan\n",
            "▪︎ Preheat the oven to 350 degrees F.\n",
            "▪︎ In a bowl, mix together the flour, baking powder, salt, and pepper. Dip the cheese in the egg wash, then in the crumbs. Sprinkle the crushed pieces of pastry over the paste, then press into the egg mixture. Fold the dough over the filling and press to seal. Repeat with the remaining dough and filling.\n",
            "▪︎ Bake for 15 minutes. Remove from the oven and let cool for about 10 minutes. Slice into wedges and serve.\n",
            "␣␣␣␣␣␣␣␣␣␣␣␣␣␣␣␣␣␣␣␣␣␣␣␣␣␣␣␣␣␣␣␣␣␣␣␣␣␣␣␣␣␣␣␣␣␣␣␣␣␣␣␣␣␣␣␣␣␣␣␣␣␣␣␣␣␣␣␣␣␣␣␣␣␣␣␣␣␣␣␣␣␣␣␣␣␣␣␣␣␣␣␣␣␣␣␣␣␣␣␣␣␣␣␣␣␣␣␣␣␣␣␣␣␣␣␣␣␣␣␣␣␣␣␣␣␣␣␣␣␣␣␣␣␣␣␣␣␣␣␣␣␣␣␣␣␣␣␣␣␣␣␣␣␣␣␣␣␣␣␣␣␣␣␣␣␣␣␣␣␣␣␣␣␣␣␣␣␣␣␣␣␣␣␣␣␣␣␣␣␣␣␣␣␣␣␣␣␣␣␣␣␣␣␣␣␣␣␣␣␣␣␣␣␣␣␣␣␣␣␣␣␣␣␣␣␣␣␣␣␣␣␣␣␣␣␣␣␣␣␣␣␣␣␣␣␣␣␣␣␣␣␣␣␣␣␣␣␣␣␣␣␣␣␣␣␣␣␣␣␣␣␣␣␣␣␣␣␣␣␣␣␣␣␣␣␣␣␣␣␣␣␣␣␣␣␣␣␣␣␣␣␣␣␣␣␣␣␣␣␣␣␣␣␣␣␣␣␣␣␣␣␣␣␣␣␣␣␣␣␣␣␣␣␣␣␣␣␣␣␣␣␣␣␣␣␣␣␣␣␣␣␣␣␣␣␣␣␣␣␣␣␣␣␣␣␣␣␣␣␣␣␣␣␣␣␣␣␣␣␣␣␣␣␣␣␣␣␣␣␣␣␣␣␣␣␣␣␣␣␣␣␣␣␣␣␣␣␣␣␣␣␣␣␣␣␣␣␣␣␣␣␣␣␣␣␣␣␣␣␣␣␣␣␣␣␣␣␣␣␣␣␣␣␣␣␣␣␣␣␣␣␣␣␣␣␣␣␣␣␣␣␣\n",
            "\n",
            "\n",
            "\n",
            "Attempt: \"The\" + 0.2\n",
            "-----------------------------------\n",
            "📗 The Recipe Really Recipe for the Recipes are the Food Network Kitchens\n",
            "▪︎ The Filling: Combine the cream cheese, mayonnaise, lemon juice, and salt and pepper to taste in a bowl. Stir in the cheese and season with salt and pepper.\n",
            "▪︎ Spread the mayonnaise mixture on the bread slices. Place the salmon on top of the bread slices. Place the sandwich in the center of the bread slices. Sprinkle with the remaining 1/4 cup of the cheese. Sprinkle the remaining 1/4 cup cheese over the top and spread evenly. Bake until the cheese is melted and bubbling, about 20 minutes. Serve warm.\n",
            "␣␣␣␣␣␣␣␣␣␣␣␣␣␣␣␣␣␣␣␣␣␣␣␣␣␣␣␣␣␣␣␣␣␣␣␣␣␣␣␣␣␣␣␣␣␣␣␣␣␣␣␣␣␣␣␣␣␣␣␣␣␣␣␣␣␣␣␣␣␣␣␣␣␣␣␣␣␣␣␣␣␣␣␣␣␣␣␣␣␣␣␣␣␣␣␣␣␣␣␣␣␣␣␣␣␣␣␣␣␣␣␣␣␣␣␣␣␣␣␣␣␣␣␣␣␣␣␣␣␣␣␣␣␣␣␣␣␣␣␣␣␣␣␣␣␣␣␣␣␣␣␣␣␣␣␣␣␣␣␣␣␣␣␣␣␣␣␣␣␣␣␣␣␣␣␣␣␣␣␣␣␣␣␣␣␣␣␣␣␣␣␣␣␣␣␣␣␣␣␣␣␣␣␣␣␣␣␣␣␣␣␣␣␣␣␣␣␣␣␣␣␣␣␣␣␣␣␣␣␣␣␣␣␣␣␣␣␣␣␣␣␣␣␣␣␣␣␣␣␣␣␣␣␣␣␣␣␣␣␣␣␣␣␣␣␣␣␣␣␣␣␣␣␣␣␣␣␣␣␣␣␣␣␣␣␣␣␣␣␣␣␣␣␣␣␣␣␣␣␣␣␣␣␣␣␣␣␣␣␣␣␣␣␣␣␣␣␣␣␣␣␣␣␣␣␣␣␣␣␣␣␣␣␣␣␣␣␣␣␣␣␣␣␣␣␣␣␣␣␣␣␣␣␣␣␣␣␣␣␣␣␣␣␣␣␣␣␣␣␣␣␣␣␣␣␣␣␣␣␣␣␣␣␣␣␣␣␣␣␣␣␣␣␣␣␣␣␣␣␣␣␣␣␣␣␣␣␣␣␣␣␣␣␣␣␣␣␣␣␣␣␣␣\n",
            "\n",
            "\n",
            "\n",
            "Attempt: \"Banana\" + 1.0\n",
            "-----------------------------------\n",
            "📗 Banana)\n",
            "\n",
            "🥕\n",
            "\n",
            "• 2 wheel tortillas, warmed\n",
            "• 1 pound pork rind inner millets\n",
            "• 1 cup sugar\n",
            "• 3 bananas, sliced\n",
            "• 1/4 cup chopped or white grumente\n",
            "• 4 egg whites, stilly more than 1 cup\n",
            "• 1 teaspoon all-purpose flour\n",
            "• Pinch salt\n",
            "• Two 8-ounce packages renuce dry with Spiced Buttermilk Fajitas\n",
            "• 6 tablespoons butter, melted\n",
            "• 4 cups scalded mixed berries\n",
            "• 1/2 cup melted butter\n",
            "• 2 cups shaved hot cherries\n",
            "• 1/2 teaspoon apple cider vodka (recommended: Labne Scorchirieran hot Its)\n",
            "• 1/2 cup cold water\n",
            "\n",
            "📝\n",
            "\n",
            "▪︎ Preheat oven to 450 degrees F.\n",
            "▪︎ In large bowl, combine 1 1/2 cups sugar, cornstarch, oatmeal and cardamom. Whisk in orange juice and coconut. Season with salt and black pepper.\n",
            "▪︎ In a small saucepan, melt butter and margarine in saucepan. Add remaining ingredients and bring to simmer. Increase heat to high and cook slowly until soup thickens and is slightly thickened and mixture is hot and mixture coats pastry (its warm) can. Do not allow. Return the pan to medium heat and stir over medi\n",
            "\n",
            "\n",
            "\n",
            "Attempt: \"Banana\" + 0.8\n",
            "-----------------------------------\n",
            "📗 Bananatta's Ham and French Fries: Pretzel Croutons\n",
            "\n",
            "🥕\n",
            "\n",
            "• 1 1/2 cups shredded sharp Cheddar\n",
            "• 3/4 cup grated Parmesan\n",
            "• 1 egg, lightly beaten\n",
            "• 1 teaspoon kosher salt\n",
            "• 1/4 cup freshly grated orange zest and 1 tablespoon lemon juice\n",
            "• 1 teaspoon coarse salt\n",
            "• 1 teaspoon ground black pepper\n",
            "\n",
            "📝\n",
            "\n",
            "▪︎ Watch how to make this recipe.\n",
            "▪︎ Preheat the oven to 350 degrees F. Butter a 13 by 9-inch baking pan, or a 6-quart casserole dish. In a medium saucepan over low heat, melt the butter and saute the basil, oregano, and chili flakes until softened.\n",
            "▪︎ In a large bowl, whisk together the eggs and the flour. Stir in the ground beef and the nuts. Spread the potato mixture into the prepared baking dish. Add the beaten eggs to the pan and toss well. Sprinkle with sea salt and bake for 1 hour.\n",
            "▪︎ Cool 20 minutes before serving. Garnish with more cheese if desired.\n",
            "␣␣␣␣␣␣␣␣␣␣␣␣␣␣␣␣␣␣␣␣␣␣␣␣␣␣␣␣␣␣␣␣␣␣␣␣␣␣␣␣␣␣␣␣␣␣␣␣␣␣␣␣␣␣␣␣␣␣␣␣␣␣␣␣␣␣␣␣␣␣␣␣␣␣␣␣␣␣␣␣␣␣␣␣␣␣␣␣␣␣␣␣␣␣␣␣␣␣␣␣␣␣␣␣␣␣␣␣␣␣␣␣␣␣␣␣␣␣␣␣␣␣␣␣␣␣␣␣␣␣␣␣␣␣␣␣␣␣␣␣␣␣␣␣␣␣\n",
            "\n",
            "\n",
            "\n",
            "Attempt: \"Banana\" + 0.4\n",
            "-----------------------------------\n",
            "📗 Banana Crepes\n",
            "\n",
            "🥕\n",
            "\n",
            "• 1 cup sour cream\n",
            "• 1/2 cup sour cream\n",
            "• 1/2 cup chopped fresh parsley leaves\n",
            "• 1 tablespoon chopped fresh tarragon\n",
            "• 1 tablespoon chopped fresh oregano\n",
            "• 1 tablespoon chopped fresh thyme\n",
            "• 1 tablespoon chopped fresh basil\n",
            "• 1 tablespoon chopped fresh thyme\n",
            "• 1 tablespoon fresh thyme leaves\n",
            "• 1/2 cup grated Parmesan\n",
            "• 1/2 cup grated Parmesan\n",
            "• 1 cup grated Parmesan\n",
            "• 1 cup grated Parmesan\n",
            "• 1 cup grated Parmesan\n",
            "• 1/2 cup grated Parmesan\n",
            "• 1/4 cup grated Parmesan\n",
            "• 1/2 cup heavy cream\n",
            "• 1 teaspoon chopped fresh thyme leaves\n",
            "• 1/2 teaspoon dried oregano\n",
            "• 1/2 teaspoon freshly ground black pepper\n",
            "• 1/2 teaspoon crushed red pepper flakes\n",
            "• 1/4 cup chopped fresh parsley leaves\n",
            "\n",
            "📝\n",
            "\n",
            "▪︎ Watch how to make this recipe.\n",
            "▪︎ Preheat the oven to 400 degrees F. Line a baking sheet with parchment paper. Toss the onions with the olive oil, salt and pepper. Sprinkle the bread crumbs on the bottom of the pan and sprinkle with the cheese. Bake for 15 minutes. Turn the oven to broil. Set the \n",
            "\n",
            "\n",
            "\n",
            "Attempt: \"Banana\" + 0.2\n",
            "-----------------------------------\n",
            "📗 Banana)\n",
            "\n",
            "🥕\n",
            "\n",
            "• 1 cup milk\n",
            "• 1 cup milk\n",
            "• 1 cup milk\n",
            "• 1 tablespoon butter\n",
            "• 1 cup chopped pitted dates\n",
            "• 1 cup chopped walnuts\n",
            "• 1 cup chopped walnuts\n",
            "• 1 cup chopped pecans\n",
            "• 1 cup chopped pecans\n",
            "• 1 cup chopped pecans\n",
            "\n",
            "📝\n",
            "\n",
            "▪︎ Preheat oven to 350 degrees F.\n",
            "▪︎ In a large bowl, combine the flour, salt, baking powder, sugar, and cinnamon. Stir in the eggs and milk. Stir in the cheese and cheese. Stir in the cheese and cheese. Spoon into the prepared pan.\n",
            "▪︎ Bake for 35 minutes. Cool and serve.\n",
            "␣␣␣␣␣␣␣␣␣␣␣␣␣␣␣␣␣␣␣␣␣␣␣␣␣␣␣␣␣␣␣␣␣␣␣␣␣␣␣␣␣␣␣␣␣␣␣␣␣␣␣␣␣␣␣␣␣␣␣␣␣␣␣␣␣␣␣␣␣␣␣␣␣␣␣␣␣␣␣␣␣␣␣␣␣␣␣␣␣␣␣␣␣␣␣␣␣␣␣␣␣␣␣␣␣␣␣␣␣␣␣␣␣␣␣␣␣␣␣␣␣␣␣␣␣␣␣␣␣␣␣␣␣␣␣␣␣␣␣␣␣␣␣␣␣␣␣␣␣␣␣␣␣␣␣␣␣␣␣␣␣␣␣␣␣␣␣␣␣␣␣␣␣␣␣␣␣␣␣␣␣␣␣␣␣␣␣␣␣␣␣␣␣␣␣␣␣␣␣␣␣␣␣␣␣␣␣␣␣␣␣␣␣␣␣␣␣␣␣␣␣␣␣␣␣␣␣␣␣␣␣␣␣␣␣␣␣␣␣␣␣␣␣␣␣␣␣␣␣␣␣␣␣␣␣␣␣␣␣␣␣␣␣␣␣␣␣␣␣␣␣␣␣␣␣␣␣␣␣␣␣␣␣␣␣␣␣␣␣␣␣␣␣␣␣␣␣␣␣␣␣␣␣␣␣␣␣␣␣␣␣␣␣␣␣␣␣␣␣␣␣␣␣␣␣␣␣␣␣␣␣␣␣␣␣␣␣␣␣␣␣␣␣␣␣␣␣␣␣␣␣␣␣␣␣␣␣␣␣␣␣␣␣␣␣␣␣␣␣␣␣␣␣␣␣␣␣␣␣␣␣␣␣␣␣␣␣␣␣␣␣␣␣␣␣␣␣␣␣␣␣␣␣␣␣␣␣␣␣␣␣␣␣␣␣␣␣␣␣␣␣␣␣␣␣␣␣␣␣␣␣␣␣␣␣␣␣␣␣␣␣␣␣␣␣␣␣␣␣␣␣␣␣␣␣␣␣␣␣␣␣␣␣␣␣␣␣␣␣␣␣␣␣␣␣␣␣␣␣␣␣␣␣␣␣␣␣␣␣␣␣␣␣␣␣␣␣␣␣␣␣␣␣␣␣␣␣␣␣␣\n",
            "\n",
            "\n",
            "\n",
            "Attempt: \"Homemade\" + 1.0\n",
            "-----------------------------------\n",
            "📗 Homemade Tea\n",
            "\n",
            "📝\n",
            "\n",
            "▪︎ In a blender puree mixture again retaining it thoroughly. If tender, garnish with a vinaigrette flavor, leaving the pit, in a large pot. Dampened casserole can be prepared 6 hours in advance.\n",
            "▪︎ Add more water if potatoes' cheese to make sure this is well covered when touched.\n",
            "␣␣␣␣␣␣␣␣␣␣␣␣␣␣␣␣␣␣␣␣␣␣␣␣␣␣␣␣␣␣␣␣␣␣␣␣␣␣␣␣␣␣␣␣␣␣␣␣␣␣␣␣␣␣␣␣␣␣␣␣␣␣␣␣␣␣␣␣␣␣␣␣␣␣␣␣␣␣␣␣␣␣␣␣␣␣␣␣␣␣␣␣␣␣␣␣␣␣␣␣␣␣␣␣␣␣␣␣␣␣␣␣␣␣␣␣␣␣␣␣␣␣␣␣␣␣␣␣␣␣␣␣␣␣␣␣␣␣␣␣␣␣␣␣␣␣␣␣␣␣␣␣␣␣␣␣␣␣␣␣␣␣␣␣␣␣␣␣␣␣␣␣␣␣␣␣␣␣␣␣␣␣␣␣␣␣␣␣␣␣␣␣␣␣␣␣␣␣␣␣␣␣␣␣␣␣␣␣␣␣␣␣␣␣␣␣␣␣␣␣␣␣␣␣␣␣␣␣␣␣␣␣␣␣␣␣␣␣␣␣␣␣␣␣␣␣␣␣␣␣␣␣␣␣␣␣␣␣␣␣␣␣␣␣␣␣␣␣␣␣␣␣␣␣␣␣␣␣␣␣␣␣␣␣␣␣␣␣␣␣␣␣␣␣␣␣␣␣␣␣␣␣␣␣␣␣␣␣␣␣␣␣␣␣␣␣␣␣␣␣␣␣␣␣␣␣␣␣␣␣␣␣␣␣␣␣␣␣␣␣␣␣␣␣␣␣␣␣␣␣␣␣␣␣␣␣␣␣␣␣␣␣␣␣␣␣␣␣␣␣␣␣␣␣␣␣␣␣␣␣␣␣␣␣␣␣␣␣␣␣␣␣␣␣␣␣␣␣␣␣␣␣␣␣␣␣␣␣␣␣␣␣␣␣␣␣␣␣␣␣␣␣␣␣␣␣␣␣␣␣␣␣␣␣␣␣␣␣␣␣␣␣␣␣␣␣␣␣␣␣␣␣␣␣␣␣␣␣␣␣␣␣␣␣␣␣␣␣␣␣␣␣␣␣␣␣␣␣␣␣␣␣␣␣␣␣␣␣␣␣␣␣␣␣␣␣␣␣␣␣␣␣␣␣␣␣␣␣␣␣␣␣␣␣␣␣␣␣␣␣␣␣␣␣␣␣␣␣␣␣␣␣␣␣␣␣␣␣␣␣␣␣␣␣␣␣␣␣␣␣␣␣␣␣␣␣␣␣␣␣␣␣␣␣␣␣␣␣␣␣␣␣␣␣␣␣␣␣␣␣␣␣␣␣␣␣␣␣␣␣␣␣␣␣␣␣␣␣␣␣␣␣␣␣␣␣␣␣␣␣␣␣␣␣␣␣␣␣␣␣␣␣␣␣␣␣␣␣␣␣␣␣␣␣␣␣␣␣␣␣␣␣␣␣␣␣␣␣␣␣␣␣␣␣␣␣␣␣␣␣␣␣␣␣␣␣␣␣␣␣␣␣␣␣␣␣␣␣␣␣␣␣␣␣␣␣␣␣␣␣␣␣␣␣␣␣␣␣␣␣␣␣␣␣␣␣␣␣␣␣\n",
            "\n",
            "\n",
            "\n",
            "Attempt: \"Homemade\" + 0.8\n",
            "-----------------------------------\n",
            "📗 Homemade-Egg-Benedict's Bread Crumbs with Creme Fraiche Sauce\n",
            "• Chopped fresh dill\n",
            "• Demer roll\n",
            "\n",
            "📝\n",
            "\n",
            "▪︎ Melt butter in large nonstick skillet over medium heat. Add onion and saute until soft and golden, about 7 minutes. Add wine, cooking for 2 minutes. Gradually whisk in flour and wine. Add corn flakes and cook, stirring, until glaze comes to boil. Reduce heat to medium low and sprinkle pistachios with cheese. Stirring until a candy thermometer registers 160 degrees F, about 20 minutes. Add cheese and bring to simmer. Cook until mixture is a long-- blaoks a tyick paste, Remove from heat. Stir in prosciutto and figs. Serve with chocolate chips. Top with cherries and a dash of orange zest. Serve with a lavender bunch of green onion.\n",
            "␣␣␣␣␣␣␣␣␣␣␣␣␣␣␣␣␣␣␣␣␣␣␣␣␣␣␣␣␣␣␣␣␣␣␣␣␣␣␣␣␣␣␣␣␣␣␣␣␣␣␣␣␣␣␣␣␣␣␣␣␣␣␣␣␣␣␣␣␣␣␣␣␣␣␣␣␣␣␣␣␣␣␣␣␣␣␣␣␣␣␣␣␣␣␣␣␣␣␣␣␣␣␣␣␣␣␣␣␣␣␣␣␣␣␣␣␣␣␣␣␣␣␣␣␣␣␣␣␣␣␣␣␣␣␣␣␣␣␣␣␣␣␣␣␣␣␣␣␣␣␣␣␣␣␣␣␣␣␣␣␣␣␣␣␣␣␣␣␣␣␣␣␣␣␣␣␣␣␣␣␣␣␣␣␣␣␣␣␣␣␣␣␣␣␣␣␣␣␣␣␣␣␣␣␣␣␣␣␣␣␣␣␣␣␣␣␣␣␣␣␣␣␣␣␣␣␣␣␣␣␣␣␣␣␣␣␣␣␣␣␣␣␣␣␣␣␣␣␣␣␣␣␣␣␣␣␣␣␣␣␣␣␣␣␣␣␣␣\n",
            "\n",
            "\n",
            "\n",
            "Attempt: \"Homemade\" + 0.4\n",
            "-----------------------------------\n",
            "📗 Homemade Turkey Stock\n",
            "• 1 cup chopped onions\n",
            "• 1 cup sour cream\n",
            "• 1 cup sour cream\n",
            "• 1 cup sour cream\n",
            "• 1 cup freshly grated Parmesan\n",
            "• 1 cup shredded Cheddar\n",
            "• 1 cup shredded Cheddar\n",
            "• 1 cup shredded Swiss cheese\n",
            "\n",
            "📝\n",
            "\n",
            "▪︎ Preheat oven to 350 degrees F.\n",
            "▪︎ Melt butter in a saucepan over medium heat. Add onions and cook until soft and beginning to brown, about 5 minutes. Add chili powder and cook for 2 minutes. Add broth and stir to combine. Add butter and stir until melted. Remove from heat and stir in butter and cheese. Season with salt and pepper. Add cheese and stir to combine. Serve warm with sauce.\n",
            "▪︎ Excellent source of: Protein, Vitamin A Chambordon, Gitan, Vitamin A 2%, Vitamin A, Vitamin C, Vitamin C, Pitten Matchabagnano Zit\n",
            "␣␣␣␣␣␣␣␣␣␣␣␣␣␣␣␣␣␣␣␣␣␣␣␣␣␣␣␣␣␣␣␣␣␣␣␣␣␣␣␣␣␣␣␣␣␣␣␣␣␣␣␣␣␣␣␣␣␣␣␣␣␣␣␣␣␣␣␣␣␣␣␣␣␣␣␣␣␣␣␣␣␣␣␣␣␣␣␣␣␣␣␣␣␣␣␣␣␣␣␣␣␣␣␣␣␣␣␣␣␣␣␣␣␣␣␣␣␣␣␣␣␣␣␣␣␣␣␣␣␣␣␣␣␣␣␣␣␣␣␣␣␣␣␣␣␣␣␣␣␣␣␣␣␣␣␣␣␣␣␣␣␣␣␣␣␣␣␣␣␣␣␣␣␣␣␣␣␣␣␣␣␣␣␣␣␣␣␣␣␣␣␣␣␣␣␣␣␣␣␣␣␣␣␣␣␣␣␣␣␣␣␣␣␣␣␣␣␣␣␣␣␣␣␣␣␣␣␣␣␣␣␣␣␣␣␣␣␣␣␣␣␣␣␣␣␣␣␣␣␣␣␣␣␣␣␣␣␣␣␣␣␣␣␣␣\n",
            "\n",
            "\n",
            "\n",
            "Attempt: \"Homemade\" + 0.2\n",
            "-----------------------------------\n",
            "📗 Homemade Chiles\n",
            "\n",
            "📝\n",
            "\n",
            "▪︎ Preheat oven to 350 degrees F.\n",
            "▪︎ Spread the bread crumbs on a baking sheet and bake for 10 minutes. Remove from oven and let cool.\n",
            "▪︎ In a medium bowl, combine the corn, cheese, cream cheese, mayonnaise, salt and pepper. Mix until well blended. Spread the mixture on a large baking sheet and bake for 15 minutes. Remove from oven and let cool for about 10 minutes. Slice into 1/2-inch thick slices.\n",
            "␣␣␣␣␣␣␣␣␣␣␣␣␣␣␣␣␣␣␣␣␣␣␣␣␣␣␣␣␣␣␣␣␣␣␣␣␣␣␣␣␣␣␣␣␣␣␣␣␣␣␣␣␣␣␣␣␣␣␣␣␣␣␣␣␣␣␣␣␣␣␣␣␣␣␣␣␣␣␣␣␣␣␣␣␣␣␣␣␣␣␣␣␣␣␣␣␣␣␣␣␣␣␣␣␣␣␣␣␣␣␣␣␣␣␣␣␣␣␣␣␣␣␣␣␣␣␣␣␣␣␣␣␣␣␣␣␣␣␣␣␣␣␣␣␣␣␣␣␣␣␣␣␣␣␣␣␣␣␣␣␣␣␣␣␣␣␣␣␣␣␣␣␣␣␣␣␣␣␣␣␣␣␣␣␣␣␣␣␣␣␣␣␣␣␣␣␣␣␣␣␣␣␣␣␣␣␣␣␣␣␣␣␣␣␣␣␣␣␣␣␣␣␣␣␣␣␣␣␣␣␣␣␣␣␣␣␣␣␣␣␣␣␣␣␣␣␣␣␣␣␣␣␣␣␣␣␣␣␣␣␣␣␣␣␣␣␣␣␣␣␣␣␣␣␣␣␣␣␣␣␣␣␣␣␣␣␣␣␣␣␣␣␣␣␣␣␣␣␣␣␣␣␣␣␣␣␣␣␣␣␣␣␣␣␣␣␣␣␣␣␣␣␣␣␣␣␣␣␣␣␣␣␣␣␣␣␣␣␣␣␣␣␣␣␣␣␣␣␣␣␣␣␣␣␣␣␣␣␣␣␣␣␣␣␣␣␣␣␣␣␣␣␣␣␣␣␣␣␣␣␣␣␣␣␣␣␣␣␣␣␣␣␣␣␣␣␣␣␣␣␣␣␣␣␣␣␣␣␣␣␣␣␣␣␣␣␣␣␣␣␣␣␣␣␣␣␣␣␣␣␣␣␣␣␣␣␣␣␣␣␣␣␣␣␣␣␣␣␣␣␣␣␣␣␣␣␣␣␣␣␣␣␣␣␣␣␣␣␣␣␣␣␣␣␣␣␣␣␣␣␣␣␣␣␣␣␣␣␣␣␣␣␣␣␣␣␣␣␣␣␣␣␣␣␣␣␣␣␣␣␣␣␣␣␣␣␣␣␣␣␣␣␣␣␣␣␣␣␣␣␣␣␣␣␣␣␣␣␣␣␣␣␣␣␣␣␣␣␣␣␣␣␣␣␣␣␣␣␣␣␣␣␣␣␣␣␣␣␣␣␣␣␣␣␣␣␣␣␣␣␣␣␣␣␣\n",
            "\n",
            "\n",
            "\n"
          ]
        }
      ],
      "source": [
        "generate_combinations(model_1_simplified)"
      ]
    },
    {
      "cell_type": "markdown",
      "metadata": {
        "id": "GNmose4ubZ6O"
      },
      "source": [
        "# Benchmark with Metrics\n",
        "Determine the baseline moving forward"
      ]
    },
    {
      "cell_type": "code",
      "source": [
        "# this will be used with the RecipeNLG dataset that includes \n",
        "# model_1.evaluate(dataset_train, dataset_validated)"
      ],
      "metadata": {
        "id": "Gmk_QsCnmEOd"
      },
      "execution_count": 105,
      "outputs": []
    },
    {
      "cell_type": "markdown",
      "metadata": {
        "id": "E1N78CkZbRhD"
      },
      "source": [
        "# Save the Model"
      ]
    },
    {
      "cell_type": "code",
      "execution_count": 106,
      "metadata": {
        "id": "QNObl6hjbSxO",
        "colab": {
          "base_uri": "https://localhost:8080/",
          "height": 54
        },
        "outputId": "390bb5b4-861a-4311-b243-511e2c447357"
      },
      "outputs": [
        {
          "output_type": "stream",
          "name": "stderr",
          "text": [
            "WARNING:tensorflow:Compiled the loaded model, but the compiled metrics have yet to be built. `model.compile_metrics` will be empty until you train or evaluate the model.\n"
          ]
        },
        {
          "output_type": "display_data",
          "data": {
            "text/plain": [
              "<IPython.core.display.Javascript object>"
            ],
            "application/javascript": [
              "\n",
              "    async function download(id, filename, size) {\n",
              "      if (!google.colab.kernel.accessAllowed) {\n",
              "        return;\n",
              "      }\n",
              "      const div = document.createElement('div');\n",
              "      const label = document.createElement('label');\n",
              "      label.textContent = `Downloading \"${filename}\": `;\n",
              "      div.appendChild(label);\n",
              "      const progress = document.createElement('progress');\n",
              "      progress.max = size;\n",
              "      div.appendChild(progress);\n",
              "      document.body.appendChild(div);\n",
              "\n",
              "      const buffers = [];\n",
              "      let downloaded = 0;\n",
              "\n",
              "      const channel = await google.colab.kernel.comms.open(id);\n",
              "      // Send a message to notify the kernel that we're ready.\n",
              "      channel.send({})\n",
              "\n",
              "      for await (const message of channel.messages) {\n",
              "        // Send a message to notify the kernel that we're ready.\n",
              "        channel.send({})\n",
              "        if (message.buffers) {\n",
              "          for (const buffer of message.buffers) {\n",
              "            buffers.push(buffer);\n",
              "            downloaded += buffer.byteLength;\n",
              "            progress.value = downloaded;\n",
              "          }\n",
              "        }\n",
              "      }\n",
              "      const blob = new Blob(buffers, {type: 'application/binary'});\n",
              "      const a = document.createElement('a');\n",
              "      a.href = window.URL.createObjectURL(blob);\n",
              "      a.download = filename;\n",
              "      div.appendChild(a);\n",
              "      a.click();\n",
              "      div.remove();\n",
              "    }\n",
              "  "
            ]
          },
          "metadata": {}
        },
        {
          "output_type": "display_data",
          "data": {
            "text/plain": [
              "<IPython.core.display.Javascript object>"
            ],
            "application/javascript": [
              "download(\"download_55c4ed14-0db1-4c35-8b71-d7cedc48d736\", \"recipe_generation_rnn.h5\", 21908896)"
            ]
          },
          "metadata": {}
        }
      ],
      "source": [
        "model_name = 'recipe_generation_rnn.h5'\n",
        "model_1_simplified.save(model_name, save_format='h5')\n",
        "files.download('recipe_generation_rnn.h5')"
      ]
    },
    {
      "cell_type": "code",
      "source": [
        "# !zip -r /content/file.zip /content/\n",
        "# files.download(\"/content/file.zip\")"
      ],
      "metadata": {
        "id": "Uwhu4zD4VXd6"
      },
      "execution_count": 107,
      "outputs": []
    }
  ],
  "metadata": {
    "colab": {
      "machine_shape": "hm",
      "provenance": [],
      "toc_visible": true,
      "authorship_tag": "ABX9TyNq6TsENPwof3jytKnAjBkc",
      "include_colab_link": true
    },
    "gpuClass": "premium",
    "kernelspec": {
      "display_name": "Python 3",
      "name": "python3"
    },
    "language_info": {
      "name": "python"
    },
    "accelerator": "GPU"
  },
  "nbformat": 4,
  "nbformat_minor": 0
}