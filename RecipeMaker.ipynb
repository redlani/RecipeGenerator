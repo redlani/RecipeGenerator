{
  "cells": [
    {
      "cell_type": "markdown",
      "metadata": {
        "id": "view-in-github",
        "colab_type": "text"
      },
      "source": [
        "<a href=\"https://colab.research.google.com/github/redlani/RecipeGenerator/blob/main/RecipeMaker.ipynb\" target=\"_parent\"><img src=\"https://colab.research.google.com/assets/colab-badge.svg\" alt=\"Open In Colab\"/></a>"
      ]
    },
    {
      "cell_type": "markdown",
      "source": [
        "## Note to the Reader\n",
        "This notebook was originally created following the tutorial outlined for [Recipe Generation using RNN](https://towardsdatascience.com/generating-cooking-recipes-using-tensorflow-and-lstm-recurrent-neural-network-a7bf242acad3) and  It has since been modified to include needed changes and comparison across other model types."
      ],
      "metadata": {
        "id": "Jd_0oC2ro7FK"
      }
    },
    {
      "cell_type": "markdown",
      "source": [
        "# Data Prep & Cleaning Before Model Building"
      ],
      "metadata": {
        "id": "3FaCTyY7qA0_"
      }
    },
    {
      "cell_type": "markdown",
      "source": [
        "## Check the Environment & OS"
      ],
      "metadata": {
        "id": "G-w6in0UOhF1"
      }
    },
    {
      "cell_type": "code",
      "source": [
        "import platform\n",
        "import os\n",
        "\n",
        "print(\"Name of the operating system:\",os.name)\n",
        "print(\"\\nName of the OS system:\",platform.system())\n",
        "print(\"\\nVersion of the operating system:\",platform.release())\n",
        "\n",
        "OS_PLATFORM = platform.system()\n",
        "if OS_PLATFORM == \"Darwin\":\n",
        "  HOSTED_RUNTIME = False\n",
        "else:\n",
        "  HOSTED_RUNTIME = True"
      ],
      "metadata": {
        "colab": {
          "base_uri": "https://localhost:8080/"
        },
        "id": "wPbLqXGMOgqp",
        "outputId": "f9617a78-91eb-438d-873b-3ba3f30a9abf"
      },
      "execution_count": 10,
      "outputs": [
        {
          "output_type": "stream",
          "name": "stdout",
          "text": [
            "Name of the operating system: posix\n",
            "\n",
            "Name of the OS system: Linux\n",
            "\n",
            "Version of the operating system: 5.10.147+\n"
          ]
        }
      ]
    },
    {
      "cell_type": "markdown",
      "metadata": {
        "id": "OoSA5NtdoXsF"
      },
      "source": [
        "## Import Dependencies\n"
      ]
    },
    {
      "cell_type": "code",
      "source": [
        "# !export PATH=\"/Users/kailaniredding/anaconda3/bin:$PATH\"\n",
        "# !conda init zsh\n",
        "# !conda activate tf\n",
        "# !python3 --version"
      ],
      "metadata": {
        "id": "hjcMILW34gYg"
      },
      "execution_count": 11,
      "outputs": []
    },
    {
      "cell_type": "code",
      "execution_count": 12,
      "metadata": {
        "id": "SmrR5fLHoavZ"
      },
      "outputs": [],
      "source": [
        "# dependencies\n",
        "import matplotlib.pyplot as plt\n",
        "import numpy as np\n",
        "import pandas as pd\n",
        "import platform\n",
        "import time\n",
        "import pathlib\n",
        "import os\n",
        "import json\n",
        "import zipfile\n",
        "import nltk"
      ]
    },
    {
      "cell_type": "code",
      "source": [
        "# for the hosted runtime\n",
        "if HOSTED_RUNTIME:\n",
        "  import tensorflow as tf\n",
        "  from google.colab import files\n",
        "  from google.colab import drive\n",
        "else: \n",
        "  print(\"Running on Local Runtime\")"
      ],
      "metadata": {
        "id": "76ivG7XKcqow"
      },
      "execution_count": 13,
      "outputs": []
    },
    {
      "cell_type": "markdown",
      "metadata": {
        "id": "uIVWuodsoffS"
      },
      "source": [
        "## Download Data\n",
        "Also available here:\n",
        "https://eightportions.com/datasets/Recipes/"
      ]
    },
    {
      "cell_type": "code",
      "source": [
        "# mount drive to get dataset and save model files automatically\n",
        "drive_path = \"/content/drive\"\n",
        "drive_mounted = os.path.exists(drive_path)\n",
        "\n",
        "if drive_mounted and HOSTED_RUNTIME:\n",
        "  print(\"Drive already mounted and ready\")\n",
        "elif HOSTED_RUNTIME:\n",
        "  drive.mount('/content/drive')\n",
        "else:\n",
        "  local_path = os.getcwd()\n",
        "  print(\"Using files from: \", local_path)"
      ],
      "metadata": {
        "colab": {
          "base_uri": "https://localhost:8080/"
        },
        "id": "Fb8VwfHU2juT",
        "outputId": "9f053865-b47f-4eb0-f2dc-325f3a7acddc"
      },
      "execution_count": 14,
      "outputs": [
        {
          "output_type": "stream",
          "name": "stdout",
          "text": [
            "Drive already mounted and ready\n"
          ]
        }
      ]
    },
    {
      "cell_type": "code",
      "execution_count": 15,
      "metadata": {
        "colab": {
          "base_uri": "https://localhost:8080/"
        },
        "id": "yqE32W1_ZiQM",
        "outputId": "6f5a4f33-ed5e-4370-da30-f062e3706f97"
      },
      "outputs": [
        {
          "output_type": "stream",
          "name": "stdout",
          "text": [
            "Archive:  /content/drive/MyDrive/deep_learning/dataset/recipes_raw.zip\n",
            "  inflating: recipes_raw_nosource_ar.json  \n",
            "  inflating: recipes_raw_nosource_epi.json  \n",
            "  inflating: recipes_raw_nosource_fn.json  \n",
            "  inflating: LICENSE                 \n",
            "total 199872\n",
            "drwxr-xr-x 1 root root     4096 Apr 30 20:03 .\n",
            "drwxr-xr-x 1 root root     4096 Apr 30 19:55 ..\n",
            "drwxr-xr-x 4 root root     4096 Apr 27 13:34 .config\n",
            "drwx------ 6 root root     4096 Apr 30 20:02 drive\n",
            "-rw-rw-r-- 1 root root    20437 Feb 12  2018 LICENSE\n",
            "-rw-rw-r-- 1 root root 49784325 Mar 23  2018 recipes_raw_nosource_ar.json\n",
            "-rw-rw-r-- 1 root root 61133971 Mar 23  2018 recipes_raw_nosource_epi.json\n",
            "-rw-rw-r-- 1 root root 93702755 Mar 23  2018 recipes_raw_nosource_fn.json\n",
            "drwxr-xr-x 1 root root     4096 Apr 27 13:35 sample_data\n"
          ]
        }
      ],
      "source": [
        "# use data available in the google drive\n",
        "if HOSTED_RUNTIME:\n",
        "  data_path = \"/content/recipes_raw_nosource_ar.json\"\n",
        "else:\n",
        "  data_path = os.path.join(local_path, \"development/data/recipes_raw_nosource_ar.json\")\n",
        "\n",
        "unzipped = os.path.exists(data_path)\n",
        "\n",
        "if unzipped and HOSTED_RUNTIME:\n",
        "  print(\"Data already unzipped and ready... see list of files below\")\n",
        "  # check to see the loaded file sets\n",
        "  !ls -la /content\n",
        "elif HOSTED_RUNTIME:\n",
        "  !unzip /content/drive/MyDrive/deep_learning/dataset/recipes_raw.zip\n",
        "  !ls -la /content\n",
        "elif unzipped and not HOSTED_RUNTIME:\n",
        "  print(\"Data unzipped locally... see list below\")\n",
        "  !ls -la /Users/kailaniredding/development/data\n",
        "elif not HOSTED_RUNTIME:\n",
        "  !unzip /development/data/recipes_raw.zip"
      ]
    },
    {
      "cell_type": "code",
      "execution_count": 16,
      "metadata": {
        "id": "b4F5So5ijBj8"
      },
      "outputs": [],
      "source": [
        "def load_dataset(silent=False):\n",
        "    if HOSTED_RUNTIME:\n",
        "      cache_dir= '/content'\n",
        "    else:\n",
        "      cache_dir= '/Users/kailaniredding/development/data'\n",
        "    dataset_file_names = [\n",
        "        'recipes_raw_nosource_ar.json',\n",
        "        'recipes_raw_nosource_epi.json',\n",
        "        'recipes_raw_nosource_fn.json',\n",
        "    ]\n",
        "    \n",
        "    dataset = []\n",
        "\n",
        "    for dataset_file_name in dataset_file_names:\n",
        "        dataset_file_path = f'{cache_dir}/{dataset_file_name}'\n",
        "\n",
        "        with open(dataset_file_path) as dataset_file:\n",
        "            json_data_dict = json.load(dataset_file)\n",
        "            json_data_list = list(json_data_dict.values())\n",
        "            dict_keys = [key for key in json_data_list[0]]\n",
        "            dict_keys.sort()\n",
        "            dataset += json_data_list\n",
        "\n",
        "            if silent == False:\n",
        "                print(dataset_file_path)\n",
        "                print('===========================================')\n",
        "                print('Number of examples: ', len(json_data_list), '\\n')\n",
        "                print('Example object keys:\\n', dict_keys, '\\n')\n",
        "                print('Example object:\\n', json_data_list[0], '\\n')\n",
        "                print('Required keys:\\n')\n",
        "                print('  title: ', json_data_list[0]['title'], '\\n')\n",
        "                print('  ingredients: ', json_data_list[0]['ingredients'], '\\n')\n",
        "                print('  instructions: ', json_data_list[0]['instructions'])\n",
        "                print('\\n\\n')\n",
        "\n",
        "    return dataset  "
      ]
    },
    {
      "cell_type": "code",
      "execution_count": 17,
      "metadata": {
        "colab": {
          "base_uri": "https://localhost:8080/"
        },
        "id": "w_CtfcvZjWa2",
        "outputId": "317d75ba-8405-4912-a79c-0690b1fcac40"
      },
      "outputs": [
        {
          "output_type": "stream",
          "name": "stdout",
          "text": [
            "/content/recipes_raw_nosource_ar.json\n",
            "===========================================\n",
            "Number of examples:  39802 \n",
            "\n",
            "Example object keys:\n",
            " ['ingredients', 'instructions', 'picture_link', 'title'] \n",
            "\n",
            "Example object:\n",
            " {'title': 'Slow Cooker Chicken and Dumplings', 'ingredients': ['4 skinless, boneless chicken breast halves ADVERTISEMENT', '2 tablespoons butter ADVERTISEMENT', '2 (10.75 ounce) cans condensed cream of chicken soup ADVERTISEMENT', '1 onion, finely diced ADVERTISEMENT', '2 (10 ounce) packages refrigerated biscuit dough, torn into pieces ADVERTISEMENT', 'ADVERTISEMENT'], 'instructions': 'Place the chicken, butter, soup, and onion in a slow cooker, and fill with enough water to cover.\\nCover, and cook for 5 to 6 hours on High. About 30 minutes before serving, place the torn biscuit dough in the slow cooker. Cook until the dough is no longer raw in the center.\\n', 'picture_link': '55lznCYBbs2mT8BTx6BTkLhynGHzM.S'} \n",
            "\n",
            "Required keys:\n",
            "\n",
            "  title:  Slow Cooker Chicken and Dumplings \n",
            "\n",
            "  ingredients:  ['4 skinless, boneless chicken breast halves ADVERTISEMENT', '2 tablespoons butter ADVERTISEMENT', '2 (10.75 ounce) cans condensed cream of chicken soup ADVERTISEMENT', '1 onion, finely diced ADVERTISEMENT', '2 (10 ounce) packages refrigerated biscuit dough, torn into pieces ADVERTISEMENT', 'ADVERTISEMENT'] \n",
            "\n",
            "  instructions:  Place the chicken, butter, soup, and onion in a slow cooker, and fill with enough water to cover.\n",
            "Cover, and cook for 5 to 6 hours on High. About 30 minutes before serving, place the torn biscuit dough in the slow cooker. Cook until the dough is no longer raw in the center.\n",
            "\n",
            "\n",
            "\n",
            "\n",
            "/content/recipes_raw_nosource_epi.json\n",
            "===========================================\n",
            "Number of examples:  25323 \n",
            "\n",
            "Example object keys:\n",
            " ['ingredients', 'instructions', 'picture_link', 'title'] \n",
            "\n",
            "Example object:\n",
            " {'ingredients': ['12 egg whites', '12 egg yolks', '1 1/2 cups sugar', '3/4 cup rye whiskey', '12 egg whites', '3/4 cup brandy', '1/2 cup rum', '1 to 2 cups heavy cream, lightly whipped', 'Garnish: ground nutmeg'], 'picture_link': None, 'instructions': 'Beat the egg whites until stiff, gradually adding in 3/4 cup sugar. Set aside. Beat the egg yolks until they are thick and pale and add the other 3/4 cup sugar and stir in rye whiskey. Blend well. Fold the egg white mixture into the yolk mixture and add the brandy and the rum. Beat the mixture well. To serve, fold the lightly whipped heavy cream into the eggnog. (If a thinner mixture is desired, add the heavy cream unwhipped.) Sprinkle the top of the eggnog with the nutmeg to taste.\\nBeat the egg whites until stiff, gradually adding in 3/4 cup sugar. Set aside. Beat the egg yolks until they are thick and pale and add the other 3/4 cup sugar and stir in rye whiskey. Blend well. Fold the egg white mixture into the yolk mixture and add the brandy and the rum. Beat the mixture well. To serve, fold the lightly whipped heavy cream into the eggnog. (If a thinner mixture is desired, add the heavy cream unwhipped.) Sprinkle the top of the eggnog with the nutmeg to taste.', 'title': 'Christmas Eggnog '} \n",
            "\n",
            "Required keys:\n",
            "\n",
            "  title:  Christmas Eggnog  \n",
            "\n",
            "  ingredients:  ['12 egg whites', '12 egg yolks', '1 1/2 cups sugar', '3/4 cup rye whiskey', '12 egg whites', '3/4 cup brandy', '1/2 cup rum', '1 to 2 cups heavy cream, lightly whipped', 'Garnish: ground nutmeg'] \n",
            "\n",
            "  instructions:  Beat the egg whites until stiff, gradually adding in 3/4 cup sugar. Set aside. Beat the egg yolks until they are thick and pale and add the other 3/4 cup sugar and stir in rye whiskey. Blend well. Fold the egg white mixture into the yolk mixture and add the brandy and the rum. Beat the mixture well. To serve, fold the lightly whipped heavy cream into the eggnog. (If a thinner mixture is desired, add the heavy cream unwhipped.) Sprinkle the top of the eggnog with the nutmeg to taste.\n",
            "Beat the egg whites until stiff, gradually adding in 3/4 cup sugar. Set aside. Beat the egg yolks until they are thick and pale and add the other 3/4 cup sugar and stir in rye whiskey. Blend well. Fold the egg white mixture into the yolk mixture and add the brandy and the rum. Beat the mixture well. To serve, fold the lightly whipped heavy cream into the eggnog. (If a thinner mixture is desired, add the heavy cream unwhipped.) Sprinkle the top of the eggnog with the nutmeg to taste.\n",
            "\n",
            "\n",
            "\n",
            "/content/recipes_raw_nosource_fn.json\n",
            "===========================================\n",
            "Number of examples:  60039 \n",
            "\n",
            "Example object keys:\n",
            " ['ingredients', 'instructions', 'picture_link', 'title'] \n",
            "\n",
            "Example object:\n",
            " {'instructions': 'Toss ingredients lightly and spoon into a buttered baking dish. Top with additional crushed cracker crumbs, and brush with melted butter. Bake in a preheated at 350 degrees oven for 25 to 30 minutes or until delicately browned.', 'ingredients': ['1/2 cup celery, finely chopped', '1 small green pepper finely chopped', '1/2 cup finely sliced green onions', '1/4 cup chopped parsley', '1 pound crabmeat', '1 1/4 cups coarsely crushed cracker crumbs', '1/2 teaspoon salt', '3/4 teaspoons dry mustard', 'Dash hot sauce', '1/4 cup heavy cream', '1/2 cup melted butter'], 'title': \"Grammie Hamblet's Deviled Crab\", 'picture_link': None} \n",
            "\n",
            "Required keys:\n",
            "\n",
            "  title:  Grammie Hamblet's Deviled Crab \n",
            "\n",
            "  ingredients:  ['1/2 cup celery, finely chopped', '1 small green pepper finely chopped', '1/2 cup finely sliced green onions', '1/4 cup chopped parsley', '1 pound crabmeat', '1 1/4 cups coarsely crushed cracker crumbs', '1/2 teaspoon salt', '3/4 teaspoons dry mustard', 'Dash hot sauce', '1/4 cup heavy cream', '1/2 cup melted butter'] \n",
            "\n",
            "  instructions:  Toss ingredients lightly and spoon into a buttered baking dish. Top with additional crushed cracker crumbs, and brush with melted butter. Bake in a preheated at 350 degrees oven for 25 to 30 minutes or until delicately browned.\n",
            "\n",
            "\n",
            "\n",
            "Total number of raw examples:  125164\n"
          ]
        }
      ],
      "source": [
        "# load and preview\n",
        "dataset_raw = load_dataset()\n",
        "print('Total number of raw examples: ', len(dataset_raw))"
      ]
    },
    {
      "cell_type": "markdown",
      "metadata": {
        "id": "Bucptukk86fD"
      },
      "source": [
        "\n",
        "## Pre-Process the Dataset"
      ]
    },
    {
      "cell_type": "code",
      "execution_count": 18,
      "metadata": {
        "id": "HYrlmUWSommf"
      },
      "outputs": [],
      "source": [
        "# filter out recipes which don't have either title or ingredients or instructions.\n",
        "def recipe_validate_required_fields(recipe):\n",
        "    required_keys = ['title', 'ingredients', 'instructions']\n",
        "    \n",
        "    if not recipe:\n",
        "        return False\n",
        "    \n",
        "    for required_key in required_keys:\n",
        "        if not recipe[required_key]:\n",
        "            return False\n",
        "        \n",
        "        if type(recipe[required_key]) == list and len(recipe[required_key]) == 0:\n",
        "            return False\n",
        "    \n",
        "    return True"
      ]
    },
    {
      "cell_type": "code",
      "execution_count": 19,
      "metadata": {
        "colab": {
          "base_uri": "https://localhost:8080/"
        },
        "id": "z-5pXsy8UFAs",
        "outputId": "29d68b3f-7776-4972-ae7d-b26256225fac"
      },
      "outputs": [
        {
          "output_type": "stream",
          "name": "stdout",
          "text": [
            "Dataset size BEFORE validation 125164\n",
            "Dataset size AFTER validation 122938\n",
            "Number of invalide recipes 2226\n"
          ]
        }
      ],
      "source": [
        "# compare before/after pre-processing\n",
        "dataset_validated = [recipe for recipe in dataset_raw if recipe_validate_required_fields(recipe)]\n",
        "\n",
        "print('Dataset size BEFORE validation', len(dataset_raw))\n",
        "print('Dataset size AFTER validation', len(dataset_validated))\n",
        "print('Number of invalide recipes', len(dataset_raw) - len(dataset_validated))"
      ]
    },
    {
      "cell_type": "markdown",
      "metadata": {
        "id": "eRXrLHUrUNSv"
      },
      "source": [
        "### Converting recipe objects into string"
      ]
    },
    {
      "cell_type": "code",
      "execution_count": 20,
      "metadata": {
        "id": "38DXelWH889W"
      },
      "outputs": [],
      "source": [
        "STOP_WORD_TITLE = '📗 '\n",
        "STOP_WORD_INGREDIENTS = '\\n🥕\\n\\n'\n",
        "STOP_WORD_INSTRUCTIONS = '\\n📝\\n\\n'"
      ]
    },
    {
      "cell_type": "code",
      "execution_count": 21,
      "metadata": {
        "id": "E5nHFJeS9LO-"
      },
      "outputs": [],
      "source": [
        "# converts recipe object to string (sequence of characters) for later usage in RNN input.\n",
        "def recipe_to_string(recipe):\n",
        "    # This string is presented as a part of recipes so we need to clean it up.\n",
        "    noize_string = 'ADVERTISEMENT'\n",
        "    \n",
        "    title = recipe['title']\n",
        "    ingredients = recipe['ingredients']\n",
        "    instructions = recipe['instructions'].split('\\n')\n",
        "    \n",
        "    ingredients_string = ''\n",
        "    for ingredient in ingredients:\n",
        "        ingredient = ingredient.replace(noize_string, '')\n",
        "        if ingredient:\n",
        "            ingredients_string += f'• {ingredient}\\n'\n",
        "    \n",
        "    instructions_string = ''\n",
        "    for instruction in instructions:\n",
        "        instruction = instruction.replace(noize_string, '')\n",
        "        if instruction:\n",
        "            instructions_string += f'▪︎ {instruction}\\n'\n",
        "    \n",
        "    return f'{STOP_WORD_TITLE}{title}\\n{STOP_WORD_INGREDIENTS}{ingredients_string}{STOP_WORD_INSTRUCTIONS}{instructions_string}'"
      ]
    },
    {
      "cell_type": "code",
      "execution_count": 22,
      "metadata": {
        "colab": {
          "base_uri": "https://localhost:8080/"
        },
        "id": "z1oLRR57UVdW",
        "outputId": "ef9949ad-3ee4-4cba-c811-9904b47d9e21"
      },
      "outputs": [
        {
          "output_type": "stream",
          "name": "stdout",
          "text": [
            "Stringified dataset size:  122938\n"
          ]
        }
      ],
      "source": [
        "dataset_stringified = [recipe_to_string(recipe) for recipe in dataset_validated]\n",
        "\n",
        "print('Stringified dataset size: ', len(dataset_stringified))"
      ]
    },
    {
      "cell_type": "code",
      "execution_count": 23,
      "metadata": {
        "colab": {
          "base_uri": "https://localhost:8080/"
        },
        "id": "ZQsDpUadUjTn",
        "outputId": "48fc54c1-53dd-4381-c390-cdc61927830c"
      },
      "outputs": [
        {
          "output_type": "stream",
          "name": "stdout",
          "text": [
            "Recipe #1\n",
            "---------\n",
            "📗 Slow Cooker Chicken and Dumplings\n",
            "\n",
            "🥕\n",
            "\n",
            "• 4 skinless, boneless chicken breast halves \n",
            "• 2 tablespoons butter \n",
            "• 2 (10.75 ounce) cans condensed cream of chicken soup \n",
            "• 1 onion, finely diced \n",
            "• 2 (10 ounce) packages refrigerated biscuit dough, torn into pieces \n",
            "\n",
            "📝\n",
            "\n",
            "▪︎ Place the chicken, butter, soup, and onion in a slow cooker, and fill with enough water to cover.\n",
            "▪︎ Cover, and cook for 5 to 6 hours on High. About 30 minutes before serving, place the torn biscuit dough in the slow cooker. Cook until the dough is no longer raw in the center.\n",
            "\n",
            "\n",
            "\n",
            "Recipe #2\n",
            "---------\n",
            "📗 Awesome Slow Cooker Pot Roast\n",
            "\n",
            "🥕\n",
            "\n",
            "• 2 (10.75 ounce) cans condensed cream of mushroom soup \n",
            "• 1 (1 ounce) package dry onion soup mix \n",
            "• 1 1/4 cups water \n",
            "• 5 1/2 pounds pot roast \n",
            "\n",
            "📝\n",
            "\n",
            "▪︎ In a slow cooker, mix cream of mushroom soup, dry onion soup mix and water. Place pot roast in slow cooker and coat with soup mixture.\n",
            "▪︎ Cook on High setting for 3 to 4 hours, or on Low setting for 8 to 9 hours.\n",
            "\n",
            "\n",
            "\n",
            "Recipe #3\n",
            "---------\n",
            "📗 Brown Sugar Meatloaf\n",
            "\n",
            "🥕\n",
            "\n",
            "• 1/2 cup packed brown sugar \n",
            "• 1/2 cup ketchup \n",
            "• 1 1/2 pounds lean ground beef \n",
            "• 3/4 cup milk \n",
            "• 2 eggs \n",
            "• 1 1/2 teaspoons salt \n",
            "• 1/4 teaspoon ground black pepper \n",
            "• 1 small onion, chopped \n",
            "• 1/4 teaspoon ground ginger \n",
            "• 3/4 cup finely crushed saltine cracker crumbs \n",
            "\n",
            "📝\n",
            "\n",
            "▪︎ Preheat oven to 350 degrees F (175 degrees C). Lightly grease a 5x9 inch loaf pan.\n",
            "▪︎ Press the brown sugar in the bottom of the prepared loaf pan and spread the ketchup over the sugar.\n",
            "▪︎ In a mixing bowl, mix thoroughly all remaining ingredients and shape into a loaf. Place on top of the ketchup.\n",
            "▪︎ Bake in preheated oven for 1 hour or until juices are clear.\n",
            "\n",
            "\n",
            "\n",
            "Recipe #4\n",
            "---------\n",
            "📗 Best Chocolate Chip Cookies\n",
            "\n",
            "🥕\n",
            "\n",
            "• 1 cup butter, softened \n",
            "• 1 cup white sugar \n",
            "• 1 cup packed brown sugar \n",
            "• 2 eggs \n",
            "• 2 teaspoons vanilla extract \n",
            "• 3 cups all-purpose flour \n",
            "• 1 teaspoon baking soda \n",
            "• 2 teaspoons hot water \n",
            "• 1/2 teaspoon salt \n",
            "• 2 cups semisweet chocolate chips \n",
            "• 1 cup chopped walnuts \n",
            "\n",
            "📝\n",
            "\n",
            "▪︎ Preheat oven to 350 degrees F (175 degrees C).\n",
            "▪︎ Cream together the butter, white sugar, and brown sugar until smooth. Beat in the eggs one at a time, then stir in the vanilla. Dissolve baking soda in hot water. Add to batter along with salt. Stir in flour, chocolate chips, and nuts. Drop by large spoonfuls onto ungreased pans.\n",
            "▪︎ Bake for about 10 minutes in the preheated oven, or until edges are nicely browned.\n",
            "\n",
            "\n",
            "\n",
            "Recipe #5\n",
            "---------\n",
            "📗 Homemade Mac and Cheese Casserole\n",
            "\n",
            "🥕\n",
            "\n",
            "• 8 ounces whole wheat rotini pasta \n",
            "• 3 cups fresh broccoli florets \n",
            "• 1 medium onion, chopped \n",
            "• 3 cloves garlic, minced \n",
            "• 4 tablespoons butter, divided \n",
            "• 2 tablespoons all-purpose flour \n",
            "• 1/4 teaspoon salt \n",
            "• 1/8 teaspoon ground black pepper \n",
            "• 2 1/2 cups milk \n",
            "• 8 ounces Cheddar cheese, shredded \n",
            "• 4 ounces reduced-fat cream cheese, cubed and softened \n",
            "• 1/2 cup fine dry Italian-seasoned bread crumbs \n",
            "• Reynolds Wrap® Non Stick Aluminum Foil \n",
            "\n",
            "📝\n",
            "\n",
            "▪︎ Preheat oven to 350 degrees F. Line a 2-quart casserole dish with Reynolds Wrap(R) Pan Lining Paper, parchment side up. No need to grease dish.\n",
            "▪︎ Cook the pasta in a large saucepan according to the package directions, adding the broccoli for the last 3 minutes of cooking. Drain. Return to the saucepan and set aside.\n",
            "▪︎ Cook the onion and garlic in 2 tablespoons hot butter in a large skillet 5 to 7 minutes or until tender. Stir in flour, salt, and black pepper. Add the milk all at once. Cook and stir over medium heat until slightly thickened and bubbly. Add cheddar cheese and cream cheese, stirring until melted. Pour cheese sauce over the pasta and broccoli and stir until well combined.\n",
            "▪︎ Melt the remaining 2 tablespoons butter and mix with the bread crumbs in a small bowl. Transfer the pasta mixture to the prepared casserole dish. Top with the buttery bread crumbs.\n",
            "▪︎ Bake, uncovered, about 25 minutes or until bubbly and internal temperature is 165 degrees F. Let stand for 10 minutes before serving.\n",
            "\n",
            "\n",
            "\n",
            "Recipe #6\n",
            "---------\n",
            "📗 Banana Banana Bread\n",
            "\n",
            "🥕\n",
            "\n",
            "• 2 cups all-purpose flour \n",
            "• 1 teaspoon baking soda \n",
            "• 1/4 teaspoon salt \n",
            "• 1/2 cup butter \n",
            "• 3/4 cup brown sugar \n",
            "• 2 eggs, beaten \n",
            "• 2 1/3 cups mashed overripe bananas \n",
            "\n",
            "📝\n",
            "\n",
            "▪︎ Preheat oven to 350 degrees F (175 degrees C). Lightly grease a 9x5 inch loaf pan.\n",
            "▪︎ In a large bowl, combine flour, baking soda and salt. In a separate bowl, cream together butter and brown sugar. Stir in eggs and mashed bananas until well blended. Stir banana mixture into flour mixture; stir just to moisten. Pour batter into prepared loaf pan.\n",
            "▪︎ Bake in preheated oven for 60 to 65 minutes, until a toothpick inserted into center of the loaf comes out clean. Let bread cool in pan for 10 minutes, then turn out onto a wire rack.\n",
            "\n",
            "\n",
            "\n",
            "Recipe #7\n",
            "---------\n",
            "📗 Chef John's Fisherman's Pie\n",
            "\n",
            "🥕\n",
            "\n",
            "• For potato crust: \n",
            "• 3 russet potatoes, peeled and cut into chunks \n",
            "• 3 tablespoons butter \n",
            "• 1 pinch freshly grated nutmeg \n",
            "• salt and ground black pepper to taste \n",
            "• 1 pinch cayenne pepper, or to taste \n",
            "• 1/2 cup milk \n",
            "• For the spinach: \n",
            "• 2 teaspoons olive oil \n",
            "• 12 ounces baby spinach leaves \n",
            "• For the sauce: \n",
            "• 3 tablespoons butter \n",
            "• 3 tablespoons all-purpose flour \n",
            "• 2 cloves garlic, minced \n",
            "• 2 cups cold milk, divided \n",
            "• 2 teaspoons lemon zest \n",
            "• For the rest: \n",
            "• 1 tablespoon butter \n",
            "• salt and ground black pepper to taste \n",
            "• 1 pinch cayenne pepper, or to taste \n",
            "• 2 pounds boneless cod fillets \n",
            "• 1/2 lemon, juiced \n",
            "• 1 tablespoon chopped fresh chives for garnish \n",
            "\n",
            "📝\n",
            "\n",
            "▪︎ Bring a large saucepan of salted water and to a boil; add russet potatoes to boiling water and cook until very tender, about 20 minutes. Drain well. Mash in 3 tablespoons butter until thoroughly combined. Season with nutmeg, salt, black pepper, and cayenne pepper to taste. Mash 1/2 cup milk into potato mixture until smooth.\n",
            "▪︎ Drizzle olive oil in a large Dutch oven over medium-high heat, add spinach, and season with a big pinch of salt. Cook, stirring occasionally, until spinach has wilted, about 1 minute. Transfer to a bowl lined with paper towels to wick away excess moisture.\n",
            "▪︎ Heat 3 tablespoons butter and flour in a saucepan over medium heat; whisk mixture to a smooth paste. Cook, stirring constantly, until mixture has a nutty smell and is slightly browned, about 2 minutes. Add chopped garlic; whisk until fragrant, 10 to 20 seconds.\n",
            "▪︎ Whisk 1 cup cold milk into flour mixture; cook until thickened. Whisk in remaining 1 cup milk and lemon zest. Bring white sauce to a gentle simmer, whisking constantly; season with salt. Turn heat to very low and keep sauce warm.\n",
            "▪︎ Preheat oven to 375 degrees F (190 degrees C). Grease an 8x12-inch casserole dish with 1 tablespoon butter.\n",
            "▪︎ Season buttered pan with salt, black pepper, and cayenne pepper. Lay boneless cod fillets into the pan in a single layer. Season tops of fillets with more salt, black pepper, and cayenne pepper. Spread spinach evenly over fish and drizzle with lemon juice. Spoon white sauce over spinach; give casserole dish several taps and shakes to eliminate bubbles.\n",
            "▪︎ Drop mashed potatoes by heaping spoonfuls over the casserole and spread smoothly to cover. Place dish onto a rimmed baking sheet to catch spills.\n",
            "▪︎ Bake in the preheated oven until bubbling, about 40 minutes. Turn on oven's broiler and broil until potato crust has a golden brown top, about 2 minutes. Fish should flake easily. Let stand 10 minutes before serving. Garnish with a sprinkle of chives.\n",
            "\n",
            "\n",
            "\n",
            "Recipe #8\n",
            "---------\n",
            "📗 Mom's Zucchini Bread\n",
            "\n",
            "🥕\n",
            "\n",
            "• 3 cups all-purpose flour \n",
            "• 1 teaspoon salt \n",
            "• 1 teaspoon baking soda \n",
            "• 1 teaspoon baking powder \n",
            "• 1 tablespoon ground cinnamon \n",
            "• 3 eggs \n",
            "• 1 cup vegetable oil \n",
            "• 2 1/4 cups white sugar \n",
            "• 3 teaspoons vanilla extract \n",
            "• 2 cups grated zucchini \n",
            "• 1 cup chopped walnuts \n",
            "\n",
            "📝\n",
            "\n",
            "▪︎ Grease and flour two 8 x 4 inch pans. Preheat oven to 325 degrees F (165 degrees C).\n",
            "▪︎ Sift flour, salt, baking powder, soda, and cinnamon together in a bowl.\n",
            "▪︎ Beat eggs, oil, vanilla, and sugar together in a large bowl. Add sifted ingredients to the creamed mixture, and beat well. Stir in zucchini and nuts until well combined. Pour batter into prepared pans.\n",
            "▪︎ Bake for 40 to 60 minutes, or until tester inserted in the center comes out clean. Cool in pan on rack for 20 minutes. Remove bread from pan, and completely cool.\n",
            "\n",
            "\n",
            "\n",
            "Recipe #9\n",
            "---------\n",
            "📗 The Best Rolled Sugar Cookies\n",
            "\n",
            "🥕\n",
            "\n",
            "• 1 1/2 cups butter, softened \n",
            "• 2 cups white sugar \n",
            "• 4 eggs \n",
            "• 1 teaspoon vanilla extract \n",
            "• 5 cups all-purpose flour \n",
            "• 2 teaspoons baking powder \n",
            "• 1 teaspoon salt \n",
            "\n",
            "📝\n",
            "\n",
            "▪︎ In a large bowl, cream together butter and sugar until smooth. Beat in eggs and vanilla. Stir in the flour, baking powder, and salt. Cover, and chill dough for at least one hour (or overnight).\n",
            "▪︎ Preheat oven to 400 degrees F (200 degrees C). Roll out dough on floured surface 1/4 to 1/2 inch thick. Cut into shapes with any cookie cutter. Place cookies 1 inch apart on ungreased cookie sheets.\n",
            "▪︎ Bake 6 to 8 minutes in preheated oven. Cool completely.\n",
            "\n",
            "\n",
            "\n",
            "Recipe #10\n",
            "---------\n",
            "📗 Singapore Chili Crabs\n",
            "\n",
            "🥕\n",
            "\n",
            "• Sauce: \n",
            "• 1/2 cup ketchup \n",
            "• 1/2 cup chicken broth \n",
            "• 1 large egg \n",
            "• 2 tablespoons soy sauce \n",
            "• 2 tablespoons chile-garlic sauce (such as sambal oelek) \n",
            "• 1 tablespoon oyster sauce \n",
            "• 1 tablespoon tamarind paste \n",
            "• 2 teaspoons fish sauce \n",
            "• 2 teaspoons palm sugar \n",
            "• 1/4 cup minced shallot \n",
            "• 6 cloves garlic, minced \n",
            "• 2 tablespoons vegetable oil, or more as needed \n",
            "• 2 tablespoons minced fresh ginger root \n",
            "• 1 tablespoon minced serrano pepper \n",
            "• 2 cooked Dungeness crabs, cleaned and cracked \n",
            "• 2 tablespoons chopped fresh cilantro \n",
            "• 2 tablespoons sliced green onion (green part only) \n",
            "\n",
            "📝\n",
            "\n",
            "▪︎ Whisk ketchup, chicken broth, egg, soy sauce, chile-garlic sauce, oyster sauce, tamarind paste, fish sauce, and palm sugar together in a bowl.\n",
            "▪︎ Stir shallots, garlic, oil, ginger, and serrano pepper together in a pot over medium-high heat. Saute until sizzling, about 2 minutes. Add crab to pot, cover the pot with a lid, and shake until crab is completely coated in shallot mixture. Remove lid and cook and stir until heated through, about 3 minutes.\n",
            "▪︎ Pour ketchup mixture into pot, reduce heat to medium, and cook and stir until sauce thickens and crab is hot about 5 minutes. Remove from heat; stir in cilantro and green onions.\n",
            "\n",
            "\n",
            "\n"
          ]
        }
      ],
      "source": [
        "for recipe_index, recipe_string in enumerate(dataset_stringified[:10]):\n",
        "    print('Recipe #{}\\n---------'.format(recipe_index + 1))\n",
        "    print(recipe_string)\n",
        "    print('\\n')"
      ]
    },
    {
      "cell_type": "code",
      "execution_count": 24,
      "metadata": {
        "colab": {
          "base_uri": "https://localhost:8080/"
        },
        "id": "WGM4qHO3Upck",
        "outputId": "503cece6-7673-41b0-8a7d-62e02cd795d2"
      },
      "outputs": [
        {
          "output_type": "stream",
          "name": "stdout",
          "text": [
            "📗 Herbed Bean Ragoût \n",
            "\n",
            "🥕\n",
            "\n",
            "• 6 ounces haricots verts (French thin green beans), trimmed and halved crosswise\n",
            "• 1 (1-pound) bag frozen edamame (soybeans in the pod) or 1 1/4 cups frozen shelled edamame, not thawed\n",
            "• 2/3 cup finely chopped onion\n",
            "• 2 garlic cloves, minced\n",
            "• 1 Turkish bay leaf or 1/2 California bay leaf\n",
            "• 2 (3-inch) fresh rosemary sprigs\n",
            "• 1/2 teaspoon salt\n",
            "• 1/4 teaspoon black pepper\n",
            "• 1 tablespoon olive oil\n",
            "• 1 medium carrot, cut into 1/8-inch dice\n",
            "• 1 medium celery rib, cut into 1/8-inch dice\n",
            "• 1 (15- to 16-ounces) can small white beans, rinsed and drained\n",
            "• 1 1/2 cups chicken stock or low-sodium broth\n",
            "• 2 tablespoons unsalted butter\n",
            "• 2 tablespoons finely chopped fresh flat-leaf parsley\n",
            "• 1 tablespoon finely chopped fresh chervil (optional)\n",
            "• Garnish: fresh chervil sprigs\n",
            "\n",
            "📝\n",
            "\n",
            "▪︎ Cook haricots verts in a large pot of boiling salted water until just tender, 3 to 4 minutes. Transfer with a slotted spoon to a bowl of ice and cold water, then drain. Add edamame to boiling water and cook 4 minutes. Drain in a colander, then rinse under cold water. If using edamame in pods, shell them and discard pods. Cook onion, garlic, bay leaf, rosemary, salt, and pepper in oil in a 2- to 4-quart heavy saucepan over moderately low heat, stirring, until softened, about 3 minutes. Add carrot and celery and cook, stirring, until softened, about 3 minutes. Add white beans and stock and simmer, covered, stirring occasionally, 10 minutes. Add haricots verts and edamame and simmer, uncovered, until heated through, 2 to 3 minutes. Add butter, parsley, and chervil (if using) and stir gently until butter is melted. Discard bay leaf and rosemary sprigs.\n",
            "▪︎ Cook haricots verts in a large pot of boiling salted water until just tender, 3 to 4 minutes. Transfer with a slotted spoon to a bowl of ice and cold water, then drain.\n",
            "▪︎ Add edamame to boiling water and cook 4 minutes. Drain in a colander, then rinse under cold water. If using edamame in pods, shell them and discard pods.\n",
            "▪︎ Cook onion, garlic, bay leaf, rosemary, salt, and pepper in oil in a 2- to 4-quart heavy saucepan over moderately low heat, stirring, until softened, about 3 minutes. Add carrot and celery and cook, stirring, until softened, about 3 minutes.\n",
            "▪︎ Add white beans and stock and simmer, covered, stirring occasionally, 10 minutes. Add haricots verts and edamame and simmer, uncovered, until heated through, 2 to 3 minutes. Add butter, parsley, and chervil (if using) and stir gently until butter is melted. Discard bay leaf and rosemary sprigs.\n",
            "\n"
          ]
        }
      ],
      "source": [
        "print(dataset_stringified[50000])"
      ]
    },
    {
      "cell_type": "markdown",
      "metadata": {
        "id": "xBYgyhLKUrzy"
      },
      "source": [
        "### Filter out large recipes\n",
        "We need a hard-coded sequence length limit before feeding recipe sequences into RNN"
      ]
    },
    {
      "cell_type": "code",
      "execution_count": 25,
      "metadata": {
        "id": "sYoHzK90Ut1T"
      },
      "outputs": [],
      "source": [
        "recipes_lengths = []\n",
        "for recipe_text in dataset_stringified:\n",
        "    recipes_lengths.append(len(recipe_text))"
      ]
    },
    {
      "cell_type": "code",
      "execution_count": 26,
      "metadata": {
        "colab": {
          "base_uri": "https://localhost:8080/",
          "height": 430
        },
        "id": "inKtWmSVUzh6",
        "outputId": "a9b7c2ec-d7ff-4ad7-9d24-24c262843e25"
      },
      "outputs": [
        {
          "output_type": "display_data",
          "data": {
            "text/plain": [
              "<Figure size 640x480 with 1 Axes>"
            ],
            "image/png": "[encoded data removed]"
          },
          "metadata": {}
        }
      ],
      "source": [
        "plt.hist(recipes_lengths, bins=50)\n",
        "plt.show()"
      ]
    },
    {
      "cell_type": "code",
      "execution_count": 27,
      "metadata": {
        "colab": {
          "base_uri": "https://localhost:8080/",
          "height": 434
        },
        "id": "UxXHcdOwU9NM",
        "outputId": "c0e54547-0d97-49f1-b7b9-062d376924b9"
      },
      "outputs": [
        {
          "output_type": "display_data",
          "data": {
            "text/plain": [
              "<Figure size 640x480 with 1 Axes>"
            ],
            "image/png": "[encoded data removed]"
          },
          "metadata": {}
        }
      ],
      "source": [
        "plt.hist(recipes_lengths, range=(0, 8000), bins=50)\n",
        "plt.show()"
      ]
    },
    {
      "cell_type": "code",
      "execution_count": 28,
      "metadata": {
        "id": "NLI35GJ2U-dq"
      },
      "outputs": [],
      "source": [
        "# looks like a limit of 2000 characters for the recipes will cover 80+% cases.\n",
        "# try to train RNN with this maximum recipe length limit.\n",
        "MAX_RECIPE_LENGTH = 2000"
      ]
    },
    {
      "cell_type": "code",
      "execution_count": 29,
      "metadata": {
        "id": "uh10VCNZVEhf"
      },
      "outputs": [],
      "source": [
        "def filter_recipes_by_length(recipe_test):\n",
        "    return len(recipe_test) <= MAX_RECIPE_LENGTH "
      ]
    },
    {
      "cell_type": "code",
      "execution_count": 30,
      "metadata": {
        "colab": {
          "base_uri": "https://localhost:8080/"
        },
        "id": "6oU0394CVHLa",
        "outputId": "e174c422-6103-47b6-bc8d-3f6d11c3e2af"
      },
      "outputs": [
        {
          "output_type": "stream",
          "name": "stdout",
          "text": [
            "Dataset size BEFORE filtering:  122938\n",
            "Dataset size AFTER filtering:  100212\n",
            "Number of etiminated recipes:  22726\n"
          ]
        }
      ],
      "source": [
        "# compare before/after filtering\n",
        "dataset_filtered = [recipe_text for recipe_text in dataset_stringified if filter_recipes_by_length(recipe_text)]\n",
        "\n",
        "print('Dataset size BEFORE filtering: ', len(dataset_stringified))\n",
        "print('Dataset size AFTER filtering: ', len(dataset_filtered))\n",
        "print('Number of etiminated recipes: ', len(dataset_stringified) - len(dataset_filtered))"
      ]
    },
    {
      "cell_type": "markdown",
      "metadata": {
        "id": "obaigVI1VQCy"
      },
      "source": [
        "### Summarizing Dataset Parameters"
      ]
    },
    {
      "cell_type": "code",
      "execution_count": 31,
      "metadata": {
        "colab": {
          "base_uri": "https://localhost:8080/"
        },
        "id": "XvSGIlX7VN9z",
        "outputId": "0ca98f84-21c0-4c35-fb44-9192b49e89af"
      },
      "outputs": [
        {
          "output_type": "stream",
          "name": "stdout",
          "text": [
            "MAX_RECIPE_LENGTH:  2000\n",
            "TOTAL_RECIPES_NUM:  100212\n"
          ]
        }
      ],
      "source": [
        "TOTAL_RECIPES_NUM = len(dataset_filtered)\n",
        "\n",
        "print('MAX_RECIPE_LENGTH: ', MAX_RECIPE_LENGTH)\n",
        "print('TOTAL_RECIPES_NUM: ', TOTAL_RECIPES_NUM)"
      ]
    },
    {
      "cell_type": "markdown",
      "source": [
        "# Model 1: RNN LSTM Model for Recipe Generation"
      ],
      "metadata": {
        "id": "AddLl_USp80S"
      }
    },
    {
      "cell_type": "markdown",
      "metadata": {
        "id": "HkGa0ca5VV_D"
      },
      "source": [
        "## Create Vocab"
      ]
    },
    {
      "cell_type": "code",
      "execution_count": 32,
      "metadata": {
        "id": "F702e-1-VXXn"
      },
      "outputs": [],
      "source": [
        "# indicator of the end of the recipe.\n",
        "STOP_SIGN = '␣'"
      ]
    },
    {
      "cell_type": "code",
      "execution_count": 33,
      "metadata": {
        "id": "brgRlCeIVc46"
      },
      "outputs": [],
      "source": [
        "rnn_tokenizer = tf.keras.preprocessing.text.Tokenizer(\n",
        "    char_level=True,\n",
        "    filters='',\n",
        "    lower=False,\n",
        "    split=''\n",
        ")"
      ]
    },
    {
      "cell_type": "code",
      "execution_count": 34,
      "metadata": {
        "id": "xs1orD8bVevq"
      },
      "outputs": [],
      "source": [
        "# stop word is not a part of recipes, but tokenizer must know about it as well.\n",
        "rnn_tokenizer.fit_on_texts([STOP_SIGN])"
      ]
    },
    {
      "cell_type": "code",
      "execution_count": 35,
      "metadata": {
        "id": "NGbwGLFNV2uz"
      },
      "outputs": [],
      "source": [
        "rnn_tokenizer.fit_on_texts(dataset_filtered)"
      ]
    },
    {
      "cell_type": "code",
      "execution_count": 36,
      "metadata": {
        "id": "zHwKKlCFVkvr",
        "colab": {
          "base_uri": "https://localhost:8080/"
        },
        "outputId": "790ef9c9-c0ae-4b0d-8446-303a49ece4a5"
      },
      "outputs": [
        {
          "output_type": "execute_result",
          "data": {
            "text/plain": [
              "{'num_words': None,\n",
              " 'filters': '',\n",
              " 'lower': False,\n",
              " 'split': '',\n",
              " 'char_level': True,\n",
              " 'oov_token': None,\n",
              " 'document_count': 100213,\n",
              " 'word_counts': '{\"\\\\u2423\": 1, \"\\\\ud83d\\\\udcd7\": 100212, \" \": 17527888, \"S\": 270259, \"l\": 3815150, \"o\": 5987496, \"w\": 964459, \"C\": 222831, \"k\": 890982, \"e\": 9296022, \"r\": 4760887, \"h\": 2922100, \"i\": 4911812, \"c\": 2883507, \"n\": 5304396, \"a\": 6067157, \"d\": 3099679, \"D\": 63999, \"u\": 2717050, \"m\": 1794411, \"p\": 2679164, \"g\": 1698670, \"s\": 4704222, \"\\\\n\": 1955281, \"\\\\ud83e\\\\udd55\": 100212, \"\\\\u2022\": 922813, \"4\": 232607, \",\": 1130487, \"b\": 1394803, \"t\": 5997722, \"v\": 746785, \"2\": 493933, \"(\": 144985, \"1\": 853931, \"0\": 145119, \".\": 1052548, \"7\": 31098, \"5\": 154071, \")\": 144977, \"f\": 1042981, \"y\": 666553, \"\\\\ud83d\\\\udcdd\": 100212, \"\\\\u25aa\": 331058, \"\\\\ufe0e\": 331058, \"P\": 200597, \"6\": 51398, \"H\": 43936, \"A\": 134274, \"3\": 213519, \"R\": 101253, \"x\": 201286, \"/\": 345257, \"I\": 81591, \"L\": 46138, \"8\": 55352, \"9\": 17697, \"B\": 123813, \"M\": 78684, \"F\": 104359, \"j\": 110008, \"-\": 219160, \"W\": 61616, \"\\\\u00ae\": 10159, \"N\": 12808, \"q\": 69654, \"T\": 101371, \";\": 72045, \"\\'\": 26831, \"Z\": 2428, \"z\": 115883, \"G\": 52043, \":\": 31318, \"E\": 18582, \"K\": 18421, \"X\": 385, \"\\\\\"\": 6445, \"O\": 28971, \"Y\": 6064, \"\\\\u2122\": 538, \"Q\": 3904, \"J\": 10269, \"!\": 3014, \"U\": 14132, \"V\": 12172, \"&\": 1039, \"+\": 87, \"=\": 113, \"%\": 993, \"*\": 3243, \"\\\\u00a9\": 99, \"[\": 30, \"]\": 31, \"\\\\u00e9\": 6727, \"<\": 76, \">\": 86, \"\\\\u00bd\": 166, \"#\": 168, \"\\\\u00f1\": 891, \"?\": 327, \"\\\\u2019\": 111, \"\\\\u00b0\": 6808, \"\\\\u201d\": 6, \"$\": 84, \"@\": 5, \"{\": 8, \"}\": 9, \"\\\\u2013\": 1228, \"\\\\u0096\": 7, \"\\\\u00e0\": 26, \"\\\\u00e2\": 106, \"\\\\u00e8\": 846, \"\\\\u00e1\": 74, \"\\\\u2014\": 215, \"\\\\u2044\": 16, \"\\\\u00ee\": 415, \"\\\\u00e7\": 171, \"_\": 26, \"\\\\u00fa\": 48, \"\\\\u00ef\": 43, \"\\\\u201a\": 20, \"\\\\u00fb\": 36, \"\\\\u00f3\": 74, \"\\\\u00ed\": 130, \"\\\\u25ca\": 4, \"\\\\u00f9\": 12, \"\\\\u00d7\": 6, \"\\\\u00ec\": 8, \"\\\\u00fc\": 29, \"\\\\u2031\": 4, \"\\\\u00ba\": 19, \"\\\\u201c\": 4, \"\\\\u00ad\": 25, \"\\\\u00ea\": 27, \"\\\\u00f6\": 9, \"\\\\u0301\": 11, \"\\\\u00f4\": 8, \"\\\\u00c1\": 2, \"\\\\u00be\": 23, \"\\\\u00bc\": 95, \"\\\\u00eb\": 2, \"\\\\u0097\": 2, \"\\\\u215b\": 3, \"\\\\u2027\": 4, \"\\\\u00e4\": 15, \"\\\\u001a\": 2, \"\\\\u00f8\": 2, \"\\\\ufffd\": 20, \"\\\\u02da\": 6, \"\\\\u00bf\": 264, \"\\\\u2153\": 2, \"|\": 2, \"\\\\u00e5\": 3, \"\\\\u00a4\": 1, \"\\\\u201f\": 1, \"\\\\u00a7\": 5, \"\\\\ufb02\": 3, \"\\\\u00a0\": 1, \"\\\\u01b0\": 2, \"\\\\u01a1\": 1, \"\\\\u0103\": 1, \"\\\\u0300\": 1, \"\\\\u00bb\": 6, \"`\": 3, \"\\\\u0092\": 2, \"\\\\u215e\": 1, \"\\\\u202d\": 4, \"\\\\u00b4\": 2, \"\\\\u2012\": 2, \"\\\\u00c9\": 40, \"\\\\u00da\": 14, \"\\\\u20ac\": 1, \"\\\\\\\\\": 5, \"~\": 1, \"\\\\u0095\": 1, \"\\\\u00c2\": 2}',\n",
              " 'word_docs': '{\"\\\\u2423\": 1, \"w\": 99227, \"P\": 79364, \"d\": 100194, \"g\": 99975, \"\\\\ud83d\\\\udcdd\": 100212, \"u\": 100161, \",\": 98524, \"A\": 60900, \"i\": 100207, \"f\": 98331, \"h\": 100161, \"\\\\n\": 100212, \"1\": 99320, \"e\": 100212, \"H\": 31908, \"0\": 61954, \".\": 100163, \"p\": 100046, \"\\\\u2022\": 100212, \"\\\\ud83d\\\\udcd7\": 100212, \"y\": 96387, \"D\": 40870, \"r\": 100207, \"6\": 35206, \"C\": 83328, \"\\\\ufe0e\": 100212, \"o\": 100205, \"n\": 100198, \"2\": 96743, \"\\\\u25aa\": 100212, \" \": 100212, \"b\": 99702, \"m\": 99988, \"t\": 100202, \"4\": 82453, \")\": 67614, \"7\": 24377, \"s\": 100204, \"a\": 100205, \"5\": 65486, \"S\": 89250, \"c\": 100190, \"v\": 97848, \"k\": 97316, \"l\": 100206, \"\\\\ud83e\\\\udd55\": 100212, \"3\": 79135, \"(\": 67627, \"I\": 46675, \"/\": 89051, \"8\": 37000, \"L\": 32101, \"x\": 72133, \"R\": 54040, \"9\": 14114, \"F\": 57940, \"M\": 48332, \"j\": 47438, \"B\": 64278, \"-\": 74711, \"T\": 53758, \"\\\\u00ae\": 5819, \"W\": 38981, \"q\": 36538, \"N\": 9981, \";\": 33863, \"\\'\": 18120, \"Z\": 2184, \"G\": 35355, \"z\": 42430, \":\": 18214, \"E\": 12161, \"K\": 14834, \"X\": 321, \"\\\\\"\": 2617, \"O\": 20103, \"Y\": 5148, \"\\\\u2122\": 448, \"Q\": 3142, \"J\": 8225, \"!\": 2428, \"U\": 10621, \"V\": 9710, \"&\": 749, \"=\": 48, \"+\": 32, \"%\": 717, \"*\": 1780, \"\\\\u00a9\": 91, \"[\": 25, \"]\": 26, \"\\\\u00e9\": 2462, \">\": 33, \"<\": 27, \"\\\\u00bd\": 81, \"#\": 139, \"\\\\u00f1\": 423, \"?\": 207, \"\\\\u2019\": 64, \"\\\\u00b0\": 3062, \"\\\\u201d\": 3, \"$\": 49, \"@\": 4, \"{\": 7, \"}\": 8, \"\\\\u2013\": 491, \"\\\\u0096\": 7, \"\\\\u00e0\": 22, \"\\\\u00e2\": 45, \"\\\\u00e8\": 335, \"\\\\u00e1\": 38, \"\\\\u2014\": 95, \"\\\\u2044\": 9, \"\\\\u00ee\": 122, \"_\": 8, \"\\\\u00e7\": 120, \"\\\\u00fa\": 25, \"\\\\u00ef\": 24, \"\\\\u201a\": 10, \"\\\\u00fb\": 29, \"\\\\u00f3\": 40, \"\\\\u00ed\": 52, \"\\\\u25ca\": 2, \"\\\\u00f9\": 6, \"\\\\u00d7\": 4, \"\\\\u00ec\": 4, \"\\\\u00fc\": 19, \"\\\\u2031\": 2, \"\\\\u00ba\": 9, \"\\\\u201c\": 2, \"\\\\u00ad\": 11, \"\\\\u00ea\": 4, \"\\\\u00f6\": 4, \"\\\\u0301\": 6, \"\\\\u00f4\": 5, \"\\\\u00c1\": 2, \"\\\\u00bc\": 55, \"\\\\u00be\": 18, \"\\\\u00eb\": 2, \"\\\\u0097\": 1, \"\\\\u215b\": 2, \"\\\\u2027\": 3, \"\\\\u00e4\": 8, \"\\\\u001a\": 1, \"\\\\u00f8\": 1, \"\\\\ufffd\": 4, \"\\\\u02da\": 3, \"\\\\u00bf\": 191, \"\\\\u2153\": 1, \"|\": 2, \"\\\\u00e5\": 1, \"\\\\u00a4\": 1, \"\\\\u201f\": 1, \"\\\\u00a7\": 3, \"\\\\ufb02\": 1, \"\\\\u00a0\": 1, \"\\\\u0103\": 1, \"\\\\u01a1\": 1, \"\\\\u0300\": 1, \"\\\\u01b0\": 1, \"\\\\u00bb\": 2, \"`\": 3, \"\\\\u0092\": 2, \"\\\\u215e\": 1, \"\\\\u202d\": 1, \"\\\\u00b4\": 1, \"\\\\u2012\": 1, \"\\\\u00c9\": 15, \"\\\\u00da\": 5, \"\\\\u20ac\": 1, \"\\\\\\\\\": 5, \"~\": 1, \"\\\\u0095\": 1, \"\\\\u00c2\": 1}',\n",
              " 'index_docs': '{\"1\": 100212, \"165\": 1, \"23\": 99227, \"39\": 79364, \"11\": 100194, \"18\": 99975, \"53\": 100212, \"14\": 100161, \"20\": 98524, \"44\": 60900, \"7\": 100207, \"22\": 98331, \"12\": 100161, \"16\": 100212, \"26\": 99320, \"2\": 100212, \"64\": 31908, \"41\": 61954, \"21\": 100163, \"15\": 100046, \"24\": 100212, \"51\": 100212, \"28\": 96387, \"58\": 40870, \"8\": 100207, \"62\": 35206, \"35\": 83328, \"32\": 100212, \"5\": 100205, \"6\": 100198, \"29\": 96743, \"31\": 100212, \"19\": 99702, \"17\": 99988, \"4\": 100202, \"34\": 82453, \"43\": 67614, \"66\": 24377, \"9\": 100204, \"3\": 100205, \"40\": 65486, \"33\": 89250, \"13\": 100190, \"27\": 97848, \"25\": 97316, \"10\": 100206, \"52\": 100212, \"37\": 79135, \"42\": 67627, \"54\": 46675, \"30\": 89051, \"60\": 37000, \"63\": 32101, \"38\": 72133, \"50\": 54040, \"71\": 14114, \"48\": 57940, \"55\": 48332, \"47\": 47438, \"45\": 64278, \"36\": 74711, \"49\": 53758, \"76\": 5819, \"59\": 38981, \"57\": 36538, \"73\": 9981, \"56\": 33863, \"68\": 18120, \"84\": 2184, \"61\": 35355, \"46\": 42430, \"65\": 18214, \"69\": 12161, \"70\": 14834, \"92\": 321, \"79\": 2617, \"67\": 20103, \"80\": 5148, \"90\": 448, \"81\": 3142, \"75\": 8225, \"83\": 2428, \"72\": 10621, \"74\": 9710, \"86\": 749, \"100\": 48, \"105\": 32, \"87\": 717, \"82\": 1780, \"103\": 91, \"116\": 25, \"115\": 26, \"78\": 2462, \"106\": 33, \"108\": 27, \"98\": 81, \"97\": 139, \"88\": 423, \"93\": 207, \"101\": 64, \"77\": 3062, \"137\": 3, \"107\": 49, \"141\": 4, \"133\": 7, \"131\": 8, \"85\": 491, \"136\": 7, \"119\": 22, \"102\": 45, \"89\": 335, \"109\": 38, \"95\": 95, \"126\": 9, \"91\": 122, \"120\": 8, \"96\": 120, \"111\": 25, \"112\": 24, \"123\": 10, \"114\": 29, \"110\": 40, \"99\": 52, \"144\": 2, \"129\": 6, \"138\": 4, \"134\": 4, \"117\": 19, \"145\": 2, \"125\": 9, \"146\": 2, \"121\": 11, \"118\": 4, \"132\": 4, \"130\": 6, \"135\": 5, \"153\": 2, \"104\": 55, \"122\": 18, \"154\": 2, \"155\": 1, \"149\": 2, \"147\": 3, \"127\": 8, \"156\": 1, \"157\": 1, \"124\": 4, \"139\": 3, \"94\": 191, \"158\": 1, \"159\": 2, \"150\": 1, \"166\": 1, \"167\": 1, \"142\": 3, \"151\": 1, \"168\": 1, \"170\": 1, \"169\": 1, \"171\": 1, \"160\": 1, \"140\": 2, \"152\": 3, \"161\": 2, \"172\": 1, \"148\": 1, \"162\": 1, \"163\": 1, \"113\": 15, \"128\": 5, \"173\": 1, \"143\": 5, \"174\": 1, \"175\": 1, \"164\": 1}',\n",
              " 'index_word': '{\"1\": \" \", \"2\": \"e\", \"3\": \"a\", \"4\": \"t\", \"5\": \"o\", \"6\": \"n\", \"7\": \"i\", \"8\": \"r\", \"9\": \"s\", \"10\": \"l\", \"11\": \"d\", \"12\": \"h\", \"13\": \"c\", \"14\": \"u\", \"15\": \"p\", \"16\": \"\\\\n\", \"17\": \"m\", \"18\": \"g\", \"19\": \"b\", \"20\": \",\", \"21\": \".\", \"22\": \"f\", \"23\": \"w\", \"24\": \"\\\\u2022\", \"25\": \"k\", \"26\": \"1\", \"27\": \"v\", \"28\": \"y\", \"29\": \"2\", \"30\": \"/\", \"31\": \"\\\\u25aa\", \"32\": \"\\\\ufe0e\", \"33\": \"S\", \"34\": \"4\", \"35\": \"C\", \"36\": \"-\", \"37\": \"3\", \"38\": \"x\", \"39\": \"P\", \"40\": \"5\", \"41\": \"0\", \"42\": \"(\", \"43\": \")\", \"44\": \"A\", \"45\": \"B\", \"46\": \"z\", \"47\": \"j\", \"48\": \"F\", \"49\": \"T\", \"50\": \"R\", \"51\": \"\\\\ud83d\\\\udcd7\", \"52\": \"\\\\ud83e\\\\udd55\", \"53\": \"\\\\ud83d\\\\udcdd\", \"54\": \"I\", \"55\": \"M\", \"56\": \";\", \"57\": \"q\", \"58\": \"D\", \"59\": \"W\", \"60\": \"8\", \"61\": \"G\", \"62\": \"6\", \"63\": \"L\", \"64\": \"H\", \"65\": \":\", \"66\": \"7\", \"67\": \"O\", \"68\": \"\\'\", \"69\": \"E\", \"70\": \"K\", \"71\": \"9\", \"72\": \"U\", \"73\": \"N\", \"74\": \"V\", \"75\": \"J\", \"76\": \"\\\\u00ae\", \"77\": \"\\\\u00b0\", \"78\": \"\\\\u00e9\", \"79\": \"\\\\\"\", \"80\": \"Y\", \"81\": \"Q\", \"82\": \"*\", \"83\": \"!\", \"84\": \"Z\", \"85\": \"\\\\u2013\", \"86\": \"&\", \"87\": \"%\", \"88\": \"\\\\u00f1\", \"89\": \"\\\\u00e8\", \"90\": \"\\\\u2122\", \"91\": \"\\\\u00ee\", \"92\": \"X\", \"93\": \"?\", \"94\": \"\\\\u00bf\", \"95\": \"\\\\u2014\", \"96\": \"\\\\u00e7\", \"97\": \"#\", \"98\": \"\\\\u00bd\", \"99\": \"\\\\u00ed\", \"100\": \"=\", \"101\": \"\\\\u2019\", \"102\": \"\\\\u00e2\", \"103\": \"\\\\u00a9\", \"104\": \"\\\\u00bc\", \"105\": \"+\", \"106\": \">\", \"107\": \"$\", \"108\": \"<\", \"109\": \"\\\\u00e1\", \"110\": \"\\\\u00f3\", \"111\": \"\\\\u00fa\", \"112\": \"\\\\u00ef\", \"113\": \"\\\\u00c9\", \"114\": \"\\\\u00fb\", \"115\": \"]\", \"116\": \"[\", \"117\": \"\\\\u00fc\", \"118\": \"\\\\u00ea\", \"119\": \"\\\\u00e0\", \"120\": \"_\", \"121\": \"\\\\u00ad\", \"122\": \"\\\\u00be\", \"123\": \"\\\\u201a\", \"124\": \"\\\\ufffd\", \"125\": \"\\\\u00ba\", \"126\": \"\\\\u2044\", \"127\": \"\\\\u00e4\", \"128\": \"\\\\u00da\", \"129\": \"\\\\u00f9\", \"130\": \"\\\\u0301\", \"131\": \"}\", \"132\": \"\\\\u00f6\", \"133\": \"{\", \"134\": \"\\\\u00ec\", \"135\": \"\\\\u00f4\", \"136\": \"\\\\u0096\", \"137\": \"\\\\u201d\", \"138\": \"\\\\u00d7\", \"139\": \"\\\\u02da\", \"140\": \"\\\\u00bb\", \"141\": \"@\", \"142\": \"\\\\u00a7\", \"143\": \"\\\\\\\\\", \"144\": \"\\\\u25ca\", \"145\": \"\\\\u2031\", \"146\": \"\\\\u201c\", \"147\": \"\\\\u2027\", \"148\": \"\\\\u202d\", \"149\": \"\\\\u215b\", \"150\": \"\\\\u00e5\", \"151\": \"\\\\ufb02\", \"152\": \"`\", \"153\": \"\\\\u00c1\", \"154\": \"\\\\u00eb\", \"155\": \"\\\\u0097\", \"156\": \"\\\\u001a\", \"157\": \"\\\\u00f8\", \"158\": \"\\\\u2153\", \"159\": \"|\", \"160\": \"\\\\u01b0\", \"161\": \"\\\\u0092\", \"162\": \"\\\\u00b4\", \"163\": \"\\\\u2012\", \"164\": \"\\\\u00c2\", \"165\": \"\\\\u2423\", \"166\": \"\\\\u00a4\", \"167\": \"\\\\u201f\", \"168\": \"\\\\u00a0\", \"169\": \"\\\\u01a1\", \"170\": \"\\\\u0103\", \"171\": \"\\\\u0300\", \"172\": \"\\\\u215e\", \"173\": \"\\\\u20ac\", \"174\": \"~\", \"175\": \"\\\\u0095\"}',\n",
              " 'word_index': '{\" \": 1, \"e\": 2, \"a\": 3, \"t\": 4, \"o\": 5, \"n\": 6, \"i\": 7, \"r\": 8, \"s\": 9, \"l\": 10, \"d\": 11, \"h\": 12, \"c\": 13, \"u\": 14, \"p\": 15, \"\\\\n\": 16, \"m\": 17, \"g\": 18, \"b\": 19, \",\": 20, \".\": 21, \"f\": 22, \"w\": 23, \"\\\\u2022\": 24, \"k\": 25, \"1\": 26, \"v\": 27, \"y\": 28, \"2\": 29, \"/\": 30, \"\\\\u25aa\": 31, \"\\\\ufe0e\": 32, \"S\": 33, \"4\": 34, \"C\": 35, \"-\": 36, \"3\": 37, \"x\": 38, \"P\": 39, \"5\": 40, \"0\": 41, \"(\": 42, \")\": 43, \"A\": 44, \"B\": 45, \"z\": 46, \"j\": 47, \"F\": 48, \"T\": 49, \"R\": 50, \"\\\\ud83d\\\\udcd7\": 51, \"\\\\ud83e\\\\udd55\": 52, \"\\\\ud83d\\\\udcdd\": 53, \"I\": 54, \"M\": 55, \";\": 56, \"q\": 57, \"D\": 58, \"W\": 59, \"8\": 60, \"G\": 61, \"6\": 62, \"L\": 63, \"H\": 64, \":\": 65, \"7\": 66, \"O\": 67, \"\\'\": 68, \"E\": 69, \"K\": 70, \"9\": 71, \"U\": 72, \"N\": 73, \"V\": 74, \"J\": 75, \"\\\\u00ae\": 76, \"\\\\u00b0\": 77, \"\\\\u00e9\": 78, \"\\\\\"\": 79, \"Y\": 80, \"Q\": 81, \"*\": 82, \"!\": 83, \"Z\": 84, \"\\\\u2013\": 85, \"&\": 86, \"%\": 87, \"\\\\u00f1\": 88, \"\\\\u00e8\": 89, \"\\\\u2122\": 90, \"\\\\u00ee\": 91, \"X\": 92, \"?\": 93, \"\\\\u00bf\": 94, \"\\\\u2014\": 95, \"\\\\u00e7\": 96, \"#\": 97, \"\\\\u00bd\": 98, \"\\\\u00ed\": 99, \"=\": 100, \"\\\\u2019\": 101, \"\\\\u00e2\": 102, \"\\\\u00a9\": 103, \"\\\\u00bc\": 104, \"+\": 105, \">\": 106, \"$\": 107, \"<\": 108, \"\\\\u00e1\": 109, \"\\\\u00f3\": 110, \"\\\\u00fa\": 111, \"\\\\u00ef\": 112, \"\\\\u00c9\": 113, \"\\\\u00fb\": 114, \"]\": 115, \"[\": 116, \"\\\\u00fc\": 117, \"\\\\u00ea\": 118, \"\\\\u00e0\": 119, \"_\": 120, \"\\\\u00ad\": 121, \"\\\\u00be\": 122, \"\\\\u201a\": 123, \"\\\\ufffd\": 124, \"\\\\u00ba\": 125, \"\\\\u2044\": 126, \"\\\\u00e4\": 127, \"\\\\u00da\": 128, \"\\\\u00f9\": 129, \"\\\\u0301\": 130, \"}\": 131, \"\\\\u00f6\": 132, \"{\": 133, \"\\\\u00ec\": 134, \"\\\\u00f4\": 135, \"\\\\u0096\": 136, \"\\\\u201d\": 137, \"\\\\u00d7\": 138, \"\\\\u02da\": 139, \"\\\\u00bb\": 140, \"@\": 141, \"\\\\u00a7\": 142, \"\\\\\\\\\": 143, \"\\\\u25ca\": 144, \"\\\\u2031\": 145, \"\\\\u201c\": 146, \"\\\\u2027\": 147, \"\\\\u202d\": 148, \"\\\\u215b\": 149, \"\\\\u00e5\": 150, \"\\\\ufb02\": 151, \"`\": 152, \"\\\\u00c1\": 153, \"\\\\u00eb\": 154, \"\\\\u0097\": 155, \"\\\\u001a\": 156, \"\\\\u00f8\": 157, \"\\\\u2153\": 158, \"|\": 159, \"\\\\u01b0\": 160, \"\\\\u0092\": 161, \"\\\\u00b4\": 162, \"\\\\u2012\": 163, \"\\\\u00c2\": 164, \"\\\\u2423\": 165, \"\\\\u00a4\": 166, \"\\\\u201f\": 167, \"\\\\u00a0\": 168, \"\\\\u01a1\": 169, \"\\\\u0103\": 170, \"\\\\u0300\": 171, \"\\\\u215e\": 172, \"\\\\u20ac\": 173, \"~\": 174, \"\\\\u0095\": 175}'}"
            ]
          },
          "metadata": {},
          "execution_count": 36
        }
      ],
      "source": [
        "rnn_tokenizer.get_config()"
      ]
    },
    {
      "cell_type": "code",
      "execution_count": 37,
      "metadata": {
        "id": "QhgY9wH5VmWa",
        "colab": {
          "base_uri": "https://localhost:8080/"
        },
        "outputId": "c69f6f93-439a-45c7-f63a-63c10fd972ba"
      },
      "outputs": [
        {
          "output_type": "stream",
          "name": "stdout",
          "text": [
            "VOCABULARY_SIZE:  176\n"
          ]
        }
      ],
      "source": [
        "# adding +1 to take into account a special unassigned 0 index.\n",
        "# @see: https://www.tensorflow.org/api_docs/python/tf/keras/preprocessing/text/Tokenizer\n",
        "VOCABULARY_SIZE = len(rnn_tokenizer.word_counts) + 1\n",
        "\n",
        "print('VOCABULARY_SIZE: ', VOCABULARY_SIZE)"
      ]
    },
    {
      "cell_type": "code",
      "execution_count": 38,
      "metadata": {
        "id": "gSIG_d2fVqEj",
        "colab": {
          "base_uri": "https://localhost:8080/"
        },
        "outputId": "3ec287f3-8714-44bb-e95f-a63de11c0639"
      },
      "outputs": [
        {
          "output_type": "stream",
          "name": "stdout",
          "text": [
            "o\n",
            ",\n"
          ]
        }
      ],
      "source": [
        "print(rnn_tokenizer.index_word[5])\n",
        "print(rnn_tokenizer.index_word[20])"
      ]
    },
    {
      "cell_type": "code",
      "execution_count": 39,
      "metadata": {
        "id": "G9j3FL5MV8Ca",
        "colab": {
          "base_uri": "https://localhost:8080/"
        },
        "outputId": "cfb8b959-a7fe-4dbe-ed90-e24ba0549d25"
      },
      "outputs": [
        {
          "output_type": "execute_result",
          "data": {
            "text/plain": [
              "8"
            ]
          },
          "metadata": {},
          "execution_count": 39
        }
      ],
      "source": [
        "rnn_tokenizer.word_index['r']"
      ]
    },
    {
      "cell_type": "code",
      "execution_count": 40,
      "metadata": {
        "id": "eyilKZWVV987",
        "colab": {
          "base_uri": "https://localhost:8080/"
        },
        "outputId": "2c0f664e-8d78-41e7-bbe8-df51b6d88f66"
      },
      "outputs": [
        {
          "output_type": "execute_result",
          "data": {
            "text/plain": [
              "[[51, 1, 28, 2, 9]]"
            ]
          },
          "metadata": {},
          "execution_count": 40
        }
      ],
      "source": [
        "# test proper conversion from text to indices.\n",
        "# this is needed for debugging a demo app.\n",
        "rnn_tokenizer.texts_to_sequences(['📗 yes'])"
      ]
    },
    {
      "cell_type": "markdown",
      "metadata": {
        "id": "fFLWrxiNWC5P"
      },
      "source": [
        "### Vectorize Recipe Texts"
      ]
    },
    {
      "cell_type": "code",
      "execution_count": null,
      "metadata": {
        "id": "urYE81dZWGMp"
      },
      "outputs": [],
      "source": [
        "def recipe_sequence_to_string(recipe_sequence):\n",
        "    recipe_stringified = rnn_tokenizer.sequences_to_texts([recipe_sequence])[0]\n",
        "    recipe_stringified = recipe_stringified.replace('   ', '_').replace(' ', '').replace('_', ' ')\n",
        "    print(recipe_stringified)"
      ]
    },
    {
      "cell_type": "code",
      "execution_count": null,
      "metadata": {
        "id": "UKaCrC0wWI0L"
      },
      "outputs": [],
      "source": [
        "dataset_vectorized = rnn_tokenizer.texts_to_sequences(dataset_filtered)"
      ]
    },
    {
      "cell_type": "code",
      "execution_count": null,
      "metadata": {
        "id": "VHIprKmLWKOW"
      },
      "outputs": [],
      "source": [
        "print('Vectorized dataset size', len(dataset_vectorized))"
      ]
    },
    {
      "cell_type": "code",
      "execution_count": null,
      "metadata": {
        "id": "dCMPmAsKWLrE"
      },
      "outputs": [],
      "source": [
        "print(dataset_vectorized[0][:10], '...')"
      ]
    },
    {
      "cell_type": "code",
      "execution_count": null,
      "metadata": {
        "id": "yBUnNENVWN0W"
      },
      "outputs": [],
      "source": [
        "max_index_example = np.max(dataset_vectorized)\n",
        "\n",
        "print('max_index_example: ', max_index_example)"
      ]
    },
    {
      "cell_type": "code",
      "execution_count": null,
      "metadata": {
        "id": "W5kOq-wMWO8a"
      },
      "outputs": [],
      "source": [
        "recipe_sequence_to_string(dataset_vectorized[0])"
      ]
    },
    {
      "cell_type": "markdown",
      "metadata": {
        "id": "LbejYDksWSUP"
      },
      "source": [
        "#### Add padding to sequences\n",
        "Keep all recipes the same length for training"
      ]
    },
    {
      "cell_type": "code",
      "execution_count": null,
      "metadata": {
        "id": "9R9FD-MRWRHl"
      },
      "outputs": [],
      "source": [
        "for recipe_index, recipe in enumerate(dataset_vectorized[:10]):\n",
        "    print('Recipe #{} length: {}'.format(recipe_index + 1, len(recipe)))"
      ]
    },
    {
      "cell_type": "code",
      "execution_count": null,
      "metadata": {
        "id": "KuCsL-1OWXSx"
      },
      "outputs": [],
      "source": [
        "dataset_vectorized_padded_without_stops = tf.keras.preprocessing.sequence.pad_sequences(\n",
        "    dataset_vectorized,\n",
        "    padding='post',\n",
        "    truncating='post',\n",
        "    # We use -1 here and +1 in the next step to make sure that all recipes will have at least 1 stops\n",
        "    # sign at the end, since each sequence will be shifted and truncated afterwards (to generate X and Y sequences).\n",
        "    maxlen=MAX_RECIPE_LENGTH-1,\n",
        "    value=rnn_tokenizer.texts_to_sequences([STOP_SIGN])[0]\n",
        ")"
      ]
    },
    {
      "cell_type": "code",
      "execution_count": null,
      "metadata": {
        "id": "JnkROTvyWjZY"
      },
      "outputs": [],
      "source": [
        "dataset_vectorized_padded = tf.keras.preprocessing.sequence.pad_sequences(\n",
        "    dataset_vectorized_padded_without_stops,\n",
        "    padding='post',\n",
        "    truncating='post',\n",
        "    maxlen=MAX_RECIPE_LENGTH+1,\n",
        "    value=rnn_tokenizer.texts_to_sequences([STOP_SIGN])[0]\n",
        ")"
      ]
    },
    {
      "cell_type": "code",
      "execution_count": null,
      "metadata": {
        "id": "SaW0vWSyWlOL"
      },
      "outputs": [],
      "source": [
        "for recipe_index, recipe in enumerate(dataset_vectorized_padded[:10]):\n",
        "    print('Recipe #{} length: {}'.format(recipe_index, len(recipe)))"
      ]
    },
    {
      "cell_type": "code",
      "execution_count": null,
      "metadata": {
        "id": "tBBaR___YzkA"
      },
      "outputs": [],
      "source": [
        "recipe_sequence_to_string(dataset_vectorized_padded[0])"
      ]
    },
    {
      "cell_type": "code",
      "execution_count": null,
      "metadata": {
        "id": "tVs7-1F_Y4iP"
      },
      "outputs": [],
      "source": [
        "max_index_example = np.max(dataset_vectorized_padded)\n",
        "\n",
        "print('max_index_example: ', max_index_example)"
      ]
    },
    {
      "cell_type": "markdown",
      "metadata": {
        "id": "B_PXSogAY6aR"
      },
      "source": [
        "## Create TensorFlow Dataset"
      ]
    },
    {
      "cell_type": "code",
      "execution_count": null,
      "metadata": {
        "id": "sr6Jri-5Y8IC"
      },
      "outputs": [],
      "source": [
        "dataset = tf.data.Dataset.from_tensor_slices(dataset_vectorized_padded)\n",
        "\n",
        "print(dataset)"
      ]
    },
    {
      "cell_type": "code",
      "execution_count": null,
      "metadata": {
        "id": "JwxXLGpMY-c3"
      },
      "outputs": [],
      "source": [
        "for recipe in dataset.take(1):\n",
        "    print('Raw recipe:\\n', recipe.numpy(), '\\n\\n\\n')\n",
        "    print('Stringified recipe:\\n')\n",
        "    recipe_sequence_to_string(recipe.numpy())"
      ]
    },
    {
      "cell_type": "markdown",
      "metadata": {
        "id": "oN8WWAY1ZAMu"
      },
      "source": [
        "### Split on `input` and `target`"
      ]
    },
    {
      "cell_type": "code",
      "execution_count": null,
      "metadata": {
        "id": "WufFyAkDZIIi"
      },
      "outputs": [],
      "source": [
        "def split_input_target(recipe):\n",
        "    input_text = recipe[:-1]\n",
        "    target_text = recipe[1:]\n",
        "    \n",
        "    return input_text, target_text"
      ]
    },
    {
      "cell_type": "code",
      "execution_count": null,
      "metadata": {
        "id": "d3Te_C_yZKSk"
      },
      "outputs": [],
      "source": [
        "dataset_targeted = dataset.map(split_input_target)\n",
        "\n",
        "print(dataset_targeted)"
      ]
    },
    {
      "cell_type": "code",
      "execution_count": null,
      "metadata": {
        "id": "5xiB0PEAZLxp"
      },
      "outputs": [],
      "source": [
        "for input_example, target_example in dataset_targeted.take(1):\n",
        "    print('Input sequence size:', repr(len(input_example.numpy())))\n",
        "    print('Target sequence size:', repr(len(target_example.numpy())))\n",
        "    print()\n",
        "    \n",
        "    input_stringified = rnn_tokenizer.sequences_to_texts([input_example.numpy()[:50]])[0]\n",
        "    target_stringified = rnn_tokenizer.sequences_to_texts([target_example.numpy()[:50]])[0]\n",
        "    \n",
        "    print('Input:  ', repr(''.join(input_stringified)))\n",
        "    print('Target: ', repr(''.join(target_stringified)))"
      ]
    },
    {
      "cell_type": "code",
      "execution_count": null,
      "metadata": {
        "id": "f23J08Q4ZNQb"
      },
      "outputs": [],
      "source": [
        "for i, (input_idx, target_idx) in enumerate(zip(input_example[:10], target_example[:10])):\n",
        "    print('Step {:2d}'.format(i + 1))\n",
        "    print('  input: {} ({:s})'.format(input_idx, repr(rnn_tokenizer.sequences_to_texts([[input_idx.numpy()]])[0])))\n",
        "    print('  expected output: {} ({:s})'.format(target_idx, repr(rnn_tokenizer.sequences_to_texts([[target_idx.numpy()]])[0])))"
      ]
    },
    {
      "cell_type": "code",
      "execution_count": null,
      "metadata": {
        "id": "i5tjIMnWZR6H"
      },
      "outputs": [],
      "source": [
        "print(dataset_targeted)"
      ]
    },
    {
      "cell_type": "code",
      "execution_count": null,
      "metadata": {
        "id": "_DMA4E9UZTaL"
      },
      "outputs": [],
      "source": [
        "print('TOTAL_RECIPES_NUM: ', TOTAL_RECIPES_NUM)\n",
        "print('MAX_RECIPE_LENGTH: ', MAX_RECIPE_LENGTH)\n",
        "print('VOCABULARY_SIZE: ', VOCABULARY_SIZE)"
      ]
    },
    {
      "cell_type": "code",
      "execution_count": null,
      "metadata": {
        "id": "oDvjZ2UtZUpJ"
      },
      "outputs": [],
      "source": [
        "# Batch size.\n",
        "BATCH_SIZE = 64\n",
        "\n",
        "# Buffer size to shuffle the dataset (TF data is designed to work\n",
        "# with possibly infinite sequences, so it doesn't attempt to shuffle\n",
        "# the entire sequence in memory. Instead, it maintains a buffer in\n",
        "# which it shuffles elements).\n",
        "SHUFFLE_BUFFER_SIZE = 1000"
      ]
    },
    {
      "cell_type": "code",
      "execution_count": null,
      "metadata": {
        "id": "z_0KsxspZZDz"
      },
      "outputs": [],
      "source": [
        "dataset_train = dataset_targeted \\\n",
        "  .shuffle(SHUFFLE_BUFFER_SIZE) \\\n",
        "  .batch(BATCH_SIZE, drop_remainder=True) \\\n",
        "  .repeat()"
      ]
    },
    {
      "cell_type": "code",
      "execution_count": null,
      "metadata": {
        "id": "QcVk1gE4Zbfk"
      },
      "outputs": [],
      "source": [
        "for input_text, target_text in dataset_train.take(1):\n",
        "    print('1st batch: input_text:', input_text)\n",
        "    print()\n",
        "    print('1st batch: target_text:', target_text)"
      ]
    },
    {
      "cell_type": "markdown",
      "metadata": {
        "id": "XBKEb8zYZc3j"
      },
      "source": [
        "## Build the Model"
      ]
    },
    {
      "cell_type": "code",
      "execution_count": null,
      "metadata": {
        "id": "hotOOopQZePa"
      },
      "outputs": [],
      "source": [
        "# Let's do a quick detour and see how Embeding layer works.\n",
        "# It takes several char indices sequences (batch) as an input.\n",
        "# It encodes every character of every sequence to a vector of tmp_embeding_size length.\n",
        "tmp_vocab_size = 10\n",
        "tmp_embeding_size = 5\n",
        "tmp_input_length = 8\n",
        "tmp_batch_size = 2\n",
        "\n",
        "tmp_model = tf.keras.models.Sequential()\n",
        "tmp_model.add(tf.keras.layers.Embedding(\n",
        "  input_dim=tmp_vocab_size,\n",
        "  output_dim=tmp_embeding_size,\n",
        "  input_length=tmp_input_length\n",
        "))\n",
        "# The model will take as input an integer matrix of size (batch, input_length).\n",
        "# The largest integer (i.e. word index) in the input should be no larger than 9 (tmp_vocab_size).\n",
        "# Now model.output_shape == (None, 10, 64), where None is the batch dimension.\n",
        "tmp_input_array = np.random.randint(\n",
        "  low=0,\n",
        "  high=tmp_vocab_size,\n",
        "  size=(tmp_batch_size, tmp_input_length)\n",
        ")\n",
        "tmp_model.compile('rmsprop', 'mse')\n",
        "tmp_output_array = tmp_model.predict(tmp_input_array)\n",
        "\n",
        "print('tmp_input_array shape:', tmp_input_array.shape)\n",
        "print('tmp_input_array:')\n",
        "print(tmp_input_array)\n",
        "print()\n",
        "print('tmp_output_array shape:', tmp_output_array.shape)\n",
        "print('tmp_output_array:')\n",
        "print(tmp_output_array)"
      ]
    },
    {
      "cell_type": "code",
      "execution_count": null,
      "metadata": {
        "id": "iHKXHg7-Zi6z"
      },
      "outputs": [],
      "source": [
        "# Length of the vocabulary in chars.\n",
        "vocab_size = VOCABULARY_SIZE\n",
        "\n",
        "# The embedding dimension.\n",
        "embedding_dim = 256\n",
        "\n",
        "# Number of RNN units.\n",
        "rnn_units = 1024"
      ]
    },
    {
      "cell_type": "code",
      "execution_count": null,
      "metadata": {
        "id": "FFGnTUA7ZkOc"
      },
      "outputs": [],
      "source": [
        "def build_rnn_model(vocab_size, embedding_dim, rnn_units, batch_size):\n",
        "    model = tf.keras.models.Sequential()\n",
        "\n",
        "    model.add(tf.keras.layers.Embedding(\n",
        "        input_dim=vocab_size,\n",
        "        output_dim=embedding_dim,\n",
        "        batch_input_shape=[batch_size, None]\n",
        "    ))\n",
        "\n",
        "    model.add(tf.keras.layers.LSTM(\n",
        "        units=rnn_units,\n",
        "        return_sequences=True,\n",
        "        stateful=True,\n",
        "        recurrent_initializer=tf.keras.initializers.GlorotNormal()\n",
        "    ))\n",
        "\n",
        "    model.add(tf.keras.layers.Dense(vocab_size))\n",
        "    \n",
        "    return model"
      ]
    },
    {
      "cell_type": "code",
      "execution_count": null,
      "metadata": {
        "id": "ysRkozTAZlSy"
      },
      "outputs": [],
      "source": [
        "model_1 = build_rnn_model(vocab_size, embedding_dim, rnn_units, BATCH_SIZE)\n",
        "\n",
        "model_1.summary()"
      ]
    },
    {
      "cell_type": "code",
      "execution_count": null,
      "metadata": {
        "id": "U1fCF8eiZmpE"
      },
      "outputs": [],
      "source": [
        "tf.keras.utils.plot_model(\n",
        "    model_1,\n",
        "    show_shapes=True,\n",
        "    show_layer_names=True,\n",
        "    to_file='model_1.png'\n",
        ")"
      ]
    },
    {
      "cell_type": "markdown",
      "metadata": {
        "id": "QoTB7bsXZoRd"
      },
      "source": [
        "### Try the Model"
      ]
    },
    {
      "cell_type": "code",
      "execution_count": null,
      "metadata": {
        "id": "lV0L8ngeZpQK"
      },
      "outputs": [],
      "source": [
        "for input_example_batch, target_example_batch in dataset_train.take(1):\n",
        "    example_batch_predictions = model_1(input_example_batch)\n",
        "    print(example_batch_predictions.shape, \"# (batch_size, sequence_length, vocab_size)\")"
      ]
    },
    {
      "cell_type": "code",
      "execution_count": null,
      "metadata": {
        "id": "oAJN7DNwZqrr"
      },
      "outputs": [],
      "source": [
        "print('Prediction for the 1st letter of the batch 1st sequense:')\n",
        "print(example_batch_predictions[0, 0])"
      ]
    },
    {
      "cell_type": "code",
      "execution_count": null,
      "metadata": {
        "id": "CGHWarI5ZsSs"
      },
      "outputs": [],
      "source": [
        "# Quick overview of how tf.random.categorical() works.\n",
        "\n",
        "# logits is 2-D Tensor with shape [batch_size, num_classes].\n",
        "# Each slice [i, :] represents the unnormalized log-probabilities for all classes.\n",
        "# In the example below we say that the probability for class \"0\" is low but the\n",
        "# probability for class \"2\" is much higher.\n",
        "tmp_logits = [\n",
        "  [-0.95, 0, 0.95],\n",
        "];\n",
        "\n",
        "# Let's generate 5 samples. Each sample is a class index. Class probabilities \n",
        "# are being taken into account (we expect to see more samples of class \"2\").\n",
        "tmp_samples = tf.random.categorical(\n",
        "    logits=tmp_logits,\n",
        "    num_samples=5\n",
        ")\n",
        "\n",
        "print(tmp_samples)"
      ]
    },
    {
      "cell_type": "code",
      "execution_count": null,
      "metadata": {
        "id": "YCZEYtFqZtpP"
      },
      "outputs": [],
      "source": [
        "sampled_indices = tf.random.categorical(\n",
        "    logits=example_batch_predictions[0],\n",
        "    num_samples=1\n",
        ")\n",
        "\n",
        "sampled_indices.shape"
      ]
    },
    {
      "cell_type": "code",
      "execution_count": null,
      "metadata": {
        "id": "-DINu29DZu15"
      },
      "outputs": [],
      "source": [
        "sampled_indices = tf.squeeze(\n",
        "    input=sampled_indices,\n",
        "    axis=-1\n",
        ").numpy()\n",
        "\n",
        "sampled_indices.shape"
      ]
    },
    {
      "cell_type": "code",
      "execution_count": null,
      "metadata": {
        "id": "xGm6WeGMZwXj"
      },
      "outputs": [],
      "source": [
        "sampled_indices[:100]"
      ]
    },
    {
      "cell_type": "code",
      "execution_count": null,
      "metadata": {
        "id": "M8qbpSgUZxxt"
      },
      "outputs": [],
      "source": [
        "print('Input:\\n', repr(''.join(rnn_tokenizer.sequences_to_texts([input_example_batch[0].numpy()[:50]]))))\n",
        "print()\n",
        "print('Next char prediction:\\n', repr(''.join(rnn_tokenizer.sequences_to_texts([sampled_indices[:50]]))))"
      ]
    },
    {
      "cell_type": "markdown",
      "metadata": {
        "id": "e0SMhKeOZ0ef"
      },
      "source": [
        "### Try the Model with Variable Input"
      ]
    },
    {
      "cell_type": "code",
      "execution_count": null,
      "metadata": {
        "id": "Yj-OdfHTZ3-Z"
      },
      "outputs": [],
      "source": [
        "for input_example_batch_custom, target_example_batch_custom in dataset_train.take(1):\n",
        "    random_input = np.zeros(shape=(BATCH_SIZE, 10))\n",
        "    example_batch_predictions_custom = model_1(random_input)\n",
        "    print('Prediction shape: ', example_batch_predictions_custom.shape, \"# (batch_size, sequence_length, vocab_size)\\n\")\n",
        "    print('Custom length input: ')\n",
        "    print(random_input)"
      ]
    },
    {
      "cell_type": "markdown",
      "metadata": {
        "id": "d9hZNEZ8aEKU"
      },
      "source": [
        "## Train the Model"
      ]
    },
    {
      "cell_type": "markdown",
      "metadata": {
        "id": "93md5fi3aHfL"
      },
      "source": [
        "Attach an optimizer and a loss function"
      ]
    },
    {
      "cell_type": "code",
      "execution_count": null,
      "metadata": {
        "id": "Mvh6yq9_aFdj"
      },
      "outputs": [],
      "source": [
        "for input_example_batch_custom, target_example_batch_custom in dataset_train.take(1):\n",
        "    random_input = np.zeros(shape=(BATCH_SIZE, 10))\n",
        "    example_batch_predictions_custom = model_1(random_input)\n",
        "    print('Prediction shape: ', example_batch_predictions_custom.shape, \"# (batch_size, sequence_length, vocab_size)\\n\")\n",
        "    print('Custom length input: ')\n",
        "    print(random_input)"
      ]
    },
    {
      "cell_type": "code",
      "execution_count": null,
      "metadata": {
        "id": "c4Hy5aSkaX9n"
      },
      "outputs": [],
      "source": [
        "# An objective function.\n",
        "# The function is any callable with the signature scalar_loss = fn(y_true, y_pred).\n",
        "def loss(labels, logits):\n",
        "    entropy = tf.keras.losses.sparse_categorical_crossentropy(\n",
        "      y_true=labels,\n",
        "      y_pred=logits,\n",
        "      from_logits=True\n",
        "    )\n",
        "    \n",
        "    return entropy\n",
        "\n",
        "example_batch_loss = loss(target_example_batch, example_batch_predictions)\n",
        "\n",
        "print(\"Prediction shape: \", example_batch_predictions.shape, \" # (batch_size, sequence_length, vocab_size)\")\n",
        "print(\"scalar_loss.shape:      \", example_batch_loss.shape)\n",
        "print(\"scalar_loss:      \", example_batch_loss.numpy().mean())"
      ]
    },
    {
      "cell_type": "code",
      "execution_count": null,
      "metadata": {
        "id": "5ZLrS7qpaJgv"
      },
      "outputs": [],
      "source": [
        "adam_optimizer = tf.keras.optimizers.Adam(learning_rate=0.001)\n",
        "\n",
        "model_1.compile(\n",
        "    optimizer=adam_optimizer,\n",
        "    loss=loss,\n",
        "    metrics=['accuracy']\n",
        ")"
      ]
    },
    {
      "cell_type": "markdown",
      "metadata": {
        "id": "61gFGTzoaajd"
      },
      "source": [
        "### Configure Checkpoints"
      ]
    },
    {
      "cell_type": "code",
      "execution_count": null,
      "metadata": {
        "id": "EiJ1_tHsac7M"
      },
      "outputs": [],
      "source": [
        "# Directory where the checkpoints will be saved.\n",
        "checkpoint_dir = '/content/drive/MyDrive/deep_learning/rnn_checkpoints'\n",
        "os.makedirs(checkpoint_dir, exist_ok=True)"
      ]
    },
    {
      "cell_type": "code",
      "execution_count": null,
      "metadata": {
        "id": "0ujqmMSZagQM"
      },
      "outputs": [],
      "source": [
        "def download_latest_checkpoint(zip_only=True):\n",
        "    latest_checkpoint_path = tf.train.latest_checkpoint(checkpoint_dir)\n",
        "    latest_checkpoint_name = os.path.split(latest_checkpoint_path)[-1]\n",
        "    latest_checkpoint_zip_name = latest_checkpoint_name + '.zip'\n",
        "    \n",
        "    print('latest_checkpoint_path: ', latest_checkpoint_path)\n",
        "    print('latest_checkpoint_name: ', latest_checkpoint_name)\n",
        "    print('---\\n')\n",
        "\n",
        "    print('Checkpoint files:')\n",
        "    with zipfile.ZipFile(latest_checkpoint_zip_name, mode='w') as zip_obj:\n",
        "        for folder_name, subfolders, filenames in os.walk(checkpoint_dir):\n",
        "            for filename in filenames:\n",
        "                if filename.startswith(latest_checkpoint_name):\n",
        "                        print('  - ' + filename)\n",
        "                        file_path = os.path.join(folder_name, filename)\n",
        "                        zip_obj.write(file_path, os.path.basename(file_path))\n",
        "    print('---\\n')\n",
        "    print('Zipped to: ', latest_checkpoint_zip_name)\n",
        "\n",
        "    if not zip_only:\n",
        "        files.download(latest_checkpoint_zip_name)"
      ]
    },
    {
      "cell_type": "code",
      "execution_count": null,
      "metadata": {
        "id": "7dvE5mtOaiQT"
      },
      "outputs": [],
      "source": [
        "def model_weights_from_latest_checkpoint(model):\n",
        "    latest_checkpoint_path = tf.train.latest_checkpoint(checkpoint_dir)\n",
        "\n",
        "    if not latest_checkpoint_path:\n",
        "        print('Latest checkpoint was not found. Using model as is.')\n",
        "        return model\n",
        "\n",
        "    print('latest_checkpoint_path: ', latest_checkpoint_path)\n",
        "\n",
        "    model.load_weights(latest_checkpoint_path)\n",
        "\n",
        "    return model"
      ]
    },
    {
      "cell_type": "code",
      "execution_count": null,
      "metadata": {
        "id": "y1aWiPRTajv8"
      },
      "outputs": [],
      "source": [
        "def initial_epoch_from_latest_checkpoint():\n",
        "    latest_checkpoint_path = tf.train.latest_checkpoint(checkpoint_dir)\n",
        "\n",
        "    if not latest_checkpoint_path:\n",
        "        print('Latest checkpoint was not found. Starting from epoch #0')\n",
        "        return 0\n",
        "\n",
        "    print('latest_checkpoint_path: ', latest_checkpoint_path)\n",
        "\n",
        "    latest_checkpoint_name = os.path.split(latest_checkpoint_path)[-1]\n",
        "    print('latest_checkpoint_name: ', latest_checkpoint_name)\n",
        "\n",
        "    latest_checkpoint_num = latest_checkpoint_name.split('_')[-1]\n",
        "    print('latest_checkpoint_num: ', latest_checkpoint_num)\n",
        "\n",
        "    return int(latest_checkpoint_num)"
      ]
    },
    {
      "cell_type": "code",
      "execution_count": null,
      "metadata": {
        "id": "83vlwzngakys"
      },
      "outputs": [],
      "source": [
        "def unzip_checkpoint(checkpoint_zip_path):\n",
        "    if not os.path.exists(checkpoint_zip_path):\n",
        "        print('Cannot find a specified file')\n",
        "        return\n",
        "\n",
        "    os.makedirs(checkpoint_dir, exist_ok=True)\n",
        "    with zipfile.ZipFile(checkpoint_zip_path, 'r') as zip_obj:\n",
        "        zip_obj.extractall(checkpoint_dir)\n",
        "\n",
        "    %ls -la ./tmp/checkpoints"
      ]
    },
    {
      "cell_type": "markdown",
      "metadata": {
        "id": "66iPKIPIc8d5"
      },
      "source": [
        "### Configuring Callbacks"
      ]
    },
    {
      "cell_type": "code",
      "execution_count": null,
      "metadata": {
        "id": "w2ofqFdOanpJ"
      },
      "outputs": [],
      "source": [
        "early_stopping_callback = tf.keras.callbacks.EarlyStopping(\n",
        "    patience=5,\n",
        "    monitor='loss',\n",
        "    restore_best_weights=True,\n",
        "    verbose=1\n",
        ")"
      ]
    },
    {
      "cell_type": "code",
      "execution_count": null,
      "metadata": {
        "id": "JdVOQS4daqMM"
      },
      "outputs": [],
      "source": [
        "checkpoint_prefix = os.path.join(checkpoint_dir, 'ckpt_{epoch}')\n",
        "checkpoint_callback=tf.keras.callbacks.ModelCheckpoint(\n",
        "    filepath=checkpoint_prefix,\n",
        "    save_weights_only=True\n",
        ")"
      ]
    },
    {
      "cell_type": "markdown",
      "metadata": {
        "id": "Dm814JWZarki"
      },
      "source": [
        "## Run the Training"
      ]
    },
    {
      "cell_type": "code",
      "execution_count": null,
      "metadata": {
        "id": "jJCd8i1kasvK"
      },
      "outputs": [],
      "source": [
        "INITIAL_EPOCH  = initial_epoch_from_latest_checkpoint()\n",
        "EPOCHS_DELTA = 10\n",
        "EPOCHS = INITIAL_EPOCH + EPOCHS_DELTA\n",
        "STEPS_PER_EPOCH = 1500\n",
        "\n",
        "print('\\n')\n",
        "print('INITIAL_EPOCH:   ', INITIAL_EPOCH)\n",
        "print('EPOCHS_DELTA:    ', EPOCHS_DELTA)\n",
        "print('EPOCHS:          ', EPOCHS)\n",
        "print('STEPS_PER_EPOCH: ', STEPS_PER_EPOCH)"
      ]
    },
    {
      "cell_type": "code",
      "source": [
        "# initialize before training, if needed\n",
        "try: \n",
        "  print(\"History exists.\")\n",
        "  print(history_1)\n",
        "except NameError:\n",
        "  print(\"History cleared.\")\n",
        "  history_1 = {}"
      ],
      "metadata": {
        "id": "4udlbTCcIV7Z"
      },
      "execution_count": null,
      "outputs": []
    },
    {
      "cell_type": "code",
      "execution_count": null,
      "metadata": {
        "id": "fZmqRd7lavMa"
      },
      "outputs": [],
      "source": [
        "history_1[INITIAL_EPOCH] = model_1.fit(\n",
        "    x=dataset_train,\n",
        "    epochs=EPOCHS,\n",
        "    steps_per_epoch=STEPS_PER_EPOCH,\n",
        "    initial_epoch=INITIAL_EPOCH,\n",
        "    callbacks=[\n",
        "        checkpoint_callback,\n",
        "        early_stopping_callback\n",
        "    ]\n",
        ")"
      ]
    },
    {
      "cell_type": "code",
      "source": [
        "# model_name = 'recipe_generation_rnn_raw_' + str(INITIAL_EPOCH) + '.h5'\n",
        "# model_1.save(model_name, save_format='h5')\n",
        "\n",
        "model_1.save(\"/content/drive/MyDrive/deep_learning/rnn/rnn_recipe_generation\")\n",
        "download_latest_checkpoint(zip_only=True)"
      ],
      "metadata": {
        "id": "gEFoG3n8IQ7M"
      },
      "execution_count": null,
      "outputs": []
    },
    {
      "cell_type": "code",
      "execution_count": null,
      "metadata": {
        "id": "yZyIh_aMa0MF"
      },
      "outputs": [],
      "source": [
        "print(history_1)"
      ]
    },
    {
      "cell_type": "markdown",
      "metadata": {
        "id": "Gxc9qzK2a2VI"
      },
      "source": [
        "#### Visualize the Training Process"
      ]
    },
    {
      "cell_type": "code",
      "execution_count": null,
      "metadata": {
        "id": "QIrjwhSJa44r"
      },
      "outputs": [],
      "source": [
        "def render_training_history(training_history):\n",
        "    if 'history' in training_history:\n",
        "        loss = training_history.history['loss']\n",
        "    else:\n",
        "        loss = []\n",
        "        for initial_epoch in training_history:\n",
        "            loss += training_history[initial_epoch].history['loss']\n",
        "\n",
        "    plt.title('Loss')\n",
        "    plt.xlabel('Epoch')\n",
        "    plt.ylabel('Loss')\n",
        "    plt.plot(loss, label='Training set')\n",
        "    plt.legend()\n",
        "    plt.grid(linestyle='--', linewidth=1, alpha=0.5)\n",
        "    plt.show()"
      ]
    },
    {
      "cell_type": "code",
      "execution_count": null,
      "metadata": {
        "id": "RRxxVojya6JZ"
      },
      "outputs": [],
      "source": [
        "render_training_history(history_1)"
      ]
    },
    {
      "cell_type": "markdown",
      "metadata": {
        "id": "GNmose4ubZ6O"
      },
      "source": [
        "## Benchmark with Metrics\n",
        "Determine the baseline moving forward"
      ]
    },
    {
      "cell_type": "markdown",
      "metadata": {
        "id": "E1N78CkZbRhD"
      },
      "source": [
        "## Save the LSTM Model"
      ]
    },
    {
      "cell_type": "code",
      "execution_count": null,
      "metadata": {
        "id": "QNObl6hjbSxO"
      },
      "outputs": [],
      "source": [
        "# model_name = 'recipe_generation_rnn.h5'\n",
        "# model_1_simplified.save(model_name, save_format='h5')\n",
        "# files.download('recipe_generation_rnn.h5')\n",
        "\n",
        "model_1.save(\"/content/drive/MyDrive/deep_learning/rnn/rnn_recipe_generation\")"
      ]
    },
    {
      "cell_type": "code",
      "source": [
        "# !zip -r /content/file.zip /content/\n",
        "# files.download(\"/content/file.zip\")"
      ],
      "metadata": {
        "id": "Uwhu4zD4VXd6"
      },
      "execution_count": null,
      "outputs": []
    },
    {
      "cell_type": "markdown",
      "source": [
        "# Model 2: Fine-Tune GPT2 for Recipe Generation"
      ],
      "metadata": {
        "id": "GtvrtTTQH8kJ"
      }
    },
    {
      "cell_type": "markdown",
      "source": [
        "## Import Dependencies"
      ],
      "metadata": {
        "id": "x03cnQmNbx-s"
      }
    },
    {
      "cell_type": "code",
      "source": [
        "!python3.9 -m pip install --upgrade pip"
      ],
      "metadata": {
        "colab": {
          "base_uri": "https://localhost:8080/"
        },
        "id": "3Xb4g8yCTCzL",
        "outputId": "2e35b705-28f3-483f-c2d2-095d9c8d81a7"
      },
      "execution_count": 41,
      "outputs": [
        {
          "output_type": "stream",
          "name": "stdout",
          "text": [
            "/bin/bash: python3.9: command not found\n"
          ]
        }
      ]
    },
    {
      "cell_type": "code",
      "source": [
        "# !pip install pandas\n",
        "# !pip install numpy\n",
        "# !pip install seaborn\n",
        "# !pip install torch\n",
        "!pip install transformers\n",
        "!pip install alive-progress\n",
        "!pip install tqdm\n",
        "# !pip install nltk"
      ],
      "metadata": {
        "colab": {
          "base_uri": "https://localhost:8080/"
        },
        "id": "_6uEPw9Db_gf",
        "outputId": "3379785d-0ccc-49d1-e44d-52ad7153a488"
      },
      "execution_count": 42,
      "outputs": [
        {
          "output_type": "stream",
          "name": "stdout",
          "text": [
            "Looking in indexes: https://pypi.org/simple, https://us-python.pkg.dev/colab-wheels/public/simple/\n",
            "Collecting transformers\n",
            "  Downloading transformers-4.28.1-py3-none-any.whl (7.0 MB)\n",
            "\u001b[2K     \u001b[90m━━━━━━━━━━━━━━━━━━━━━━━━━━━━━━━━━━━━━━━━\u001b[0m \u001b[32m7.0/7.0 MB\u001b[0m \u001b[31m102.0 MB/s\u001b[0m eta \u001b[36m0:00:00\u001b[0m\n",
            "\u001b[?25hCollecting huggingface-hub<1.0,>=0.11.0\n",
            "  Downloading huggingface_hub-0.14.1-py3-none-any.whl (224 kB)\n",
            "\u001b[2K     \u001b[90m━━━━━━━━━━━━━━━━━━━━━━━━━━━━━━━━━━━━━━\u001b[0m \u001b[32m224.5/224.5 kB\u001b[0m \u001b[31m29.3 MB/s\u001b[0m eta \u001b[36m0:00:00\u001b[0m\n",
            "\u001b[?25hRequirement already satisfied: filelock in /usr/local/lib/python3.10/dist-packages (from transformers) (3.12.0)\n",
            "Requirement already satisfied: regex!=2019.12.17 in /usr/local/lib/python3.10/dist-packages (from transformers) (2022.10.31)\n",
            "Requirement already satisfied: requests in /usr/local/lib/python3.10/dist-packages (from transformers) (2.27.1)\n",
            "Requirement already satisfied: pyyaml>=5.1 in /usr/local/lib/python3.10/dist-packages (from transformers) (6.0)\n",
            "Requirement already satisfied: packaging>=20.0 in /usr/local/lib/python3.10/dist-packages (from transformers) (23.1)\n",
            "Requirement already satisfied: tqdm>=4.27 in /usr/local/lib/python3.10/dist-packages (from transformers) (4.65.0)\n",
            "Collecting tokenizers!=0.11.3,<0.14,>=0.11.1\n",
            "  Downloading tokenizers-0.13.3-cp310-cp310-manylinux_2_17_x86_64.manylinux2014_x86_64.whl (7.8 MB)\n",
            "\u001b[2K     \u001b[90m━━━━━━━━━━━━━━━━━━━━━━━━━━━━━━━━━━━━━━━━\u001b[0m \u001b[32m7.8/7.8 MB\u001b[0m \u001b[31m110.9 MB/s\u001b[0m eta \u001b[36m0:00:00\u001b[0m\n",
            "\u001b[?25hRequirement already satisfied: numpy>=1.17 in /usr/local/lib/python3.10/dist-packages (from transformers) (1.22.4)\n",
            "Requirement already satisfied: typing-extensions>=3.7.4.3 in /usr/local/lib/python3.10/dist-packages (from huggingface-hub<1.0,>=0.11.0->transformers) (4.5.0)\n",
            "Requirement already satisfied: fsspec in /usr/local/lib/python3.10/dist-packages (from huggingface-hub<1.0,>=0.11.0->transformers) (2023.4.0)\n",
            "Requirement already satisfied: certifi>=2017.4.17 in /usr/local/lib/python3.10/dist-packages (from requests->transformers) (2022.12.7)\n",
            "Requirement already satisfied: charset-normalizer~=2.0.0 in /usr/local/lib/python3.10/dist-packages (from requests->transformers) (2.0.12)\n",
            "Requirement already satisfied: idna<4,>=2.5 in /usr/local/lib/python3.10/dist-packages (from requests->transformers) (3.4)\n",
            "Requirement already satisfied: urllib3<1.27,>=1.21.1 in /usr/local/lib/python3.10/dist-packages (from requests->transformers) (1.26.15)\n",
            "Installing collected packages: tokenizers, huggingface-hub, transformers\n",
            "Successfully installed huggingface-hub-0.14.1 tokenizers-0.13.3 transformers-4.28.1\n",
            "Looking in indexes: https://pypi.org/simple, https://us-python.pkg.dev/colab-wheels/public/simple/\n",
            "Collecting alive-progress\n",
            "  Downloading alive_progress-3.1.1-py3-none-any.whl (75 kB)\n",
            "\u001b[2K     \u001b[90m━━━━━━━━━━━━━━━━━━━━━━━━━━━━━━━━━━━━━━━━\u001b[0m \u001b[32m75.7/75.7 kB\u001b[0m \u001b[31m9.7 MB/s\u001b[0m eta \u001b[36m0:00:00\u001b[0m\n",
            "\u001b[?25hCollecting about-time==4.2.1\n",
            "  Downloading about_time-4.2.1-py3-none-any.whl (13 kB)\n",
            "Collecting grapheme==0.6.0\n",
            "  Downloading grapheme-0.6.0.tar.gz (207 kB)\n",
            "\u001b[2K     \u001b[90m━━━━━━━━━━━━━━━━━━━━━━━━━━━━━━━━━━━━━━\u001b[0m \u001b[32m207.3/207.3 kB\u001b[0m \u001b[31m28.3 MB/s\u001b[0m eta \u001b[36m0:00:00\u001b[0m\n",
            "\u001b[?25h  Preparing metadata (setup.py) ... \u001b[?25l\u001b[?25hdone\n",
            "Building wheels for collected packages: grapheme\n",
            "  Building wheel for grapheme (setup.py) ... \u001b[?25l\u001b[?25hdone\n",
            "  Created wheel for grapheme: filename=grapheme-0.6.0-py3-none-any.whl size=210095 sha256=00a62a9b69971d4fede52d7ea7f4224180c3fd181d78a64ec051e2f6eab0c20a\n",
            "  Stored in directory: /root/.cache/pip/wheels/01/e1/49/37e6bde9886439057450c494a79b0bef8bbe897a54aebfc757\n",
            "Successfully built grapheme\n",
            "Installing collected packages: grapheme, about-time, alive-progress\n",
            "Successfully installed about-time-4.2.1 alive-progress-3.1.1 grapheme-0.6.0\n",
            "Looking in indexes: https://pypi.org/simple, https://us-python.pkg.dev/colab-wheels/public/simple/\n",
            "Requirement already satisfied: tqdm in /usr/local/lib/python3.10/dist-packages (4.65.0)\n"
          ]
        }
      ]
    },
    {
      "cell_type": "code",
      "source": [
        "import os\n",
        "import sys\n",
        "import time\n",
        "from datetime import datetime as dt\n",
        "from tqdm import tqdm\n",
        "\n",
        "import pandas as pd\n",
        "import seaborn as sns\n",
        "import numpy as np\n",
        "import random\n",
        "import math\n",
        "import matplotlib.pyplot as plt\n",
        "\n",
        "import torch\n",
        "from torch.utils.data import Dataset, DataLoader, random_split, RandomSampler, SequentialSampler\n",
        "\n",
        "from transformers import GPT2LMHeadModel,  GPT2Tokenizer, GPT2Config, GPT2LMHeadModel\n",
        "from transformers import AdamW, get_linear_schedule_with_warmup\n",
        "\n",
        "import nltk\n",
        "nltk.download('punkt')"
      ],
      "metadata": {
        "colab": {
          "base_uri": "https://localhost:8080/"
        },
        "id": "xmuMiuxJbtBf",
        "outputId": "c651bff0-0e79-421b-e11f-5394980c3d44"
      },
      "execution_count": 43,
      "outputs": [
        {
          "output_type": "stream",
          "name": "stderr",
          "text": [
            "[nltk_data] Downloading package punkt to /root/nltk_data...\n",
            "[nltk_data]   Unzipping tokenizers/punkt.zip.\n"
          ]
        },
        {
          "output_type": "execute_result",
          "data": {
            "text/plain": [
              "True"
            ]
          },
          "metadata": {},
          "execution_count": 43
        }
      ]
    },
    {
      "cell_type": "markdown",
      "source": [
        "## Prepare for the GPT2 Model"
      ],
      "metadata": {
        "id": "x9bmsQedpGtX"
      }
    },
    {
      "cell_type": "markdown",
      "source": [
        "### Create GPT2 Tokens"
      ],
      "metadata": {
        "id": "WZ6apmUz_Qpc"
      }
    },
    {
      "cell_type": "code",
      "source": [
        "# indicator of the end of the recipe.\n",
        "STOP_SIGN = '␣'"
      ],
      "metadata": {
        "id": "Lmlqh811rtmZ"
      },
      "execution_count": 44,
      "outputs": []
    },
    {
      "cell_type": "code",
      "source": [
        "# load the gpt tokenizer\n",
        "gpt2_tokenizer = GPT2Tokenizer.from_pretrained('gpt2', bos_token=STOP_WORD_TITLE, eos_token=STOP_SIGN, pad_token=STOP_SIGN)\n",
        "gpt2_tokenizer.add_special_tokens({'additional_special_tokens': [STOP_WORD_INGREDIENTS, STOP_WORD_INSTRUCTIONS]})"
      ],
      "metadata": {
        "colab": {
          "base_uri": "https://localhost:8080/",
          "height": 196,
          "referenced_widgets": [
            "a00fc1d178a14edd93717e44cb2d0168",
            "7ac6d111e8324036b5b89bffbbf01507",
            "fa74a19bb8b7411d830d1f064444476b",
            "28f17fff9d344bbd8585e3ef730a2313",
            "79d17995ba444bdd8cd62442ec8fab66",
            "dcd92d9fbf3b48afa8d35bb70c8b64c6",
            "bc8fa1063a7a40c58c7f99699bcba2e0",
            "c9e5e4f9637c456b9e86d1733a346835",
            "5b9c319c13e74dca82ce0cbd90a20d0d",
            "72059efd7510439eaccf30f8600867f2",
            "0474eb55cec6423c8baeed58c15ef754",
            "4546e36b28d2499184c833a25c149c01",
            "f24142c57caa492baa93e3c109dd064a",
            "1f87b137c3f2428b9fe32e34c6794ba9",
            "be87ad78a5734d7d89e70977e28f59ab",
            "16d0121d1e514c1691e3e41901859f53",
            "938b4aa15e5447cf9bb5db0299325173",
            "9fdc7e61b41c4625819ef780999b43d6",
            "9800dcdef2324e06bf4b5e9c31a551b8",
            "9792513c70ef4ed88823c54859451fc6",
            "51ca2b2f72d547e08c3c69b24737bbd3",
            "9d9be574946a494eab5844821ab0129d",
            "d96711f73d4a467fbad9170b6c627a85",
            "4047f242778e45bf9b27835cc60c1668",
            "e4a67f89071d4a57aa088bff6cf4cb6a",
            "50fb3807a1fa41c886022f2338e96c4a",
            "e079f8ce8ee543cead7f272a3bb08036",
            "94bc1b272ae541789dc3dfdf8d0c59f9",
            "43d5c8bb72c74d6091df6d32f3f1fc79",
            "3707276b4c0c4797b2a00566595423d6",
            "32a244b6581848aba298db3921ba909b",
            "48fd28c9e98d49f880c9e8786bd1fac5",
            "ab4416fb20474fc1aea28c7232ce7e71"
          ]
        },
        "id": "wPi4C2yr4qGt",
        "outputId": "df80fc9b-5d6b-4bcd-fdba-3c36ea0958a6"
      },
      "execution_count": 45,
      "outputs": [
        {
          "output_type": "display_data",
          "data": {
            "text/plain": [
              "Downloading (…)olve/main/vocab.json:   0%|          | 0.00/1.04M [00:00<?, ?B/s]"
            ],
            "application/vnd.jupyter.widget-view+json": {
              "version_major": 2,
              "version_minor": 0,
              "model_id": "a00fc1d178a14edd93717e44cb2d0168"
            }
          },
          "metadata": {}
        },
        {
          "output_type": "display_data",
          "data": {
            "text/plain": [
              "Downloading (…)olve/main/merges.txt:   0%|          | 0.00/456k [00:00<?, ?B/s]"
            ],
            "application/vnd.jupyter.widget-view+json": {
              "version_major": 2,
              "version_minor": 0,
              "model_id": "4546e36b28d2499184c833a25c149c01"
            }
          },
          "metadata": {}
        },
        {
          "output_type": "display_data",
          "data": {
            "text/plain": [
              "Downloading (…)lve/main/config.json:   0%|          | 0.00/665 [00:00<?, ?B/s]"
            ],
            "application/vnd.jupyter.widget-view+json": {
              "version_major": 2,
              "version_minor": 0,
              "model_id": "d96711f73d4a467fbad9170b6c627a85"
            }
          },
          "metadata": {}
        },
        {
          "output_type": "stream",
          "name": "stderr",
          "text": [
            "Special tokens have been added in the vocabulary, make sure the associated word embeddings are fine-tuned or trained.\n"
          ]
        },
        {
          "output_type": "execute_result",
          "data": {
            "text/plain": [
              "2"
            ]
          },
          "metadata": {},
          "execution_count": 45
        }
      ]
    },
    {
      "cell_type": "markdown",
      "source": [
        "### Create GPT2 Dataset"
      ],
      "metadata": {
        "id": "ckxJE3XS3Rym"
      }
    },
    {
      "cell_type": "markdown",
      "source": [
        "#### Split into training and test sets"
      ],
      "metadata": {
        "id": "mOeMfcAQqcoT"
      }
    },
    {
      "cell_type": "code",
      "source": [
        "train_set, test_set = np.split(dataset_filtered, [int(.8*len(dataset_filtered))])\n",
        "print('Number of train data: ', len(train_set))\n",
        "print('Number of test data: ', len(test_set))\n",
        "print('Sample Training Data:\\n', train_set[0])"
      ],
      "metadata": {
        "colab": {
          "base_uri": "https://localhost:8080/"
        },
        "id": "ZkB1Aic7qb7A",
        "outputId": "5b0a5961-a48c-4392-91b2-cfa535b16b59"
      },
      "execution_count": 46,
      "outputs": [
        {
          "output_type": "stream",
          "name": "stdout",
          "text": [
            "Number of train data:  80169\n",
            "Number of test data:  20043\n",
            "Sample Training Data:\n",
            " 📗 Slow Cooker Chicken and Dumplings\n",
            "\n",
            "🥕\n",
            "\n",
            "• 4 skinless, boneless chicken breast halves \n",
            "• 2 tablespoons butter \n",
            "• 2 (10.75 ounce) cans condensed cream of chicken soup \n",
            "• 1 onion, finely diced \n",
            "• 2 (10 ounce) packages refrigerated biscuit dough, torn into pieces \n",
            "\n",
            "📝\n",
            "\n",
            "▪︎ Place the chicken, butter, soup, and onion in a slow cooker, and fill with enough water to cover.\n",
            "▪︎ Cover, and cook for 5 to 6 hours on High. About 30 minutes before serving, place the torn biscuit dough in the slow cooker. Cook until the dough is no longer raw in the center.\n",
            "\n"
          ]
        }
      ]
    },
    {
      "cell_type": "code",
      "source": [
        "class GPT2Dataset(Dataset):\n",
        "\n",
        "  def __init__(self, txt_list, tokenizer, gpt2_type=\"gpt2\", max_length=768):\n",
        "\n",
        "    self.tokenizer = tokenizer\n",
        "    self.input_ids = []\n",
        "    self.attn_masks = []\n",
        "\n",
        "    for txt in txt_list:\n",
        "\n",
        "      encodings_dict = tokenizer(txt, truncation=True, max_length=max_length, padding=\"max_length\")\n",
        "\n",
        "      self.input_ids.append(torch.tensor(encodings_dict['input_ids']))\n",
        "      self.attn_masks.append(torch.tensor(encodings_dict['attention_mask']))\n",
        "    \n",
        "  def __len__(self):\n",
        "    return len(self.input_ids)\n",
        "\n",
        "  def __getitem__(self, idx):\n",
        "    return self.input_ids[idx], self.attn_masks[idx] "
      ],
      "metadata": {
        "id": "4CWERVlzrGrv"
      },
      "execution_count": 47,
      "outputs": []
    },
    {
      "cell_type": "code",
      "source": [
        "gpt2_dataset = GPT2Dataset(train_set, gpt2_tokenizer, max_length=200)\n"
      ],
      "metadata": {
        "id": "bFPxc0Gfoy_E"
      },
      "execution_count": 48,
      "outputs": []
    },
    {
      "cell_type": "markdown",
      "source": [
        "#### Split into training and validation"
      ],
      "metadata": {
        "id": "DHMVMQ_fsQXC"
      }
    },
    {
      "cell_type": "code",
      "source": [
        "# Split into training and validation sets\n",
        "train_size = int(0.9 * len(gpt2_dataset))\n",
        "val_size = len(gpt2_dataset) - train_size\n",
        "\n",
        "train_dataset, val_dataset = random_split(gpt2_dataset, [train_size, val_size])\n",
        "\n",
        "print('{:>5,} training samples'.format(train_size))\n",
        "print('{:>5,} validation samples'.format(val_size))"
      ],
      "metadata": {
        "colab": {
          "base_uri": "https://localhost:8080/"
        },
        "id": "87gb_qmVsS1x",
        "outputId": "bb19787a-b946-4c20-82d1-b1a852788d0b"
      },
      "execution_count": 49,
      "outputs": [
        {
          "output_type": "stream",
          "name": "stdout",
          "text": [
            "72,152 training samples\n",
            "8,017 validation samples\n"
          ]
        }
      ]
    },
    {
      "cell_type": "markdown",
      "source": [
        "#### Randomize the training and validation sets"
      ],
      "metadata": {
        "id": "alqPsp0DsW9j"
      }
    },
    {
      "cell_type": "code",
      "source": [
        "batch_size = 1"
      ],
      "metadata": {
        "id": "FAbMmc3csb8k",
        "colab": {
          "base_uri": "https://localhost:8080/",
          "height": 17
        },
        "outputId": "5695b0c0-99ae-44c1-c3c5-b07505269397"
      },
      "execution_count": 67,
      "outputs": [
        {
          "output_type": "display_data",
          "data": {
            "text/plain": [
              "<IPython.core.display.HTML object>"
            ],
            "text/html": [
              "\n",
              "  <style>\n",
              "    pre {\n",
              "        white-space: pre-wrap;\n",
              "    }\n",
              "  </style>\n",
              "  "
            ]
          },
          "metadata": {}
        }
      ]
    },
    {
      "cell_type": "code",
      "source": [
        "# Create the DataLoaders for our training and validation datasets.\n",
        "# We'll take training samples in random order. \n",
        "train_dataloader = DataLoader(\n",
        "            train_dataset,  # The training samples.\n",
        "            sampler = RandomSampler(train_dataset), # Select batches randomly\n",
        "            batch_size = batch_size # Trains with this batch size.\n",
        "        )\n",
        "\n",
        "# For validation the order doesn't matter, so we'll just read them sequentially.\n",
        "validation_dataloader = DataLoader(\n",
        "            val_dataset, # The validation samples.\n",
        "            sampler = SequentialSampler(val_dataset), # Pull out batches sequentially.\n",
        "            batch_size = batch_size # Evaluate with this batch size.\n",
        "        )"
      ],
      "metadata": {
        "id": "ecQO4I9rsZVG",
        "colab": {
          "base_uri": "https://localhost:8080/",
          "height": 17
        },
        "outputId": "9fb1599c-af05-4cff-aec7-c0a1aff388cd"
      },
      "execution_count": 68,
      "outputs": [
        {
          "output_type": "display_data",
          "data": {
            "text/plain": [
              "<IPython.core.display.HTML object>"
            ],
            "text/html": [
              "\n",
              "  <style>\n",
              "    pre {\n",
              "        white-space: pre-wrap;\n",
              "    }\n",
              "  </style>\n",
              "  "
            ]
          },
          "metadata": {}
        }
      ]
    },
    {
      "cell_type": "markdown",
      "source": [
        "## Finetune and configure the model"
      ],
      "metadata": {
        "id": "S4G5rEqSovmG"
      }
    },
    {
      "cell_type": "code",
      "source": [
        "# changing the default parameters to experiment with model effectiveness\n",
        "configuration = GPT2Config.from_pretrained('gpt2', n_layer=12, n_head=12, output_hidden_states=False, output_attentions=False)\n",
        "\n",
        "# instantiate the model\n",
        "gpt2_model = GPT2LMHeadModel.from_pretrained(\"gpt2\", config=configuration)\n",
        "\n",
        "# this step is necessary because I've added some tokens (bos_token, etc) to the embeddings\n",
        "# otherwise the tokenizer and model tensors won't match up\n",
        "gpt2_model.resize_token_embeddings(len(gpt2_tokenizer))\n",
        "\n",
        "# Tell pytorch to run this model on the GPU.\n",
        "if HOSTED_RUNTIME:\n",
        "  device = torch.device(\"cuda\" if torch.cuda.is_available() else \"cpu\")\n",
        "else:\n",
        "  device = torch.device(\"mps\")\n",
        "print(device)\n",
        "\n",
        "# Set the seed value all over the place to make this reproducible.\n",
        "seed_val = 42\n",
        "\n",
        "random.seed(seed_val)\n",
        "np.random.seed(seed_val)\n",
        "torch.manual_seed(seed_val)\n",
        "torch.cuda.manual_seed_all(seed_val)"
      ],
      "metadata": {
        "colab": {
          "base_uri": "https://localhost:8080/",
          "height": 34
        },
        "id": "czwvt15Xtk1o",
        "outputId": "4441cf36-0ae7-448b-a763-f769ee56046d"
      },
      "execution_count": 69,
      "outputs": [
        {
          "output_type": "display_data",
          "data": {
            "text/plain": [
              "<IPython.core.display.HTML object>"
            ],
            "text/html": [
              "\n",
              "  <style>\n",
              "    pre {\n",
              "        white-space: pre-wrap;\n",
              "    }\n",
              "  </style>\n",
              "  "
            ]
          },
          "metadata": {}
        },
        {
          "output_type": "stream",
          "name": "stdout",
          "text": [
            "cuda\n"
          ]
        }
      ]
    },
    {
      "cell_type": "code",
      "source": [
        "# chosen to match previous model or experimenting with values\n",
        "epochs = 5\n",
        "learning_rate = 5e-3\n",
        "warmup_steps = 7000\n",
        "epsilon = 10e-3\n",
        "\n",
        "# this produces sample output every 100 steps\n",
        "sample_every = 10000\n",
        "# I save the model every 5000 step\n",
        "save_every = 5000\n",
        "# save the model to this file name\n",
        "save_file = 'gpt2_recipe_generation'"
      ],
      "metadata": {
        "id": "HqgjRyKBv1rW",
        "colab": {
          "base_uri": "https://localhost:8080/",
          "height": 17
        },
        "outputId": "8eb14e65-5b6c-4386-f1d4-bca8f160483b"
      },
      "execution_count": 83,
      "outputs": [
        {
          "output_type": "display_data",
          "data": {
            "text/plain": [
              "<IPython.core.display.HTML object>"
            ],
            "text/html": [
              "\n",
              "  <style>\n",
              "    pre {\n",
              "        white-space: pre-wrap;\n",
              "    }\n",
              "  </style>\n",
              "  "
            ]
          },
          "metadata": {}
        },
        {
          "output_type": "display_data",
          "data": {
            "text/plain": [
              "<IPython.core.display.HTML object>"
            ],
            "text/html": [
              "\n",
              "  <style>\n",
              "    pre {\n",
              "        white-space: pre-wrap;\n",
              "    }\n",
              "  </style>\n",
              "  "
            ]
          },
          "metadata": {}
        }
      ]
    },
    {
      "cell_type": "code",
      "source": [
        "# Note: AdamW is a class from the huggingface library (as opposed to pytorch) \n",
        "gpt2_optimizer = AdamW(gpt2_model.parameters(),\n",
        "                  lr = learning_rate,\n",
        "                  eps = epsilon\n",
        "                )"
      ],
      "metadata": {
        "id": "j-F74Uh3whqg",
        "colab": {
          "base_uri": "https://localhost:8080/",
          "height": 104
        },
        "outputId": "c94a0d11-ea39-417b-d25a-aa2fe5bfb7fc"
      },
      "execution_count": 84,
      "outputs": [
        {
          "output_type": "display_data",
          "data": {
            "text/plain": [
              "<IPython.core.display.HTML object>"
            ],
            "text/html": [
              "\n",
              "  <style>\n",
              "    pre {\n",
              "        white-space: pre-wrap;\n",
              "    }\n",
              "  </style>\n",
              "  "
            ]
          },
          "metadata": {}
        },
        {
          "output_type": "display_data",
          "data": {
            "text/plain": [
              "<IPython.core.display.HTML object>"
            ],
            "text/html": [
              "\n",
              "  <style>\n",
              "    pre {\n",
              "        white-space: pre-wrap;\n",
              "    }\n",
              "  </style>\n",
              "  "
            ]
          },
          "metadata": {}
        },
        {
          "output_type": "stream",
          "name": "stderr",
          "text": [
            "/usr/local/lib/python3.10/dist-packages/transformers/optimization.py:391: FutureWarning: This implementation of AdamW is deprecated and will be removed in a future version. Use the PyTorch implementation torch.optim.AdamW instead, or set `no_deprecation_warning=True` to disable this warning\n",
            "  warnings.warn(\n"
          ]
        }
      ]
    },
    {
      "cell_type": "code",
      "source": [
        "# Total number of training steps is [number of batches] x [number of epochs]. \n",
        "# (Note that this is not the same as the number of training samples).\n",
        "total_steps = len(train_dataloader) * epochs\n",
        "print('Total number of steps: ', total_steps)\n",
        "# Create the learning rate scheduler.\n",
        "# This changes the learning rate as the training loop progresses\n",
        "scheduler = get_linear_schedule_with_warmup(gpt2_optimizer, \n",
        "                                            num_warmup_steps = warmup_steps, \n",
        "                                            num_training_steps = total_steps)"
      ],
      "metadata": {
        "colab": {
          "base_uri": "https://localhost:8080/",
          "height": 34
        },
        "id": "Yd4FHu1kwmxs",
        "outputId": "7d62243d-c9a5-4d36-ec2e-68e3e7bae70d"
      },
      "execution_count": 85,
      "outputs": [
        {
          "output_type": "display_data",
          "data": {
            "text/plain": [
              "<IPython.core.display.HTML object>"
            ],
            "text/html": [
              "\n",
              "  <style>\n",
              "    pre {\n",
              "        white-space: pre-wrap;\n",
              "    }\n",
              "  </style>\n",
              "  "
            ]
          },
          "metadata": {}
        },
        {
          "output_type": "display_data",
          "data": {
            "text/plain": [
              "<IPython.core.display.HTML object>"
            ],
            "text/html": [
              "\n",
              "  <style>\n",
              "    pre {\n",
              "        white-space: pre-wrap;\n",
              "    }\n",
              "  </style>\n",
              "  "
            ]
          },
          "metadata": {}
        },
        {
          "output_type": "stream",
          "name": "stdout",
          "text": [
            "Total number of steps:  360760\n"
          ]
        }
      ]
    },
    {
      "cell_type": "markdown",
      "source": [
        "## Train the model"
      ],
      "metadata": {
        "id": "9DiNd_30wya-"
      }
    },
    {
      "cell_type": "code",
      "source": [
        "# initialize save location\n",
        "# save_file = \"/content/drive/MyDrive/deep_learning/gpt2\"\n",
        "if HOSTED_RUNTIME:\n",
        "  save_file = \"/content/drive/MyDrive/deep_learning/gpt2_moreepochs_singlebatch\"\n",
        "else:\n",
        "  save_file = \"/Users/kailaniredding/development/gpt2\"\n",
        "\n",
        "print(\"File Path for New Model: \", save_file)"
      ],
      "metadata": {
        "id": "Z4scGH5Apdye",
        "colab": {
          "base_uri": "https://localhost:8080/",
          "height": 34
        },
        "outputId": "63c9040b-e06f-4043-c988-675f4dc7df86"
      },
      "execution_count": 87,
      "outputs": [
        {
          "output_type": "display_data",
          "data": {
            "text/plain": [
              "<IPython.core.display.HTML object>"
            ],
            "text/html": [
              "\n",
              "  <style>\n",
              "    pre {\n",
              "        white-space: pre-wrap;\n",
              "    }\n",
              "  </style>\n",
              "  "
            ]
          },
          "metadata": {}
        },
        {
          "output_type": "display_data",
          "data": {
            "text/plain": [
              "<IPython.core.display.HTML object>"
            ],
            "text/html": [
              "\n",
              "  <style>\n",
              "    pre {\n",
              "        white-space: pre-wrap;\n",
              "    }\n",
              "  </style>\n",
              "  "
            ]
          },
          "metadata": {}
        },
        {
          "output_type": "stream",
          "name": "stdout",
          "text": [
            "File Path for New Model:  /content/drive/MyDrive/deep_learning/gpt2_moreepochs_singlebatch\n"
          ]
        }
      ]
    },
    {
      "cell_type": "code",
      "source": [
        "training_stats = []\n",
        "print(\"Currently using device type: \", device)\n",
        "\n",
        "gpt2_model = gpt2_model.to(device)\n",
        "\n",
        "for epoch_i in range(0, epochs):\n",
        "\n",
        "    # ========================================\n",
        "    #               Training\n",
        "    # ========================================\n",
        "\n",
        "    print(\"\")\n",
        "    print('======== Epoch {:} / {:} ========'.format(epoch_i + 1, epochs))\n",
        "    print('Training...')\n",
        "    \n",
        "\n",
        "    losses = []\n",
        "    batch_losses = []\n",
        "\n",
        "    total_train_loss = 0\n",
        "\n",
        "    gpt2_model.train()\n",
        "\n",
        "    batch_start = dt.now()\n",
        "\n",
        "    for step, batch in (enumerate(tqdm(train_dataloader))):\n",
        "        b_input_ids = batch[0].to(device)\n",
        "        b_labels = batch[0].to(device)\n",
        "        b_masks = batch[1].to(device)\n",
        "\n",
        "        gpt2_model.zero_grad()        \n",
        "\n",
        "        outputs = gpt2_model(  b_input_ids,\n",
        "                          labels=b_labels, \n",
        "                          attention_mask =b_masks,\n",
        "                          token_type_ids=None\n",
        "                        )\n",
        "\n",
        "        loss = outputs[0]  \n",
        "\n",
        "        batch_loss = loss.item()\n",
        "        total_train_loss += batch_loss\n",
        "        batch_losses.append(batch_loss)\n",
        "\n",
        "        # Get sample every x batches.\n",
        "        if step % sample_every == 0 and not step == 0:\n",
        "            print('\\nBatch {:>5,}  of  {:>5,}. Loss: {:>5,}.\\n'.format(step, len(train_dataloader), batch_loss))\n",
        "\n",
        "        loss.backward()\n",
        "\n",
        "        gpt2_optimizer.step()\n",
        "\n",
        "        scheduler.step()\n",
        "\n",
        "        if step % save_every == 0:\n",
        "            gpt2_model.save_pretrained(save_file)\n",
        "\n",
        "    # Calculate the average loss over all of the batches.\n",
        "    avg_train_loss = total_train_loss / len(train_dataloader)       \n",
        "    \n",
        "    # Calculate perplexity.\n",
        "    losses = torch.tensor(losses)\n",
        "    train_perplexity = math.exp(torch.mean(losses))\n",
        "\n",
        "    print(\"\")\n",
        "    print(\"  Average training loss: {0:.2f}\".format(avg_train_loss))\n",
        "    print(\"  Perplexity: {0:.2f}\".format(train_perplexity))        \n",
        "    # ========================================\n",
        "    #               Validation\n",
        "    # ========================================\n",
        "\n",
        "    print(\"\")\n",
        "    print(\"Running Validation...\")\n",
        "\n",
        "    gpt2_model.eval()\n",
        "\n",
        "    losses = []\n",
        "    total_eval_loss = 0\n",
        "    nb_eval_steps = 0\n",
        "\n",
        "    # Evaluate data for one epoch\n",
        "    for batch in validation_dataloader:\n",
        "        \n",
        "        b_input_ids = batch[0].to(device)\n",
        "        b_labels = batch[0].to(device)\n",
        "        b_masks = batch[1].to(device)\n",
        "        \n",
        "        with torch.no_grad():        \n",
        "\n",
        "            outputs  = gpt2_model(b_input_ids, \n",
        "#                            token_type_ids=None, \n",
        "                             attention_mask = b_masks,\n",
        "                            labels=b_labels)\n",
        "          \n",
        "            loss = outputs[0]  \n",
        "            \n",
        "        batch_loss = loss.item()\n",
        "        losses.append(batch_loss)\n",
        "        total_eval_loss += batch_loss        \n",
        "\n",
        "    avg_val_loss = total_eval_loss / len(validation_dataloader)\n",
        "    \n",
        "    # Calculate perplexity.\n",
        "    losses = torch.tensor(losses)\n",
        "    val_perplexity = math.exp(torch.mean(losses))\n",
        "\n",
        "    print(\"  Validation Loss: {0:.2f}\".format(avg_val_loss))\n",
        "    print(\"  Validation perplexity: {0:.2f}\".format(val_perplexity))        \n",
        "\n",
        "    # Record all statistics from this epoch.\n",
        "    training_stats.append(\n",
        "        {\n",
        "            'epoch': epoch_i + 1,\n",
        "            'Training Loss': avg_train_loss,\n",
        "            'Valid. Loss': avg_val_loss,\n",
        "            'Training Perplexity': train_perplexity,\n",
        "            'Valid. Perplexity': val_perplexity,\n",
        "        }\n",
        "    )\n",
        "\n",
        "print(\"\")\n",
        "print(\"Training complete!\")\n"
      ],
      "metadata": {
        "colab": {
          "base_uri": "https://localhost:8080/",
          "height": 1000
        },
        "id": "b0To-Gypw0Ui",
        "outputId": "19ce13bc-c56a-4c84-cd8c-898841f1572a"
      },
      "execution_count": 88,
      "outputs": [
        {
          "output_type": "display_data",
          "data": {
            "text/plain": [
              "<IPython.core.display.HTML object>"
            ],
            "text/html": [
              "\n",
              "  <style>\n",
              "    pre {\n",
              "        white-space: pre-wrap;\n",
              "    }\n",
              "  </style>\n",
              "  "
            ]
          },
          "metadata": {}
        },
        {
          "output_type": "display_data",
          "data": {
            "text/plain": [
              "<IPython.core.display.HTML object>"
            ],
            "text/html": [
              "\n",
              "  <style>\n",
              "    pre {\n",
              "        white-space: pre-wrap;\n",
              "    }\n",
              "  </style>\n",
              "  "
            ]
          },
          "metadata": {}
        },
        {
          "output_type": "stream",
          "name": "stdout",
          "text": [
            "Currently using device type:  cuda\n",
            "\n",
            "======== Epoch 1 / 5 ========\n",
            "Training...\n"
          ]
        },
        {
          "output_type": "stream",
          "name": "stderr",
          "text": [
            " 14%|█▍        | 10000/72152 [07:01<43:27, 23.84it/s]"
          ]
        },
        {
          "output_type": "stream",
          "name": "stdout",
          "text": [
            "\n",
            "Batch 10,000  of  72,152. Loss: 1.1216152906417847.\n",
            "\n"
          ]
        },
        {
          "output_type": "stream",
          "name": "stderr",
          "text": [
            " 28%|██▊       | 19999/72152 [14:04<37:59, 22.88it/s]"
          ]
        },
        {
          "output_type": "stream",
          "name": "stdout",
          "text": [
            "\n",
            "Batch 20,000  of  72,152. Loss: 1.9719312191009521.\n",
            "\n"
          ]
        },
        {
          "output_type": "stream",
          "name": "stderr",
          "text": [
            " 42%|████▏     | 29998/72152 [21:05<29:33, 23.77it/s]"
          ]
        },
        {
          "output_type": "stream",
          "name": "stdout",
          "text": [
            "\n",
            "Batch 30,000  of  72,152. Loss: 1.2160321474075317.\n",
            "\n"
          ]
        },
        {
          "output_type": "stream",
          "name": "stderr",
          "text": [
            " 55%|█████▌    | 40000/72152 [28:04<22:48, 23.50it/s]"
          ]
        },
        {
          "output_type": "stream",
          "name": "stdout",
          "text": [
            "\n",
            "Batch 40,000  of  72,152. Loss: 0.7420058250427246.\n",
            "\n"
          ]
        },
        {
          "output_type": "stream",
          "name": "stderr",
          "text": [
            " 69%|██████▉   | 49999/72152 [35:05<15:18, 24.11it/s]"
          ]
        },
        {
          "output_type": "stream",
          "name": "stdout",
          "text": [
            "\n",
            "Batch 50,000  of  72,152. Loss: 2.1197474002838135.\n",
            "\n"
          ]
        },
        {
          "output_type": "stream",
          "name": "stderr",
          "text": [
            " 83%|████████▎ | 59998/72152 [42:08<08:24, 24.07it/s]"
          ]
        },
        {
          "output_type": "stream",
          "name": "stdout",
          "text": [
            "\n",
            "Batch 60,000  of  72,152. Loss: 1.8436222076416016.\n",
            "\n"
          ]
        },
        {
          "output_type": "stream",
          "name": "stderr",
          "text": [
            " 97%|█████████▋| 70000/72152 [49:10<01:32, 23.31it/s]"
          ]
        },
        {
          "output_type": "stream",
          "name": "stdout",
          "text": [
            "\n",
            "Batch 70,000  of  72,152. Loss: 1.112272024154663.\n",
            "\n"
          ]
        },
        {
          "output_type": "stream",
          "name": "stderr",
          "text": [
            "100%|██████████| 72152/72152 [50:41<00:00, 23.72it/s]\n"
          ]
        },
        {
          "output_type": "stream",
          "name": "stdout",
          "text": [
            "\n",
            "  Average training loss: 1.18\n",
            "  Perplexity: nan\n",
            "\n",
            "Running Validation...\n",
            "  Validation Loss: 1.18\n",
            "  Validation perplexity: 3.24\n",
            "\n",
            "======== Epoch 2 / 5 ========\n",
            "Training...\n"
          ]
        },
        {
          "output_type": "stream",
          "name": "stderr",
          "text": [
            " 14%|█▍        | 10000/72152 [07:01<43:11, 23.98it/s]"
          ]
        },
        {
          "output_type": "stream",
          "name": "stdout",
          "text": [
            "\n",
            "Batch 10,000  of  72,152. Loss: 0.7393985390663147.\n",
            "\n"
          ]
        },
        {
          "output_type": "stream",
          "name": "stderr",
          "text": [
            " 28%|██▊       | 19999/72152 [14:03<36:44, 23.66it/s]"
          ]
        },
        {
          "output_type": "stream",
          "name": "stdout",
          "text": [
            "\n",
            "Batch 20,000  of  72,152. Loss: 0.7816697955131531.\n",
            "\n"
          ]
        },
        {
          "output_type": "stream",
          "name": "stderr",
          "text": [
            " 42%|████▏     | 29998/72152 [21:07<29:18, 23.97it/s]"
          ]
        },
        {
          "output_type": "stream",
          "name": "stdout",
          "text": [
            "\n",
            "Batch 30,000  of  72,152. Loss: 1.4728249311447144.\n",
            "\n"
          ]
        },
        {
          "output_type": "stream",
          "name": "stderr",
          "text": [
            " 55%|█████▌    | 40000/72152 [28:13<22:39, 23.66it/s]"
          ]
        },
        {
          "output_type": "stream",
          "name": "stdout",
          "text": [
            "\n",
            "Batch 40,000  of  72,152. Loss: 1.1385722160339355.\n",
            "\n"
          ]
        },
        {
          "output_type": "stream",
          "name": "stderr",
          "text": [
            " 69%|██████▉   | 49999/72152 [35:21<15:52, 23.25it/s]"
          ]
        },
        {
          "output_type": "stream",
          "name": "stdout",
          "text": [
            "\n",
            "Batch 50,000  of  72,152. Loss: 1.1493570804595947.\n",
            "\n"
          ]
        },
        {
          "output_type": "stream",
          "name": "stderr",
          "text": [
            " 83%|████████▎ | 59998/72152 [42:31<08:23, 24.15it/s]"
          ]
        },
        {
          "output_type": "stream",
          "name": "stdout",
          "text": [
            "\n",
            "Batch 60,000  of  72,152. Loss: 1.8289790153503418.\n",
            "\n"
          ]
        },
        {
          "output_type": "stream",
          "name": "stderr",
          "text": [
            " 97%|█████████▋| 70000/72152 [49:32<01:29, 24.05it/s]"
          ]
        },
        {
          "output_type": "stream",
          "name": "stdout",
          "text": [
            "\n",
            "Batch 70,000  of  72,152. Loss: 0.6583445072174072.\n",
            "\n"
          ]
        },
        {
          "output_type": "stream",
          "name": "stderr",
          "text": [
            "100%|██████████| 72152/72152 [51:03<00:00, 23.55it/s]\n"
          ]
        },
        {
          "output_type": "stream",
          "name": "stdout",
          "text": [
            "\n",
            "  Average training loss: 1.11\n",
            "  Perplexity: nan\n",
            "\n",
            "Running Validation...\n",
            "  Validation Loss: 1.13\n",
            "  Validation perplexity: 3.11\n",
            "\n",
            "======== Epoch 3 / 5 ========\n",
            "Training...\n"
          ]
        },
        {
          "output_type": "stream",
          "name": "stderr",
          "text": [
            " 14%|█▍        | 10000/72152 [06:59<43:19, 23.91it/s]"
          ]
        },
        {
          "output_type": "stream",
          "name": "stdout",
          "text": [
            "\n",
            "Batch 10,000  of  72,152. Loss: 1.8235564231872559.\n",
            "\n"
          ]
        },
        {
          "output_type": "stream",
          "name": "stderr",
          "text": [
            " 28%|██▊       | 19998/72152 [13:59<38:17, 22.71it/s]"
          ]
        },
        {
          "output_type": "stream",
          "name": "stdout",
          "text": [
            "\n",
            "Batch 20,000  of  72,152. Loss: 0.9905465841293335.\n",
            "\n"
          ]
        },
        {
          "output_type": "stream",
          "name": "stderr",
          "text": [
            " 42%|████▏     | 30000/72152 [20:58<29:11, 24.06it/s]"
          ]
        },
        {
          "output_type": "stream",
          "name": "stdout",
          "text": [
            "\n",
            "Batch 30,000  of  72,152. Loss: 1.3595919609069824.\n",
            "\n"
          ]
        },
        {
          "output_type": "stream",
          "name": "stderr",
          "text": [
            " 55%|█████▌    | 39999/72152 [27:59<22:03, 24.29it/s]"
          ]
        },
        {
          "output_type": "stream",
          "name": "stdout",
          "text": [
            "\n",
            "Batch 40,000  of  72,152. Loss: 1.3667443990707397.\n",
            "\n"
          ]
        },
        {
          "output_type": "stream",
          "name": "stderr",
          "text": [
            " 69%|██████▉   | 49998/72152 [34:58<15:09, 24.36it/s]"
          ]
        },
        {
          "output_type": "stream",
          "name": "stdout",
          "text": [
            "\n",
            "Batch 50,000  of  72,152. Loss: 1.119436502456665.\n",
            "\n"
          ]
        },
        {
          "output_type": "stream",
          "name": "stderr",
          "text": [
            " 83%|████████▎ | 60000/72152 [41:58<08:22, 24.20it/s]"
          ]
        },
        {
          "output_type": "stream",
          "name": "stdout",
          "text": [
            "\n",
            "Batch 60,000  of  72,152. Loss: 0.5105480551719666.\n",
            "\n"
          ]
        },
        {
          "output_type": "stream",
          "name": "stderr",
          "text": [
            " 97%|█████████▋| 69999/72152 [48:57<01:29, 24.01it/s]"
          ]
        },
        {
          "output_type": "stream",
          "name": "stdout",
          "text": [
            "\n",
            "Batch 70,000  of  72,152. Loss: 1.0145854949951172.\n",
            "\n"
          ]
        },
        {
          "output_type": "stream",
          "name": "stderr",
          "text": [
            "100%|██████████| 72152/72152 [50:29<00:00, 23.82it/s]\n"
          ]
        },
        {
          "output_type": "stream",
          "name": "stdout",
          "text": [
            "\n",
            "  Average training loss: 1.05\n",
            "  Perplexity: nan\n",
            "\n",
            "Running Validation...\n",
            "  Validation Loss: 1.11\n",
            "  Validation perplexity: 3.04\n",
            "\n",
            "======== Epoch 4 / 5 ========\n",
            "Training...\n"
          ]
        },
        {
          "output_type": "stream",
          "name": "stderr",
          "text": [
            " 14%|█▍        | 10000/72152 [06:59<43:50, 23.63it/s]"
          ]
        },
        {
          "output_type": "stream",
          "name": "stdout",
          "text": [
            "\n",
            "Batch 10,000  of  72,152. Loss: 1.0630743503570557.\n",
            "\n"
          ]
        },
        {
          "output_type": "stream",
          "name": "stderr",
          "text": [
            " 28%|██▊       | 19999/72152 [13:59<35:45, 24.31it/s]"
          ]
        },
        {
          "output_type": "stream",
          "name": "stdout",
          "text": [
            "\n",
            "Batch 20,000  of  72,152. Loss: 1.2475248575210571.\n",
            "\n"
          ]
        },
        {
          "output_type": "stream",
          "name": "stderr",
          "text": [
            " 42%|████▏     | 29998/72152 [20:59<29:16, 23.99it/s]"
          ]
        },
        {
          "output_type": "stream",
          "name": "stdout",
          "text": [
            "\n",
            "Batch 30,000  of  72,152. Loss: 0.6186885833740234.\n",
            "\n"
          ]
        },
        {
          "output_type": "stream",
          "name": "stderr",
          "text": [
            " 55%|█████▌    | 40000/72152 [27:59<22:14, 24.10it/s]"
          ]
        },
        {
          "output_type": "stream",
          "name": "stdout",
          "text": [
            "\n",
            "Batch 40,000  of  72,152. Loss: 0.6389459371566772.\n",
            "\n"
          ]
        },
        {
          "output_type": "stream",
          "name": "stderr",
          "text": [
            " 69%|██████▉   | 49999/72152 [34:58<15:12, 24.27it/s]"
          ]
        },
        {
          "output_type": "stream",
          "name": "stdout",
          "text": [
            "\n",
            "Batch 50,000  of  72,152. Loss: 1.0152305364608765.\n",
            "\n"
          ]
        },
        {
          "output_type": "stream",
          "name": "stderr",
          "text": [
            " 83%|████████▎ | 59998/72152 [41:58<08:22, 24.20it/s]"
          ]
        },
        {
          "output_type": "stream",
          "name": "stdout",
          "text": [
            "\n",
            "Batch 60,000  of  72,152. Loss: 1.1090012788772583.\n",
            "\n"
          ]
        },
        {
          "output_type": "stream",
          "name": "stderr",
          "text": [
            " 97%|█████████▋| 70000/72152 [49:02<01:31, 23.62it/s]"
          ]
        },
        {
          "output_type": "stream",
          "name": "stdout",
          "text": [
            "\n",
            "Batch 70,000  of  72,152. Loss: 0.8433083295822144.\n",
            "\n"
          ]
        },
        {
          "output_type": "stream",
          "name": "stderr",
          "text": [
            "100%|██████████| 72152/72152 [50:34<00:00, 23.77it/s]\n"
          ]
        },
        {
          "output_type": "stream",
          "name": "stdout",
          "text": [
            "\n",
            "  Average training loss: 1.00\n",
            "  Perplexity: nan\n",
            "\n",
            "Running Validation...\n",
            "  Validation Loss: 1.09\n",
            "  Validation perplexity: 2.99\n",
            "\n",
            "======== Epoch 5 / 5 ========\n",
            "Training...\n"
          ]
        },
        {
          "output_type": "stream",
          "name": "stderr",
          "text": [
            " 14%|█▍        | 9999/72152 [07:01<43:39, 23.73it/s]"
          ]
        },
        {
          "output_type": "stream",
          "name": "stdout",
          "text": [
            "\n",
            "Batch 10,000  of  72,152. Loss: 0.8725816011428833.\n",
            "\n"
          ]
        },
        {
          "output_type": "stream",
          "name": "stderr",
          "text": [
            " 28%|██▊       | 19998/72152 [14:08<37:10, 23.39it/s]"
          ]
        },
        {
          "output_type": "stream",
          "name": "stdout",
          "text": [
            "\n",
            "Batch 20,000  of  72,152. Loss: 1.0979080200195312.\n",
            "\n"
          ]
        },
        {
          "output_type": "stream",
          "name": "stderr",
          "text": [
            " 42%|████▏     | 30000/72152 [21:20<29:19, 23.95it/s]"
          ]
        },
        {
          "output_type": "stream",
          "name": "stdout",
          "text": [
            "\n",
            "Batch 30,000  of  72,152. Loss: 0.869693398475647.\n",
            "\n"
          ]
        },
        {
          "output_type": "stream",
          "name": "stderr",
          "text": [
            " 55%|█████▌    | 39998/72152 [28:24<22:12, 24.13it/s]"
          ]
        },
        {
          "output_type": "stream",
          "name": "stdout",
          "text": [
            "\n",
            "Batch 40,000  of  72,152. Loss: 0.9917980432510376.\n",
            "\n"
          ]
        },
        {
          "output_type": "stream",
          "name": "stderr",
          "text": [
            " 69%|██████▉   | 50000/72152 [35:31<15:19, 24.10it/s]"
          ]
        },
        {
          "output_type": "stream",
          "name": "stdout",
          "text": [
            "\n",
            "Batch 50,000  of  72,152. Loss: 0.7567167282104492.\n",
            "\n"
          ]
        },
        {
          "output_type": "stream",
          "name": "stderr",
          "text": [
            " 83%|████████▎ | 59999/72152 [42:38<08:31, 23.75it/s]"
          ]
        },
        {
          "output_type": "stream",
          "name": "stdout",
          "text": [
            "\n",
            "Batch 60,000  of  72,152. Loss: 1.12678861618042.\n",
            "\n"
          ]
        },
        {
          "output_type": "stream",
          "name": "stderr",
          "text": [
            " 97%|█████████▋| 69998/72152 [49:41<01:28, 24.21it/s]"
          ]
        },
        {
          "output_type": "stream",
          "name": "stdout",
          "text": [
            "\n",
            "Batch 70,000  of  72,152. Loss: 1.8640011548995972.\n",
            "\n"
          ]
        },
        {
          "output_type": "stream",
          "name": "stderr",
          "text": [
            "100%|██████████| 72152/72152 [51:13<00:00, 23.48it/s]\n"
          ]
        },
        {
          "output_type": "stream",
          "name": "stdout",
          "text": [
            "\n",
            "  Average training loss: 0.95\n",
            "  Perplexity: nan\n",
            "\n",
            "Running Validation...\n",
            "  Validation Loss: 1.09\n",
            "  Validation perplexity: 2.97\n",
            "\n",
            "Training complete!\n"
          ]
        }
      ]
    },
    {
      "cell_type": "code",
      "source": [
        "# compile all training results in df for easy plotting\n",
        "epoch_attempt = [ sub['epoch'] for sub in training_stats ]\n",
        "train_loss = [ sub['Training Loss'] for sub in training_stats ]\n",
        "val_loss = [ sub['Valid. Loss'] for sub in training_stats ]\n",
        "\n",
        "\n",
        "train_results_df = pd.DataFrame( {\n",
        "  'Training Loss' : train_loss,\n",
        "  'Validation Loss' : val_loss\n",
        "})"
      ],
      "metadata": {
        "id": "QgBFoY4iZoQY",
        "colab": {
          "base_uri": "https://localhost:8080/",
          "height": 17
        },
        "outputId": "75ccbbe0-efd0-4bd9-b387-a64d6c8d75d6"
      },
      "execution_count": 89,
      "outputs": [
        {
          "output_type": "display_data",
          "data": {
            "text/plain": [
              "<IPython.core.display.HTML object>"
            ],
            "text/html": [
              "\n",
              "  <style>\n",
              "    pre {\n",
              "        white-space: pre-wrap;\n",
              "    }\n",
              "  </style>\n",
              "  "
            ]
          },
          "metadata": {}
        },
        {
          "output_type": "display_data",
          "data": {
            "text/plain": [
              "<IPython.core.display.HTML object>"
            ],
            "text/html": [
              "\n",
              "  <style>\n",
              "    pre {\n",
              "        white-space: pre-wrap;\n",
              "    }\n",
              "  </style>\n",
              "  "
            ]
          },
          "metadata": {}
        }
      ]
    },
    {
      "cell_type": "code",
      "source": [
        "# plot the results from above\n",
        "lp = sns.lineplot(data=train_results_df)\n",
        "sns.set_style(\"whitegrid\")\n",
        "lp.set(xlabel=\"Epoch\")"
      ],
      "metadata": {
        "id": "PyEOlDEG8swE",
        "colab": {
          "base_uri": "https://localhost:8080/",
          "height": 466
        },
        "outputId": "764fdb95-bed0-460d-c75d-d36cbbd23874"
      },
      "execution_count": 90,
      "outputs": [
        {
          "output_type": "display_data",
          "data": {
            "text/plain": [
              "<IPython.core.display.HTML object>"
            ],
            "text/html": [
              "\n",
              "  <style>\n",
              "    pre {\n",
              "        white-space: pre-wrap;\n",
              "    }\n",
              "  </style>\n",
              "  "
            ]
          },
          "metadata": {}
        },
        {
          "output_type": "display_data",
          "data": {
            "text/plain": [
              "<IPython.core.display.HTML object>"
            ],
            "text/html": [
              "\n",
              "  <style>\n",
              "    pre {\n",
              "        white-space: pre-wrap;\n",
              "    }\n",
              "  </style>\n",
              "  "
            ]
          },
          "metadata": {}
        },
        {
          "output_type": "execute_result",
          "data": {
            "text/plain": [
              "[Text(0.5, 0, 'Epoch')]"
            ]
          },
          "metadata": {},
          "execution_count": 90
        },
        {
          "output_type": "display_data",
          "data": {
            "text/plain": [
              "<Figure size 640x480 with 1 Axes>"
            ],
            "image/png": "[encoded data removed]"
          },
          "metadata": {}
        }
      ]
    },
    {
      "cell_type": "markdown",
      "source": [
        "## Save the Finetuned GPT2 Model"
      ],
      "metadata": {
        "id": "FVyHnqGO4Yqv"
      }
    },
    {
      "cell_type": "code",
      "source": [
        "gpt2_model.save_pretrained(save_file)"
      ],
      "metadata": {
        "id": "1lsfFBri4bsA",
        "colab": {
          "base_uri": "https://localhost:8080/",
          "height": 17
        },
        "outputId": "aed34d58-7621-41d1-bffa-d68f4d74df50"
      },
      "execution_count": 91,
      "outputs": [
        {
          "output_type": "display_data",
          "data": {
            "text/plain": [
              "<IPython.core.display.HTML object>"
            ],
            "text/html": [
              "\n",
              "  <style>\n",
              "    pre {\n",
              "        white-space: pre-wrap;\n",
              "    }\n",
              "  </style>\n",
              "  "
            ]
          },
          "metadata": {}
        },
        {
          "output_type": "display_data",
          "data": {
            "text/plain": [
              "<IPython.core.display.HTML object>"
            ],
            "text/html": [
              "\n",
              "  <style>\n",
              "    pre {\n",
              "        white-space: pre-wrap;\n",
              "    }\n",
              "  </style>\n",
              "  "
            ]
          },
          "metadata": {}
        }
      ]
    },
    {
      "cell_type": "markdown",
      "source": [
        "## Generate Recipes"
      ],
      "metadata": {
        "id": "IT062FjWBKqq"
      }
    },
    {
      "cell_type": "code",
      "source": [
        "# enable word wrapping\n",
        "from IPython.display import HTML, display\n",
        "\n",
        "def set_css():\n",
        "  display(HTML('''\n",
        "  <style>\n",
        "    pre {\n",
        "        white-space: pre-wrap;\n",
        "    }\n",
        "  </style>\n",
        "  '''))\n",
        "get_ipython().events.register('pre_run_cell', set_css)"
      ],
      "metadata": {
        "id": "7opoj41hBWm6",
        "colab": {
          "base_uri": "https://localhost:8080/",
          "height": 17
        },
        "outputId": "f1d15c4e-f26c-48ef-9dea-c733a030fd87"
      },
      "execution_count": 92,
      "outputs": [
        {
          "output_type": "display_data",
          "data": {
            "text/plain": [
              "<IPython.core.display.HTML object>"
            ],
            "text/html": [
              "\n",
              "  <style>\n",
              "    pre {\n",
              "        white-space: pre-wrap;\n",
              "    }\n",
              "  </style>\n",
              "  "
            ]
          },
          "metadata": {}
        },
        {
          "output_type": "display_data",
          "data": {
            "text/plain": [
              "<IPython.core.display.HTML object>"
            ],
            "text/html": [
              "\n",
              "  <style>\n",
              "    pre {\n",
              "        white-space: pre-wrap;\n",
              "    }\n",
              "  </style>\n",
              "  "
            ]
          },
          "metadata": {}
        }
      ]
    },
    {
      "cell_type": "code",
      "source": [
        "common_recipe_titles = [\"Caesar Salad\", \"Chili\", \"Cinnamon Rolls\", \"Spaghetti Carbonara\", \"Chicken Alfredo\", \"Apple Pie\", \"Cheeseburger\", \"Lemonade\"]\n",
        "gpt2_temperature = 0.7"
      ],
      "metadata": {
        "id": "wvk_yriyBbEr",
        "colab": {
          "base_uri": "https://localhost:8080/",
          "height": 17
        },
        "outputId": "9c2f2fac-daa0-4186-de1f-5c8c367ba76b"
      },
      "execution_count": 93,
      "outputs": [
        {
          "output_type": "display_data",
          "data": {
            "text/plain": [
              "<IPython.core.display.HTML object>"
            ],
            "text/html": [
              "\n",
              "  <style>\n",
              "    pre {\n",
              "        white-space: pre-wrap;\n",
              "    }\n",
              "  </style>\n",
              "  "
            ]
          },
          "metadata": {}
        },
        {
          "output_type": "display_data",
          "data": {
            "text/plain": [
              "<IPython.core.display.HTML object>"
            ],
            "text/html": [
              "\n",
              "  <style>\n",
              "    pre {\n",
              "        white-space: pre-wrap;\n",
              "    }\n",
              "  </style>\n",
              "  "
            ]
          },
          "metadata": {}
        },
        {
          "output_type": "display_data",
          "data": {
            "text/plain": [
              "<IPython.core.display.HTML object>"
            ],
            "text/html": [
              "\n",
              "  <style>\n",
              "    pre {\n",
              "        white-space: pre-wrap;\n",
              "    }\n",
              "  </style>\n",
              "  "
            ]
          },
          "metadata": {}
        }
      ]
    },
    {
      "cell_type": "code",
      "source": [
        "gpt2_generated_recipes = []\n",
        "for i in range(len(common_recipe_titles[:50])):    \n",
        "    input_ids = gpt2_tokenizer(common_recipe_titles[i], return_tensors='pt').input_ids\n",
        "    gpt2_model.to(input_ids.device)\n",
        "    sample_outputs = gpt2_model.generate(\n",
        "                                        input_ids,\n",
        "                                        num_beams=5, \n",
        "                                        no_repeat_ngram_size=2, \n",
        "                                        max_length = 2000,\n",
        "                                        num_return_sequences=1,\n",
        "                                        eos_token_id=gpt2_tokenizer.eos_token_id,\n",
        "                                        pad_token_id=gpt2_tokenizer.pad_token_id,\n",
        "                                        temperature = gpt2_temperature\n",
        "                                    )\n",
        "    gpt2_generated_recipes.append(STOP_WORD_TITLE + gpt2_tokenizer.decode(sample_outputs[0]))\n",
        "    print(f'Attempt: \"{common_recipe_titles[i]}\" ')\n",
        "    print('-----------------------------------')\n",
        "    print(gpt2_generated_recipes[i])\n",
        "    print('\\n\\n')"
      ],
      "metadata": {
        "id": "7UO524aaBKS1",
        "colab": {
          "base_uri": "https://localhost:8080/",
          "height": 1000
        },
        "outputId": "abda99a6-7a34-4388-911c-7e7c2388aaaf"
      },
      "execution_count": 94,
      "outputs": [
        {
          "output_type": "display_data",
          "data": {
            "text/plain": [
              "<IPython.core.display.HTML object>"
            ],
            "text/html": [
              "\n",
              "  <style>\n",
              "    pre {\n",
              "        white-space: pre-wrap;\n",
              "    }\n",
              "  </style>\n",
              "  "
            ]
          },
          "metadata": {}
        },
        {
          "output_type": "display_data",
          "data": {
            "text/plain": [
              "<IPython.core.display.HTML object>"
            ],
            "text/html": [
              "\n",
              "  <style>\n",
              "    pre {\n",
              "        white-space: pre-wrap;\n",
              "    }\n",
              "  </style>\n",
              "  "
            ]
          },
          "metadata": {}
        },
        {
          "output_type": "display_data",
          "data": {
            "text/plain": [
              "<IPython.core.display.HTML object>"
            ],
            "text/html": [
              "\n",
              "  <style>\n",
              "    pre {\n",
              "        white-space: pre-wrap;\n",
              "    }\n",
              "  </style>\n",
              "  "
            ]
          },
          "metadata": {}
        },
        {
          "output_type": "stream",
          "name": "stdout",
          "text": [
            "Attempt: \"Caesar Salad\" \n",
            "-----------------------------------\n",
            "📗 Caesar Salad \n",
            "🥕\n",
            "\n",
            " • 1 head romaine lettuce, torn into bite-size pieces \n",
            "• 3/4 cup Caesar salad dressing, or to taste (such as Newman's Own® Caesar Salad Dressing) \n",
            "📝\n",
            "\n",
            " ▪︎ Toss lettuce and Caesar dressing together in a large bowl.\n",
            " ␣\n",
            "\n",
            "\n",
            "\n",
            "Attempt: \"Chili\" \n",
            "-----------------------------------\n",
            "📗 Chili-Lime Chicken \n",
            "🥕\n",
            "\n",
            " • 4 skinless, boneless chicken breast halves \n",
            "• 1/2 cup all-purpose flour, or as needed for dusting, seasoned with salt and ground black pepper to taste \n",
            "📝\n",
            "\n",
            " ▪︎ Preheat oven to 350 degrees F (175 degrees C). Line a baking sheet with parchment paper.\n",
            " Place chicken breasts between two sheets of heavy plastic (resealable freezer bags work well) on a solid, level surface. Firmly pound chicken with the smooth side of a meat mallet to a thickness of about 3/4-inch. Place flour in a shallow bowl. Dredge chicken in flour to coat, shaking off excess. Transfer coated chicken to the prepared baking pan and bake in the preheated oven until no longer pink at the bone and the juices run clear, about 30 minutes. An instant-read thermometer inserted into the thickest part of the thigh, near the joint, should read 165 degrees. Remove chicken from oven and let rest for 10 minutes before slicing. Serve with lime wedges and crudités or tortilla chips. Garnish with fresh cilantro or other toppings, if desired, and enjoy!\n",
            " ␣\n",
            "\n",
            "\n",
            "\n",
            "Attempt: \"Cinnamon Rolls\" \n",
            "-----------------------------------\n",
            "📗 Cinnamon Rolls \n",
            "🥕\n",
            "\n",
            " • 1 cup warm water (110 degrees F/45 degrees C) \n",
            "• 2 (.25 ounce) envelopes active dry yeast (such as Fleischmann's® RapidRise Yeast and Pile-Rubbed), or more to taste, separated into two equal parts water and 1 part lukewarm (120 degrees to 130 degrees) water, or as needed to dissolve yeast and let stand until foamy, about 10 minutes (see Cook's Note).\n",
            "▪︎ Sprinkle the yeast over the water in a large bowl, and stir to combine. Let stand for 5 minutes, then stir again. The mixture should form a creamy foam. If it doesn't, stir in more water. Cover the bowl with a damp cloth and allow to stand at room temperature for 1 hour, until the foam rises to the top of the mixing bowl. When the foaming subsides, turn off the heat. Allow the mixture to rise until doubled in volume and doubles in size, 2 to 3 more hours.\n",
            " ␣\n",
            "\n",
            "\n",
            "\n",
            "Attempt: \"Spaghetti Carbonara\" \n",
            "-----------------------------------\n",
            "📗 Spaghetti Carbonara \n",
            "🥕\n",
            "\n",
            " • 1 (16 ounce) package spaghetti \n",
            "• 2 tablespoons olive oil, or more to taste, divided, plus more for drizzling, if desired \n",
            "📝\n",
            "\n",
            " ▪︎ Bring a large pot of lightly salted water to a boil. Cook spaghetti in the boiling water, stirring occasionally, until cooked through but firm to the bite, about 12 minutes. Drain and transfer to an 11x7-inch baking dish. Drizzle with 2 Tbsp. oil; toss to coat. Sprinkle with salt and pepper; drizzle remaining oil over spaghetti and toss again. Cover and refrigerate until chilled, at least 2 hours and up to 2 days.\n",
            " ␣\n",
            "\n",
            "\n",
            "\n",
            "Attempt: \"Chicken Alfredo\" \n",
            "-----------------------------------\n",
            "📗 Chicken Alfredo Chicken \n",
            "🥕\n",
            "\n",
            " • 4 skinless, boneless chicken breast halves \n",
            "• 1 (10.75 ounce) can Campbell's® Condensed Cream of Chicken Soup (Regular, 98% Fat Free or 25% Less Sodium) \n",
            "📝\n",
            "\n",
            " ▪︎ Place the chicken in a 9x13-inch baking dish. Stir the soup and 1/4 cup water in small bowl until smooth. Pour over chicken. Cover and refrigerate for at least 2 hours or overnight. Remove chicken from dish and cut into bite-size pieces.\n",
            " ␣\n",
            "\n",
            "\n",
            "\n",
            "Attempt: \"Apple Pie\" \n",
            "-----------------------------------\n",
            "📗 Apple Pie I \n",
            "🥕\n",
            "\n",
            " • 1 (9 inch) pie crust, baked \n",
            "• 2 (3.5 ounce) packages instant vanilla pudding mix \n",
            "📝\n",
            "\n",
            " ▪︎ Prepare pudding according to package directions. Pour into pie shell. Chill before serving.\n",
            " ␣\n",
            "\n",
            "\n",
            "\n",
            "Attempt: \"Cheeseburger\" \n",
            "-----------------------------------\n",
            "📗 Cheeseburger Casserole \n",
            "🥕\n",
            "\n",
            " • 2 pounds ground beef \n",
            "• 1 (10.75 ounce) can condensed cream of mushroom soup with onion soup (such as Campbell's® Healthy Request®), or more to taste \n",
            "📝\n",
            "\n",
            " ▪︎ Heat a large skillet over medium-high heat. Cook and stir beef in the hot skillet until browned and crumbly, 5 to 7 minutes; drain and discard grease. Add mushroom soups and cook, stirring occasionally, until heated through, about 5 minutes.\n",
            " ␣\n",
            "\n",
            "\n",
            "\n",
            "Attempt: \"Lemonade\" \n",
            "-----------------------------------\n",
            "📗 Lemonade \n",
            "🥕\n",
            "\n",
            " • 1 1/2 cups sugar\n",
            "• 2 cups water \n",
            "📝\n",
            "\n",
            " ▪︎ Combine the sugar and water in a small saucepan and bring to a boil over medium-high heat. Reduce the heat to low and simmer, stirring occasionally, until the syrup is thick enough to coat the back of a spoon, about 20 minutes. Let cool completely before using.\n",
            " ␣\n",
            "\n",
            "\n",
            "\n"
          ]
        }
      ]
    },
    {
      "cell_type": "markdown",
      "source": [
        "# Load Models After Training"
      ],
      "metadata": {
        "id": "qWgTxD2hVAJH"
      }
    },
    {
      "cell_type": "markdown",
      "source": [
        "## Load RNN LSTM"
      ],
      "metadata": {
        "id": "6Kur3DTIVM_2"
      }
    },
    {
      "cell_type": "markdown",
      "source": [
        "### Re-initialize some parameters"
      ],
      "metadata": {
        "id": "lP5Feu0mvfXg"
      }
    },
    {
      "cell_type": "code",
      "source": [
        "# taken from length of rnn tokens\n",
        "try: \n",
        "  print(\"Number of RNN Tokens:\")\n",
        "  print(VOCABULARY_SIZE)\n",
        "except NameError:\n",
        "  print(\"Using last known length of RNN Tokens as 176:\")\n",
        "  VOCABULARY_SIZE = 176\n",
        "  print(VOCABULARY_SIZE)"
      ],
      "metadata": {
        "id": "YIxofxQwvQPV"
      },
      "execution_count": null,
      "outputs": []
    },
    {
      "cell_type": "code",
      "source": [
        "# Length of the vocabulary in chars.\n",
        "vocab_size = VOCABULARY_SIZE\n",
        "\n",
        "# The embedding dimension.\n",
        "embedding_dim = 256\n",
        "\n",
        "# Number of RNN units.\n",
        "rnn_units = 1024"
      ],
      "metadata": {
        "id": "t9yVclFqvV1h"
      },
      "execution_count": null,
      "outputs": []
    },
    {
      "cell_type": "code",
      "source": [
        "# Directory where the checkpoints are saved.\n",
        "checkpoint_dir = '/content/drive/MyDrive/deep_learning/rnn_checkpoints'"
      ],
      "metadata": {
        "id": "0jiKqs-9veuw"
      },
      "execution_count": null,
      "outputs": []
    },
    {
      "cell_type": "code",
      "source": [
        "def build_rnn_model(vocab_size, embedding_dim, rnn_units, batch_size):\n",
        "    model = tf.keras.models.Sequential()\n",
        "\n",
        "    model.add(tf.keras.layers.Embedding(\n",
        "        input_dim=vocab_size,\n",
        "        output_dim=embedding_dim,\n",
        "        batch_input_shape=[batch_size, None]\n",
        "    ))\n",
        "\n",
        "    model.add(tf.keras.layers.LSTM(\n",
        "        units=rnn_units,\n",
        "        return_sequences=True,\n",
        "        stateful=True,\n",
        "        recurrent_initializer=tf.keras.initializers.GlorotNormal()\n",
        "    ))\n",
        "\n",
        "    model.add(tf.keras.layers.Dense(vocab_size))\n",
        "    \n",
        "    return model"
      ],
      "metadata": {
        "id": "Z04HM5eAv6dF"
      },
      "execution_count": null,
      "outputs": []
    },
    {
      "cell_type": "markdown",
      "source": [
        "### Recall RNN model from drive location"
      ],
      "metadata": {
        "id": "6Z7q0IwEvl65"
      }
    },
    {
      "cell_type": "code",
      "source": [
        "# reconstructed_rnn_model = tf.keras.models.load_model(\"/content/drive/MyDrive/deep_learning/rnn/rnn_recipe_generation\")\n",
        "# reconstructed_rnn_model.summary()\n",
        "simplified_batch_size = 1\n",
        "\n",
        "reconstructed_rnn_model = build_rnn_model(vocab_size, embedding_dim, rnn_units, simplified_batch_size)\n",
        "\n",
        "reconstructed_rnn_model.load_weights(tf.train.latest_checkpoint(checkpoint_dir))\n",
        "\n",
        "reconstructed_rnn_model.build(tf.TensorShape([simplified_batch_size, None]))\n",
        "\n",
        "reconstructed_rnn_model.summary()"
      ],
      "metadata": {
        "id": "0q5CG_KFVDhb"
      },
      "execution_count": null,
      "outputs": []
    },
    {
      "cell_type": "markdown",
      "source": [
        "## Load GPT2"
      ],
      "metadata": {
        "id": "x66w1rhRVOhW"
      }
    },
    {
      "cell_type": "code",
      "source": [
        "# configuration = GPT2Config.from_pretrained('gpt2', output_hidden_states=False)"
      ],
      "metadata": {
        "id": "yxDF_gcRwp20"
      },
      "execution_count": null,
      "outputs": []
    },
    {
      "cell_type": "code",
      "source": [
        "reconstructed_gpt2_model = GPT2LMHeadModel.from_pretrained(\"/content/drive/MyDrive/deep_learning/gpt2\")"
      ],
      "metadata": {
        "id": "vl1H2PYIU_2P"
      },
      "execution_count": null,
      "outputs": []
    },
    {
      "cell_type": "markdown",
      "source": [
        "### Evaluate GPT2 Model"
      ],
      "metadata": {
        "id": "WfRKAyt4Utbr"
      }
    },
    {
      "cell_type": "code",
      "source": [
        "# prepare datasets for dev_list and test_list\n",
        "test_dataset = GPT2Dataset(test_set, gpt2_tokenizer, max_length=768)"
      ],
      "metadata": {
        "id": "cr2Hd1ynUvPP"
      },
      "execution_count": null,
      "outputs": []
    },
    {
      "cell_type": "code",
      "source": [
        "# load the datasets\n",
        "test_dataloader = DataLoader(\n",
        "            test_dataset, # The validation samples.\n",
        "            sampler = SequentialSampler(test_dataset), # Pull out batches sequentially.\n",
        "            batch_size = batch_size # Evaluate with this batch size.\n",
        "        )\n"
      ],
      "metadata": {
        "id": "TiFc8cIRUzk2"
      },
      "execution_count": null,
      "outputs": []
    },
    {
      "cell_type": "code",
      "source": [],
      "metadata": {
        "id": "uMCRJ2FXJH04"
      },
      "execution_count": null,
      "outputs": []
    },
    {
      "cell_type": "code",
      "source": [
        "# change device\n",
        "device = torch.device(\"cuda\")"
      ],
      "metadata": {
        "id": "hYbRD8FbqsXF"
      },
      "execution_count": null,
      "outputs": []
    },
    {
      "cell_type": "code",
      "source": [
        "def evaluate_model(model, dataloaded):\n",
        "    model = model.to(device)\n",
        "    model.eval()\n",
        "\n",
        "    losses = []\n",
        "    perplexity = []\n",
        "    total_eval_loss = 0\n",
        "    nb_eval_steps = 0\n",
        "\n",
        "    # Evaluate data for one epoch\n",
        "    for batch in dataloaded:\n",
        "\n",
        "        b_input_ids = batch[0].to(device)\n",
        "        b_labels = batch[0].to(device)\n",
        "        b_masks = batch[1].to(device)\n",
        "\n",
        "        with torch.no_grad():        \n",
        "\n",
        "            outputs  = model(b_input_ids, \n",
        "    #                            token_type_ids=None, \n",
        "                            attention_mask = b_masks,\n",
        "                            labels=b_labels)\n",
        "\n",
        "            loss = outputs[0]  \n",
        "\n",
        "        batch_loss = loss.item()\n",
        "        losses.append(batch_loss)\n",
        "        total_eval_loss += batch_loss        \n",
        "\n",
        "    avg_val_loss = total_eval_loss / len(dataloaded)\n",
        "\n",
        "    # Calculate perplexity.\n",
        "    losses = torch.tensor(losses)\n",
        "    val_perplexity = math.exp(torch.mean(losses))\n",
        "    perplexity.append(val_perplexity)\n",
        "\n",
        "    print(\"  Validation Loss: {0:.2f}\".format(avg_val_loss))\n",
        "    print(\"  Validation perplexity: {0:.2f}\".format(val_perplexity))\n",
        "    return avg_val_loss, val_perplexity"
      ],
      "metadata": {
        "id": "HaQ6jibmU3Cu"
      },
      "execution_count": null,
      "outputs": []
    },
    {
      "cell_type": "code",
      "source": [
        "reconstructed_gpt2_model.eval()"
      ],
      "metadata": {
        "id": "UZiDMAbKqjRX"
      },
      "execution_count": null,
      "outputs": []
    },
    {
      "cell_type": "code",
      "source": [
        "print('Testing...')\n",
        "test_loss, test_perplexity = evaluate_model(reconstructed_gpt2_model, test_dataloader)\n",
        "test_eval_df = pd.DataFrame(columns = [\"test_loss\", \"test_perplexity\"])\n",
        "test_eval_df['test_loss'] = test_loss\n",
        "test_eval_df['test_perplexity'] = test_perplexity\n",
        "test_eval_df.to_csv(\"test_eval.csv\")"
      ],
      "metadata": {
        "id": "wihSSH4oU5Ys"
      },
      "execution_count": null,
      "outputs": []
    },
    {
      "cell_type": "markdown",
      "source": [
        "# Evaluate Both Models\n",
        "Find a common method to evaluate both models and use the generated recipes to determine the accuracy of each model."
      ],
      "metadata": {
        "id": "EzenVBS63m61"
      }
    },
    {
      "cell_type": "markdown",
      "source": [
        "### Enable word wrap for printing"
      ],
      "metadata": {
        "id": "qpQ24bB85rMQ"
      }
    },
    {
      "cell_type": "code",
      "source": [
        "from IPython.display import HTML, display\n",
        "\n",
        "def set_css():\n",
        "  display(HTML('''\n",
        "  <style>\n",
        "    pre {\n",
        "        white-space: pre-wrap;\n",
        "    }\n",
        "  </style>\n",
        "  '''))\n",
        "get_ipython().events.register('pre_run_cell', set_css)"
      ],
      "metadata": {
        "id": "jdL2YJo_5q9e"
      },
      "execution_count": null,
      "outputs": []
    },
    {
      "cell_type": "markdown",
      "source": [
        "### Set common parameters for decoding"
      ],
      "metadata": {
        "id": "et-lu5_v-bbS"
      }
    },
    {
      "cell_type": "code",
      "source": [
        "common_recipe_titles = [\"Caesar Salad\", \"Chili\", \"Cinnamon Rolls\", \"Spaghetti Carbonara\", \"Chicken Alfredo\", \"Apple Pie\", \"Cheeseburger\", \"Lemonade\"]"
      ],
      "metadata": {
        "id": "MJBNcwhCYVqI"
      },
      "execution_count": null,
      "outputs": []
    },
    {
      "cell_type": "code",
      "source": [
        "rnn_temperature = 0.8\n",
        "gpt2_temperature = 1.0"
      ],
      "metadata": {
        "id": "ch2j-FGv-ge9"
      },
      "execution_count": null,
      "outputs": []
    },
    {
      "cell_type": "markdown",
      "source": [
        "### Generate Recipes from Both\n"
      ],
      "metadata": {
        "id": "yOZBYkvW3vLh"
      }
    },
    {
      "cell_type": "markdown",
      "source": [
        "#### Generate with RNN"
      ],
      "metadata": {
        "id": "QlTIEsIn7kRy"
      }
    },
    {
      "cell_type": "code",
      "source": [
        "# num_generate\n",
        "# - number of characters to generate.\n",
        "#\n",
        "# temperature\n",
        "# - Low temperatures results in more predictable text.\n",
        "# - Higher temperatures results in more surprising text.\n",
        "# - Experiment to find the best setting.\n",
        "def generate_text(model, start_string, num_generate = 1000, temperature=1.0):\n",
        "    # Evaluation step (generating text using the learned model)\n",
        "    \n",
        "    padded_start_string = STOP_WORD_TITLE + start_string\n",
        "\n",
        "    # Converting our start string to numbers (vectorizing).\n",
        "    input_indices = np.array(rnn_tokenizer.texts_to_sequences([padded_start_string]))\n",
        "\n",
        "    # Empty string to store our results.\n",
        "    text_generated = []\n",
        "\n",
        "    # Here batch size == 1.\n",
        "    model.reset_states()\n",
        "    for char_index in range(num_generate):\n",
        "        predictions = model(input_indices)\n",
        "        # remove the batch dimension\n",
        "        predictions = tf.squeeze(predictions, 0)\n",
        "\n",
        "        # Using a categorical distribution to predict the character returned by the model.\n",
        "        predictions = predictions / temperature\n",
        "        predicted_id = tf.random.categorical(\n",
        "            predictions,\n",
        "            num_samples=1\n",
        "        )[-1,0].numpy()\n",
        "\n",
        "        # We pass the predicted character as the next input to the model\n",
        "        # along with the previous hidden state.\n",
        "        input_indices = tf.expand_dims([predicted_id], 0)\n",
        "        \n",
        "        next_character = rnn_tokenizer.sequences_to_texts(input_indices.numpy())[0]\n",
        "\n",
        "        text_generated.append(next_character)\n",
        "\n",
        "    return (padded_start_string + ''.join(text_generated))"
      ],
      "metadata": {
        "id": "DDXG5BtXZEVn"
      },
      "execution_count": null,
      "outputs": []
    },
    {
      "cell_type": "code",
      "source": [
        "rnn_generated_recipes = []\n",
        "def generate_combinations(model):\n",
        "    recipe_length = 2000\n",
        "\n",
        "    for recipe in common_recipe_titles:\n",
        "        generated_text = generate_text(\n",
        "            model,\n",
        "            start_string=recipe,\n",
        "            num_generate = recipe_length,\n",
        "            temperature = rnn_temperature\n",
        "        )\n",
        "        print(f'Attempt: \"{recipe}\" ')\n",
        "        print('-----------------------------------')\n",
        "        print(generated_text)\n",
        "        print('\\n\\n')\n",
        "        rnn_generated_recipes.append(generated_text)"
      ],
      "metadata": {
        "id": "y4EzLyr8ZQWQ"
      },
      "execution_count": null,
      "outputs": []
    },
    {
      "cell_type": "code",
      "source": [
        "rnn_generated_recipes = []\n",
        "generate_combinations(reconstructed_rnn_model)"
      ],
      "metadata": {
        "id": "rmbJNhLzZcHE"
      },
      "execution_count": null,
      "outputs": []
    },
    {
      "cell_type": "markdown",
      "source": [
        "#### Generate with GPT2"
      ],
      "metadata": {
        "id": "Bvsuchtm-mYE"
      }
    },
    {
      "cell_type": "code",
      "source": [
        "gpt2_generated_recipes = []\n",
        "for i in range(len(common_recipe_titles[:50])):    \n",
        "    input_ids = gpt2_tokenizer(common_recipe_titles[i], return_tensors='pt').input_ids\n",
        "    reconstructed_gpt2_model.to(input_ids.device)\n",
        "    sample_outputs = reconstructed_gpt2_model.generate(\n",
        "                                        input_ids,\n",
        "                                        num_beams=5, \n",
        "                                        no_repeat_ngram_size=2, \n",
        "                                        max_length = 2000,\n",
        "                                        num_return_sequences=1,\n",
        "                                        eos_token_id=gpt2_tokenizer.eos_token_id,\n",
        "                                        pad_token_id=gpt2_tokenizer.pad_token_id,\n",
        "                                        temperature = gpt2_temperature\n",
        "                                    )\n",
        "    gpt2_generated_recipes.append(STOP_WORD_TITLE + gpt2_tokenizer.decode(sample_outputs[0]))\n",
        "    print(f'Attempt: \"{common_recipe_titles[i]}\" ')\n",
        "    print('-----------------------------------')\n",
        "    print(gpt2_generated_recipes[i])\n",
        "    print('\\n\\n')"
      ],
      "metadata": {
        "id": "1ewvwj3BYidk"
      },
      "execution_count": null,
      "outputs": []
    },
    {
      "cell_type": "markdown",
      "source": [
        "## Compare Generated Recipes"
      ],
      "metadata": {
        "id": "oVUmqh6-7dpd"
      }
    },
    {
      "cell_type": "code",
      "source": [
        "def separateRecipeSections(generated_recipes_list):\n",
        "  MISSING_INGREDIENTS = \"No Ingredients List Generated\"\n",
        "  MISSING_INSTRUCTIONS = \"No Instructions Generated\"\n",
        "  all_titles = []\n",
        "  all_ingred = []\n",
        "  all_instru = []\n",
        "\n",
        "  for recipe in generated_recipes_list:\n",
        "    try:\n",
        "      title, recipe = recipe.split(STOP_WORD_INGREDIENTS)\n",
        "      ingred = \"\"\n",
        "    except ValueError:\n",
        "      ingred = MISSING_INGREDIENTS\n",
        "      try:\n",
        "        title, instru = recipe.split(STOP_WORD_INSTRUCTIONS)\n",
        "      except ValueError:\n",
        "        instru = MISSING_INSTRUCTIONS\n",
        "\n",
        "    \n",
        "    # fill in ingredients & instructions after finding the title\n",
        "    if ingred != MISSING_INGREDIENTS:\n",
        "      try:\n",
        "        ingred, instru = recipe.split(STOP_WORD_INSTRUCTIONS)\n",
        "      except ValueError:\n",
        "        instru = MISSING_INSTRUCTIONS\n",
        "    \n",
        "    if instru == MISSING_INSTRUCTIONS:\n",
        "      try:\n",
        "        blank, instru = recipe.split(\" ▪︎ \")\n",
        "      except:\n",
        "        instru = recipe.split(\" ▪︎ \")[0]\n",
        "      \n",
        "      \n",
        "\n",
        "\n",
        "    # add it to the lists\n",
        "    all_titles.append(title.strip())\n",
        "    all_ingred.append(ingred.strip())\n",
        "    all_instru.append(instru.strip())\n",
        "\n",
        "  all_sections = list(zip(all_titles,all_ingred,all_instru))\n",
        "  return all_sections"
      ],
      "metadata": {
        "id": "UBTB0xvQCHCm"
      },
      "execution_count": null,
      "outputs": []
    },
    {
      "cell_type": "code",
      "source": [
        "rnn_sections = separateRecipeSections(rnn_generated_recipes)\n",
        "gpt2_sections = separateRecipeSections(gpt2_generated_recipes)"
      ],
      "metadata": {
        "id": "djv6enLVYv1m"
      },
      "execution_count": null,
      "outputs": []
    },
    {
      "cell_type": "code",
      "source": [
        "rnn_titles, rnn_ingred, rnn_instru = zip(*rnn_sections)\n",
        "gpt2_titles, gpt2_ingred, gpt2_instru = zip(*gpt2_sections)\n",
        "\n",
        "\n",
        "recipes_df = pd.DataFrame( {\n",
        "  'Attempted Recipe Names' : common_recipe_titles,\n",
        "  'RNN Title' : rnn_titles,\n",
        "  'GPT2 Title' : gpt2_titles,\n",
        "  'RNN Ingred' : rnn_ingred,\n",
        "  'GPT2 Ingred' : gpt2_ingred,\n",
        "  'RNN Instructions' : rnn_instru,\n",
        "  'GPT2 Instructions' : gpt2_instru\n",
        "})\n",
        "\n",
        "display(recipes_df)"
      ],
      "metadata": {
        "id": "EtodJqSZ7dfo"
      },
      "execution_count": null,
      "outputs": []
    }
  ],
  "metadata": {
    "colab": {
      "provenance": [],
      "toc_visible": true,
      "mount_file_id": "1Z7-ohtFD_ngaswr_aYrqJko2AR3Qj79M",
      "authorship_tag": "ABX9TyNMUz+ifM/gHlNhmAdxZJYB",
      "include_colab_link": true
    },
    "gpuClass": "premium",
    "kernelspec": {
      "display_name": "Python 3",
      "name": "python3"
    },
    "language_info": {
      "name": "python"
    },
    "accelerator": "GPU",
    "widgets": {
      "application/vnd.jupyter.widget-state+json": {
        "a00fc1d178a14edd93717e44cb2d0168": {
          "model_module": "@jupyter-widgets/controls",
          "model_name": "HBoxModel",
          "model_module_version": "1.5.0",
          "state": {
            "_dom_classes": [],
            "_model_module": "@jupyter-widgets/controls",
            "_model_module_version": "1.5.0",
            "_model_name": "HBoxModel",
            "_view_count": null,
            "_view_module": "@jupyter-widgets/controls",
            "_view_module_version": "1.5.0",
            "_view_name": "HBoxView",
            "box_style": "",
            "children": [
              "IPY_MODEL_7ac6d111e8324036b5b89bffbbf01507",
              "IPY_MODEL_fa74a19bb8b7411d830d1f064444476b",
              "IPY_MODEL_28f17fff9d344bbd8585e3ef730a2313"
            ],
            "layout": "IPY_MODEL_79d17995ba444bdd8cd62442ec8fab66"
          }
        },
        "7ac6d111e8324036b5b89bffbbf01507": {
          "model_module": "@jupyter-widgets/controls",
          "model_name": "HTMLModel",
          "model_module_version": "1.5.0",
          "state": {
            "_dom_classes": [],
            "_model_module": "@jupyter-widgets/controls",
            "_model_module_version": "1.5.0",
            "_model_name": "HTMLModel",
            "_view_count": null,
            "_view_module": "@jupyter-widgets/controls",
            "_view_module_version": "1.5.0",
            "_view_name": "HTMLView",
            "description": "",
            "description_tooltip": null,
            "layout": "IPY_MODEL_dcd92d9fbf3b48afa8d35bb70c8b64c6",
            "placeholder": "​",
            "style": "IPY_MODEL_bc8fa1063a7a40c58c7f99699bcba2e0",
            "value": "Downloading (…)olve/main/vocab.json: 100%"
          }
        },
        "fa74a19bb8b7411d830d1f064444476b": {
          "model_module": "@jupyter-widgets/controls",
          "model_name": "FloatProgressModel",
          "model_module_version": "1.5.0",
          "state": {
            "_dom_classes": [],
            "_model_module": "@jupyter-widgets/controls",
            "_model_module_version": "1.5.0",
            "_model_name": "FloatProgressModel",
            "_view_count": null,
            "_view_module": "@jupyter-widgets/controls",
            "_view_module_version": "1.5.0",
            "_view_name": "ProgressView",
            "bar_style": "success",
            "description": "",
            "description_tooltip": null,
            "layout": "IPY_MODEL_c9e5e4f9637c456b9e86d1733a346835",
            "max": 1042301,
            "min": 0,
            "orientation": "horizontal",
            "style": "IPY_MODEL_5b9c319c13e74dca82ce0cbd90a20d0d",
            "value": 1042301
          }
        },
        "28f17fff9d344bbd8585e3ef730a2313": {
          "model_module": "@jupyter-widgets/controls",
          "model_name": "HTMLModel",
          "model_module_version": "1.5.0",
          "state": {
            "_dom_classes": [],
            "_model_module": "@jupyter-widgets/controls",
            "_model_module_version": "1.5.0",
            "_model_name": "HTMLModel",
            "_view_count": null,
            "_view_module": "@jupyter-widgets/controls",
            "_view_module_version": "1.5.0",
            "_view_name": "HTMLView",
            "description": "",
            "description_tooltip": null,
            "layout": "IPY_MODEL_72059efd7510439eaccf30f8600867f2",
            "placeholder": "​",
            "style": "IPY_MODEL_0474eb55cec6423c8baeed58c15ef754",
            "value": " 1.04M/1.04M [00:00&lt;00:00, 2.48MB/s]"
          }
        },
        "79d17995ba444bdd8cd62442ec8fab66": {
          "model_module": "@jupyter-widgets/base",
          "model_name": "LayoutModel",
          "model_module_version": "1.2.0",
          "state": {
            "_model_module": "@jupyter-widgets/base",
            "_model_module_version": "1.2.0",
            "_model_name": "LayoutModel",
            "_view_count": null,
            "_view_module": "@jupyter-widgets/base",
            "_view_module_version": "1.2.0",
            "_view_name": "LayoutView",
            "align_content": null,
            "align_items": null,
            "align_self": null,
            "border": null,
            "bottom": null,
            "display": null,
            "flex": null,
            "flex_flow": null,
            "grid_area": null,
            "grid_auto_columns": null,
            "grid_auto_flow": null,
            "grid_auto_rows": null,
            "grid_column": null,
            "grid_gap": null,
            "grid_row": null,
            "grid_template_areas": null,
            "grid_template_columns": null,
            "grid_template_rows": null,
            "height": null,
            "justify_content": null,
            "justify_items": null,
            "left": null,
            "margin": null,
            "max_height": null,
            "max_width": null,
            "min_height": null,
            "min_width": null,
            "object_fit": null,
            "object_position": null,
            "order": null,
            "overflow": null,
            "overflow_x": null,
            "overflow_y": null,
            "padding": null,
            "right": null,
            "top": null,
            "visibility": null,
            "width": null
          }
        },
        "dcd92d9fbf3b48afa8d35bb70c8b64c6": {
          "model_module": "@jupyter-widgets/base",
          "model_name": "LayoutModel",
          "model_module_version": "1.2.0",
          "state": {
            "_model_module": "@jupyter-widgets/base",
            "_model_module_version": "1.2.0",
            "_model_name": "LayoutModel",
            "_view_count": null,
            "_view_module": "@jupyter-widgets/base",
            "_view_module_version": "1.2.0",
            "_view_name": "LayoutView",
            "align_content": null,
            "align_items": null,
            "align_self": null,
            "border": null,
            "bottom": null,
            "display": null,
            "flex": null,
            "flex_flow": null,
            "grid_area": null,
            "grid_auto_columns": null,
            "grid_auto_flow": null,
            "grid_auto_rows": null,
            "grid_column": null,
            "grid_gap": null,
            "grid_row": null,
            "grid_template_areas": null,
            "grid_template_columns": null,
            "grid_template_rows": null,
            "height": null,
            "justify_content": null,
            "justify_items": null,
            "left": null,
            "margin": null,
            "max_height": null,
            "max_width": null,
            "min_height": null,
            "min_width": null,
            "object_fit": null,
            "object_position": null,
            "order": null,
            "overflow": null,
            "overflow_x": null,
            "overflow_y": null,
            "padding": null,
            "right": null,
            "top": null,
            "visibility": null,
            "width": null
          }
        },
        "bc8fa1063a7a40c58c7f99699bcba2e0": {
          "model_module": "@jupyter-widgets/controls",
          "model_name": "DescriptionStyleModel",
          "model_module_version": "1.5.0",
          "state": {
            "_model_module": "@jupyter-widgets/controls",
            "_model_module_version": "1.5.0",
            "_model_name": "DescriptionStyleModel",
            "_view_count": null,
            "_view_module": "@jupyter-widgets/base",
            "_view_module_version": "1.2.0",
            "_view_name": "StyleView",
            "description_width": ""
          }
        },
        "c9e5e4f9637c456b9e86d1733a346835": {
          "model_module": "@jupyter-widgets/base",
          "model_name": "LayoutModel",
          "model_module_version": "1.2.0",
          "state": {
            "_model_module": "@jupyter-widgets/base",
            "_model_module_version": "1.2.0",
            "_model_name": "LayoutModel",
            "_view_count": null,
            "_view_module": "@jupyter-widgets/base",
            "_view_module_version": "1.2.0",
            "_view_name": "LayoutView",
            "align_content": null,
            "align_items": null,
            "align_self": null,
            "border": null,
            "bottom": null,
            "display": null,
            "flex": null,
            "flex_flow": null,
            "grid_area": null,
            "grid_auto_columns": null,
            "grid_auto_flow": null,
            "grid_auto_rows": null,
            "grid_column": null,
            "grid_gap": null,
            "grid_row": null,
            "grid_template_areas": null,
            "grid_template_columns": null,
            "grid_template_rows": null,
            "height": null,
            "justify_content": null,
            "justify_items": null,
            "left": null,
            "margin": null,
            "max_height": null,
            "max_width": null,
            "min_height": null,
            "min_width": null,
            "object_fit": null,
            "object_position": null,
            "order": null,
            "overflow": null,
            "overflow_x": null,
            "overflow_y": null,
            "padding": null,
            "right": null,
            "top": null,
            "visibility": null,
            "width": null
          }
        },
        "5b9c319c13e74dca82ce0cbd90a20d0d": {
          "model_module": "@jupyter-widgets/controls",
          "model_name": "ProgressStyleModel",
          "model_module_version": "1.5.0",
          "state": {
            "_model_module": "@jupyter-widgets/controls",
            "_model_module_version": "1.5.0",
            "_model_name": "ProgressStyleModel",
            "_view_count": null,
            "_view_module": "@jupyter-widgets/base",
            "_view_module_version": "1.2.0",
            "_view_name": "StyleView",
            "bar_color": null,
            "description_width": ""
          }
        },
        "72059efd7510439eaccf30f8600867f2": {
          "model_module": "@jupyter-widgets/base",
          "model_name": "LayoutModel",
          "model_module_version": "1.2.0",
          "state": {
            "_model_module": "@jupyter-widgets/base",
            "_model_module_version": "1.2.0",
            "_model_name": "LayoutModel",
            "_view_count": null,
            "_view_module": "@jupyter-widgets/base",
            "_view_module_version": "1.2.0",
            "_view_name": "LayoutView",
            "align_content": null,
            "align_items": null,
            "align_self": null,
            "border": null,
            "bottom": null,
            "display": null,
            "flex": null,
            "flex_flow": null,
            "grid_area": null,
            "grid_auto_columns": null,
            "grid_auto_flow": null,
            "grid_auto_rows": null,
            "grid_column": null,
            "grid_gap": null,
            "grid_row": null,
            "grid_template_areas": null,
            "grid_template_columns": null,
            "grid_template_rows": null,
            "height": null,
            "justify_content": null,
            "justify_items": null,
            "left": null,
            "margin": null,
            "max_height": null,
            "max_width": null,
            "min_height": null,
            "min_width": null,
            "object_fit": null,
            "object_position": null,
            "order": null,
            "overflow": null,
            "overflow_x": null,
            "overflow_y": null,
            "padding": null,
            "right": null,
            "top": null,
            "visibility": null,
            "width": null
          }
        },
        "0474eb55cec6423c8baeed58c15ef754": {
          "model_module": "@jupyter-widgets/controls",
          "model_name": "DescriptionStyleModel",
          "model_module_version": "1.5.0",
          "state": {
            "_model_module": "@jupyter-widgets/controls",
            "_model_module_version": "1.5.0",
            "_model_name": "DescriptionStyleModel",
            "_view_count": null,
            "_view_module": "@jupyter-widgets/base",
            "_view_module_version": "1.2.0",
            "_view_name": "StyleView",
            "description_width": ""
          }
        },
        "4546e36b28d2499184c833a25c149c01": {
          "model_module": "@jupyter-widgets/controls",
          "model_name": "HBoxModel",
          "model_module_version": "1.5.0",
          "state": {
            "_dom_classes": [],
            "_model_module": "@jupyter-widgets/controls",
            "_model_module_version": "1.5.0",
            "_model_name": "HBoxModel",
            "_view_count": null,
            "_view_module": "@jupyter-widgets/controls",
            "_view_module_version": "1.5.0",
            "_view_name": "HBoxView",
            "box_style": "",
            "children": [
              "IPY_MODEL_f24142c57caa492baa93e3c109dd064a",
              "IPY_MODEL_1f87b137c3f2428b9fe32e34c6794ba9",
              "IPY_MODEL_be87ad78a5734d7d89e70977e28f59ab"
            ],
            "layout": "IPY_MODEL_16d0121d1e514c1691e3e41901859f53"
          }
        },
        "f24142c57caa492baa93e3c109dd064a": {
          "model_module": "@jupyter-widgets/controls",
          "model_name": "HTMLModel",
          "model_module_version": "1.5.0",
          "state": {
            "_dom_classes": [],
            "_model_module": "@jupyter-widgets/controls",
            "_model_module_version": "1.5.0",
            "_model_name": "HTMLModel",
            "_view_count": null,
            "_view_module": "@jupyter-widgets/controls",
            "_view_module_version": "1.5.0",
            "_view_name": "HTMLView",
            "description": "",
            "description_tooltip": null,
            "layout": "IPY_MODEL_938b4aa15e5447cf9bb5db0299325173",
            "placeholder": "​",
            "style": "IPY_MODEL_9fdc7e61b41c4625819ef780999b43d6",
            "value": "Downloading (…)olve/main/merges.txt: 100%"
          }
        },
        "1f87b137c3f2428b9fe32e34c6794ba9": {
          "model_module": "@jupyter-widgets/controls",
          "model_name": "FloatProgressModel",
          "model_module_version": "1.5.0",
          "state": {
            "_dom_classes": [],
            "_model_module": "@jupyter-widgets/controls",
            "_model_module_version": "1.5.0",
            "_model_name": "FloatProgressModel",
            "_view_count": null,
            "_view_module": "@jupyter-widgets/controls",
            "_view_module_version": "1.5.0",
            "_view_name": "ProgressView",
            "bar_style": "success",
            "description": "",
            "description_tooltip": null,
            "layout": "IPY_MODEL_9800dcdef2324e06bf4b5e9c31a551b8",
            "max": 456318,
            "min": 0,
            "orientation": "horizontal",
            "style": "IPY_MODEL_9792513c70ef4ed88823c54859451fc6",
            "value": 456318
          }
        },
        "be87ad78a5734d7d89e70977e28f59ab": {
          "model_module": "@jupyter-widgets/controls",
          "model_name": "HTMLModel",
          "model_module_version": "1.5.0",
          "state": {
            "_dom_classes": [],
            "_model_module": "@jupyter-widgets/controls",
            "_model_module_version": "1.5.0",
            "_model_name": "HTMLModel",
            "_view_count": null,
            "_view_module": "@jupyter-widgets/controls",
            "_view_module_version": "1.5.0",
            "_view_name": "HTMLView",
            "description": "",
            "description_tooltip": null,
            "layout": "IPY_MODEL_51ca2b2f72d547e08c3c69b24737bbd3",
            "placeholder": "​",
            "style": "IPY_MODEL_9d9be574946a494eab5844821ab0129d",
            "value": " 456k/456k [00:00&lt;00:00, 1.08MB/s]"
          }
        },
        "16d0121d1e514c1691e3e41901859f53": {
          "model_module": "@jupyter-widgets/base",
          "model_name": "LayoutModel",
          "model_module_version": "1.2.0",
          "state": {
            "_model_module": "@jupyter-widgets/base",
            "_model_module_version": "1.2.0",
            "_model_name": "LayoutModel",
            "_view_count": null,
            "_view_module": "@jupyter-widgets/base",
            "_view_module_version": "1.2.0",
            "_view_name": "LayoutView",
            "align_content": null,
            "align_items": null,
            "align_self": null,
            "border": null,
            "bottom": null,
            "display": null,
            "flex": null,
            "flex_flow": null,
            "grid_area": null,
            "grid_auto_columns": null,
            "grid_auto_flow": null,
            "grid_auto_rows": null,
            "grid_column": null,
            "grid_gap": null,
            "grid_row": null,
            "grid_template_areas": null,
            "grid_template_columns": null,
            "grid_template_rows": null,
            "height": null,
            "justify_content": null,
            "justify_items": null,
            "left": null,
            "margin": null,
            "max_height": null,
            "max_width": null,
            "min_height": null,
            "min_width": null,
            "object_fit": null,
            "object_position": null,
            "order": null,
            "overflow": null,
            "overflow_x": null,
            "overflow_y": null,
            "padding": null,
            "right": null,
            "top": null,
            "visibility": null,
            "width": null
          }
        },
        "938b4aa15e5447cf9bb5db0299325173": {
          "model_module": "@jupyter-widgets/base",
          "model_name": "LayoutModel",
          "model_module_version": "1.2.0",
          "state": {
            "_model_module": "@jupyter-widgets/base",
            "_model_module_version": "1.2.0",
            "_model_name": "LayoutModel",
            "_view_count": null,
            "_view_module": "@jupyter-widgets/base",
            "_view_module_version": "1.2.0",
            "_view_name": "LayoutView",
            "align_content": null,
            "align_items": null,
            "align_self": null,
            "border": null,
            "bottom": null,
            "display": null,
            "flex": null,
            "flex_flow": null,
            "grid_area": null,
            "grid_auto_columns": null,
            "grid_auto_flow": null,
            "grid_auto_rows": null,
            "grid_column": null,
            "grid_gap": null,
            "grid_row": null,
            "grid_template_areas": null,
            "grid_template_columns": null,
            "grid_template_rows": null,
            "height": null,
            "justify_content": null,
            "justify_items": null,
            "left": null,
            "margin": null,
            "max_height": null,
            "max_width": null,
            "min_height": null,
            "min_width": null,
            "object_fit": null,
            "object_position": null,
            "order": null,
            "overflow": null,
            "overflow_x": null,
            "overflow_y": null,
            "padding": null,
            "right": null,
            "top": null,
            "visibility": null,
            "width": null
          }
        },
        "9fdc7e61b41c4625819ef780999b43d6": {
          "model_module": "@jupyter-widgets/controls",
          "model_name": "DescriptionStyleModel",
          "model_module_version": "1.5.0",
          "state": {
            "_model_module": "@jupyter-widgets/controls",
            "_model_module_version": "1.5.0",
            "_model_name": "DescriptionStyleModel",
            "_view_count": null,
            "_view_module": "@jupyter-widgets/base",
            "_view_module_version": "1.2.0",
            "_view_name": "StyleView",
            "description_width": ""
          }
        },
        "9800dcdef2324e06bf4b5e9c31a551b8": {
          "model_module": "@jupyter-widgets/base",
          "model_name": "LayoutModel",
          "model_module_version": "1.2.0",
          "state": {
            "_model_module": "@jupyter-widgets/base",
            "_model_module_version": "1.2.0",
            "_model_name": "LayoutModel",
            "_view_count": null,
            "_view_module": "@jupyter-widgets/base",
            "_view_module_version": "1.2.0",
            "_view_name": "LayoutView",
            "align_content": null,
            "align_items": null,
            "align_self": null,
            "border": null,
            "bottom": null,
            "display": null,
            "flex": null,
            "flex_flow": null,
            "grid_area": null,
            "grid_auto_columns": null,
            "grid_auto_flow": null,
            "grid_auto_rows": null,
            "grid_column": null,
            "grid_gap": null,
            "grid_row": null,
            "grid_template_areas": null,
            "grid_template_columns": null,
            "grid_template_rows": null,
            "height": null,
            "justify_content": null,
            "justify_items": null,
            "left": null,
            "margin": null,
            "max_height": null,
            "max_width": null,
            "min_height": null,
            "min_width": null,
            "object_fit": null,
            "object_position": null,
            "order": null,
            "overflow": null,
            "overflow_x": null,
            "overflow_y": null,
            "padding": null,
            "right": null,
            "top": null,
            "visibility": null,
            "width": null
          }
        },
        "9792513c70ef4ed88823c54859451fc6": {
          "model_module": "@jupyter-widgets/controls",
          "model_name": "ProgressStyleModel",
          "model_module_version": "1.5.0",
          "state": {
            "_model_module": "@jupyter-widgets/controls",
            "_model_module_version": "1.5.0",
            "_model_name": "ProgressStyleModel",
            "_view_count": null,
            "_view_module": "@jupyter-widgets/base",
            "_view_module_version": "1.2.0",
            "_view_name": "StyleView",
            "bar_color": null,
            "description_width": ""
          }
        },
        "51ca2b2f72d547e08c3c69b24737bbd3": {
          "model_module": "@jupyter-widgets/base",
          "model_name": "LayoutModel",
          "model_module_version": "1.2.0",
          "state": {
            "_model_module": "@jupyter-widgets/base",
            "_model_module_version": "1.2.0",
            "_model_name": "LayoutModel",
            "_view_count": null,
            "_view_module": "@jupyter-widgets/base",
            "_view_module_version": "1.2.0",
            "_view_name": "LayoutView",
            "align_content": null,
            "align_items": null,
            "align_self": null,
            "border": null,
            "bottom": null,
            "display": null,
            "flex": null,
            "flex_flow": null,
            "grid_area": null,
            "grid_auto_columns": null,
            "grid_auto_flow": null,
            "grid_auto_rows": null,
            "grid_column": null,
            "grid_gap": null,
            "grid_row": null,
            "grid_template_areas": null,
            "grid_template_columns": null,
            "grid_template_rows": null,
            "height": null,
            "justify_content": null,
            "justify_items": null,
            "left": null,
            "margin": null,
            "max_height": null,
            "max_width": null,
            "min_height": null,
            "min_width": null,
            "object_fit": null,
            "object_position": null,
            "order": null,
            "overflow": null,
            "overflow_x": null,
            "overflow_y": null,
            "padding": null,
            "right": null,
            "top": null,
            "visibility": null,
            "width": null
          }
        },
        "9d9be574946a494eab5844821ab0129d": {
          "model_module": "@jupyter-widgets/controls",
          "model_name": "DescriptionStyleModel",
          "model_module_version": "1.5.0",
          "state": {
            "_model_module": "@jupyter-widgets/controls",
            "_model_module_version": "1.5.0",
            "_model_name": "DescriptionStyleModel",
            "_view_count": null,
            "_view_module": "@jupyter-widgets/base",
            "_view_module_version": "1.2.0",
            "_view_name": "StyleView",
            "description_width": ""
          }
        },
        "d96711f73d4a467fbad9170b6c627a85": {
          "model_module": "@jupyter-widgets/controls",
          "model_name": "HBoxModel",
          "model_module_version": "1.5.0",
          "state": {
            "_dom_classes": [],
            "_model_module": "@jupyter-widgets/controls",
            "_model_module_version": "1.5.0",
            "_model_name": "HBoxModel",
            "_view_count": null,
            "_view_module": "@jupyter-widgets/controls",
            "_view_module_version": "1.5.0",
            "_view_name": "HBoxView",
            "box_style": "",
            "children": [
              "IPY_MODEL_4047f242778e45bf9b27835cc60c1668",
              "IPY_MODEL_e4a67f89071d4a57aa088bff6cf4cb6a",
              "IPY_MODEL_50fb3807a1fa41c886022f2338e96c4a"
            ],
            "layout": "IPY_MODEL_e079f8ce8ee543cead7f272a3bb08036"
          }
        },
        "4047f242778e45bf9b27835cc60c1668": {
          "model_module": "@jupyter-widgets/controls",
          "model_name": "HTMLModel",
          "model_module_version": "1.5.0",
          "state": {
            "_dom_classes": [],
            "_model_module": "@jupyter-widgets/controls",
            "_model_module_version": "1.5.0",
            "_model_name": "HTMLModel",
            "_view_count": null,
            "_view_module": "@jupyter-widgets/controls",
            "_view_module_version": "1.5.0",
            "_view_name": "HTMLView",
            "description": "",
            "description_tooltip": null,
            "layout": "IPY_MODEL_94bc1b272ae541789dc3dfdf8d0c59f9",
            "placeholder": "​",
            "style": "IPY_MODEL_43d5c8bb72c74d6091df6d32f3f1fc79",
            "value": "Downloading (…)lve/main/config.json: 100%"
          }
        },
        "e4a67f89071d4a57aa088bff6cf4cb6a": {
          "model_module": "@jupyter-widgets/controls",
          "model_name": "FloatProgressModel",
          "model_module_version": "1.5.0",
          "state": {
            "_dom_classes": [],
            "_model_module": "@jupyter-widgets/controls",
            "_model_module_version": "1.5.0",
            "_model_name": "FloatProgressModel",
            "_view_count": null,
            "_view_module": "@jupyter-widgets/controls",
            "_view_module_version": "1.5.0",
            "_view_name": "ProgressView",
            "bar_style": "success",
            "description": "",
            "description_tooltip": null,
            "layout": "IPY_MODEL_3707276b4c0c4797b2a00566595423d6",
            "max": 665,
            "min": 0,
            "orientation": "horizontal",
            "style": "IPY_MODEL_32a244b6581848aba298db3921ba909b",
            "value": 665
          }
        },
        "50fb3807a1fa41c886022f2338e96c4a": {
          "model_module": "@jupyter-widgets/controls",
          "model_name": "HTMLModel",
          "model_module_version": "1.5.0",
          "state": {
            "_dom_classes": [],
            "_model_module": "@jupyter-widgets/controls",
            "_model_module_version": "1.5.0",
            "_model_name": "HTMLModel",
            "_view_count": null,
            "_view_module": "@jupyter-widgets/controls",
            "_view_module_version": "1.5.0",
            "_view_name": "HTMLView",
            "description": "",
            "description_tooltip": null,
            "layout": "IPY_MODEL_48fd28c9e98d49f880c9e8786bd1fac5",
            "placeholder": "​",
            "style": "IPY_MODEL_ab4416fb20474fc1aea28c7232ce7e71",
            "value": " 665/665 [00:00&lt;00:00, 61.1kB/s]"
          }
        },
        "e079f8ce8ee543cead7f272a3bb08036": {
          "model_module": "@jupyter-widgets/base",
          "model_name": "LayoutModel",
          "model_module_version": "1.2.0",
          "state": {
            "_model_module": "@jupyter-widgets/base",
            "_model_module_version": "1.2.0",
            "_model_name": "LayoutModel",
            "_view_count": null,
            "_view_module": "@jupyter-widgets/base",
            "_view_module_version": "1.2.0",
            "_view_name": "LayoutView",
            "align_content": null,
            "align_items": null,
            "align_self": null,
            "border": null,
            "bottom": null,
            "display": null,
            "flex": null,
            "flex_flow": null,
            "grid_area": null,
            "grid_auto_columns": null,
            "grid_auto_flow": null,
            "grid_auto_rows": null,
            "grid_column": null,
            "grid_gap": null,
            "grid_row": null,
            "grid_template_areas": null,
            "grid_template_columns": null,
            "grid_template_rows": null,
            "height": null,
            "justify_content": null,
            "justify_items": null,
            "left": null,
            "margin": null,
            "max_height": null,
            "max_width": null,
            "min_height": null,
            "min_width": null,
            "object_fit": null,
            "object_position": null,
            "order": null,
            "overflow": null,
            "overflow_x": null,
            "overflow_y": null,
            "padding": null,
            "right": null,
            "top": null,
            "visibility": null,
            "width": null
          }
        },
        "94bc1b272ae541789dc3dfdf8d0c59f9": {
          "model_module": "@jupyter-widgets/base",
          "model_name": "LayoutModel",
          "model_module_version": "1.2.0",
          "state": {
            "_model_module": "@jupyter-widgets/base",
            "_model_module_version": "1.2.0",
            "_model_name": "LayoutModel",
            "_view_count": null,
            "_view_module": "@jupyter-widgets/base",
            "_view_module_version": "1.2.0",
            "_view_name": "LayoutView",
            "align_content": null,
            "align_items": null,
            "align_self": null,
            "border": null,
            "bottom": null,
            "display": null,
            "flex": null,
            "flex_flow": null,
            "grid_area": null,
            "grid_auto_columns": null,
            "grid_auto_flow": null,
            "grid_auto_rows": null,
            "grid_column": null,
            "grid_gap": null,
            "grid_row": null,
            "grid_template_areas": null,
            "grid_template_columns": null,
            "grid_template_rows": null,
            "height": null,
            "justify_content": null,
            "justify_items": null,
            "left": null,
            "margin": null,
            "max_height": null,
            "max_width": null,
            "min_height": null,
            "min_width": null,
            "object_fit": null,
            "object_position": null,
            "order": null,
            "overflow": null,
            "overflow_x": null,
            "overflow_y": null,
            "padding": null,
            "right": null,
            "top": null,
            "visibility": null,
            "width": null
          }
        },
        "43d5c8bb72c74d6091df6d32f3f1fc79": {
          "model_module": "@jupyter-widgets/controls",
          "model_name": "DescriptionStyleModel",
          "model_module_version": "1.5.0",
          "state": {
            "_model_module": "@jupyter-widgets/controls",
            "_model_module_version": "1.5.0",
            "_model_name": "DescriptionStyleModel",
            "_view_count": null,
            "_view_module": "@jupyter-widgets/base",
            "_view_module_version": "1.2.0",
            "_view_name": "StyleView",
            "description_width": ""
          }
        },
        "3707276b4c0c4797b2a00566595423d6": {
          "model_module": "@jupyter-widgets/base",
          "model_name": "LayoutModel",
          "model_module_version": "1.2.0",
          "state": {
            "_model_module": "@jupyter-widgets/base",
            "_model_module_version": "1.2.0",
            "_model_name": "LayoutModel",
            "_view_count": null,
            "_view_module": "@jupyter-widgets/base",
            "_view_module_version": "1.2.0",
            "_view_name": "LayoutView",
            "align_content": null,
            "align_items": null,
            "align_self": null,
            "border": null,
            "bottom": null,
            "display": null,
            "flex": null,
            "flex_flow": null,
            "grid_area": null,
            "grid_auto_columns": null,
            "grid_auto_flow": null,
            "grid_auto_rows": null,
            "grid_column": null,
            "grid_gap": null,
            "grid_row": null,
            "grid_template_areas": null,
            "grid_template_columns": null,
            "grid_template_rows": null,
            "height": null,
            "justify_content": null,
            "justify_items": null,
            "left": null,
            "margin": null,
            "max_height": null,
            "max_width": null,
            "min_height": null,
            "min_width": null,
            "object_fit": null,
            "object_position": null,
            "order": null,
            "overflow": null,
            "overflow_x": null,
            "overflow_y": null,
            "padding": null,
            "right": null,
            "top": null,
            "visibility": null,
            "width": null
          }
        },
        "32a244b6581848aba298db3921ba909b": {
          "model_module": "@jupyter-widgets/controls",
          "model_name": "ProgressStyleModel",
          "model_module_version": "1.5.0",
          "state": {
            "_model_module": "@jupyter-widgets/controls",
            "_model_module_version": "1.5.0",
            "_model_name": "ProgressStyleModel",
            "_view_count": null,
            "_view_module": "@jupyter-widgets/base",
            "_view_module_version": "1.2.0",
            "_view_name": "StyleView",
            "bar_color": null,
            "description_width": ""
          }
        },
        "48fd28c9e98d49f880c9e8786bd1fac5": {
          "model_module": "@jupyter-widgets/base",
          "model_name": "LayoutModel",
          "model_module_version": "1.2.0",
          "state": {
            "_model_module": "@jupyter-widgets/base",
            "_model_module_version": "1.2.0",
            "_model_name": "LayoutModel",
            "_view_count": null,
            "_view_module": "@jupyter-widgets/base",
            "_view_module_version": "1.2.0",
            "_view_name": "LayoutView",
            "align_content": null,
            "align_items": null,
            "align_self": null,
            "border": null,
            "bottom": null,
            "display": null,
            "flex": null,
            "flex_flow": null,
            "grid_area": null,
            "grid_auto_columns": null,
            "grid_auto_flow": null,
            "grid_auto_rows": null,
            "grid_column": null,
            "grid_gap": null,
            "grid_row": null,
            "grid_template_areas": null,
            "grid_template_columns": null,
            "grid_template_rows": null,
            "height": null,
            "justify_content": null,
            "justify_items": null,
            "left": null,
            "margin": null,
            "max_height": null,
            "max_width": null,
            "min_height": null,
            "min_width": null,
            "object_fit": null,
            "object_position": null,
            "order": null,
            "overflow": null,
            "overflow_x": null,
            "overflow_y": null,
            "padding": null,
            "right": null,
            "top": null,
            "visibility": null,
            "width": null
          }
        },
        "ab4416fb20474fc1aea28c7232ce7e71": {
          "model_module": "@jupyter-widgets/controls",
          "model_name": "DescriptionStyleModel",
          "model_module_version": "1.5.0",
          "state": {
            "_model_module": "@jupyter-widgets/controls",
            "_model_module_version": "1.5.0",
            "_model_name": "DescriptionStyleModel",
            "_view_count": null,
            "_view_module": "@jupyter-widgets/base",
            "_view_module_version": "1.2.0",
            "_view_name": "StyleView",
            "description_width": ""
          }
        }
      }
    }
  },
  "nbformat": 4,
  "nbformat_minor": 0
}